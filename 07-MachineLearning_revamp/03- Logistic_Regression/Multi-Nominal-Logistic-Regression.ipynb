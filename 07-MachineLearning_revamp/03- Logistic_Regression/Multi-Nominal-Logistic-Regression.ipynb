{
 "cells": [
  {
   "cell_type": "code",
   "execution_count": 1,
   "metadata": {},
   "outputs": [],
   "source": [
    "import numpy as np\n",
    "import pandas as pd\n",
    "import matplotlib.pyplot as plt\n",
    "import seaborn as sns\n",
    "import statsmodels.api as sm\n",
    "import statsmodels.formula.api as smf\n",
    "from sklearn.metrics import roc_curve,auc\n",
    "%matplotlib inline"
   ]
  },
  {
   "cell_type": "code",
   "execution_count": 2,
   "metadata": {},
   "outputs": [
    {
     "data": {
      "text/html": [
       "<div>\n",
       "<style scoped>\n",
       "    .dataframe tbody tr th:only-of-type {\n",
       "        vertical-align: middle;\n",
       "    }\n",
       "\n",
       "    .dataframe tbody tr th {\n",
       "        vertical-align: top;\n",
       "    }\n",
       "\n",
       "    .dataframe thead th {\n",
       "        text-align: right;\n",
       "    }\n",
       "</style>\n",
       "<table border=\"1\" class=\"dataframe\">\n",
       "  <thead>\n",
       "    <tr style=\"text-align: right;\">\n",
       "      <th></th>\n",
       "      <th>SepalLength</th>\n",
       "      <th>SepalWidth</th>\n",
       "      <th>PetalLength</th>\n",
       "      <th>PetalWidth</th>\n",
       "      <th>Flower</th>\n",
       "    </tr>\n",
       "  </thead>\n",
       "  <tbody>\n",
       "    <tr>\n",
       "      <th>0</th>\n",
       "      <td>5.1</td>\n",
       "      <td>3.5</td>\n",
       "      <td>1.4</td>\n",
       "      <td>0.2</td>\n",
       "      <td>Iris-setosa</td>\n",
       "    </tr>\n",
       "    <tr>\n",
       "      <th>1</th>\n",
       "      <td>4.9</td>\n",
       "      <td>3.0</td>\n",
       "      <td>1.4</td>\n",
       "      <td>0.2</td>\n",
       "      <td>Iris-setosa</td>\n",
       "    </tr>\n",
       "    <tr>\n",
       "      <th>2</th>\n",
       "      <td>4.7</td>\n",
       "      <td>3.2</td>\n",
       "      <td>1.3</td>\n",
       "      <td>0.2</td>\n",
       "      <td>Iris-setosa</td>\n",
       "    </tr>\n",
       "    <tr>\n",
       "      <th>3</th>\n",
       "      <td>4.6</td>\n",
       "      <td>3.1</td>\n",
       "      <td>1.5</td>\n",
       "      <td>0.2</td>\n",
       "      <td>Iris-setosa</td>\n",
       "    </tr>\n",
       "    <tr>\n",
       "      <th>4</th>\n",
       "      <td>5.0</td>\n",
       "      <td>3.6</td>\n",
       "      <td>1.4</td>\n",
       "      <td>0.2</td>\n",
       "      <td>Iris-setosa</td>\n",
       "    </tr>\n",
       "  </tbody>\n",
       "</table>\n",
       "</div>"
      ],
      "text/plain": [
       "   SepalLength  SepalWidth  PetalLength  PetalWidth       Flower\n",
       "0          5.1         3.5          1.4         0.2  Iris-setosa\n",
       "1          4.9         3.0          1.4         0.2  Iris-setosa\n",
       "2          4.7         3.2          1.3         0.2  Iris-setosa\n",
       "3          4.6         3.1          1.5         0.2  Iris-setosa\n",
       "4          5.0         3.6          1.4         0.2  Iris-setosa"
      ]
     },
     "execution_count": 2,
     "metadata": {},
     "output_type": "execute_result"
    }
   ],
   "source": [
    "iris = pd.read_csv('./data/iris.csv')\n",
    "iris.head()"
   ]
  },
  {
   "cell_type": "markdown",
   "metadata": {},
   "source": [
    "![image](https://i.postimg.cc/FzC0JtPg/iris.png)\n",
    "![info](https://i.postimg.cc/L83LzZ08/pasted-image-0.png)"
   ]
  },
  {
   "cell_type": "markdown",
   "metadata": {},
   "source": [
    "# Data Preprocessing\n",
    "- Categorical Data"
   ]
  },
  {
   "cell_type": "code",
   "execution_count": 13,
   "metadata": {},
   "outputs": [],
   "source": [
    "flower = pd.get_dummies(iris['Flower'])\n",
    "data = pd.concat((flower,iris),axis=1)"
   ]
  },
  {
   "cell_type": "code",
   "execution_count": 16,
   "metadata": {},
   "outputs": [
    {
     "data": {
      "text/html": [
       "<div>\n",
       "<style scoped>\n",
       "    .dataframe tbody tr th:only-of-type {\n",
       "        vertical-align: middle;\n",
       "    }\n",
       "\n",
       "    .dataframe tbody tr th {\n",
       "        vertical-align: top;\n",
       "    }\n",
       "\n",
       "    .dataframe thead th {\n",
       "        text-align: right;\n",
       "    }\n",
       "</style>\n",
       "<table border=\"1\" class=\"dataframe\">\n",
       "  <thead>\n",
       "    <tr style=\"text-align: right;\">\n",
       "      <th></th>\n",
       "      <th>Iris-setosa</th>\n",
       "      <th>Iris-versicolor</th>\n",
       "      <th>Iris-virginica</th>\n",
       "      <th>SepalLength</th>\n",
       "      <th>SepalWidth</th>\n",
       "      <th>PetalLength</th>\n",
       "      <th>PetalWidth</th>\n",
       "      <th>Flower</th>\n",
       "    </tr>\n",
       "  </thead>\n",
       "  <tbody>\n",
       "    <tr>\n",
       "      <th>0</th>\n",
       "      <td>1</td>\n",
       "      <td>0</td>\n",
       "      <td>0</td>\n",
       "      <td>5.1</td>\n",
       "      <td>3.5</td>\n",
       "      <td>1.4</td>\n",
       "      <td>0.2</td>\n",
       "      <td>Iris-setosa</td>\n",
       "    </tr>\n",
       "    <tr>\n",
       "      <th>1</th>\n",
       "      <td>1</td>\n",
       "      <td>0</td>\n",
       "      <td>0</td>\n",
       "      <td>4.9</td>\n",
       "      <td>3.0</td>\n",
       "      <td>1.4</td>\n",
       "      <td>0.2</td>\n",
       "      <td>Iris-setosa</td>\n",
       "    </tr>\n",
       "    <tr>\n",
       "      <th>2</th>\n",
       "      <td>1</td>\n",
       "      <td>0</td>\n",
       "      <td>0</td>\n",
       "      <td>4.7</td>\n",
       "      <td>3.2</td>\n",
       "      <td>1.3</td>\n",
       "      <td>0.2</td>\n",
       "      <td>Iris-setosa</td>\n",
       "    </tr>\n",
       "    <tr>\n",
       "      <th>3</th>\n",
       "      <td>1</td>\n",
       "      <td>0</td>\n",
       "      <td>0</td>\n",
       "      <td>4.6</td>\n",
       "      <td>3.1</td>\n",
       "      <td>1.5</td>\n",
       "      <td>0.2</td>\n",
       "      <td>Iris-setosa</td>\n",
       "    </tr>\n",
       "    <tr>\n",
       "      <th>4</th>\n",
       "      <td>1</td>\n",
       "      <td>0</td>\n",
       "      <td>0</td>\n",
       "      <td>5.0</td>\n",
       "      <td>3.6</td>\n",
       "      <td>1.4</td>\n",
       "      <td>0.2</td>\n",
       "      <td>Iris-setosa</td>\n",
       "    </tr>\n",
       "  </tbody>\n",
       "</table>\n",
       "</div>"
      ],
      "text/plain": [
       "   Iris-setosa  Iris-versicolor  Iris-virginica  SepalLength  SepalWidth  \\\n",
       "0            1                0               0          5.1         3.5   \n",
       "1            1                0               0          4.9         3.0   \n",
       "2            1                0               0          4.7         3.2   \n",
       "3            1                0               0          4.6         3.1   \n",
       "4            1                0               0          5.0         3.6   \n",
       "\n",
       "   PetalLength  PetalWidth       Flower  \n",
       "0          1.4         0.2  Iris-setosa  \n",
       "1          1.4         0.2  Iris-setosa  \n",
       "2          1.3         0.2  Iris-setosa  \n",
       "3          1.5         0.2  Iris-setosa  \n",
       "4          1.4         0.2  Iris-setosa  "
      ]
     },
     "execution_count": 16,
     "metadata": {},
     "output_type": "execute_result"
    }
   ],
   "source": [
    "data.head()"
   ]
  },
  {
   "cell_type": "markdown",
   "metadata": {},
   "source": [
    "**Considering two attributes**\n",
    "- PetalLength\n",
    "- Petal Width"
   ]
  },
  {
   "cell_type": "code",
   "execution_count": 172,
   "metadata": {},
   "outputs": [
    {
     "data": {
      "text/html": [
       "<div>\n",
       "<style scoped>\n",
       "    .dataframe tbody tr th:only-of-type {\n",
       "        vertical-align: middle;\n",
       "    }\n",
       "\n",
       "    .dataframe tbody tr th {\n",
       "        vertical-align: top;\n",
       "    }\n",
       "\n",
       "    .dataframe thead th {\n",
       "        text-align: right;\n",
       "    }\n",
       "</style>\n",
       "<table border=\"1\" class=\"dataframe\">\n",
       "  <thead>\n",
       "    <tr style=\"text-align: right;\">\n",
       "      <th></th>\n",
       "      <th>PetalLength</th>\n",
       "      <th>PetalWidth</th>\n",
       "      <th>Flower</th>\n",
       "    </tr>\n",
       "  </thead>\n",
       "  <tbody>\n",
       "    <tr>\n",
       "      <th>0</th>\n",
       "      <td>1.4</td>\n",
       "      <td>0.2</td>\n",
       "      <td>Iris-setosa</td>\n",
       "    </tr>\n",
       "    <tr>\n",
       "      <th>1</th>\n",
       "      <td>1.4</td>\n",
       "      <td>0.2</td>\n",
       "      <td>Iris-setosa</td>\n",
       "    </tr>\n",
       "    <tr>\n",
       "      <th>2</th>\n",
       "      <td>1.3</td>\n",
       "      <td>0.2</td>\n",
       "      <td>Iris-setosa</td>\n",
       "    </tr>\n",
       "    <tr>\n",
       "      <th>3</th>\n",
       "      <td>1.5</td>\n",
       "      <td>0.2</td>\n",
       "      <td>Iris-setosa</td>\n",
       "    </tr>\n",
       "    <tr>\n",
       "      <th>4</th>\n",
       "      <td>1.4</td>\n",
       "      <td>0.2</td>\n",
       "      <td>Iris-setosa</td>\n",
       "    </tr>\n",
       "  </tbody>\n",
       "</table>\n",
       "</div>"
      ],
      "text/plain": [
       "   PetalLength  PetalWidth       Flower\n",
       "0          1.4         0.2  Iris-setosa\n",
       "1          1.4         0.2  Iris-setosa\n",
       "2          1.3         0.2  Iris-setosa\n",
       "3          1.5         0.2  Iris-setosa\n",
       "4          1.4         0.2  Iris-setosa"
      ]
     },
     "execution_count": 172,
     "metadata": {},
     "output_type": "execute_result"
    }
   ],
   "source": [
    "df = data[['PetalLength','PetalWidth','Flower']]\n",
    "df.head()"
   ]
  },
  {
   "cell_type": "markdown",
   "metadata": {},
   "source": [
    "# visualizing data"
   ]
  },
  {
   "cell_type": "code",
   "execution_count": 174,
   "metadata": {},
   "outputs": [
    {
     "data": {
      "text/plain": [
       "<seaborn.axisgrid.FacetGrid at 0x1da3a6ad518>"
      ]
     },
     "execution_count": 174,
     "metadata": {},
     "output_type": "execute_result"
    },
    {
     "data": {
      "image/png": "[encoded data removed]",
      "text/plain": [
       "<Figure size 463.5x360 with 1 Axes>"
      ]
     },
     "metadata": {
      "needs_background": "light"
     },
     "output_type": "display_data"
    }
   ],
   "source": [
    "sns.relplot(x='PetalLength',y='PetalWidth',data=df,hue='Flower')"
   ]
  },
  {
   "cell_type": "markdown",
   "metadata": {},
   "source": [
    "### Split data \n",
    "- independent \n",
    "- dependent"
   ]
  },
  {
   "cell_type": "code",
   "execution_count": 175,
   "metadata": {},
   "outputs": [],
   "source": [
    "X= df.iloc[:,:-1] # independent\n",
    "y = df.iloc[:,-1] # dependent"
   ]
  },
  {
   "cell_type": "markdown",
   "metadata": {},
   "source": [
    "# Logistic Regression for multiclass\n",
    "- Number of lines the seperate n classes = n - 1"
   ]
  },
  {
   "cell_type": "markdown",
   "metadata": {},
   "source": [
    "**Method-1**"
   ]
  },
  {
   "cell_type": "code",
   "execution_count": 176,
   "metadata": {},
   "outputs": [
    {
     "name": "stdout",
     "output_type": "stream",
     "text": [
      "Optimization terminated successfully.\n",
      "         Current function value: 0.502085\n",
      "         Iterations 10\n",
      "                          MNLogit Regression Results                          \n",
      "==============================================================================\n",
      "Dep. Variable:                 Flower   No. Observations:                  150\n",
      "Model:                        MNLogit   Df Residuals:                      146\n",
      "Method:                           MLE   Df Model:                            2\n",
      "Date:                Sat, 06 Apr 2019   Pseudo R-squ.:                  0.5430\n",
      "Time:                        23:19:54   Log-Likelihood:                -75.313\n",
      "converged:                       True   LL-Null:                       -164.79\n",
      "                                        LLR p-value:                 1.380e-39\n",
      "=========================================================================================\n",
      "Flower=Iris-versicolor       coef    std err          z      P>|z|      [0.025      0.975]\n",
      "------------------------------------------------------------------------------------------\n",
      "PetalLength               -5.5132      1.207     -4.568      0.000      -7.879      -3.148\n",
      "PetalWidth                21.7362      4.703      4.621      0.000      12.518      30.955\n",
      "------------------------------------------------------------------------------------------\n",
      "Flower=Iris-virginica       coef    std err          z      P>|z|      [0.025      0.975]\n",
      "-----------------------------------------------------------------------------------------\n",
      "PetalLength              -7.6121      1.269     -6.000      0.000     -10.099      -5.126\n",
      "PetalWidth               28.1132      4.848      5.799      0.000      18.611      37.615\n",
      "=========================================================================================\n"
     ]
    }
   ],
   "source": [
    "model = sm.MNLogit(y,X).fit()\n",
    "print(model.summary())"
   ]
  },
  {
   "cell_type": "markdown",
   "metadata": {},
   "source": [
    "**Method-2**"
   ]
  },
  {
   "cell_type": "code",
   "execution_count": 177,
   "metadata": {},
   "outputs": [
    {
     "name": "stdout",
     "output_type": "stream",
     "text": [
      "Optimization terminated successfully.\n",
      "         Current function value: 0.502085\n",
      "         Iterations 10\n",
      "                          MNLogit Regression Results                          \n",
      "==============================================================================\n",
      "Dep. Variable:                      y   No. Observations:                  150\n",
      "Model:                        MNLogit   Df Residuals:                      146\n",
      "Method:                           MLE   Df Model:                            2\n",
      "Date:                Sat, 06 Apr 2019   Pseudo R-squ.:                  0.5430\n",
      "Time:                        23:19:56   Log-Likelihood:                -75.313\n",
      "converged:                       True   LL-Null:                       -164.79\n",
      "                                        LLR p-value:                 1.380e-39\n",
      "============================================================================================\n",
      "y=Flower[Iris-versicolor]       coef    std err          z      P>|z|      [0.025      0.975]\n",
      "---------------------------------------------------------------------------------------------\n",
      "PetalLength                  -5.5132      1.207     -4.568      0.000      -7.879      -3.148\n",
      "PetalWidth                   21.7362      4.703      4.621      0.000      12.518      30.955\n",
      "---------------------------------------------------------------------------------------------\n",
      "y=Flower[Iris-virginica]       coef    std err          z      P>|z|      [0.025      0.975]\n",
      "--------------------------------------------------------------------------------------------\n",
      "PetalLength                 -7.6121      1.269     -6.000      0.000     -10.099      -5.126\n",
      "PetalWidth                  28.1132      4.848      5.799      0.000      18.611      37.615\n",
      "============================================================================================\n"
     ]
    }
   ],
   "source": [
    "model_formula = sm.MNLogit.from_formula('Flower~PetalLength+PetalWidth-1',data=iris).fit()\n",
    "print(model_formula.summary())"
   ]
  },
  {
   "cell_type": "markdown",
   "metadata": {},
   "source": [
    "**Two models**\n",
    "1. Iris versicolor\n",
    "\n",
    "Eq: $ln(s) = -5.5132*PetalLength + 21.7362* PetalWidth $\n",
    "2. Iris Vignica\n",
    "\n",
    "Eq: $ln(s) = -7.6121*PetalLength + 28.1132* PetalWidth $\n"
   ]
  },
  {
   "cell_type": "markdown",
   "metadata": {},
   "source": [
    "model.predict(data[['PetalLength','PetalWidth']])"
   ]
  },
  {
   "cell_type": "code",
   "execution_count": 180,
   "metadata": {},
   "outputs": [],
   "source": [
    "def drawline(i,p=0.5,colour = 'b'):\n",
    "    inte = 0#model.params[i].Intercept\n",
    "    pL =model.params[i].PetalLength\n",
    "    pW = model.params[i].PetalWidth\n",
    "    #np.log(p/(1-p)) = inte + pL*data['PetalLength'] + pW*data['PetalWidth']\n",
    "    petallength = (-inte - pW*data['PetalWidth'] + np.log(p/(1-p)))/pL\n",
    "    plt.plot(petallength,data['PetalWidth'])"
   ]
  },
  {
   "cell_type": "code",
   "execution_count": 181,
   "metadata": {},
   "outputs": [],
   "source": [
    "def modelpredict(i,x1,x2):\n",
    "    a = 0#model.params[i].Intercept\n",
    "    b1 =model.params[i].PetalLength\n",
    "    b2 = model.params[i].PetalWidth\n",
    "    log_or = a + b1*x1 + b2*x2\n",
    "    _or = np.exp(log_or)\n",
    "    probability = _or/(1+_or)\n",
    "    return probability\n",
    "\n"
   ]
  },
  {
   "cell_type": "code",
   "execution_count": 182,
   "metadata": {},
   "outputs": [],
   "source": [
    "def threshold(probability,thresh=0.5):\n",
    "    if probability <= thresh:\n",
    "        return 1\n",
    "    else:\n",
    "        return 0"
   ]
  },
  {
   "cell_type": "code",
   "execution_count": 183,
   "metadata": {},
   "outputs": [
    {
     "data": {
      "text/plain": [
       "array(['Iris-setosa', 'Iris-versicolor', 'Iris-virginica'], dtype=object)"
      ]
     },
     "execution_count": 183,
     "metadata": {},
     "output_type": "execute_result"
    }
   ],
   "source": [
    "data['Flower'].unique()"
   ]
  },
  {
   "cell_type": "markdown",
   "metadata": {},
   "source": [
    "# For Iris-Versicolor"
   ]
  },
  {
   "cell_type": "code",
   "execution_count": 167,
   "metadata": {},
   "outputs": [],
   "source": [
    "y_set_versi = data['Flower'].replace(\n",
    "    to_replace=['Iris-setosa','Iris-versicolor'\n",
    "                ,'Iris-virginica'],value=[0,1,1])"
   ]
  },
  {
   "cell_type": "code",
   "execution_count": 184,
   "metadata": {},
   "outputs": [],
   "source": [
    "y_prob = modelpredict(0,data['PetalLength'],data['PetalWidth'])\n",
    "y_pred = y_prob.apply(threshold)\n",
    "y_true = y_set_versi"
   ]
  },
  {
   "cell_type": "code",
   "execution_count": 185,
   "metadata": {},
   "outputs": [
    {
     "name": "stdout",
     "output_type": "stream",
     "text": [
      " \n"
     ]
    },
    {
     "data": {
      "image/png": "[encoded data removed]",
      "text/plain": [
       "<Figure size 720x432 with 1 Axes>"
      ]
     },
     "metadata": {
      "needs_background": "light"
     },
     "output_type": "display_data"
    }
   ],
   "source": [
    "fpr,tpr,threshold = roc_curve(y_set_versi,y_prob)\n",
    "\n",
    "plt.figure(figsize=(10,6))\n",
    "plt.plot(fpr,tpr,color='red',lw=1.5)\n",
    "plt.plot([0, 1], [0, 1], color='navy',lw = 2, linestyle='--')\n",
    "\n",
    "for i,value in enumerate(fpr*10):\n",
    "    try:\n",
    "        if (round(fpr[i+1]*10) - round(fpr[i]*10)) == 1:\n",
    "            plt.text(fpr[i],tpr[i],'%0.2f'%(threshold[i]))\n",
    "    except IndexError:\n",
    "        print(' ')\n",
    "        \n",
    "plt.xlabel('False Positive Rate')\n",
    "plt.ylabel('True Positive Rate')\n",
    "plt.title('ROC Curve')\n",
    "plt.legend(['ROC curve (area = %0.2f)' % auc(fpr,tpr)])\n",
    "plt.show()"
   ]
  },
  {
   "cell_type": "markdown",
   "metadata": {},
   "source": [
    "**From ROC:**\n",
    "- threshold *p-value* = 0.78"
   ]
  },
  {
   "cell_type": "markdown",
   "metadata": {},
   "source": [
    "# For Versicolor"
   ]
  },
  {
   "cell_type": "code",
   "execution_count": 186,
   "metadata": {},
   "outputs": [],
   "source": [
    "def threshold_versicolor(probability,thresh=0.5):\n",
    "    if probability <= thresh:\n",
    "        return 1\n",
    "    else:\n",
    "        return 0"
   ]
  },
  {
   "cell_type": "code",
   "execution_count": 187,
   "metadata": {},
   "outputs": [],
   "source": [
    "y_set_veri = data['Flower'].replace(\n",
    "    to_replace=['Iris-setosa','Iris-versicolor'\n",
    "                ,'Iris-virginica'],value=[0,0,1])"
   ]
  },
  {
   "cell_type": "code",
   "execution_count": 188,
   "metadata": {},
   "outputs": [],
   "source": [
    "y_prob = modelpredict(1,data['PetalLength'],data['PetalWidth'])\n",
    "y_pred = y_prob.apply(threshold_versicolor)\n",
    "y_true = y_set_veri"
   ]
  },
  {
   "cell_type": "code",
   "execution_count": 189,
   "metadata": {},
   "outputs": [
    {
     "name": "stdout",
     "output_type": "stream",
     "text": [
      " \n"
     ]
    },
    {
     "data": {
      "image/png": "[encoded data removed]",
      "text/plain": [
       "<Figure size 720x432 with 1 Axes>"
      ]
     },
     "metadata": {
      "needs_background": "light"
     },
     "output_type": "display_data"
    }
   ],
   "source": [
    "fpr,tpr,threshold = roc_curve(y_set_veri,y_prob)\n",
    "\n",
    "plt.figure(figsize=(10,6))\n",
    "plt.plot(fpr,tpr,color='red',lw=1.5)\n",
    "plt.plot([0, 1], [0, 1], color='navy',lw = 2, linestyle='--')\n",
    "\n",
    "for i,value in enumerate(fpr*10):\n",
    "    try:\n",
    "        if (round(fpr[i+1]*10) - round(fpr[i]*10)) == 1:\n",
    "            plt.text(fpr[i],tpr[i],'%0.4f'%(threshold[i]))\n",
    "    except IndexError:\n",
    "        print(' ')\n",
    "        \n",
    "plt.xlabel('False Positive Rate')\n",
    "plt.ylabel('True Positive Rate')\n",
    "plt.title('ROC Curve')\n",
    "plt.legend(['ROC curve (area = %0.3f)' % auc(fpr,tpr)])\n",
    "plt.show()"
   ]
  },
  {
   "cell_type": "markdown",
   "metadata": {},
   "source": [
    "**From ROC:**\n",
    "- threshold *p-value* = 0.9984 "
   ]
  },
  {
   "cell_type": "code",
   "execution_count": 190,
   "metadata": {},
   "outputs": [
    {
     "data": {
      "image/png": "[encoded data removed]",
      "text/plain": [
       "<Figure size 463.5x360 with 1 Axes>"
      ]
     },
     "metadata": {
      "needs_background": "light"
     },
     "output_type": "display_data"
    }
   ],
   "source": [
    "sns.relplot(x='PetalLength',y='PetalWidth',data=iris,hue='Flower')\n",
    "drawline(0,0.86)\n",
    "drawline(1,0.9984)"
   ]
  },
  {
   "cell_type": "code",
   "execution_count": null,
   "metadata": {},
   "outputs": [],
   "source": []
  }
 ],
 "metadata": {
  "kernelspec": {
   "display_name": "Python 3",
   "language": "python",
   "name": "python3"
  },
  "language_info": {
   "codemirror_mode": {
    "name": "ipython",
    "version": 3
   },
   "file_extension": ".py",
   "mimetype": "text/x-python",
   "name": "python",
   "nbconvert_exporter": "python",
   "pygments_lexer": "ipython3",
   "version": "3.7.1"
  }
 },
 "nbformat": 4,
 "nbformat_minor": 2
}
