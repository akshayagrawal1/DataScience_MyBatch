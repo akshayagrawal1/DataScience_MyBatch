{
 "cells": [
  {
   "cell_type": "code",
   "execution_count": 7,
   "metadata": {},
   "outputs": [],
   "source": [
    "import numpy as np\n",
    "import pandas as pd\n",
    "import matplotlib.pyplot as plt\n",
    "import seaborn as sns\n",
    "%matplotlib inline"
   ]
  },
  {
   "cell_type": "code",
   "execution_count": 8,
   "metadata": {},
   "outputs": [],
   "source": [
    "month = list(range(1,13))\n",
    "interest = [7.43,7.48,8.00,7.75,7.60,\n",
    "           7.63,7.68,7.67,7.59,8.07,\n",
    "           8.03,8.00]\n",
    "data = {'Month':month,'InterestRate':interest}"
   ]
  },
  {
   "cell_type": "code",
   "execution_count": 9,
   "metadata": {},
   "outputs": [
    {
     "data": {
      "text/html": [
       "<div>\n",
       "<style scoped>\n",
       "    .dataframe tbody tr th:only-of-type {\n",
       "        vertical-align: middle;\n",
       "    }\n",
       "\n",
       "    .dataframe tbody tr th {\n",
       "        vertical-align: top;\n",
       "    }\n",
       "\n",
       "    .dataframe thead th {\n",
       "        text-align: right;\n",
       "    }\n",
       "</style>\n",
       "<table border=\"1\" class=\"dataframe\">\n",
       "  <thead>\n",
       "    <tr style=\"text-align: right;\">\n",
       "      <th></th>\n",
       "      <th>Month</th>\n",
       "      <th>InterestRate</th>\n",
       "    </tr>\n",
       "  </thead>\n",
       "  <tbody>\n",
       "    <tr>\n",
       "      <th>0</th>\n",
       "      <td>1</td>\n",
       "      <td>7.43</td>\n",
       "    </tr>\n",
       "    <tr>\n",
       "      <th>1</th>\n",
       "      <td>2</td>\n",
       "      <td>7.48</td>\n",
       "    </tr>\n",
       "    <tr>\n",
       "      <th>2</th>\n",
       "      <td>3</td>\n",
       "      <td>8.00</td>\n",
       "    </tr>\n",
       "    <tr>\n",
       "      <th>3</th>\n",
       "      <td>4</td>\n",
       "      <td>7.75</td>\n",
       "    </tr>\n",
       "    <tr>\n",
       "      <th>4</th>\n",
       "      <td>5</td>\n",
       "      <td>7.60</td>\n",
       "    </tr>\n",
       "  </tbody>\n",
       "</table>\n",
       "</div>"
      ],
      "text/plain": [
       "   Month  InterestRate\n",
       "0      1          7.43\n",
       "1      2          7.48\n",
       "2      3          8.00\n",
       "3      4          7.75\n",
       "4      5          7.60"
      ]
     },
     "execution_count": 9,
     "metadata": {},
     "output_type": "execute_result"
    }
   ],
   "source": [
    "df = pd.DataFrame(data)\n",
    "df.head()"
   ]
  },
  {
   "cell_type": "code",
   "execution_count": 10,
   "metadata": {},
   "outputs": [
    {
     "data": {
      "text/plain": [
       "(6.5, 7.7441666666666675)"
      ]
     },
     "execution_count": 10,
     "metadata": {},
     "output_type": "execute_result"
    }
   ],
   "source": [
    "x_bar, y_bar = df.mean() # mean of all dataset\n",
    "x_bar,y_bar"
   ]
  },
  {
   "cell_type": "markdown",
   "metadata": {},
   "source": [
    "### Relationship plot"
   ]
  },
  {
   "cell_type": "code",
   "execution_count": 11,
   "metadata": {},
   "outputs": [
    {
     "data": {
      "text/plain": [
       "<seaborn.axisgrid.FacetGrid at 0x8cabc95f28>"
      ]
     },
     "execution_count": 11,
     "metadata": {},
     "output_type": "execute_result"
    },
    {
     "data": {
      "image/png": "[encoded data removed]",
      "text/plain": [
       "<Figure size 360x360 with 1 Axes>"
      ]
     },
     "metadata": {},
     "output_type": "display_data"
    }
   ],
   "source": [
    "#plt.scatter(df['Month'],df['Interest Rate'])\n",
    "sns.relplot(x='Month',y='InterestRate',kind='scatter',data=df)"
   ]
  },
  {
   "cell_type": "code",
   "execution_count": 12,
   "metadata": {},
   "outputs": [
    {
     "data": {
      "text/plain": [
       "<seaborn.axisgrid.JointGrid at 0x8cb46368d0>"
      ]
     },
     "execution_count": 12,
     "metadata": {},
     "output_type": "execute_result"
    },
    {
     "data": {
      "image/png": "[encoded data removed]",
      "text/plain": [
       "<Figure size 432x432 with 3 Axes>"
      ]
     },
     "metadata": {},
     "output_type": "display_data"
    }
   ],
   "source": [
    "sns.jointplot(x='Month',y='InterestRate',data=df)"
   ]
  },
  {
   "cell_type": "markdown",
   "metadata": {},
   "source": [
    "# $b =\\frac{\\sum (x-\\bar x )(y -\\bar y )}{\\sum (x - \\bar x )^2}$\n",
    "\n",
    "- $(x-\\bar x ), (y -\\bar y ), (x - \\bar x )^2$"
   ]
  },
  {
   "cell_type": "markdown",
   "metadata": {},
   "source": [
    "> ## $(x - \\bar x )$"
   ]
  },
  {
   "cell_type": "code",
   "execution_count": 13,
   "metadata": {},
   "outputs": [
    {
     "data": {
      "text/html": [
       "<div>\n",
       "<style scoped>\n",
       "    .dataframe tbody tr th:only-of-type {\n",
       "        vertical-align: middle;\n",
       "    }\n",
       "\n",
       "    .dataframe tbody tr th {\n",
       "        vertical-align: top;\n",
       "    }\n",
       "\n",
       "    .dataframe thead th {\n",
       "        text-align: right;\n",
       "    }\n",
       "</style>\n",
       "<table border=\"1\" class=\"dataframe\">\n",
       "  <thead>\n",
       "    <tr style=\"text-align: right;\">\n",
       "      <th></th>\n",
       "      <th>Month</th>\n",
       "      <th>InterestRate</th>\n",
       "      <th>x-xbar</th>\n",
       "      <th>y-ybar</th>\n",
       "      <th>(x-xbar)(y-ybar)</th>\n",
       "      <th>(x-xbar)sqr</th>\n",
       "    </tr>\n",
       "  </thead>\n",
       "  <tbody>\n",
       "    <tr>\n",
       "      <th>0</th>\n",
       "      <td>1</td>\n",
       "      <td>7.43</td>\n",
       "      <td>-5.5</td>\n",
       "      <td>-0.314167</td>\n",
       "      <td>1.727917</td>\n",
       "      <td>30.25</td>\n",
       "    </tr>\n",
       "    <tr>\n",
       "      <th>1</th>\n",
       "      <td>2</td>\n",
       "      <td>7.48</td>\n",
       "      <td>-4.5</td>\n",
       "      <td>-0.264167</td>\n",
       "      <td>1.188750</td>\n",
       "      <td>20.25</td>\n",
       "    </tr>\n",
       "    <tr>\n",
       "      <th>2</th>\n",
       "      <td>3</td>\n",
       "      <td>8.00</td>\n",
       "      <td>-3.5</td>\n",
       "      <td>0.255833</td>\n",
       "      <td>-0.895417</td>\n",
       "      <td>12.25</td>\n",
       "    </tr>\n",
       "    <tr>\n",
       "      <th>3</th>\n",
       "      <td>4</td>\n",
       "      <td>7.75</td>\n",
       "      <td>-2.5</td>\n",
       "      <td>0.005833</td>\n",
       "      <td>-0.014583</td>\n",
       "      <td>6.25</td>\n",
       "    </tr>\n",
       "    <tr>\n",
       "      <th>4</th>\n",
       "      <td>5</td>\n",
       "      <td>7.60</td>\n",
       "      <td>-1.5</td>\n",
       "      <td>-0.144167</td>\n",
       "      <td>0.216250</td>\n",
       "      <td>2.25</td>\n",
       "    </tr>\n",
       "  </tbody>\n",
       "</table>\n",
       "</div>"
      ],
      "text/plain": [
       "   Month  InterestRate  x-xbar    y-ybar  (x-xbar)(y-ybar)  (x-xbar)sqr\n",
       "0      1          7.43    -5.5 -0.314167          1.727917        30.25\n",
       "1      2          7.48    -4.5 -0.264167          1.188750        20.25\n",
       "2      3          8.00    -3.5  0.255833         -0.895417        12.25\n",
       "3      4          7.75    -2.5  0.005833         -0.014583         6.25\n",
       "4      5          7.60    -1.5 -0.144167          0.216250         2.25"
      ]
     },
     "execution_count": 13,
     "metadata": {},
     "output_type": "execute_result"
    }
   ],
   "source": [
    "df['x-xbar'] = df['Month'] - x_bar\n",
    "df['y-ybar'] = df['InterestRate'] - y_bar\n",
    "df['(x-xbar)(y-ybar)'] = df['x-xbar']* df['y-ybar']\n",
    "df['(x-xbar)sqr'] = df['x-xbar']**2\n",
    "df.head()"
   ]
  },
  {
   "cell_type": "code",
   "execution_count": 14,
   "metadata": {},
   "outputs": [
    {
     "name": "stdout",
     "output_type": "stream",
     "text": [
      "Coefficient b =  0.039055944055944036\n"
     ]
    }
   ],
   "source": [
    "num = df['(x-xbar)(y-ybar)'].sum()\n",
    "den = df['(x-xbar)sqr'].sum()\n",
    "b = num/den\n",
    "print('Coefficient b = ',b)"
   ]
  },
  {
   "cell_type": "markdown",
   "metadata": {},
   "source": [
    "# $ \\hat y = a + b x $\n",
    "> ## $a = \\bar y - b \\bar x$"
   ]
  },
  {
   "cell_type": "code",
   "execution_count": 15,
   "metadata": {},
   "outputs": [
    {
     "name": "stdout",
     "output_type": "stream",
     "text": [
      "Intercept a = 7.490303030303031\n"
     ]
    }
   ],
   "source": [
    "a = y_bar - b * x_bar\n",
    "print('Intercept a =',a)"
   ]
  },
  {
   "cell_type": "code",
   "execution_count": 16,
   "metadata": {},
   "outputs": [],
   "source": [
    "df['y_hat'] = a + b * df['Month']"
   ]
  },
  {
   "cell_type": "code",
   "execution_count": 17,
   "metadata": {},
   "outputs": [
    {
     "data": {
      "text/plain": [
       "<matplotlib.axes._subplots.AxesSubplot at 0x8cb4b83198>"
      ]
     },
     "execution_count": 17,
     "metadata": {},
     "output_type": "execute_result"
    },
    {
     "data": {
      "image/png": "[encoded data removed]",
      "text/plain": [
       "<Figure size 432x288 with 1 Axes>"
      ]
     },
     "metadata": {},
     "output_type": "display_data"
    }
   ],
   "source": [
    "fig = df.plot(x='Month',y='y_hat')\n",
    "df.plot(x='Month',y='InterestRate',kind='scatter',ax=fig)"
   ]
  },
  {
   "cell_type": "code",
   "execution_count": 18,
   "metadata": {},
   "outputs": [
    {
     "data": {
      "text/html": [
       "<div>\n",
       "<style scoped>\n",
       "    .dataframe tbody tr th:only-of-type {\n",
       "        vertical-align: middle;\n",
       "    }\n",
       "\n",
       "    .dataframe tbody tr th {\n",
       "        vertical-align: top;\n",
       "    }\n",
       "\n",
       "    .dataframe thead th {\n",
       "        text-align: right;\n",
       "    }\n",
       "</style>\n",
       "<table border=\"1\" class=\"dataframe\">\n",
       "  <thead>\n",
       "    <tr style=\"text-align: right;\">\n",
       "      <th></th>\n",
       "      <th>Month</th>\n",
       "      <th>InterestRate</th>\n",
       "      <th>x-xbar</th>\n",
       "      <th>y-ybar</th>\n",
       "      <th>(x-xbar)(y-ybar)</th>\n",
       "      <th>(x-xbar)sqr</th>\n",
       "      <th>y_hat</th>\n",
       "      <th>residual</th>\n",
       "    </tr>\n",
       "  </thead>\n",
       "  <tbody>\n",
       "    <tr>\n",
       "      <th>0</th>\n",
       "      <td>1</td>\n",
       "      <td>7.43</td>\n",
       "      <td>-5.5</td>\n",
       "      <td>-0.314167</td>\n",
       "      <td>1.727917</td>\n",
       "      <td>30.25</td>\n",
       "      <td>7.529359</td>\n",
       "      <td>-0.099359</td>\n",
       "    </tr>\n",
       "    <tr>\n",
       "      <th>1</th>\n",
       "      <td>2</td>\n",
       "      <td>7.48</td>\n",
       "      <td>-4.5</td>\n",
       "      <td>-0.264167</td>\n",
       "      <td>1.188750</td>\n",
       "      <td>20.25</td>\n",
       "      <td>7.568415</td>\n",
       "      <td>-0.088415</td>\n",
       "    </tr>\n",
       "    <tr>\n",
       "      <th>2</th>\n",
       "      <td>3</td>\n",
       "      <td>8.00</td>\n",
       "      <td>-3.5</td>\n",
       "      <td>0.255833</td>\n",
       "      <td>-0.895417</td>\n",
       "      <td>12.25</td>\n",
       "      <td>7.607471</td>\n",
       "      <td>0.392529</td>\n",
       "    </tr>\n",
       "    <tr>\n",
       "      <th>3</th>\n",
       "      <td>4</td>\n",
       "      <td>7.75</td>\n",
       "      <td>-2.5</td>\n",
       "      <td>0.005833</td>\n",
       "      <td>-0.014583</td>\n",
       "      <td>6.25</td>\n",
       "      <td>7.646527</td>\n",
       "      <td>0.103473</td>\n",
       "    </tr>\n",
       "    <tr>\n",
       "      <th>4</th>\n",
       "      <td>5</td>\n",
       "      <td>7.60</td>\n",
       "      <td>-1.5</td>\n",
       "      <td>-0.144167</td>\n",
       "      <td>0.216250</td>\n",
       "      <td>2.25</td>\n",
       "      <td>7.685583</td>\n",
       "      <td>-0.085583</td>\n",
       "    </tr>\n",
       "  </tbody>\n",
       "</table>\n",
       "</div>"
      ],
      "text/plain": [
       "   Month  InterestRate  x-xbar    ...     (x-xbar)sqr     y_hat  residual\n",
       "0      1          7.43    -5.5    ...           30.25  7.529359 -0.099359\n",
       "1      2          7.48    -4.5    ...           20.25  7.568415 -0.088415\n",
       "2      3          8.00    -3.5    ...           12.25  7.607471  0.392529\n",
       "3      4          7.75    -2.5    ...            6.25  7.646527  0.103473\n",
       "4      5          7.60    -1.5    ...            2.25  7.685583 -0.085583\n",
       "\n",
       "[5 rows x 8 columns]"
      ]
     },
     "execution_count": 18,
     "metadata": {},
     "output_type": "execute_result"
    }
   ],
   "source": [
    "# Residual\n",
    "df['residual'] = df['InterestRate']- df['y_hat']\n",
    "df.head()"
   ]
  },
  {
   "cell_type": "code",
   "execution_count": 19,
   "metadata": {},
   "outputs": [
    {
     "data": {
      "text/plain": [
       "<matplotlib.axes._subplots.AxesSubplot at 0x8cb537b7f0>"
      ]
     },
     "execution_count": 19,
     "metadata": {},
     "output_type": "execute_result"
    },
    {
     "data": {
      "image/png": "[encoded data removed]",
      "text/plain": [
       "<Figure size 432x288 with 1 Axes>"
      ]
     },
     "metadata": {},
     "output_type": "display_data"
    }
   ],
   "source": [
    "df.plot(kind='scatter',x='Month',y='residual')"
   ]
  },
  {
   "cell_type": "code",
   "execution_count": 2,
   "metadata": {},
   "outputs": [],
   "source": [
    "import statsmodels.formula.api as smf"
   ]
  },
  {
   "cell_type": "code",
   "execution_count": 21,
   "metadata": {},
   "outputs": [
    {
     "name": "stderr",
     "output_type": "stream",
     "text": [
      "C:\\Users\\srikanth\\Anaconda\\lib\\site-packages\\scipy\\stats\\stats.py:1390: UserWarning: kurtosistest only valid for n>=20 ... continuing anyway, n=12\n",
      "  \"anyway, n=%i\" % int(n))\n"
     ]
    },
    {
     "name": "stdout",
     "output_type": "stream",
     "text": [
      "                            OLS Regression Results                            \n",
      "==============================================================================\n",
      "Dep. Variable:           InterestRate   R-squared:                       0.393\n",
      "Model:                            OLS   Adj. R-squared:                  0.333\n",
      "Method:                 Least Squares   F-statistic:                     6.485\n",
      "Date:                Wed, 27 Feb 2019   Prob (F-statistic):             0.0290\n",
      "Time:                        16:15:02   Log-Likelihood:                 4.4195\n",
      "No. Observations:                  12   AIC:                            -4.839\n",
      "Df Residuals:                      10   BIC:                            -3.869\n",
      "Df Model:                           1                                         \n",
      "Covariance Type:            nonrobust                                         \n",
      "==============================================================================\n",
      "                 coef    std err          t      P>|t|      [0.025      0.975]\n",
      "------------------------------------------------------------------------------\n",
      "Intercept      7.4903      0.113     66.358      0.000       7.239       7.742\n",
      "Month          0.0391      0.015      2.547      0.029       0.005       0.073\n",
      "==============================================================================\n",
      "Omnibus:                        3.311   Durbin-Watson:                   1.703\n",
      "Prob(Omnibus):                  0.191   Jarque-Bera (JB):                1.452\n",
      "Skew:                           0.847   Prob(JB):                        0.484\n",
      "Kurtosis:                       3.177   Cond. No.                         15.9\n",
      "==============================================================================\n",
      "\n",
      "Warnings:\n",
      "[1] Standard Errors assume that the covariance matrix of the errors is correctly specified.\n"
     ]
    }
   ],
   "source": [
    "model = smf.ols(formula='InterestRate~Month',data=df).fit()\n",
    "print(model.summary())"
   ]
  },
  {
   "cell_type": "code",
   "execution_count": null,
   "metadata": {},
   "outputs": [],
   "source": []
  }
 ],
 "metadata": {
  "kernelspec": {
   "display_name": "Python 3",
   "language": "python",
   "name": "python3"
  },
  "language_info": {
   "codemirror_mode": {
    "name": "ipython",
    "version": 3
   },
   "file_extension": ".py",
   "mimetype": "text/x-python",
   "name": "python",
   "nbconvert_exporter": "python",
   "pygments_lexer": "ipython3",
   "version": "3.6.4"
  }
 },
 "nbformat": 4,
 "nbformat_minor": 2
}
