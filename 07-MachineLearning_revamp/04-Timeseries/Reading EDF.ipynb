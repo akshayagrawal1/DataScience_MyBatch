{
 "cells": [
  {
   "cell_type": "code",
   "execution_count": 2,
   "metadata": {},
   "outputs": [],
   "source": [
    "import numpy as np\n",
    "import mne\n",
    "import pandas as pd\n",
    "import matplotlib.pyplot as plt\n",
    "import seaborn as sns\n",
    "%matplotlib inline"
   ]
  },
  {
   "cell_type": "code",
   "execution_count": 3,
   "metadata": {},
   "outputs": [
    {
     "name": "stdout",
     "output_type": "stream",
     "text": [
      "Extracting EDF parameters from ./dataset/chb01/chb01_03.edf...\n",
      "EDF file detected\n",
      "Setting channel info structure...\n",
      "Creating raw.info structure...\n"
     ]
    },
    {
     "name": "stderr",
     "output_type": "stream",
     "text": [
      "<ipython-input-3-b880fe760428>:1: DeprecationWarning: stim_channel will default to \"auto\" in 0.17 but change to False in 0.18, and will be removed in 0.19\n",
      "  data = mne.io.read_raw_edf('./dataset/chb01/chb01_03.edf')\n"
     ]
    }
   ],
   "source": [
    "data = mne.io.read_raw_edf('./dataset/chb01/chb01_03.edf')"
   ]
  },
  {
   "cell_type": "code",
   "execution_count": 5,
   "metadata": {},
   "outputs": [
    {
     "data": {
      "text/plain": [
       "<Info | 16 non-empty fields\n",
       "    bads : list | 0 items\n",
       "    ch_names : list | FP1-F7, F7-T7, T7-P7, P7-O1, FP1-F3, F3-C3, C3-P3, ...\n",
       "    chs : list | 23 items (EEG: 22, STIM: 1)\n",
       "    comps : list | 0 items\n",
       "    custom_ref_applied : bool | False\n",
       "    dev_head_t : Transform | 3 items\n",
       "    events : list | 0 items\n",
       "    highpass : float | 0.0 Hz\n",
       "    hpi_meas : list | 0 items\n",
       "    hpi_results : list | 0 items\n",
       "    lowpass : float | 128.0 Hz\n",
       "    meas_date : tuple | 1976-11-06 13:43:04 GMT\n",
       "    nchan : int | 23\n",
       "    proc_history : list | 0 items\n",
       "    projs : list | 0 items\n",
       "    sfreq : float | 256.0 Hz\n",
       "    acq_pars : NoneType\n",
       "    acq_stim : NoneType\n",
       "    ctf_head_t : NoneType\n",
       "    description : NoneType\n",
       "    dev_ctf_t : NoneType\n",
       "    dig : NoneType\n",
       "    experimenter : NoneType\n",
       "    file_id : NoneType\n",
       "    gantry_angle : NoneType\n",
       "    hpi_subsystem : NoneType\n",
       "    kit_system_id : NoneType\n",
       "    line_freq : NoneType\n",
       "    meas_id : NoneType\n",
       "    proj_id : NoneType\n",
       "    proj_name : NoneType\n",
       "    subject_info : NoneType\n",
       "    xplotter_layout : NoneType\n",
       ">"
      ]
     },
     "execution_count": 5,
     "metadata": {},
     "output_type": "execute_result"
    }
   ],
   "source": [
    "data.info"
   ]
  },
  {
   "cell_type": "code",
   "execution_count": 12,
   "metadata": {},
   "outputs": [],
   "source": [
    "sub1 = data.get_data()"
   ]
  },
  {
   "cell_type": "code",
   "execution_count": 13,
   "metadata": {},
   "outputs": [
    {
     "data": {
      "text/plain": [
       "(23, 921600)"
      ]
     },
     "execution_count": 13,
     "metadata": {},
     "output_type": "execute_result"
    }
   ],
   "source": [
    "sub1.shape"
   ]
  },
  {
   "cell_type": "code",
   "execution_count": 20,
   "metadata": {},
   "outputs": [],
   "source": [
    "df = pd.DataFrame(sub1[:,0:512])"
   ]
  },
  {
   "cell_type": "code",
   "execution_count": 25,
   "metadata": {},
   "outputs": [
    {
     "data": {
      "text/plain": [
       "<matplotlib.axes._subplots.AxesSubplot at 0xd28267e898>"
      ]
     },
     "execution_count": 25,
     "metadata": {},
     "output_type": "execute_result"
    },
    {
     "data": {
      "image/png": "[encoded data removed]",
      "text/plain": [
       "<Figure size 432x288 with 1 Axes>"
      ]
     },
     "metadata": {},
     "output_type": "display_data"
    }
   ],
   "source": [
    "df.iloc[0,:].plot()"
   ]
  },
  {
   "cell_type": "code",
   "execution_count": 31,
   "metadata": {},
   "outputs": [],
   "source": [
    "snippet = df.iloc[0,:]"
   ]
  },
  {
   "cell_type": "code",
   "execution_count": 30,
   "metadata": {},
   "outputs": [],
   "source": [
    "def get_fft(snippet,Fs):\n",
    "    #Fs = 128.0;  # sampling rate\n",
    "    #Ts = len(snippet)/Fs/Fs; # sampling interval\n",
    "    snippet_time = len(snippet)/Fs\n",
    "    Ts = 1.0/Fs; # sampling interval\n",
    "    t = np.arange(0,snippet_time,Ts) # time vector\n",
    "\n",
    "    # ff = 5;   # frequency of the signal\n",
    "    # y = np.sin(2*np.pi*ff*t)\n",
    "    y = snippet\n",
    "#     print('Ts: ',Ts)\n",
    "#     print(t)\n",
    "#     print(y.shape)\n",
    "    n = len(y) # length of the signal\n",
    "    k = np.arange(n)\n",
    "    T = n/Fs\n",
    "    frq = k/T # two sides frequency range\n",
    "    frq = frq[range(int(n/2))] # one side frequency range\n",
    "\n",
    "    Y = np.fft.fft(y)/n # fft computing and normalization\n",
    "    Y = Y[range(int(n/2))]\n",
    "    #Added in: (To remove bias.)\n",
    "    #Y[0] = 0\n",
    "    return frq,abs(Y)"
   ]
  },
  {
   "cell_type": "code",
   "execution_count": 33,
   "metadata": {},
   "outputs": [],
   "source": [
    "frq,y = get_fft(snippet,256.0)"
   ]
  },
  {
   "cell_type": "code",
   "execution_count": 38,
   "metadata": {},
   "outputs": [
    {
     "data": {
      "text/plain": [
       "array([4.07509158e-07, 5.42851338e-06, 4.07032356e-06, 6.49505002e-06,\n",
       "       8.76053537e-06, 9.03924172e-06, 3.56379207e-06, 2.19061917e-06,\n",
       "       5.00151206e-06, 4.73065095e-07, 6.26423420e-07, 1.55985763e-06,\n",
       "       1.83361637e-06, 1.65209916e-06, 1.85416570e-06, 1.16642582e-06,\n",
       "       1.86904383e-06, 1.89537913e-06, 4.87624171e-07, 9.96025618e-07,\n",
       "       1.87831994e-06, 2.18993803e-06, 2.82864223e-06, 2.49584868e-06,\n",
       "       3.93785244e-06, 1.16972701e-06, 2.09103969e-06, 7.77467260e-07,\n",
       "       1.21270147e-06, 5.23389122e-07, 5.53296577e-07, 7.17469692e-07,\n",
       "       1.26858745e-06, 4.85330550e-07, 1.08175710e-07, 3.19195368e-07,\n",
       "       7.33735622e-07, 5.32300040e-07, 1.30902085e-07, 5.19988880e-07,\n",
       "       2.01614213e-07, 5.94359679e-07, 2.41716346e-07, 1.64435231e-07,\n",
       "       2.70203486e-07, 2.62581043e-07, 1.69692845e-07, 4.01031552e-07,\n",
       "       1.20020352e-07, 2.74263707e-07, 1.20486586e-07, 3.49716824e-07,\n",
       "       3.34484907e-07, 2.08883469e-07, 1.76808505e-07, 1.02122079e-07,\n",
       "       2.36941417e-08, 3.26978133e-08, 1.96416279e-07, 7.70185817e-08,\n",
       "       8.10230582e-08, 9.33302473e-08, 2.34408627e-07, 2.00913412e-07,\n",
       "       1.51015772e-06, 1.23541902e-07, 2.29019471e-07, 1.45224088e-07,\n",
       "       2.77027931e-07, 2.22058733e-07, 1.03145814e-07, 2.23446679e-07,\n",
       "       4.26527790e-07, 1.71121000e-07, 1.34500709e-07, 1.26553519e-07,\n",
       "       8.13344240e-08, 1.23790890e-07, 9.46907007e-08, 5.05970634e-08,\n",
       "       2.11364633e-07, 1.12409732e-07, 2.03779309e-07, 2.08467811e-07,\n",
       "       1.10629711e-07, 1.19222320e-07, 2.35363353e-07, 2.63316633e-07,\n",
       "       8.17211921e-08, 7.51197377e-08, 9.54380832e-08, 7.46743390e-08,\n",
       "       7.72597467e-08, 7.17372802e-08, 1.16847493e-07, 4.49588396e-08,\n",
       "       6.35139851e-07, 7.52518972e-08, 5.30519395e-08, 1.94765063e-08,\n",
       "       7.84922983e-08, 1.00533967e-07, 3.85936020e-08, 9.44871055e-08,\n",
       "       4.73063889e-08, 7.34426755e-08, 6.23588746e-08, 4.00027696e-08,\n",
       "       4.04146016e-08, 2.83799511e-08, 3.66240322e-08, 3.26286776e-08,\n",
       "       3.13324069e-08, 1.81130653e-08, 3.05511516e-08, 2.82155697e-08,\n",
       "       2.27950307e-08, 3.07814213e-08, 3.45729889e-08, 2.09338085e-08,\n",
       "       5.71592896e-07, 4.33526395e-08, 4.94907795e-08, 4.62636372e-08,\n",
       "       4.51238549e-08, 3.90834671e-08, 3.99262020e-08, 3.47904294e-08,\n",
       "       4.31284223e-08, 2.66797145e-08, 3.35784041e-08, 2.14864820e-08,\n",
       "       1.81769934e-08, 3.08672102e-08, 2.93543785e-08, 1.34297811e-08,\n",
       "       2.54425015e-08, 4.39996910e-08, 3.10194711e-08, 7.03605478e-09,\n",
       "       5.01499212e-08, 2.47615863e-08, 2.26299835e-08, 4.31050738e-08,\n",
       "       2.56396280e-08, 2.85209386e-08, 2.98761049e-08, 4.32466671e-08,\n",
       "       4.81835143e-08, 2.76986273e-08, 7.96815767e-08, 6.64819171e-08,\n",
       "       6.26435972e-07, 1.14815561e-07, 1.30666158e-07, 8.08985589e-08,\n",
       "       9.17770789e-08, 5.21173498e-08, 9.98309677e-08, 2.83473326e-08,\n",
       "       1.74863534e-07, 4.86963747e-08, 1.65599314e-08, 9.01390164e-08,\n",
       "       5.07461504e-08, 1.95492987e-08, 6.05243626e-08, 2.96387842e-08,\n",
       "       1.44437725e-07, 4.16643759e-08, 5.55776632e-08, 8.62788121e-08,\n",
       "       6.72970402e-08, 7.82078459e-08, 1.13834464e-07, 5.49107559e-08,\n",
       "       4.81448747e-08, 8.57612420e-08, 3.19249516e-08, 2.80478200e-08,\n",
       "       1.44459516e-08, 4.41325535e-08, 5.09200617e-08, 1.14165402e-08,\n",
       "       1.02995147e-07, 4.95687344e-08, 2.30431224e-08, 3.36893496e-08,\n",
       "       5.37556205e-08, 5.60725449e-08, 2.87058736e-08, 5.55600625e-08,\n",
       "       8.85374268e-08, 4.35418426e-08, 4.18556577e-08, 1.41336012e-08,\n",
       "       5.32900806e-08, 5.66116849e-08, 3.20083529e-08, 2.66514624e-08,\n",
       "       1.61389529e-08, 3.59899767e-08, 4.49651557e-08, 3.50116245e-08,\n",
       "       4.04627480e-08, 5.73473506e-08, 5.99355942e-08, 5.01235967e-08,\n",
       "       7.69497647e-08, 6.96721200e-08, 4.83279878e-08, 2.29404537e-08,\n",
       "       4.00488478e-08, 3.99045333e-08, 2.72583537e-08, 3.73864467e-08,\n",
       "       5.86548349e-08, 1.71791494e-08, 6.38017426e-08, 5.29263472e-08,\n",
       "       4.48053397e-08, 2.45942312e-08, 5.37744372e-08, 4.89201703e-08,\n",
       "       9.46812903e-08, 7.41106139e-08, 4.42534132e-08, 8.37001983e-08,\n",
       "       4.74745603e-08, 4.19082764e-08, 3.92387643e-08, 4.66830950e-08,\n",
       "       6.95691175e-08, 3.59410650e-08, 3.43775027e-08, 3.71901364e-08,\n",
       "       5.25607816e-08, 3.69452469e-08, 2.45225528e-08, 4.49138399e-08,\n",
       "       7.52374713e-08, 5.49288580e-08, 4.60430060e-08, 4.49536480e-08,\n",
       "       3.67117933e-08, 4.39162614e-08, 2.24736690e-08, 3.10018429e-08,\n",
       "       4.68381725e-08, 3.62673691e-08, 3.83821017e-08, 4.16671686e-08,\n",
       "       4.41372280e-08, 2.84758885e-08, 5.51678412e-08, 3.74898957e-08])"
      ]
     },
     "execution_count": 38,
     "metadata": {},
     "output_type": "execute_result"
    }
   ],
   "source": [
    "y"
   ]
  },
  {
   "cell_type": "code",
   "execution_count": 34,
   "metadata": {},
   "outputs": [
    {
     "data": {
      "text/plain": [
       "[<matplotlib.lines.Line2D at 0xd2847539b0>]"
      ]
     },
     "execution_count": 34,
     "metadata": {},
     "output_type": "execute_result"
    },
    {
     "data": {
      "image/png": "[encoded data removed]",
      "text/plain": [
       "<Figure size 432x288 with 1 Axes>"
      ]
     },
     "metadata": {},
     "output_type": "display_data"
    }
   ],
   "source": [
    "plt.plot(frq,y)"
   ]
  },
  {
   "cell_type": "code",
   "execution_count": null,
   "metadata": {},
   "outputs": [],
   "source": []
  }
 ],
 "metadata": {
  "kernelspec": {
   "display_name": "Python 3",
   "language": "python",
   "name": "python3"
  },
  "language_info": {
   "codemirror_mode": {
    "name": "ipython",
    "version": 3
   },
   "file_extension": ".py",
   "mimetype": "text/x-python",
   "name": "python",
   "nbconvert_exporter": "python",
   "pygments_lexer": "ipython3",
   "version": "3.6.4"
  }
 },
 "nbformat": 4,
 "nbformat_minor": 2
}
