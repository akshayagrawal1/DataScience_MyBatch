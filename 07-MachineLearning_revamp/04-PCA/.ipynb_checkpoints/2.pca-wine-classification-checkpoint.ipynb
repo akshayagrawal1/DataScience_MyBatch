{
 "cells": [
  {
   "cell_type": "code",
   "execution_count": 1,
   "metadata": {},
   "outputs": [],
   "source": [
    "import numpy as np\n",
    "import pandas as pd\n",
    "import matplotlib.pyplot as plt\n",
    "import seaborn as sns\n",
    "import statsmodels.formula.api as smf\n",
    "import statsmodels.api as sm\n",
    "%matplotlib inline"
   ]
  },
  {
   "cell_type": "code",
   "execution_count": 2,
   "metadata": {},
   "outputs": [],
   "source": [
    "df_data = pd.read_csv('./data/wine/wine.data',header=None)"
   ]
  },
  {
   "cell_type": "code",
   "execution_count": 3,
   "metadata": {},
   "outputs": [
    {
     "name": "stdout",
     "output_type": "stream",
     "text": [
      "1. Title of Database: Wine recognition data\n",
      "\tUpdated Sept 21, 1998 by C.Blake : Added attribute information\n",
      "\n",
      "2. Sources:\n",
      "   (a) Forina, M. et al, PARVUS - An Extendible Package for Data\n",
      "       Exploration, Classification and Correlation. Institute of Pharmaceutical\n",
      "       and Food Analysis and Technologies, Via Brigata Salerno, \n",
      "       16147 Genoa, Italy.\n",
      "\n",
      "   (b) Stefan Aeberhard, email: stefan@coral.cs.jcu.edu.au\n",
      "   (c) July 1991\n",
      "3. Past Usage:\n",
      "\n",
      "   (1)\n",
      "   S. Aeberhard, D. Coomans and O. de Vel,\n",
      "   Comparison of Classifiers in High Dimensional Settings,\n",
      "   Tech. Rep. no. 92-02, (1992), Dept. of Computer Science and Dept. of\n",
      "   Mathematics and Statistics, James Cook University of North Queensland.\n",
      "   (Also submitted to Technometrics).\n",
      "\n",
      "   The data was used with many others for comparing various \n",
      "   classifiers. The classes are separable, though only RDA \n",
      "   has achieved 100% correct classification.\n",
      "   (RDA : 100%, QDA 99.4%, LDA 98.9%, 1NN 96.1% (z-transformed data))\n",
      "   (All results using the leave-one-out technique)\n",
      "\n",
      "   In a classification context, this is a well posed problem \n",
      "   with \"well behaved\" class structures. A good data set \n",
      "   for first testing of a new classifier, but not very \n",
      "   challenging.\n",
      "\n",
      "   (2) \n",
      "   S. Aeberhard, D. Coomans and O. de Vel,\n",
      "   \"THE CLASSIFICATION PERFORMANCE OF RDA\"\n",
      "   Tech. Rep. no. 92-01, (1992), Dept. of Computer Science and Dept. of\n",
      "   Mathematics and Statistics, James Cook University of North Queensland.\n",
      "   (Also submitted to Journal of Chemometrics).\n",
      "\n",
      "   Here, the data was used to illustrate the superior performance of\n",
      "   the use of a new appreciation function with RDA. \n",
      "\n",
      "4. Relevant Information:\n",
      "\n",
      "   -- These data are the results of a chemical analysis of\n",
      "      wines grown in the same region in Italy but derived from three\n",
      "      different cultivars.\n",
      "      The analysis determined the quantities of 13 constituents\n",
      "      found in each of the three types of wines. \n",
      "\n",
      "   -- I think that the initial data set had around 30 variables, but \n",
      "      for some reason I only have the 13 dimensional version. \n",
      "      I had a list of what the 30 or so variables were, but a.) \n",
      "      I lost it, and b.), I would not know which 13 variables\n",
      "      are included in the set.\n",
      "\n",
      "   -- The attributes are (dontated by Riccardo Leardi, \n",
      "\triclea@anchem.unige.it )\n",
      " \t1) Alcohol\n",
      " \t2) Malic acid\n",
      " \t3) Ash\n",
      "\t4) Alcalinity of ash  \n",
      " \t5) Magnesium\n",
      "\t6) Total phenols\n",
      " \t7) Flavanoids\n",
      " \t8) Nonflavanoid phenols\n",
      " \t9) Proanthocyanins\n",
      "\t10)Color intensity\n",
      " \t11)Hue\n",
      " \t12)OD280/OD315 of diluted wines\n",
      " \t13)Proline            \n",
      "\n",
      "5. Number of Instances\n",
      "\n",
      "      \tclass 1 59\n",
      "\tclass 2 71\n",
      "\tclass 3 48\n",
      "\n",
      "6. Number of Attributes \n",
      "\t\n",
      "\t13\n",
      "\n",
      "7. For Each Attribute:\n",
      "\n",
      "\tAll attributes are continuous\n",
      "\t\n",
      "\tNo statistics available, but suggest to standardise\n",
      "\tvariables for certain uses (e.g. for us with classifiers\n",
      "\twhich are NOT scale invariant)\n",
      "\n",
      "\tNOTE: 1st attribute is class identifier (1-3)\n",
      "\n",
      "8. Missing Attribute Values:\n",
      "\n",
      "\tNone\n",
      "\n",
      "9. Class Distribution: number of instances per class\n",
      "\n",
      "      \tclass 1 59\n",
      "\tclass 2 71\n",
      "\tclass 3 48\n",
      "\n"
     ]
    }
   ],
   "source": [
    "with open('./data/wine/wine.names') as f:\n",
    "    print(f.read())"
   ]
  },
  {
   "cell_type": "code",
   "execution_count": 4,
   "metadata": {},
   "outputs": [],
   "source": [
    "df_data.columns = ['idetifier','Alcohol','Malic acid','Ash','Alcalinity','Magnesium','Total phenols','Flavanoids',\n",
    "                   'Nonflavanoid phenols','Proanthocyanins','Color intensity','Hue','OD280/OD315','Proline']\n",
    "  "
   ]
  },
  {
   "cell_type": "code",
   "execution_count": 5,
   "metadata": {},
   "outputs": [
    {
     "data": {
      "text/html": [
       "<div>\n",
       "<style scoped>\n",
       "    .dataframe tbody tr th:only-of-type {\n",
       "        vertical-align: middle;\n",
       "    }\n",
       "\n",
       "    .dataframe tbody tr th {\n",
       "        vertical-align: top;\n",
       "    }\n",
       "\n",
       "    .dataframe thead th {\n",
       "        text-align: right;\n",
       "    }\n",
       "</style>\n",
       "<table border=\"1\" class=\"dataframe\">\n",
       "  <thead>\n",
       "    <tr style=\"text-align: right;\">\n",
       "      <th></th>\n",
       "      <th>idetifier</th>\n",
       "      <th>Alcohol</th>\n",
       "      <th>Malic acid</th>\n",
       "      <th>Ash</th>\n",
       "      <th>Alcalinity</th>\n",
       "      <th>Magnesium</th>\n",
       "      <th>Total phenols</th>\n",
       "      <th>Flavanoids</th>\n",
       "      <th>Nonflavanoid phenols</th>\n",
       "      <th>Proanthocyanins</th>\n",
       "      <th>Color intensity</th>\n",
       "      <th>Hue</th>\n",
       "      <th>OD280/OD315</th>\n",
       "      <th>Proline</th>\n",
       "    </tr>\n",
       "  </thead>\n",
       "  <tbody>\n",
       "    <tr>\n",
       "      <th>0</th>\n",
       "      <td>1</td>\n",
       "      <td>14.23</td>\n",
       "      <td>1.71</td>\n",
       "      <td>2.43</td>\n",
       "      <td>15.6</td>\n",
       "      <td>127</td>\n",
       "      <td>2.80</td>\n",
       "      <td>3.06</td>\n",
       "      <td>0.28</td>\n",
       "      <td>2.29</td>\n",
       "      <td>5.64</td>\n",
       "      <td>1.04</td>\n",
       "      <td>3.92</td>\n",
       "      <td>1065</td>\n",
       "    </tr>\n",
       "    <tr>\n",
       "      <th>1</th>\n",
       "      <td>1</td>\n",
       "      <td>13.20</td>\n",
       "      <td>1.78</td>\n",
       "      <td>2.14</td>\n",
       "      <td>11.2</td>\n",
       "      <td>100</td>\n",
       "      <td>2.65</td>\n",
       "      <td>2.76</td>\n",
       "      <td>0.26</td>\n",
       "      <td>1.28</td>\n",
       "      <td>4.38</td>\n",
       "      <td>1.05</td>\n",
       "      <td>3.40</td>\n",
       "      <td>1050</td>\n",
       "    </tr>\n",
       "    <tr>\n",
       "      <th>2</th>\n",
       "      <td>1</td>\n",
       "      <td>13.16</td>\n",
       "      <td>2.36</td>\n",
       "      <td>2.67</td>\n",
       "      <td>18.6</td>\n",
       "      <td>101</td>\n",
       "      <td>2.80</td>\n",
       "      <td>3.24</td>\n",
       "      <td>0.30</td>\n",
       "      <td>2.81</td>\n",
       "      <td>5.68</td>\n",
       "      <td>1.03</td>\n",
       "      <td>3.17</td>\n",
       "      <td>1185</td>\n",
       "    </tr>\n",
       "    <tr>\n",
       "      <th>3</th>\n",
       "      <td>1</td>\n",
       "      <td>14.37</td>\n",
       "      <td>1.95</td>\n",
       "      <td>2.50</td>\n",
       "      <td>16.8</td>\n",
       "      <td>113</td>\n",
       "      <td>3.85</td>\n",
       "      <td>3.49</td>\n",
       "      <td>0.24</td>\n",
       "      <td>2.18</td>\n",
       "      <td>7.80</td>\n",
       "      <td>0.86</td>\n",
       "      <td>3.45</td>\n",
       "      <td>1480</td>\n",
       "    </tr>\n",
       "    <tr>\n",
       "      <th>4</th>\n",
       "      <td>1</td>\n",
       "      <td>13.24</td>\n",
       "      <td>2.59</td>\n",
       "      <td>2.87</td>\n",
       "      <td>21.0</td>\n",
       "      <td>118</td>\n",
       "      <td>2.80</td>\n",
       "      <td>2.69</td>\n",
       "      <td>0.39</td>\n",
       "      <td>1.82</td>\n",
       "      <td>4.32</td>\n",
       "      <td>1.04</td>\n",
       "      <td>2.93</td>\n",
       "      <td>735</td>\n",
       "    </tr>\n",
       "  </tbody>\n",
       "</table>\n",
       "</div>"
      ],
      "text/plain": [
       "   idetifier  Alcohol  Malic acid   Ash  Alcalinity  Magnesium  Total phenols  \\\n",
       "0          1    14.23        1.71  2.43        15.6        127           2.80   \n",
       "1          1    13.20        1.78  2.14        11.2        100           2.65   \n",
       "2          1    13.16        2.36  2.67        18.6        101           2.80   \n",
       "3          1    14.37        1.95  2.50        16.8        113           3.85   \n",
       "4          1    13.24        2.59  2.87        21.0        118           2.80   \n",
       "\n",
       "   Flavanoids  Nonflavanoid phenols  Proanthocyanins  Color intensity   Hue  \\\n",
       "0        3.06                  0.28             2.29             5.64  1.04   \n",
       "1        2.76                  0.26             1.28             4.38  1.05   \n",
       "2        3.24                  0.30             2.81             5.68  1.03   \n",
       "3        3.49                  0.24             2.18             7.80  0.86   \n",
       "4        2.69                  0.39             1.82             4.32  1.04   \n",
       "\n",
       "   OD280/OD315  Proline  \n",
       "0         3.92     1065  \n",
       "1         3.40     1050  \n",
       "2         3.17     1185  \n",
       "3         3.45     1480  \n",
       "4         2.93      735  "
      ]
     },
     "execution_count": 5,
     "metadata": {},
     "output_type": "execute_result"
    }
   ],
   "source": [
    "df_data.head()"
   ]
  },
  {
   "cell_type": "markdown",
   "metadata": {},
   "source": [
    "# Data Preprocessing\n",
    "- Split data\n",
    "- Normalization"
   ]
  },
  {
   "cell_type": "markdown",
   "metadata": {},
   "source": [
    "### Split data \n",
    "- Independent\n",
    "- Dependent"
   ]
  },
  {
   "cell_type": "code",
   "execution_count": 6,
   "metadata": {},
   "outputs": [],
   "source": [
    "X = df_data.iloc[:,1:]\n",
    "y = df_data.iloc[:,0]"
   ]
  },
  {
   "cell_type": "code",
   "execution_count": 7,
   "metadata": {},
   "outputs": [],
   "source": [
    "from sklearn.preprocessing import StandardScaler, MinMaxScaler\n",
    "sc = StandardScaler() # z - score\n",
    "mmx = MinMaxScaler() # min max scaler (0-1)"
   ]
  },
  {
   "cell_type": "code",
   "execution_count": 8,
   "metadata": {},
   "outputs": [
    {
     "name": "stderr",
     "output_type": "stream",
     "text": [
      "C:\\Users\\Srikanth\\Anaconda3\\lib\\site-packages\\sklearn\\preprocessing\\data.py:625: DataConversionWarning: Data with input dtype int64, float64 were all converted to float64 by StandardScaler.\n",
      "  return self.partial_fit(X, y)\n",
      "C:\\Users\\Srikanth\\Anaconda3\\lib\\site-packages\\sklearn\\base.py:462: DataConversionWarning: Data with input dtype int64, float64 were all converted to float64 by StandardScaler.\n",
      "  return self.fit(X, **fit_params).transform(X)\n",
      "C:\\Users\\Srikanth\\Anaconda3\\lib\\site-packages\\sklearn\\preprocessing\\data.py:323: DataConversionWarning: Data with input dtype int64, float64 were all converted to float64 by MinMaxScaler.\n",
      "  return self.partial_fit(X, y)\n"
     ]
    }
   ],
   "source": [
    "X_sc = sc.fit_transform(X)\n",
    "X_mmx = mmx.fit_transform(X)"
   ]
  },
  {
   "cell_type": "code",
   "execution_count": 9,
   "metadata": {},
   "outputs": [
    {
     "data": {
      "image/png": "[encoded data removed]",
      "text/plain": [
       "<Figure size 720x288 with 2 Axes>"
      ]
     },
     "metadata": {
      "needs_background": "light"
     },
     "output_type": "display_data"
    }
   ],
   "source": [
    "plt.figure(figsize=(10,4))\n",
    "plt.subplot(1,2,1)\n",
    "plt.boxplot(X_sc,patch_artist=True,vert=False)\n",
    "plt.title('Scandard Scaler')\n",
    "plt.subplot(1,2,2)\n",
    "plt.boxplot(X_mmx,patch_artist=True,vert=False)\n",
    "plt.title('Min Max Scaler (0-1)')\n",
    "plt.show()"
   ]
  },
  {
   "cell_type": "markdown",
   "metadata": {},
   "source": [
    "# PCA"
   ]
  },
  {
   "cell_type": "code",
   "execution_count": 10,
   "metadata": {},
   "outputs": [
    {
     "data": {
      "image/png": "[encoded data removed]",
      "text/plain": [
       "<Figure size 432x288 with 1 Axes>"
      ]
     },
     "metadata": {
      "needs_background": "light"
     },
     "output_type": "display_data"
    }
   ],
   "source": [
    "# Covariance matrix\n",
    "covariance = np.cov(X_mmx.T)\n",
    "# from covariance matrix compute eigen values and eigen vectors\n",
    "eigval, eigvecs = np.linalg.eig(covariance)\n",
    "eig_norm = eigval / eigval.sum()\n",
    "plt.bar(np.arange(0,13),eig_norm)\n",
    "plt.plot(eig_norm,'r')\n",
    "plt.show()\n",
    "# \n"
   ]
  },
  {
   "cell_type": "code",
   "execution_count": 11,
   "metadata": {},
   "outputs": [],
   "source": [
    "X_pca = np.dot(X_sc,eigvecs)"
   ]
  },
  {
   "cell_type": "markdown",
   "metadata": {},
   "source": [
    "**Considering Three components by using elbow method**"
   ]
  },
  {
   "cell_type": "code",
   "execution_count": 12,
   "metadata": {},
   "outputs": [],
   "source": [
    "X_pca_selected = X_pca[:,:3]"
   ]
  },
  {
   "cell_type": "markdown",
   "metadata": {},
   "source": [
    "# Split data into training and test"
   ]
  },
  {
   "cell_type": "code",
   "execution_count": 13,
   "metadata": {},
   "outputs": [],
   "source": [
    "from sklearn.model_selection import train_test_split\n",
    "x_train,x_test,y_train,y_test = train_test_split(X_pca_selected,y,test_size=0.2)"
   ]
  },
  {
   "cell_type": "markdown",
   "metadata": {},
   "source": [
    "# Building Logistic Regression"
   ]
  },
  {
   "cell_type": "code",
   "execution_count": 15,
   "metadata": {},
   "outputs": [
    {
     "name": "stdout",
     "output_type": "stream",
     "text": [
      "Optimization terminated successfully.\n",
      "         Current function value: 0.051355\n",
      "         Iterations 12\n",
      "                          MNLogit Regression Results                          \n",
      "==============================================================================\n",
      "Dep. Variable:              idetifier   No. Observations:                  142\n",
      "Model:                        MNLogit   Df Residuals:                      136\n",
      "Method:                           MLE   Df Model:                            4\n",
      "Date:                Sat, 06 Apr 2019   Pseudo R-squ.:                  0.9525\n",
      "Time:                        23:39:59   Log-Likelihood:                -7.2924\n",
      "converged:                       True   LL-Null:                       -153.62\n",
      "                                        LLR p-value:                 4.140e-62\n",
      "===============================================================================\n",
      "idetifier=2       coef    std err          z      P>|z|      [0.025      0.975]\n",
      "-------------------------------------------------------------------------------\n",
      "x1              1.7749      0.810      2.191      0.028       0.187       3.362\n",
      "x2             10.4020      4.023      2.586      0.010       2.517      18.287\n",
      "x3             -0.7614      0.738     -1.032      0.302      -2.208       0.685\n",
      "-------------------------------------------------------------------------------\n",
      "idetifier=3       coef    std err          z      P>|z|      [0.025      0.975]\n",
      "-------------------------------------------------------------------------------\n",
      "x1              4.1359      1.757      2.354      0.019       0.693       7.579\n",
      "x2              0.3157      2.801      0.113      0.910      -5.174       5.806\n",
      "x3             -0.9831      1.137     -0.865      0.387      -3.211       1.245\n",
      "===============================================================================\n"
     ]
    }
   ],
   "source": [
    "model = sm.MNLogit(y_train,x_train).fit()\n",
    "print(model.summary())"
   ]
  },
  {
   "cell_type": "code",
   "execution_count": 16,
   "metadata": {},
   "outputs": [],
   "source": [
    "y_pred_test =model.predict(x_test)\n",
    "y_pred_train =model.predict(x_train)"
   ]
  },
  {
   "cell_type": "code",
   "execution_count": 18,
   "metadata": {},
   "outputs": [
    {
     "data": {
      "text/plain": [
       "69     2\n",
       "141    3\n",
       "94     2\n",
       "170    3\n",
       "169    3\n",
       "111    2\n",
       "74     2\n",
       "66     2\n",
       "129    2\n",
       "172    3\n",
       "92     2\n",
       "76     2\n",
       "2      1\n",
       "88     2\n",
       "22     1\n",
       "151    3\n",
       "167    3\n",
       "139    3\n",
       "166    3\n",
       "10     1\n",
       "132    3\n",
       "29     1\n",
       "145    3\n",
       "6      1\n",
       "131    3\n",
       "67     2\n",
       "28     1\n",
       "125    2\n",
       "122    2\n",
       "60     2\n",
       "      ..\n",
       "12     1\n",
       "130    3\n",
       "20     1\n",
       "123    2\n",
       "115    2\n",
       "144    3\n",
       "177    3\n",
       "146    3\n",
       "78     2\n",
       "81     2\n",
       "147    3\n",
       "127    2\n",
       "152    3\n",
       "9      1\n",
       "104    2\n",
       "124    2\n",
       "106    2\n",
       "103    2\n",
       "27     1\n",
       "99     2\n",
       "150    3\n",
       "154    3\n",
       "117    2\n",
       "11     1\n",
       "57     1\n",
       "35     1\n",
       "102    2\n",
       "100    2\n",
       "24     1\n",
       "101    2\n",
       "Name: idetifier, Length: 142, dtype: int64"
      ]
     },
     "execution_count": 18,
     "metadata": {},
     "output_type": "execute_result"
    }
   ],
   "source": [
    "y_train"
   ]
  },
  {
   "cell_type": "code",
   "execution_count": null,
   "metadata": {},
   "outputs": [],
   "source": [
    "from sklearn.metrics import roc_curve,auc\n",
    "fpr,tpr,threshold = roc_curve(y_train,y_pred_train_prob)"
   ]
  },
  {
   "cell_type": "code",
   "execution_count": null,
   "metadata": {},
   "outputs": [],
   "source": [
    "\n",
    "\n",
    "plt.figure(figsize=(10,6))\n",
    "plt.plot(fpr,tpr,color='red',lw=1.5)\n",
    "plt.plot([0, 1], [0, 1], color='navy',lw = 2, linestyle='--')\n",
    "\n",
    "for i,value in enumerate(fpr*10):\n",
    "    try:\n",
    "        if (round(fpr[i+1]*10) - round(fpr[i]*10)) == 1:\n",
    "            plt.text(fpr[i],tpr[i],'%0.2f'%(threshold[i]))\n",
    "    except IndexError:\n",
    "        print(' ')\n",
    "        \n",
    "plt.xlabel('False Positive Rate')\n",
    "plt.ylabel('True Positive Rate')\n",
    "plt.title('ROC Curve')\n",
    "plt.legend(['ROC curve (area = %0.2f)' % auc(fpr,tpr)])\n",
    "plt.show()"
   ]
  },
  {
   "cell_type": "code",
   "execution_count": null,
   "metadata": {},
   "outputs": [],
   "source": []
  },
  {
   "cell_type": "code",
   "execution_count": null,
   "metadata": {},
   "outputs": [],
   "source": []
  },
  {
   "cell_type": "code",
   "execution_count": null,
   "metadata": {},
   "outputs": [],
   "source": []
  },
  {
   "cell_type": "code",
   "execution_count": 72,
   "metadata": {},
   "outputs": [],
   "source": [
    "from pandas_ml import ConfusionMatrix"
   ]
  },
  {
   "cell_type": "code",
   "execution_count": 73,
   "metadata": {},
   "outputs": [
    {
     "name": "stderr",
     "output_type": "stream",
     "text": [
      "C:\\Users\\Srikanth\\Anaconda3\\lib\\site-packages\\pandas_ml\\confusion_matrix\\abstract.py:66: FutureWarning: \n",
      "Passing list-likes to .loc or [] with any missing label will raise\n",
      "KeyError in the future, you can use .reindex() as an alternative.\n",
      "\n",
      "See the documentation here:\n",
      "https://pandas.pydata.org/pandas-docs/stable/indexing.html#deprecate-loc-reindex-listlike\n",
      "  df = df.loc[idx, idx.copy()].fillna(0)  # if some columns or rows are missing\n"
     ]
    }
   ],
   "source": [
    "cm_test = ConfusionMatrix(y_test,y_pred_test)\n",
    "cm_train = ConfusionMatrix(y_train,y_pred_train)"
   ]
  },
  {
   "cell_type": "code",
   "execution_count": 74,
   "metadata": {},
   "outputs": [
    {
     "name": "stdout",
     "output_type": "stream",
     "text": [
      "Predicted   1   2   3  __all__\n",
      "Actual                        \n",
      "1          16  21  11       48\n",
      "2          22  20  16       58\n",
      "3           2   3   4        9\n",
      "__all__    40  44  31      115\n"
     ]
    }
   ],
   "source": [
    "print(cm_train)"
   ]
  },
  {
   "cell_type": "code",
   "execution_count": 75,
   "metadata": {},
   "outputs": [
    {
     "name": "stdout",
     "output_type": "stream",
     "text": [
      "Predicted  1  2  3  __all__\n",
      "Actual                     \n",
      "1          2  4  2        8\n",
      "2          0  0  0        0\n",
      "3          0  0  0        0\n",
      "__all__    2  4  2        8\n"
     ]
    }
   ],
   "source": [
    "print(cm_test)"
   ]
  },
  {
   "cell_type": "code",
   "execution_count": 66,
   "metadata": {},
   "outputs": [
    {
     "data": {
      "text/plain": [
       "(36, 3)"
      ]
     },
     "execution_count": 66,
     "metadata": {},
     "output_type": "execute_result"
    }
   ],
   "source": [
    "x_test.shape"
   ]
  },
  {
   "cell_type": "code",
   "execution_count": null,
   "metadata": {},
   "outputs": [],
   "source": []
  }
 ],
 "metadata": {
  "kernelspec": {
   "display_name": "Python 3",
   "language": "python",
   "name": "python3"
  },
  "language_info": {
   "codemirror_mode": {
    "name": "ipython",
    "version": 3
   },
   "file_extension": ".py",
   "mimetype": "text/x-python",
   "name": "python",
   "nbconvert_exporter": "python",
   "pygments_lexer": "ipython3",
   "version": "3.7.1"
  }
 },
 "nbformat": 4,
 "nbformat_minor": 2
}
