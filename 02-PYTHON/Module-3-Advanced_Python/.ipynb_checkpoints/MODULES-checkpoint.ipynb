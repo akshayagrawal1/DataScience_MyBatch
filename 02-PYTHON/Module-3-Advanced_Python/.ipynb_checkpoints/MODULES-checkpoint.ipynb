{
 "cells": [
  {
   "cell_type": "markdown",
   "metadata": {},
   "source": [
    "# Modules\n",
    "> Modules are pre-witten pieces of code that are used to perform common tasks like generating random number, performing mathematical operations, etc.\n",
    "\n",
    "The basic way to use a module is to add `import module_name` "
   ]
  },
  {
   "cell_type": "code",
   "execution_count": 1,
   "metadata": {},
   "outputs": [],
   "source": [
    "import sys"
   ]
  },
  {
   "cell_type": "code",
   "execution_count": 2,
   "metadata": {},
   "outputs": [
    {
     "name": "stdout",
     "output_type": "stream",
     "text": [
      "PYTHONPATH = \n",
      " ['', 'C:\\\\Users\\\\srikanth\\\\Anaconda\\\\python36.zip', 'C:\\\\Users\\\\srikanth\\\\Anaconda\\\\DLLs', 'C:\\\\Users\\\\srikanth\\\\Anaconda\\\\lib', 'C:\\\\Users\\\\srikanth\\\\Anaconda', 'C:\\\\Users\\\\srikanth\\\\Anaconda\\\\lib\\\\site-packages', 'C:\\\\Users\\\\srikanth\\\\Anaconda\\\\lib\\\\site-packages\\\\win32', 'C:\\\\Users\\\\srikanth\\\\Anaconda\\\\lib\\\\site-packages\\\\win32\\\\lib', 'C:\\\\Users\\\\srikanth\\\\Anaconda\\\\lib\\\\site-packages\\\\Pythonwin', 'C:\\\\Users\\\\srikanth\\\\Anaconda\\\\lib\\\\site-packages\\\\IPython\\\\extensions', 'C:\\\\Users\\\\srikanth\\\\.ipython']\n"
     ]
    }
   ],
   "source": [
    "print('PYTHONPATH = \\n',sys.path)"
   ]
  },
  {
   "cell_type": "markdown",
   "metadata": {},
   "source": [
    "`from ... import statement`"
   ]
  },
  {
   "cell_type": "code",
   "execution_count": 3,
   "metadata": {},
   "outputs": [],
   "source": [
    "import math"
   ]
  },
  {
   "cell_type": "code",
   "execution_count": 4,
   "metadata": {},
   "outputs": [],
   "source": [
    "from math import pi"
   ]
  },
  {
   "cell_type": "code",
   "execution_count": 5,
   "metadata": {},
   "outputs": [
    {
     "data": {
      "text/plain": [
       "3.141592653589793"
      ]
     },
     "execution_count": 5,
     "metadata": {},
     "output_type": "execute_result"
    }
   ],
   "source": [
    "pi"
   ]
  },
  {
   "cell_type": "markdown",
   "metadata": {},
   "source": [
    "multiple import \n",
    "\n",
    "`from .... import function1, function2 , ...`"
   ]
  },
  {
   "cell_type": "code",
   "execution_count": 6,
   "metadata": {},
   "outputs": [],
   "source": [
    "from math import sqrt,ceil"
   ]
  },
  {
   "cell_type": "code",
   "execution_count": 10,
   "metadata": {},
   "outputs": [
    {
     "data": {
      "text/plain": [
       "2.449489742783178"
      ]
     },
     "execution_count": 10,
     "metadata": {},
     "output_type": "execute_result"
    }
   ],
   "source": [
    "sqrt(ceil(5.3))"
   ]
  },
  {
   "cell_type": "markdown",
   "metadata": {},
   "source": [
    "## Making your own module"
   ]
  },
  {
   "cell_type": "code",
   "execution_count": 1,
   "metadata": {},
   "outputs": [],
   "source": [
    "import my_module"
   ]
  },
  {
   "cell_type": "code",
   "execution_count": 2,
   "metadata": {},
   "outputs": [
    {
     "data": {
      "text/plain": [
       "12"
      ]
     },
     "execution_count": 2,
     "metadata": {},
     "output_type": "execute_result"
    }
   ],
   "source": [
    "my_module.addition(5,7)"
   ]
  },
  {
   "cell_type": "code",
   "execution_count": null,
   "metadata": {},
   "outputs": [],
   "source": []
  }
 ],
 "metadata": {
  "kernelspec": {
   "display_name": "Python 3",
   "language": "python",
   "name": "python3"
  },
  "language_info": {
   "codemirror_mode": {
    "name": "ipython",
    "version": 3
   },
   "file_extension": ".py",
   "mimetype": "text/x-python",
   "name": "python",
   "nbconvert_exporter": "python",
   "pygments_lexer": "ipython3",
   "version": "3.6.4"
  }
 },
 "nbformat": 4,
 "nbformat_minor": 2
}
