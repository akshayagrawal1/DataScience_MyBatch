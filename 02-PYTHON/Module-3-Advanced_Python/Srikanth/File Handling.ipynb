{
 "cells": [
  {
   "cell_type": "markdown",
   "metadata": {},
   "source": [
    "# `open`\n",
    "\n",
    "```\n",
    "mode = 'r' -> read\n",
    "mode = 'w' -> write\n",
    "mode = 'a' -> append\n",
    "```"
   ]
  },
  {
   "cell_type": "code",
   "execution_count": 1,
   "metadata": {},
   "outputs": [],
   "source": [
    "# Method1\n",
    "\n",
    "f = open('file.txt',mode='r')"
   ]
  },
  {
   "cell_type": "code",
   "execution_count": 2,
   "metadata": {},
   "outputs": [],
   "source": [
    "txt= f.read()"
   ]
  },
  {
   "cell_type": "code",
   "execution_count": 4,
   "metadata": {},
   "outputs": [
    {
     "name": "stdout",
     "output_type": "stream",
     "text": [
      "Hi, How are you?\n",
      "\n",
      "Welcome to python programming !!!\n"
     ]
    }
   ],
   "source": [
    "print(txt)"
   ]
  },
  {
   "cell_type": "code",
   "execution_count": 5,
   "metadata": {},
   "outputs": [
    {
     "data": {
      "text/plain": [
       "'Hi, How are you?\\n\\nWelcome to python programming !!!'"
      ]
     },
     "execution_count": 5,
     "metadata": {},
     "output_type": "execute_result"
    }
   ],
   "source": [
    "txt"
   ]
  },
  {
   "cell_type": "code",
   "execution_count": 6,
   "metadata": {},
   "outputs": [],
   "source": [
    "f.close()"
   ]
  },
  {
   "cell_type": "code",
   "execution_count": 15,
   "metadata": {},
   "outputs": [],
   "source": [
    "# Method 2\n",
    "with open('file.txt', mode = 'r') as f:\n",
    "    txt = f.readlines()\n",
    "    #txt1 = f.read()\n",
    "    f.close()"
   ]
  },
  {
   "cell_type": "code",
   "execution_count": 16,
   "metadata": {},
   "outputs": [
    {
     "data": {
      "text/plain": [
       "['Hi, How are you?\\n', '\\n', 'Welcome to python programming !!!']"
      ]
     },
     "execution_count": 16,
     "metadata": {},
     "output_type": "execute_result"
    }
   ],
   "source": [
    "txt"
   ]
  },
  {
   "cell_type": "code",
   "execution_count": 18,
   "metadata": {},
   "outputs": [],
   "source": [
    "with open('file.txt', mode = 'r') as f:\n",
    "    #txt = f.readlines()\n",
    "    txt1 = f.read()\n",
    "    f.close()"
   ]
  },
  {
   "cell_type": "code",
   "execution_count": 20,
   "metadata": {},
   "outputs": [
    {
     "data": {
      "text/plain": [
       "['Hi, How are you?', '', 'Welcome to python programming !!!']"
      ]
     },
     "execution_count": 20,
     "metadata": {},
     "output_type": "execute_result"
    }
   ],
   "source": [
    "txt1.split(sep='\\n')"
   ]
  },
  {
   "cell_type": "code",
   "execution_count": 21,
   "metadata": {},
   "outputs": [],
   "source": [
    "with open('iris.data', mode = 'r') as f:\n",
    "    txt = f.readlines()\n",
    "    #txt1 = f.read()\n",
    "    f.close()"
   ]
  },
  {
   "cell_type": "code",
   "execution_count": 23,
   "metadata": {},
   "outputs": [],
   "source": [
    "iris = txt"
   ]
  },
  {
   "cell_type": "markdown",
   "metadata": {},
   "source": [
    "# `mode = 'w'`"
   ]
  },
  {
   "cell_type": "code",
   "execution_count": 26,
   "metadata": {},
   "outputs": [],
   "source": [
    "with open(mode = 'w' , file='file1.txt') as f:\n",
    "    text = 'Python Programming'\n",
    "    f.write(text+ '\\n')\n",
    "    f.close()"
   ]
  },
  {
   "cell_type": "markdown",
   "metadata": {},
   "source": [
    "## Create emp.csv file\n",
    "\n",
    "|Name|Loc|PLace|\n",
    "|----|---|-----|\n",
    "|Srikanth|Bowenpally|Hyderabad|\n",
    "|RaghuRam|ChandaNagar|Hyderabad|\n",
    "|Ramya|Shamshabad|Hyderabad|"
   ]
  },
  {
   "cell_type": "code",
   "execution_count": 27,
   "metadata": {},
   "outputs": [],
   "source": [
    "with open('emp.csv' , mode = 'w') as f:\n",
    "    info = 'Name,Loc,Place\\nSrikanth,Bowenpally,Hyderabad\\nRaghuRam,ChandaNagar,Hyderabad\\nRamya,Shamshabad,Hyderabad'\n",
    "    f.write(info+'\\n')\n",
    "    f.close()"
   ]
  },
  {
   "cell_type": "code",
   "execution_count": 28,
   "metadata": {},
   "outputs": [
    {
     "name": "stdout",
     "output_type": "stream",
     "text": [
      "Enter your name: Avinash\n",
      "Enter you Location: Lingahmpally\n",
      "Enter you place: Hyderabad\n"
     ]
    }
   ],
   "source": [
    "name = input('Enter your name: ')\n",
    "Loc = input('Enter you Location: ')\n",
    "Place = input('Enter you place: ')\n",
    "write = name+','+Loc+','+Place\n",
    "\n",
    "with open('emp.csv', mode='a') as f:\n",
    "    f.write(write+'\\n')\n",
    "    f.close()\n",
    "print('Your Information is saved sucessfully !!!')"
   ]
  },
  {
   "cell_type": "code",
   "execution_count": null,
   "metadata": {},
   "outputs": [],
   "source": []
  }
 ],
 "metadata": {
  "kernelspec": {
   "display_name": "Python 3",
   "language": "python",
   "name": "python3"
  },
  "language_info": {
   "codemirror_mode": {
    "name": "ipython",
    "version": 3
   },
   "file_extension": ".py",
   "mimetype": "text/x-python",
   "name": "python",
   "nbconvert_exporter": "python",
   "pygments_lexer": "ipython3",
   "version": "3.6.4"
  }
 },
 "nbformat": 4,
 "nbformat_minor": 2
}
