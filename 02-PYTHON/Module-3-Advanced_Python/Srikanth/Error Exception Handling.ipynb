{
 "cells": [
  {
   "cell_type": "markdown",
   "metadata": {},
   "source": [
    "# Error Exception"
   ]
  },
  {
   "cell_type": "markdown",
   "metadata": {},
   "source": [
    "### Handling Exceptions\n",
    "\n",
    "\n",
    "<span style=\"color:green\">try</span>:\n",
    "``` \n",
    "statements\n",
    "...```\n",
    "\n",
    "<span style=\"color:green\">except</span> ExceptionName:\n",
    "```\n",
    "statements\n",
    "...\n",
    "```"
   ]
  },
  {
   "cell_type": "code",
   "execution_count": 6,
   "metadata": {},
   "outputs": [
    {
     "name": "stdout",
     "output_type": "stream",
     "text": [
      "Enter the number:gfhg\n",
      "Please check the number you have enter, expected a numeric\n"
     ]
    }
   ],
   "source": [
    "try:\n",
    "\n",
    "    num = int(input('Enter the number:'))\n",
    "    print('You have entered {}'.format(num))\n",
    "    \n",
    "except (ValueError):\n",
    "    print('Please check the number you have enter, expected a numeric')"
   ]
  },
  {
   "cell_type": "markdown",
   "metadata": {},
   "source": [
    "**Write a program to except `ZeroDivisionError` while find quotient**"
   ]
  },
  {
   "cell_type": "code",
   "execution_count": 12,
   "metadata": {},
   "outputs": [
    {
     "name": "stdout",
     "output_type": "stream",
     "text": [
      "Enter the numerator:10\n",
      "Enter the denominator:2\n",
      "QUOTIENT =  5.0\n"
     ]
    }
   ],
   "source": [
    "try:\n",
    "\n",
    "    num = int(input('Enter the numerator:'))\n",
    "    den = int(input('Enter the denominator:'))\n",
    "    print('QUOTIENT = ',num/den)\n",
    "\n",
    "except ZeroDivisionError:\n",
    "    print(\"Can't divided by zero try with different denominator apart from zero\")\n",
    "    \n",
    "except ValueError:\n",
    "    print('Please check the number you have enter, expected a numeric')"
   ]
  },
  {
   "cell_type": "code",
   "execution_count": 15,
   "metadata": {},
   "outputs": [
    {
     "name": "stdout",
     "output_type": "stream",
     "text": [
      "Enter the numerator:5\n",
      "Enter the denominator:0\n",
      "Unexpected Errors ... \n"
     ]
    }
   ],
   "source": [
    "try:\n",
    "\n",
    "    num = int(input('Enter the numerator:'))\n",
    "    den = int(input('Enter the denominator:'))\n",
    "    print('QUOTIENT = ',num/den)\n",
    "\n",
    "except (ZeroDivisionError,ValueError,NameError):\n",
    "    print(\"Unexpected Errors ... \")\n",
    "    "
   ]
  },
  {
   "cell_type": "markdown",
   "metadata": {},
   "source": [
    "## `else` clause"
   ]
  },
  {
   "cell_type": "markdown",
   "metadata": {},
   "source": [
    "#### you write a program to find even of odd number"
   ]
  },
  {
   "cell_type": "code",
   "execution_count": 13,
   "metadata": {},
   "outputs": [
    {
     "name": "stdout",
     "output_type": "stream",
     "text": [
      "Enter a number: 5.5\n",
      "Expected integer got String or Float\n"
     ]
    }
   ],
   "source": [
    "try:\n",
    "    num = int(input('Enter a number: '))\n",
    "    if num % 2 == 0:\n",
    "        print('{} is even number'.format(num))\n",
    "    else:\n",
    "        print('{} is odd number'.format(num))\n",
    "except ValueError:\n",
    "    print('Expected integer got String or Float')\n",
    "    \n",
    "else:\n",
    "    print('Program executed sucessfully')"
   ]
  },
  {
   "cell_type": "markdown",
   "metadata": {},
   "source": [
    "# raise"
   ]
  },
  {
   "cell_type": "code",
   "execution_count": 22,
   "metadata": {},
   "outputs": [
    {
     "name": "stdout",
     "output_type": "stream",
     "text": [
      "10\n",
      "Clear memory\n"
     ]
    }
   ],
   "source": [
    "try:\n",
    "    num = 10\n",
    "    print(num)\n",
    "    raise ValueError('Srikanth {} raise this error'.format(num))\n",
    "except:\n",
    "    print('Unexpected error')\n",
    "finally:\n",
    "    print('Clear memory')"
   ]
  },
  {
   "cell_type": "code",
   "execution_count": null,
   "metadata": {},
   "outputs": [],
   "source": []
  }
 ],
 "metadata": {
  "kernelspec": {
   "display_name": "Python 3",
   "language": "python",
   "name": "python3"
  },
  "language_info": {
   "codemirror_mode": {
    "name": "ipython",
    "version": 3
   },
   "file_extension": ".py",
   "mimetype": "text/x-python",
   "name": "python",
   "nbconvert_exporter": "python",
   "pygments_lexer": "ipython3",
   "version": "3.6.4"
  }
 },
 "nbformat": 4,
 "nbformat_minor": 2
}
