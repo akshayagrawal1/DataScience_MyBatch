{
 "cells": [
  {
   "cell_type": "markdown",
   "metadata": {},
   "source": [
    "# Introduction\n",
    "Python is an **object-oriented language**.\n",
    "\n",
    "`class`"
   ]
  },
  {
   "cell_type": "markdown",
   "metadata": {},
   "source": [
    "### Defining Class\n",
    "A <span style=\"color:green\">class</span> may contain data in the form of **fields**.\n",
    "\n",
    "- Fields are called <span style='color:magenta'>attributes</span> and code in the form of **procedures** known as **methods**.\n",
    "\n",
    "        class class_name:\n",
    "            Initializer\n",
    "            attributes\n",
    "            methods()\n",
    "            statements(s)"
   ]
  },
  {
   "cell_type": "markdown",
   "metadata": {},
   "source": [
    "> ** <span style=\"color:magenta\">Program-1</span>: Write as class program**"
   ]
  },
  {
   "cell_type": "code",
   "execution_count": 1,
   "metadata": {},
   "outputs": [],
   "source": [
    "class demo:\n",
    "    pass"
   ]
  },
  {
   "cell_type": "code",
   "execution_count": 2,
   "metadata": {},
   "outputs": [
    {
     "name": "stdout",
     "output_type": "stream",
     "text": [
      "<__main__.demo object at 0x000000541F601320>\n"
     ]
    }
   ],
   "source": [
    "d1 = demo() # Instance or Object of the class demo\n",
    "print(d1)"
   ]
  },
  {
   "cell_type": "markdown",
   "metadata": {},
   "source": [
    "> ** <span style=\"color:magenta\">Program-2</span>: Write a program to create a simple class and print the message, \"Welcome to Object-oriented Programming\" and print the address of the instance of the class**."
   ]
  },
  {
   "cell_type": "code",
   "execution_count": 4,
   "metadata": {},
   "outputs": [
    {
     "name": "stdout",
     "output_type": "stream",
     "text": [
      "Welcome to Object-oriented language\n"
     ]
    },
    {
     "data": {
      "text/plain": [
       "<__main__.myclass at 0x541f601048>"
      ]
     },
     "execution_count": 4,
     "metadata": {},
     "output_type": "execute_result"
    }
   ],
   "source": [
    "class myclass:\n",
    "    print('Welcome to Object-oriented language')\n",
    "    \n",
    "myclass()\n"
   ]
  },
  {
   "cell_type": "markdown",
   "metadata": {},
   "source": [
    "### Adding attributes to Class\n",
    "\n",
    "```\n",
    "class Rectange:\n",
    "    length = 0 # Attributes length\n",
    "    breath = 0 # Attributes breath\n",
    "\n",
    "```"
   ]
  },
  {
   "cell_type": "markdown",
   "metadata": {},
   "source": [
    "> ** <span style=\"color:magenta\">Program-3</span>: Write a program to access the attributes of a class**."
   ]
  },
  {
   "cell_type": "code",
   "execution_count": 5,
   "metadata": {},
   "outputs": [
    {
     "name": "stdout",
     "output_type": "stream",
     "text": [
      "1\n",
      "2\n"
     ]
    }
   ],
   "source": [
    "class rectangle:\n",
    "    length = 1 # attribute lengtht\n",
    "    breath = 2 # attribute breath\n",
    "    \n",
    "r = rectangle() # instance of a class\n",
    "print(r.length) # access attribute length \n",
    "print(r.breath) # access attribute breath"
   ]
  },
  {
   "cell_type": "markdown",
   "metadata": {},
   "source": [
    "> ** <span style=\"color:magenta\">Program-3</span>: Write program to create a methodDisplay() in a class having the name methodDemo and display in the message**."
   ]
  },
  {
   "cell_type": "code",
   "execution_count": 18,
   "metadata": {},
   "outputs": [],
   "source": [
    "class methodDemo:\n",
    "    # here we mention attributes\n",
    "    def methodDisplay(srikanth): # this is call method \n",
    "        print('welcome to python programming')"
   ]
  },
  {
   "cell_type": "code",
   "execution_count": 19,
   "metadata": {},
   "outputs": [],
   "source": [
    "ob1 = methodDemo() # instance of class"
   ]
  },
  {
   "cell_type": "code",
   "execution_count": 20,
   "metadata": {},
   "outputs": [
    {
     "name": "stdout",
     "output_type": "stream",
     "text": [
      "welcome to python programming\n"
     ]
    }
   ],
   "source": [
    "ob1.methodDisplay() # calling method"
   ]
  },
  {
   "cell_type": "markdown",
   "metadata": {},
   "source": [
    "- The first parameter for each method inside a class should be defined by the name *<span style=color:orange>self</span>*\n",
    "- The variable *<span style=color:orange>self</span>* refers to the object itself. \n",
    "\n",
    "$\\therefore$ for convention it is given the name itself."
   ]
  },
  {
   "cell_type": "code",
   "execution_count": null,
   "metadata": {},
   "outputs": [],
   "source": []
  }
 ],
 "metadata": {
  "kernelspec": {
   "display_name": "Python 3",
   "language": "python",
   "name": "python3"
  },
  "language_info": {
   "codemirror_mode": {
    "name": "ipython",
    "version": 3
   },
   "file_extension": ".py",
   "mimetype": "text/x-python",
   "name": "python",
   "nbconvert_exporter": "python",
   "pygments_lexer": "ipython3",
   "version": "3.6.4"
  }
 },
 "nbformat": 4,
 "nbformat_minor": 2
}
