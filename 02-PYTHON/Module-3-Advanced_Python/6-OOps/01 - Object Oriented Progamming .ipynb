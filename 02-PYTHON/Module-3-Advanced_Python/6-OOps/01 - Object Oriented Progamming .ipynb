{
 "cells": [
  {
   "cell_type": "code",
   "execution_count": 5,
   "metadata": {},
   "outputs": [],
   "source": [
    "class ABC():\n",
    "    var = 10 # class variable"
   ]
  },
  {
   "cell_type": "code",
   "execution_count": 6,
   "metadata": {},
   "outputs": [],
   "source": [
    "obj = ABC()"
   ]
  },
  {
   "cell_type": "code",
   "execution_count": 7,
   "metadata": {},
   "outputs": [
    {
     "data": {
      "text/plain": [
       "10"
      ]
     },
     "execution_count": 7,
     "metadata": {},
     "output_type": "execute_result"
    }
   ],
   "source": [
    "obj.var"
   ]
  },
  {
   "cell_type": "markdown",
   "metadata": {},
   "source": [
    "# Function that are defined inside class are called class methods"
   ]
  },
  {
   "cell_type": "markdown",
   "metadata": {},
   "source": [
    "`class method` must have the first argument named as `self`. This is the first argument that is added to the begining of the parameter list. Moreover, you do not pass a value for this parameter when you call the method. Python provides its value automatically. The `self` argument refers to the object itself. "
   ]
  },
  {
   "cell_type": "code",
   "execution_count": 11,
   "metadata": {},
   "outputs": [],
   "source": [
    "class abc():\n",
    "    var=10 # class variable\n",
    "    def display(self): # class method\n",
    "        \"\"\"\n",
    "        This function will display the class method\n",
    "        eg. \n",
    "        >>>obj = abc()\n",
    "        >>>obj.display()\n",
    "        This is called class method\n",
    "        \n",
    "        \"\"\"\n",
    "        print('This is called class method')"
   ]
  },
  {
   "cell_type": "code",
   "execution_count": 12,
   "metadata": {},
   "outputs": [
    {
     "name": "stdout",
     "output_type": "stream",
     "text": [
      "This is called class method\n"
     ]
    }
   ],
   "source": [
    "obj = abc()\n",
    "obj.display()"
   ]
  },
  {
   "cell_type": "markdown",
   "metadata": {},
   "source": [
    "### THE `__init__` METHOD (THE CLASS CONSTRUCTION) "
   ]
  },
  {
   "cell_type": "markdown",
   "metadata": {},
   "source": [
    "The `__init__()` method has a special significance in the Python classes. The `__init__()` method is automatically executed when an object of a class is created. The method is useful to initialize the variables of the class object. Note the `__init__()` is prefixed as well as suffixed by double underscores. The `__init__()` method can be declared as, `def __init__(self,[args...]`. Look at the programming given belw that uses the `__init__()` method."
   ]
  },
  {
   "cell_type": "code",
   "execution_count": 14,
   "metadata": {},
   "outputs": [],
   "source": [
    "class abc():\n",
    "    def __init__(self,val):\n",
    "        print('In class method, ....')\n",
    "        self.val = val\n",
    "        print('The value is :',val)"
   ]
  },
  {
   "cell_type": "code",
   "execution_count": 15,
   "metadata": {},
   "outputs": [
    {
     "name": "stdout",
     "output_type": "stream",
     "text": [
      "In class method, ....\n",
      "The value is : 10\n"
     ]
    }
   ],
   "source": [
    "obj = abc(10)"
   ]
  },
  {
   "cell_type": "markdown",
   "metadata": {},
   "source": [
    "**Program to differentiate class and object variable**"
   ]
  },
  {
   "cell_type": "code",
   "execution_count": 22,
   "metadata": {},
   "outputs": [],
   "source": [
    "class abc():\n",
    "    class_var = 0 # class variable\n",
    "    def __init__(self,var):\n",
    "        abc.class_var += 1 \n",
    "        self.var = var # object variable\n",
    "        print('This is object variable1',var)\n",
    "        print('This is object variable2',self.var)\n",
    "        \n",
    "        print('The values of class variable is ',abc.class_var)"
   ]
  },
  {
   "cell_type": "code",
   "execution_count": 23,
   "metadata": {},
   "outputs": [
    {
     "name": "stdout",
     "output_type": "stream",
     "text": [
      "This is object variable1 10\n",
      "This is object variable2 10\n",
      "The values of class variable is  1\n",
      "This is object variable1 20\n",
      "This is object variable2 20\n",
      "The values of class variable is  2\n",
      "This is object variable1 30\n",
      "This is object variable2 30\n",
      "The values of class variable is  3\n"
     ]
    }
   ],
   "source": [
    "obj1 = abc(10)\n",
    "obj2 = abc(20)\n",
    "obj3 = abc(30)"
   ]
  },
  {
   "cell_type": "code",
   "execution_count": null,
   "metadata": {},
   "outputs": [],
   "source": []
  }
 ],
 "metadata": {
  "kernelspec": {
   "display_name": "Python 3",
   "language": "python",
   "name": "python3"
  },
  "language_info": {
   "codemirror_mode": {
    "name": "ipython",
    "version": 3
   },
   "file_extension": ".py",
   "mimetype": "text/x-python",
   "name": "python",
   "nbconvert_exporter": "python",
   "pygments_lexer": "ipython3",
   "version": "3.6.4"
  }
 },
 "nbformat": 4,
 "nbformat_minor": 2
}
