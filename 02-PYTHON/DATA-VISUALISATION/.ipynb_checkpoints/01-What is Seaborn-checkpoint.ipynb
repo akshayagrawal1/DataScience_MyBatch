{
 "cells": [
  {
   "cell_type": "markdown",
   "metadata": {},
   "source": [
    "# seaborn: statistical data visualization\n",
    "\n",
    "**Seaborn** is a Python data visualization library based on ***matplotlib***. It provides a high-level interface for drawing attractive and informative statistical graphics.\n",
    "\n",
    "For a brief introduction to the ideas behind the library, you can read the introductory notes. Visit the installation page to see how you can download the package. You can browse the example gallery to see what you can do with seaborn, and then check out the tutorial and API reference to find out how.\n",
    "\n",
    "To see the code or report a bug, please visit the github repository. General support issues are most at home on stackoverflow, where there is a seaborn tag.\n",
    "\n",
    "> Contents\n",
    "- Introduction\n",
    "- Release notes\n",
    "- Installing\n",
    "- Example gallery\n",
    "- Tutorial\n",
    "- API reference"
   ]
  },
  {
   "cell_type": "code",
   "execution_count": null,
   "metadata": {},
   "outputs": [],
   "source": []
  }
 ],
 "metadata": {
  "kernelspec": {
   "display_name": "Python 3",
   "language": "python",
   "name": "python3"
  },
  "language_info": {
   "codemirror_mode": {
    "name": "ipython",
    "version": 3
   },
   "file_extension": ".py",
   "mimetype": "text/x-python",
   "name": "python",
   "nbconvert_exporter": "python",
   "pygments_lexer": "ipython3",
   "version": "3.6.4"
  }
 },
 "nbformat": 4,
 "nbformat_minor": 2
}
