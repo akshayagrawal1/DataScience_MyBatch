{
 "cells": [
  {
   "cell_type": "markdown",
   "metadata": {},
   "source": [
    "# Sets\n",
    "- collection of elements with different data types \n",
    "- collection unique elements\n",
    "- indixing cant be perform in set\n",
    "- Sets follow order "
   ]
  },
  {
   "cell_type": "markdown",
   "metadata": {},
   "source": [
    "`set` , `{ }`"
   ]
  },
  {
   "cell_type": "code",
   "execution_count": 1,
   "metadata": {},
   "outputs": [
    {
     "data": {
      "text/plain": [
       "{1, 2, 5, 10, 55, 60, 80}"
      ]
     },
     "execution_count": 1,
     "metadata": {},
     "output_type": "execute_result"
    }
   ],
   "source": [
    "A = {1,1,1,2,2,5,10,5,80,80,55,55,60,True}\n",
    "A"
   ]
  },
  {
   "cell_type": "code",
   "execution_count": 5,
   "metadata": {},
   "outputs": [
    {
     "data": {
      "text/plain": [
       "set"
      ]
     },
     "execution_count": 5,
     "metadata": {},
     "output_type": "execute_result"
    }
   ],
   "source": [
    "type(A)"
   ]
  },
  {
   "cell_type": "code",
   "execution_count": 6,
   "metadata": {},
   "outputs": [
    {
     "data": {
      "text/plain": [
       "7"
      ]
     },
     "execution_count": 6,
     "metadata": {},
     "output_type": "execute_result"
    }
   ],
   "source": [
    "len(A)"
   ]
  },
  {
   "cell_type": "markdown",
   "metadata": {},
   "source": [
    "# Indexing "
   ]
  },
  {
   "cell_type": "code",
   "execution_count": 9,
   "metadata": {},
   "outputs": [
    {
     "ename": "TypeError",
     "evalue": "'set' object does not support indexing",
     "output_type": "error",
     "traceback": [
      "\u001b[1;31m---------------------------------------------------------------------------\u001b[0m",
      "\u001b[1;31mTypeError\u001b[0m                                 Traceback (most recent call last)",
      "\u001b[1;32m<ipython-input-9-782c0e2fe61c>\u001b[0m in \u001b[0;36m<module>\u001b[1;34m()\u001b[0m\n\u001b[1;32m----> 1\u001b[1;33m \u001b[0mA\u001b[0m\u001b[1;33m[\u001b[0m\u001b[1;36m0\u001b[0m\u001b[1;33m]\u001b[0m\u001b[1;33m\u001b[0m\u001b[0m\n\u001b[0m",
      "\u001b[1;31mTypeError\u001b[0m: 'set' object does not support indexing"
     ]
    }
   ],
   "source": [
    "A[0]"
   ]
  },
  {
   "cell_type": "code",
   "execution_count": 2,
   "metadata": {},
   "outputs": [
    {
     "data": {
      "text/plain": [
       "{1, 2, 3, 'Innomatics', 'Technology'}"
      ]
     },
     "execution_count": 2,
     "metadata": {},
     "output_type": "execute_result"
    }
   ],
   "source": [
    "B = {'Innomatics','Technology',1,2,3,3}\n",
    "B"
   ]
  },
  {
   "cell_type": "code",
   "execution_count": 4,
   "metadata": {},
   "outputs": [
    {
     "data": {
      "text/plain": [
       "set"
      ]
     },
     "execution_count": 4,
     "metadata": {},
     "output_type": "execute_result"
    }
   ],
   "source": [
    "type(B)"
   ]
  },
  {
   "cell_type": "code",
   "execution_count": 7,
   "metadata": {},
   "outputs": [
    {
     "data": {
      "text/plain": [
       "5"
      ]
     },
     "execution_count": 7,
     "metadata": {},
     "output_type": "execute_result"
    }
   ],
   "source": [
    "len(B)"
   ]
  },
  {
   "cell_type": "markdown",
   "metadata": {},
   "source": [
    "# Methods in Sets"
   ]
  },
  {
   "cell_type": "markdown",
   "metadata": {},
   "source": [
    "> - ## Add "
   ]
  },
  {
   "cell_type": "code",
   "execution_count": 10,
   "metadata": {},
   "outputs": [
    {
     "data": {
      "text/plain": [
       "{1, 2, 3, 5, 'Innomatics', 'Technology'}"
      ]
     },
     "execution_count": 10,
     "metadata": {},
     "output_type": "execute_result"
    }
   ],
   "source": [
    "B.add(5)\n",
    "B"
   ]
  },
  {
   "cell_type": "code",
   "execution_count": 13,
   "metadata": {},
   "outputs": [
    {
     "data": {
      "text/plain": [
       "{0, 1, 2, 3, 5, 'Innomatics', 'Technology'}"
      ]
     },
     "execution_count": 13,
     "metadata": {},
     "output_type": "execute_result"
    }
   ],
   "source": [
    "B.add(0)\n",
    "B"
   ]
  },
  {
   "cell_type": "code",
   "execution_count": 14,
   "metadata": {},
   "outputs": [
    {
     "data": {
      "text/plain": [
       "{0, 1, 2, 3, 5, 'Hub', 'Innomatics', 'Technology'}"
      ]
     },
     "execution_count": 14,
     "metadata": {},
     "output_type": "execute_result"
    }
   ],
   "source": [
    "B.add('Hub')\n",
    "B"
   ]
  },
  {
   "cell_type": "code",
   "execution_count": 15,
   "metadata": {},
   "outputs": [],
   "source": [
    "B.add('ZERO')"
   ]
  },
  {
   "cell_type": "code",
   "execution_count": 16,
   "metadata": {},
   "outputs": [
    {
     "data": {
      "text/plain": [
       "{0, 1, 2, 3, 5, 'Hub', 'Innomatics', 'Technology', 'ZERO'}"
      ]
     },
     "execution_count": 16,
     "metadata": {},
     "output_type": "execute_result"
    }
   ],
   "source": [
    "B"
   ]
  },
  {
   "cell_type": "markdown",
   "metadata": {},
   "source": [
    "## Common elements in both set A, B: A intersection B"
   ]
  },
  {
   "cell_type": "code",
   "execution_count": 17,
   "metadata": {},
   "outputs": [
    {
     "data": {
      "text/plain": [
       "{1, 2, 5, 10, 55, 60, 80}"
      ]
     },
     "execution_count": 17,
     "metadata": {},
     "output_type": "execute_result"
    }
   ],
   "source": [
    "A"
   ]
  },
  {
   "cell_type": "code",
   "execution_count": 18,
   "metadata": {},
   "outputs": [
    {
     "data": {
      "text/plain": [
       "{0, 1, 2, 3, 5, 'Hub', 'Innomatics', 'Technology', 'ZERO'}"
      ]
     },
     "execution_count": 18,
     "metadata": {},
     "output_type": "execute_result"
    }
   ],
   "source": [
    "B"
   ]
  },
  {
   "cell_type": "code",
   "execution_count": 5,
   "metadata": {},
   "outputs": [
    {
     "data": {
      "text/plain": [
       "{1, 2, 5}"
      ]
     },
     "execution_count": 5,
     "metadata": {},
     "output_type": "execute_result"
    }
   ],
   "source": [
    "\n",
    "A.intersection(B)"
   ]
  },
  {
   "cell_type": "markdown",
   "metadata": {},
   "source": [
    "## Elements present in A not in B : A- B"
   ]
  },
  {
   "cell_type": "code",
   "execution_count": 6,
   "metadata": {},
   "outputs": [
    {
     "data": {
      "text/plain": [
       "{10, 55, 60, 80}"
      ]
     },
     "execution_count": 6,
     "metadata": {},
     "output_type": "execute_result"
    }
   ],
   "source": [
    "\n",
    "A -B"
   ]
  },
  {
   "cell_type": "code",
   "execution_count": 7,
   "metadata": {},
   "outputs": [
    {
     "data": {
      "text/plain": [
       "{3, 'Innomatics', 'Technology'}"
      ]
     },
     "execution_count": 7,
     "metadata": {},
     "output_type": "execute_result"
    }
   ],
   "source": [
    "B - A"
   ]
  },
  {
   "cell_type": "code",
   "execution_count": 8,
   "metadata": {},
   "outputs": [
    {
     "data": {
      "text/plain": [
       "{1, 10, 2, 3, 5, 55, 60, 80, 'Innomatics', 'Technology'}"
      ]
     },
     "execution_count": 8,
     "metadata": {},
     "output_type": "execute_result"
    }
   ],
   "source": [
    "A.union(B)"
   ]
  },
  {
   "cell_type": "code",
   "execution_count": 1,
   "metadata": {
    "collapsed": true
   },
   "outputs": [],
   "source": [
    "#\n",
    "para1 = \"\"\"\n",
    "It all started with ABC, a wonderful teaching language that I had helped create in the early eighties. It was an incredibly elegant and powerful language, aimed at non-professional programmers. Despite all its elegance and power and the availability of a free implementation, ABC never became popular in the Unix/C world. I can only speculate about the reasons, but here's a likely one: the difficulty of adding new \"primitive\" operations to ABC. It was a monolithic, \"closed system\", with only the most basic I/O operations: read a string from the console, write a string to the console. I decided not repeat this mistake in Python.\n",
    "\"\"\"\n",
    "\n",
    "para2 = \"\"\"\n",
    "Besides this intention, I had a number of other ideas for improvement over ABC, and was eager to try them out. For instance, ABC's powerful data types turned out to be less efficient than we hoped. There was too much emphasis on theoretically optimal algorithms, and not enough tuning for common cases. I also felt that some of ABC's features, aimed at novice programmers, were less desirable for the (then!) intended audience of experienced Unix/C programmers. For instance: ABC's ideosyncratic syntax (all uppercase keywords!); some terminology (e.g. \"how-to\" instead of \"procedure\"); and the integrated structured editor, which its users almost universally hated. Python would rely more on the Unix infrastructure and conventions, without being Unix-bound. And in fact, the first implementation was done on a Mac.\n",
    "\"\"\""
   ]
  },
  {
   "cell_type": "code",
   "execution_count": 2,
   "metadata": {},
   "outputs": [
    {
     "data": {
      "text/plain": [
       "'\\nIt all started with ABC, a wonderful teaching language that I had helped create in the early eighties. It was an incredibly elegant and powerful language, aimed at non-professional programmers. Despite all its elegance and power and the availability of a free implementation, ABC never became popular in the Unix/C world. I can only speculate about the reasons, but here\\'s a likely one: the difficulty of adding new \"primitive\" operations to ABC. It was a monolithic, \"closed system\", with only the most basic I/O operations: read a string from the console, write a string to the console. I decided not repeat this mistake in Python.\\n'"
      ]
     },
     "execution_count": 2,
     "metadata": {},
     "output_type": "execute_result"
    }
   ],
   "source": [
    "para1"
   ]
  },
  {
   "cell_type": "code",
   "execution_count": 3,
   "metadata": {},
   "outputs": [
    {
     "data": {
      "text/plain": [
       "'\\nBesides this intention, I had a number of other ideas for improvement over ABC, and was eager to try them out. For instance, ABC\\'s powerful data types turned out to be less efficient than we hoped. There was too much emphasis on theoretically optimal algorithms, and not enough tuning for common cases. I also felt that some of ABC\\'s features, aimed at novice programmers, were less desirable for the (then!) intended audience of experienced Unix/C programmers. For instance: ABC\\'s ideosyncratic syntax (all uppercase keywords!); some terminology (e.g. \"how-to\" instead of \"procedure\"); and the integrated structured editor, which its users almost universally hated. Python would rely more on the Unix infrastructure and conventions, without being Unix-bound. And in fact, the first implementation was done on a Mac.\\n'"
      ]
     },
     "execution_count": 3,
     "metadata": {},
     "output_type": "execute_result"
    }
   ],
   "source": [
    "para2"
   ]
  },
  {
   "cell_type": "markdown",
   "metadata": {},
   "source": [
    "- Find unqiue words in para1\n",
    "- find unique words in para2\n",
    "- find lexical diversity of para1\n",
    "- find lexical diversity of para2\n",
    "- find common wordsin para1 and para2\n",
    "- find words in para1 that not present in para2\n",
    "- find words in para2 that not present para1\n",
    "- list of all words in para1 and para2"
   ]
  },
  {
   "cell_type": "code",
   "execution_count": 6,
   "metadata": {
    "collapsed": true
   },
   "outputs": [],
   "source": [
    "# REMOVING \\n\n",
    "text1 = para1.lower()\n",
    "text1 = text1.replace('\\n','')\n",
    "text1 = text1.replace(',','')\n",
    "text1 = text1.replace(':','')\n",
    "text1 = text1.replace('\"','')\n",
    "text1 = text1.replace('.','')\n",
    "text1 = text1.replace('/','')\n",
    "\n",
    "\n",
    "# REMOVING \\n\n",
    "text2 = para2.lower()\n",
    "text2 = text2.replace('\\n','')\n",
    "text2 = text2.replace(',','')\n",
    "text2 = text2.replace(':','')\n",
    "text2 = text2.replace('\"','')\n",
    "text2 = text2.replace('.','')\n",
    "text2 = text2.replace('/','')\n"
   ]
  },
  {
   "cell_type": "code",
   "execution_count": 11,
   "metadata": {},
   "outputs": [
    {
     "name": "stdout",
     "output_type": "stream",
     "text": [
      "{'elegance', 'console', 'early', 'powerful', 'one', 'its', 'eighties', 'popular', 'world', \"here's\", 'closed', 'difficulty', 'of', 'likely', 'adding', 'unixc', 'primitive', 'in', 'power', 'system', 'a', 'this', 'decided', 'incredibly', 'non-professional', 'with', 'never', 'only', 'to', 'monolithic', 'not', 'programmers', 'despite', 'about', 'availability', 'reasons', 'speculate', 'teaching', 'and', 'at', 'it', 'all', 'most', 'implementation', 'had', 'string', 'aimed', 'create', 'became', 'elegant', 'operations', 'write', 'but', 'the', 'language', 'new', 'io', 'from', 'helped', 'wonderful', 'abc', 'i', 'can', 'read', 'python', 'free', 'basic', 'repeat', 'was', 'started', 'an', 'that', 'mistake'}\n"
     ]
    }
   ],
   "source": [
    "#Find unqiue words in para1\n",
    "words1 = text1.split()\n",
    "unq_words1 = set(words1)\n",
    "print(unq_words1)"
   ]
  },
  {
   "cell_type": "code",
   "execution_count": 14,
   "metadata": {},
   "outputs": [
    {
     "name": "stdout",
     "output_type": "stream",
     "text": [
      "['besides', 'this', 'intention', 'i', 'had', 'a', 'number', 'of', 'other', 'ideas', 'for', 'improvement', 'over', 'abc', 'and', 'was', 'eager', 'to', 'try', 'them', 'out', 'for', 'instance', \"abc's\", 'powerful', 'data', 'types', 'turned', 'out', 'to', 'be', 'less', 'efficient', 'than', 'we', 'hoped', 'there', 'was', 'too', 'much', 'emphasis', 'on', 'theoretically', 'optimal', 'algorithms', 'and', 'not', 'enough', 'tuning', 'for', 'common', 'cases', 'i', 'also', 'felt', 'that', 'some', 'of', \"abc's\", 'features', 'aimed', 'at', 'novice', 'programmers', 'were', 'less', 'desirable', 'for', 'the', '(then!)', 'intended', 'audience', 'of', 'experienced', 'unixc', 'programmers', 'for', 'instance', \"abc's\", 'ideosyncratic', 'syntax', '(all', 'uppercase', 'keywords!);', 'some', 'terminology', '(eg', 'how-to', 'instead', 'of', 'procedure);', 'and', 'the', 'integrated', 'structured', 'editor', 'which', 'its', 'users', 'almost', 'universally', 'hated', 'python', 'would', 'rely', 'more', 'on', 'the', 'unix', 'infrastructure', 'and', 'conventions', 'without', 'being', 'unix-bound', 'and', 'in', 'fact', 'the', 'first', 'implementation', 'was', 'done', 'on', 'a', 'mac']\n"
     ]
    }
   ],
   "source": [
    "#Find unqiue words in para2\n",
    "words2 = text2.split()\n",
    "print(words2)"
   ]
  },
  {
   "cell_type": "code",
   "execution_count": 15,
   "metadata": {},
   "outputs": [
    {
     "name": "stdout",
     "output_type": "stream",
     "text": [
      "{'we', 'powerful', 'mac', 'its', 'of', 'a', 'try', 'tuning', 'be', 'ideas', '(then!)', 'ideosyncratic', 'features', 'abc', 'syntax', 'turned', 'optimal', 'would', 'also', 'instead', 'besides', 'this', 'were', 'than', 'eager', 'too', 'not', 'there', 'programmers', 'data', 'algorithms', 'more', 'hoped', 'how-to', 'had', 'aimed', 'them', 'procedure);', 'the', 'improvement', 'universally', 'cases', 'other', '(all', 'for', 'done', 'unix', '(eg', 'desirable', 'fact', 'in', 'experienced', 'instance', 'audience', 'emphasis', 'unix-bound', 'much', 'felt', 'which', 'being', 'common', 'over', 'keywords!);', 'i', 'on', 'efficient', 'hated', 'to', 'at', 'types', 'structured', 'enough', 'novice', 'terminology', 'uppercase', 'intended', 'unixc', \"abc's\", 'without', 'number', 'almost', 'rely', 'integrated', 'and', 'implementation', 'less', 'editor', 'theoretically', 'out', 'conventions', 'some', 'first', 'python', 'infrastructure', 'intention', 'was', 'users', 'that'}\n"
     ]
    }
   ],
   "source": [
    "unq_words2 = set(words2)\n",
    "print(unq_words2)"
   ]
  },
  {
   "cell_type": "markdown",
   "metadata": {},
   "source": [
    "- find lexical diversity of para1\n",
    "- find lexical diversity of para2\n",
    "\n",
    "> Lexical Diversity = No. of words / No. of unique words"
   ]
  },
  {
   "cell_type": "code",
   "execution_count": 16,
   "metadata": {},
   "outputs": [
    {
     "name": "stdout",
     "output_type": "stream",
     "text": [
      "Lexical Diversity of para1 is :  1.4383561643835616\n"
     ]
    }
   ],
   "source": [
    "ld1 = len(words1)/len(unq_words1)\n",
    "print('Lexical Diversity of para1 is : ',ld1)"
   ]
  },
  {
   "cell_type": "code",
   "execution_count": 17,
   "metadata": {},
   "outputs": [
    {
     "name": "stdout",
     "output_type": "stream",
     "text": [
      "Lexical Diversity of para2 is :  1.2857142857142858\n"
     ]
    }
   ],
   "source": [
    "ld1 = len(words2)/len(unq_words2)\n",
    "print('Lexical Diversity of para2 is : ',ld1)"
   ]
  },
  {
   "cell_type": "markdown",
   "metadata": {},
   "source": [
    "- find common words in para1 and para2\n",
    "> intersection"
   ]
  },
  {
   "cell_type": "code",
   "execution_count": 18,
   "metadata": {},
   "outputs": [
    {
     "name": "stdout",
     "output_type": "stream",
     "text": [
      "Common words in para1 and para2 is : \n",
      "{'powerful', 'its', 'of', 'unixc', 'this', 'in', 'a', 'not', 'programmers', 'and', 'at', 'implementation', 'had', 'aimed', 'the', 'abc', 'i', 'python', 'was', 'to', 'that'}\n"
     ]
    }
   ],
   "source": [
    "print('Common words in para1 and para2 is : ')\n",
    "print(unq_words1.intersection(unq_words2)) # common words in para1 and para2"
   ]
  },
  {
   "cell_type": "code",
   "execution_count": 19,
   "metadata": {},
   "outputs": [
    {
     "name": "stdout",
     "output_type": "stream",
     "text": [
      "Words present in para1 but not in para2 : \n",
      "{'elegance', 'console', 'early', 'one', 'eighties', 'popular', 'world', \"here's\", 'closed', 'difficulty', 'likely', 'adding', 'primitive', 'system', 'power', 'decided', 'incredibly', 'with', 'only', 'monolithic', 'despite', 'about', 'availability', 'reasons', 'started', 'speculate', 'teaching', 'most', 'it', 'all', 'string', 'write', 'create', 'became', 'elegant', 'operations', 'but', 'language', 'new', 'io', 'from', 'helped', 'wonderful', 'can', 'read', 'free', 'basic', 'repeat', 'non-professional', 'an', 'never', 'mistake'}\n"
     ]
    }
   ],
   "source": [
    "print('Words present in para1 but not in para2 : ')\n",
    "print(unq_words1 - unq_words2) # para1 - para2"
   ]
  },
  {
   "cell_type": "code",
   "execution_count": 20,
   "metadata": {},
   "outputs": [
    {
     "name": "stdout",
     "output_type": "stream",
     "text": [
      "Words present in para2 but not in para1 : \n",
      "{'we', 'types', 'structured', 'unix', 'enough', 'mac', '(eg', 'novice', 'also', 'terminology', 'desirable', 'instead', 'uppercase', 'besides', 'fact', 'intended', 'experienced', \"abc's\", 'were', 'without', 'than', 'eager', 'too', 'instance', 'there', 'audience', 'number', 'tuning', 'try', 'emphasis', 'data', 'algorithms', 'unix-bound', 'be', 'more', 'hoped', 'almost', 'rely', 'ideas', '(then!)', 'much', 'felt', 'which', 'being', 'integrated', 'how-to', 'ideosyncratic', 'them', 'procedure);', 'common', 'less', 'editor', 'theoretically', 'over', 'features', 'improvement', 'keywords!);', 'universally', 'out', 'cases', 'conventions', 'other', 'some', 'first', 'syntax', '(all', 'on', 'for', 'done', 'efficient', 'turned', 'infrastructure', 'optimal', 'intention', 'hated', 'users', 'would'}\n"
     ]
    }
   ],
   "source": [
    "print('Words present in para2 but not in para1 : ')\n",
    "print(unq_words2 - unq_words1) # para2 - para1"
   ]
  },
  {
   "cell_type": "code",
   "execution_count": 22,
   "metadata": {},
   "outputs": [
    {
     "name": "stdout",
     "output_type": "stream",
     "text": [
      "list of all words in para1 and para2 : \n",
      "['elegance', 'console', 'we', 'early', 'powerful', 'mac', 'its', \"here's\", 'of', 'likely', 'adding', 'system', 'a', 'decided', 'incredibly', 'only', 'monolithic', 'try', 'tuning', 'be', 'ideas', 'most', '(then!)', 'ideosyncratic', 'but', 'io', 'features', 'from', 'abc', 'read', 'syntax', 'basic', 'turned', 'optimal', 'non-professional', 'would', 'eighties', 'also', 'instead', 'besides', 'this', 'were', 'than', 'eager', 'too', 'never', 'not', 'there', 'programmers', 'data', 'algorithms', 'more', 'hoped', 'how-to', 'had', 'aimed', 'create', 'became', 'operations', 'them', 'procedure);', 'the', 'language', 'new', 'improvement', 'helped', 'wonderful', 'universally', 'cases', 'can', 'other', '(all', 'for', 'done', 'an', 'one', 'unix', '(eg', 'world', 'closed', 'difficulty', 'desirable', 'fact', 'in', 'experienced', 'instance', 'audience', 'emphasis', 'unix-bound', 'speculate', 'teaching', 'much', 'felt', 'it', 'all', 'which', 'being', 'string', 'common', 'over', 'keywords!);', 'i', 'on', 'repeat', 'efficient', 'started', 'hated', 'to', 'at', 'mistake', 'types', 'structured', 'enough', 'popular', 'novice', 'terminology', 'uppercase', 'intended', 'unixc', 'primitive', 'power', \"abc's\", 'without', 'with', 'number', 'despite', 'about', 'availability', 'almost', 'reasons', 'rely', 'integrated', 'and', 'implementation', 'write', 'elegant', 'less', 'editor', 'theoretically', 'out', 'conventions', 'some', 'first', 'python', 'free', 'infrastructure', 'intention', 'was', 'users', 'that']\n"
     ]
    }
   ],
   "source": [
    "print('list of all words in para1 and para2 : ')\n",
    "print(list(unq_words1.union(unq_words2)))"
   ]
  },
  {
   "cell_type": "code",
   "execution_count": null,
   "metadata": {
    "collapsed": true
   },
   "outputs": [],
   "source": []
  }
 ],
 "metadata": {
  "kernelspec": {
   "display_name": "Python 3",
   "language": "python",
   "name": "python3"
  },
  "language_info": {
   "codemirror_mode": {
    "name": "ipython",
    "version": 3
   },
   "file_extension": ".py",
   "mimetype": "text/x-python",
   "name": "python",
   "nbconvert_exporter": "python",
   "pygments_lexer": "ipython3",
   "version": "3.6.5"
  }
 },
 "nbformat": 4,
 "nbformat_minor": 2
}
