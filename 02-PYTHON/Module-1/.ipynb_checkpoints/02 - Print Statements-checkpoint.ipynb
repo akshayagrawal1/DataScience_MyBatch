{
 "cells": [
  {
   "cell_type": "markdown",
   "metadata": {},
   "source": [
    "[![innomatics_1.png](https://s22.postimg.cc/vh6rctfn5/innomatics_1.png)](https://www.innomatics.in/)"
   ]
  },
  {
   "cell_type": "markdown",
   "metadata": {},
   "source": [
    "# Print Statement"
   ]
  },
  {
   "cell_type": "markdown",
   "metadata": {},
   "source": [
    "1. Print \"Welcome to Innomatic Technology Hub\""
   ]
  },
  {
   "cell_type": "code",
   "execution_count": 3,
   "metadata": {},
   "outputs": [
    {
     "name": "stdout",
     "output_type": "stream",
     "text": [
      "Welcome to \"Innomatics Technology Hub\"\n"
     ]
    }
   ],
   "source": [
    "print(\"Welcome to \\\"Innomatics Technology Hub\\\"\") # can use either single or double quotes"
   ]
  },
  {
   "cell_type": "markdown",
   "metadata": {},
   "source": [
    "- \\n  new line\n",
    "- \\t  tab space"
   ]
  },
  {
   "cell_type": "code",
   "execution_count": 8,
   "metadata": {},
   "outputs": [
    {
     "name": "stdout",
     "output_type": "stream",
     "text": [
      "Innomatics\n",
      " Technology \t\t Hub\n"
     ]
    }
   ],
   "source": [
    "print('Innomatics\\n Technology \\t\\t Hub')"
   ]
  },
  {
   "cell_type": "code",
   "execution_count": 16,
   "metadata": {},
   "outputs": [
    {
     "name": "stdout",
     "output_type": "stream",
     "text": [
      "Innomatics Technology Hub\n",
      " \t\tFor Data Science\n",
      "Innomatics Technology Hub \n",
      " \t\t For Data Science\n"
     ]
    }
   ],
   "source": [
    "var1 = 'Innomatics'\n",
    "var2 = 'Technology Hub'\n",
    "Var3 = 'For Data Science'\n",
    "print(var1+' '+var2+'\\n \\t\\t'+Var3)\n",
    "\n",
    "print(var1,var2,'\\n \\t\\t',Var3)"
   ]
  },
  {
   "cell_type": "code",
   "execution_count": 20,
   "metadata": {},
   "outputs": [
    {
     "name": "stdout",
     "output_type": "stream",
     "text": [
      "In Data Science you will learning: \n",
      "\tPython\n",
      "\tStatistics\n",
      "\tMachine Leanring\n",
      "\tDeep Learning\n"
     ]
    }
   ],
   "source": [
    "print(\"In Data Science you will learning: \\n\\tPython\\n\\tStatistics\\n\\tMachine Leanring\\n\\tDeep Learning\")"
   ]
  },
  {
   "cell_type": "code",
   "execution_count": 21,
   "metadata": {},
   "outputs": [
    {
     "name": "stdout",
     "output_type": "stream",
     "text": [
      "Addition of two numbers is : 5\n"
     ]
    }
   ],
   "source": [
    "a = 2\n",
    "b = 3\n",
    "c = a+b\n",
    "print('Addition of two numbers is :',c)"
   ]
  },
  {
   "cell_type": "code",
   "execution_count": 22,
   "metadata": {},
   "outputs": [],
   "source": [
    "def addition(a,b):\n",
    "    return a+b"
   ]
  },
  {
   "cell_type": "code",
   "execution_count": 23,
   "metadata": {},
   "outputs": [
    {
     "name": "stdout",
     "output_type": "stream",
     "text": [
      "Addition of two number is: 5\n"
     ]
    }
   ],
   "source": [
    "print('Addition of two number is:',addition(2,3))"
   ]
  },
  {
   "cell_type": "code",
   "execution_count": 24,
   "metadata": {},
   "outputs": [],
   "source": [
    "def subtraction(a,b):\n",
    "    return a-b"
   ]
  },
  {
   "cell_type": "code",
   "execution_count": 25,
   "metadata": {},
   "outputs": [],
   "source": [
    "def multiplication(a,b):\n",
    "    return a*b"
   ]
  },
  {
   "cell_type": "code",
   "execution_count": 26,
   "metadata": {},
   "outputs": [],
   "source": [
    "def division(a,b):\n",
    "    return a/b"
   ]
  },
  {
   "cell_type": "code",
   "execution_count": 28,
   "metadata": {},
   "outputs": [],
   "source": [
    "def power(a,power):\n",
    "    return a**power"
   ]
  },
  {
   "cell_type": "markdown",
   "metadata": {},
   "source": [
    "**inputs**"
   ]
  },
  {
   "cell_type": "code",
   "execution_count": 40,
   "metadata": {},
   "outputs": [
    {
     "name": "stdout",
     "output_type": "stream",
     "text": [
      "Please enter the value 0 -10: 5\n",
      "Please enter the value 0 -10: 5\n",
      "==============================\n",
      "Addition of 5 and 5 is : 10\n"
     ]
    }
   ],
   "source": [
    "a = int(input('Please enter the value 0 -10: '))\n",
    "b = int(input('Please enter the value 0 -10: '))\n",
    "print('='*30)\n",
    "\n",
    "print('Addition of {} and {} is : {}'.format(a,b,addition(a,b)))"
   ]
  },
  {
   "cell_type": "markdown",
   "metadata": {},
   "source": [
    "# [Innomatics Technological Hub](https:/innomatics.in/)\n",
    "[www.innomatics.in](https:/innomatics.in/)"
   ]
  }
 ],
 "metadata": {
  "kernelspec": {
   "display_name": "Python 3",
   "language": "python",
   "name": "python3"
  },
  "language_info": {
   "codemirror_mode": {
    "name": "ipython",
    "version": 3
   },
   "file_extension": ".py",
   "mimetype": "text/x-python",
   "name": "python",
   "nbconvert_exporter": "python",
   "pygments_lexer": "ipython3",
   "version": "3.6.4"
  }
 },
 "nbformat": 4,
 "nbformat_minor": 2
}
