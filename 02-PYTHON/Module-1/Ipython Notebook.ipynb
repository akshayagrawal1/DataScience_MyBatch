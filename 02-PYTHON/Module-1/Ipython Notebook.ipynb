{
 "cells": [
  {
   "cell_type": "code",
   "execution_count": 2,
   "metadata": {},
   "outputs": [
    {
     "name": "stdout",
     "output_type": "stream",
     "text": [
      "Hello, welcome to python programming\n"
     ]
    }
   ],
   "source": [
    "print('Hello, welcome to python programming')\n",
    "# shift + enter to execute"
   ]
  },
  {
   "cell_type": "markdown",
   "metadata": {},
   "source": [
    "# Python\n",
    "**Python** can be easy to pick up whether you're a first time programmer or you're experienced with other languages. The following pages are a useful first step to get on your way writing programs with Python!\n",
    "\n",
    "- **Beginner's Guide, Programmers**\n",
    "- *Beginner's Guide, Non-Programmers*\n",
    "- ***Beginner's Guide, Download & Installation***\n",
    "- ~~Code sample and snippets for Beginners~~"
   ]
  },
  {
   "cell_type": "markdown",
   "metadata": {},
   "source": [
    "### Reference Website\n",
    "- [Google](https://www.google.com)\n",
    "- [StackOverFlow](https://stackoverflow.com)\n",
    "- [Raghu](https://www.innomatics.in)"
   ]
  },
  {
   "cell_type": "markdown",
   "metadata": {},
   "source": [
    "![raghu](machinelearning.jpg)"
   ]
  },
  {
   "cell_type": "code",
   "execution_count": null,
   "metadata": {},
   "outputs": [],
   "source": []
  }
 ],
 "metadata": {
  "kernelspec": {
   "display_name": "Python 3",
   "language": "python",
   "name": "python3"
  },
  "language_info": {
   "codemirror_mode": {
    "name": "ipython",
    "version": 3
   },
   "file_extension": ".py",
   "mimetype": "text/x-python",
   "name": "python",
   "nbconvert_exporter": "python",
   "pygments_lexer": "ipython3",
   "version": "3.6.4"
  }
 },
 "nbformat": 4,
 "nbformat_minor": 2
}
