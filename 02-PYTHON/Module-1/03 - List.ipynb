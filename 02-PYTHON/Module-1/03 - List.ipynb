{
 "cells": [
  {
   "cell_type": "markdown",
   "metadata": {},
   "source": [
    "# List\n",
    "- It is a sequence and collection of different data types\n",
    "- It is mutable (Changeable)"
   ]
  },
  {
   "cell_type": "markdown",
   "metadata": {},
   "source": [
    " Denoted by    `[ ]`"
   ]
  },
  {
   "cell_type": "code",
   "execution_count": 10,
   "metadata": {
    "collapsed": true
   },
   "outputs": [],
   "source": [
    "text1 = 'A B C D E F'\n",
    "text2 = 'ABCDEF'"
   ]
  },
  {
   "cell_type": "code",
   "execution_count": 11,
   "metadata": {},
   "outputs": [
    {
     "data": {
      "text/plain": [
       "str"
      ]
     },
     "execution_count": 11,
     "metadata": {},
     "output_type": "execute_result"
    }
   ],
   "source": [
    "type(text1)"
   ]
  },
  {
   "cell_type": "code",
   "execution_count": 12,
   "metadata": {},
   "outputs": [
    {
     "data": {
      "text/plain": [
       "str"
      ]
     },
     "execution_count": 12,
     "metadata": {},
     "output_type": "execute_result"
    }
   ],
   "source": [
    "type(text2)"
   ]
  },
  {
   "cell_type": "markdown",
   "metadata": {},
   "source": [
    "# converting string to List    Method 1"
   ]
  },
  {
   "cell_type": "code",
   "execution_count": 13,
   "metadata": {},
   "outputs": [
    {
     "data": {
      "text/plain": [
       "['A', 'B', 'C', 'D', 'E', 'F']"
      ]
     },
     "execution_count": 13,
     "metadata": {},
     "output_type": "execute_result"
    }
   ],
   "source": [
    "# string to list\n",
    "text1.split()"
   ]
  },
  {
   "cell_type": "code",
   "execution_count": 14,
   "metadata": {},
   "outputs": [
    {
     "data": {
      "text/plain": [
       "['ABCDEF']"
      ]
     },
     "execution_count": 14,
     "metadata": {},
     "output_type": "execute_result"
    }
   ],
   "source": [
    "text2.split()"
   ]
  },
  {
   "cell_type": "code",
   "execution_count": 15,
   "metadata": {},
   "outputs": [
    {
     "data": {
      "text/plain": [
       "['AB', 'DEF']"
      ]
     },
     "execution_count": 15,
     "metadata": {},
     "output_type": "execute_result"
    }
   ],
   "source": [
    "text2.split('C')"
   ]
  },
  {
   "cell_type": "markdown",
   "metadata": {},
   "source": [
    "# `list` ()  # Method 2"
   ]
  },
  {
   "cell_type": "code",
   "execution_count": 16,
   "metadata": {},
   "outputs": [
    {
     "data": {
      "text/plain": [
       "'ABCDEF'"
      ]
     },
     "execution_count": 16,
     "metadata": {},
     "output_type": "execute_result"
    }
   ],
   "source": [
    "text2"
   ]
  },
  {
   "cell_type": "code",
   "execution_count": 17,
   "metadata": {},
   "outputs": [
    {
     "data": {
      "text/plain": [
       "['A', 'B', 'C', 'D', 'E', 'F']"
      ]
     },
     "execution_count": 17,
     "metadata": {},
     "output_type": "execute_result"
    }
   ],
   "source": [
    "list(text2)"
   ]
  },
  {
   "cell_type": "code",
   "execution_count": 18,
   "metadata": {},
   "outputs": [
    {
     "data": {
      "text/plain": [
       "'A B C D E F'"
      ]
     },
     "execution_count": 18,
     "metadata": {},
     "output_type": "execute_result"
    }
   ],
   "source": [
    "text1"
   ]
  },
  {
   "cell_type": "code",
   "execution_count": 19,
   "metadata": {},
   "outputs": [
    {
     "data": {
      "text/plain": [
       "['A', ' ', 'B', ' ', 'C', ' ', 'D', ' ', 'E', ' ', 'F']"
      ]
     },
     "execution_count": 19,
     "metadata": {},
     "output_type": "execute_result"
    }
   ],
   "source": [
    "list(text1)"
   ]
  },
  {
   "cell_type": "markdown",
   "metadata": {},
   "source": [
    "# create a list using [ ]"
   ]
  },
  {
   "cell_type": "code",
   "execution_count": 1,
   "metadata": {},
   "outputs": [
    {
     "data": {
      "text/plain": [
       "['Innomatics', 'Technology', 'Hub', 1, 2, 3, 5.5, True, False]"
      ]
     },
     "execution_count": 1,
     "metadata": {},
     "output_type": "execute_result"
    }
   ],
   "source": [
    "# [ ]\n",
    "my_list = ['Innomatics','Technology','Hub',1,2,3,5.5,True,False]\n",
    "my_list"
   ]
  },
  {
   "cell_type": "code",
   "execution_count": 3,
   "metadata": {},
   "outputs": [
    {
     "data": {
      "text/plain": [
       "['Innomatics', 'Technology', 'Hub', 1, 2, 3, 5.5, True, False]"
      ]
     },
     "execution_count": 3,
     "metadata": {},
     "output_type": "execute_result"
    }
   ],
   "source": [
    "my_list"
   ]
  },
  {
   "cell_type": "markdown",
   "metadata": {},
   "source": [
    "# Indexing\n",
    "- print 1st element\n",
    "- print last element\n",
    "- print 1st three elements\n",
    "- print last three elements\n",
    "- print alternate elements starting with Innomatics\n",
    "- print alternate elements starting with Technology\n",
    "- print my_list reverse order"
   ]
  },
  {
   "cell_type": "code",
   "execution_count": 21,
   "metadata": {},
   "outputs": [
    {
     "name": "stdout",
     "output_type": "stream",
     "text": [
      "====================\n",
      "1st element:  Innomatics\n",
      "====================\n",
      "====================\n",
      "last element:  False\n",
      "====================\n",
      "====================\n",
      "1st three elements:  ['Innomatics', 'Technology', 'Hub']\n",
      "====================\n",
      "====================\n",
      "last three elements:  [5.5, True, False]\n",
      "====================\n",
      "====================\n",
      "alternate elements: ['Innomatics', 'Hub', 2, 5.5, False]\n",
      "====================\n",
      "====================\n",
      "alternate elements technology: ['Technology', 1, 3, True]\n",
      "====================\n",
      "====================\n",
      "Reverse order: [False, True, 5.5, 3, 2, 1, 'Hub', 'Technology', 'Innomatics']\n",
      "====================\n"
     ]
    }
   ],
   "source": [
    "# 1st element\n",
    "print('='*20)\n",
    "print('1st element: ',my_list[0])\n",
    "print('='*20)\n",
    "# last element\n",
    "print('='*20)\n",
    "print('last element: ',my_list[-1])\n",
    "print('='*20)\n",
    "# 1st three elements\n",
    "print('='*20)\n",
    "print('1st three elements: ',my_list[0:3]) # :3 , :3:1, 0:3:1\n",
    "print('='*20)\n",
    "# last three elements\n",
    "print('='*20)\n",
    "print('last three elements: ',my_list[-3:]) #  \n",
    "print('='*20)\n",
    "# alternate elements\n",
    "print('='*20)\n",
    "print('alternate elements: {}'.format(my_list[0::2])) # ::2, 0:len(my_list):2  \n",
    "print('='*20)\n",
    "# alternate elements\n",
    "print('='*20)\n",
    "print('alternate elements technology: %s'% my_list[1::2]) #  \n",
    "print('='*20)\n",
    "# Reverse order\n",
    "print('='*20)\n",
    "print('Reverse order: %s'% my_list[::-1]) #  \n",
    "print('='*20)\n"
   ]
  },
  {
   "cell_type": "code",
   "execution_count": 22,
   "metadata": {},
   "outputs": [
    {
     "data": {
      "text/plain": [
       "['Innomatics', 'Technology', 'Hub', 1, 2, 3, 5.5, True, False]"
      ]
     },
     "execution_count": 22,
     "metadata": {},
     "output_type": "execute_result"
    }
   ],
   "source": [
    "my_list[0:]"
   ]
  },
  {
   "cell_type": "code",
   "execution_count": 23,
   "metadata": {},
   "outputs": [
    {
     "data": {
      "text/plain": [
       "['Innomatics', 'Technology', 'Hub', 1, 2, 3, 5.5, True, False]"
      ]
     },
     "execution_count": 23,
     "metadata": {},
     "output_type": "execute_result"
    }
   ],
   "source": [
    "my_list[:]"
   ]
  },
  {
   "cell_type": "code",
   "execution_count": 24,
   "metadata": {},
   "outputs": [
    {
     "data": {
      "text/plain": [
       "[False]"
      ]
     },
     "execution_count": 24,
     "metadata": {},
     "output_type": "execute_result"
    }
   ],
   "source": [
    "my_list[-1:]"
   ]
  },
  {
   "cell_type": "code",
   "execution_count": 25,
   "metadata": {},
   "outputs": [
    {
     "data": {
      "text/plain": [
       "['Innomatics', 'Technology', 'Hub', 1, 2, 3, 5.5, True, False]"
      ]
     },
     "execution_count": 25,
     "metadata": {},
     "output_type": "execute_result"
    }
   ],
   "source": [
    "my_list[-9:]"
   ]
  },
  {
   "cell_type": "code",
   "execution_count": 26,
   "metadata": {},
   "outputs": [
    {
     "data": {
      "text/plain": [
       "['Innomatics', 'Technology', 'Hub', 1, 2, 3, 5.5]"
      ]
     },
     "execution_count": 26,
     "metadata": {},
     "output_type": "execute_result"
    }
   ],
   "source": [
    "my_list[:-2]"
   ]
  },
  {
   "cell_type": "markdown",
   "metadata": {},
   "source": [
    "# Methods"
   ]
  },
  {
   "cell_type": "code",
   "execution_count": 4,
   "metadata": {},
   "outputs": [
    {
     "data": {
      "text/plain": [
       "['Name', 'Place', 'Location', 'Time']"
      ]
     },
     "execution_count": 4,
     "metadata": {},
     "output_type": "execute_result"
    }
   ],
   "source": [
    "# Create a list 'Name' , 'Place', 'Location' , 'Time'\n",
    "details = ['Name','Place','Location','Time']\n",
    "details"
   ]
  },
  {
   "cell_type": "markdown",
   "metadata": {},
   "source": [
    "`append` : joining "
   ]
  },
  {
   "cell_type": "code",
   "execution_count": 28,
   "metadata": {},
   "outputs": [
    {
     "data": {
      "text/plain": [
       "['Name', 'Place', 'Location', 'Time', 'Srikanth']"
      ]
     },
     "execution_count": 28,
     "metadata": {},
     "output_type": "execute_result"
    }
   ],
   "source": [
    "# method 1 for appending\n",
    "details.append('Srikanth')\n",
    "details"
   ]
  },
  {
   "cell_type": "code",
   "execution_count": 7,
   "metadata": {},
   "outputs": [
    {
     "data": {
      "text/plain": [
       "['Name',\n",
       " 'Place',\n",
       " 'Location',\n",
       " 'Time',\n",
       " ['Raghu', 'Ram'],\n",
       " ['Raghu', 'Ram'],\n",
       " ['Raghu', 'Ram']]"
      ]
     },
     "execution_count": 7,
     "metadata": {},
     "output_type": "execute_result"
    }
   ],
   "source": [
    "details.append([\"Raghu\", \"Ram\"])\n",
    "details"
   ]
  },
  {
   "cell_type": "code",
   "execution_count": 50,
   "metadata": {},
   "outputs": [
    {
     "data": {
      "text/plain": [
       "['Name',\n",
       " 'Srikanth',\n",
       " 'Place',\n",
       " 'Hyderabad',\n",
       " 'Location',\n",
       " 'Nizampet',\n",
       " 'Time',\n",
       " '11.40',\n",
       " 'Hyd']"
      ]
     },
     "execution_count": 50,
     "metadata": {},
     "output_type": "execute_result"
    }
   ],
   "source": [
    "# Method2 '+'\n",
    "# In place of appeding we can use +\n",
    "details_1 = details + ['Hyd']\n",
    "details_1"
   ]
  },
  {
   "cell_type": "code",
   "execution_count": 30,
   "metadata": {},
   "outputs": [
    {
     "data": {
      "text/plain": [
       "['Name', 'Place', 'Location', 'Time', 'Srikanth']"
      ]
     },
     "execution_count": 30,
     "metadata": {},
     "output_type": "execute_result"
    }
   ],
   "source": [
    "details"
   ]
  },
  {
   "cell_type": "markdown",
   "metadata": {},
   "source": [
    "***Note: L.append() it will take only one argument or object or element*"
   ]
  },
  {
   "cell_type": "code",
   "execution_count": 31,
   "metadata": {
    "collapsed": true
   },
   "outputs": [],
   "source": [
    "# using append method, concatenate place location and Time\n",
    "details.append(['Hyderabad','Nizampet'])"
   ]
  },
  {
   "cell_type": "code",
   "execution_count": 32,
   "metadata": {},
   "outputs": [
    {
     "data": {
      "text/plain": [
       "['Name', 'Place', 'Location', 'Time', 'Srikanth', ['Hyderabad', 'Nizampet']]"
      ]
     },
     "execution_count": 32,
     "metadata": {},
     "output_type": "execute_result"
    }
   ],
   "source": [
    "details"
   ]
  },
  {
   "cell_type": "code",
   "execution_count": 33,
   "metadata": {},
   "outputs": [
    {
     "name": "stdout",
     "output_type": "stream",
     "text": [
      "['Name', 'Place', 'Location', 'Time', 'Srikanth', ['Hyderabad', 'Nizampet'], 'Hyderabad', 'Nizampet']\n"
     ]
    }
   ],
   "source": [
    "app = ['Hyderabad','Nizampet']\n",
    "for i in app:\n",
    "    details.append(i)\n",
    "print(details)"
   ]
  },
  {
   "cell_type": "code",
   "execution_count": 34,
   "metadata": {},
   "outputs": [
    {
     "name": "stdout",
     "output_type": "stream",
     "text": [
      "['Name', 'Place', 'Location', 'Time', 'Srikanth', ['Hyderabad', 'Nizampet'], 'Hyderabad', 'Nizampet', 'Hyderabad', 'Nizampet']\n"
     ]
    }
   ],
   "source": [
    "details.extend(['Hyderabad','Nizampet'])\n",
    "print(details)"
   ]
  },
  {
   "cell_type": "code",
   "execution_count": 35,
   "metadata": {},
   "outputs": [
    {
     "name": "stdout",
     "output_type": "stream",
     "text": [
      "['Name', 'Place', 'Location', 'Time', 'Srikanth', ['Hyderabad', 'Nizampet'], 'Hyderabad', 'Nizampet', 'Hyderabad', 'Nizampet', '11.30']\n"
     ]
    }
   ],
   "source": [
    "# \n",
    "details.append('11.30')\n",
    "print(details)"
   ]
  },
  {
   "cell_type": "code",
   "execution_count": 36,
   "metadata": {},
   "outputs": [
    {
     "data": {
      "text/plain": [
       "2"
      ]
     },
     "execution_count": 36,
     "metadata": {},
     "output_type": "execute_result"
    }
   ],
   "source": [
    "# \n",
    "details.count('Hyderabad')"
   ]
  },
  {
   "cell_type": "code",
   "execution_count": 37,
   "metadata": {},
   "outputs": [
    {
     "data": {
      "text/plain": [
       "8"
      ]
     },
     "execution_count": 37,
     "metadata": {},
     "output_type": "execute_result"
    }
   ],
   "source": [
    "details.index('Hyderabad',8)"
   ]
  },
  {
   "cell_type": "code",
   "execution_count": 38,
   "metadata": {},
   "outputs": [
    {
     "data": {
      "text/plain": [
       "'11.30'"
      ]
     },
     "execution_count": 38,
     "metadata": {},
     "output_type": "execute_result"
    }
   ],
   "source": [
    "# pop last in first out \n",
    "details.pop()# will remove last element"
   ]
  },
  {
   "cell_type": "code",
   "execution_count": 39,
   "metadata": {},
   "outputs": [
    {
     "name": "stdout",
     "output_type": "stream",
     "text": [
      "['Name', 'Place', 'Location', 'Time', 'Srikanth', ['Hyderabad', 'Nizampet'], 'Hyderabad', 'Nizampet', 'Hyderabad', 'Nizampet']\n"
     ]
    }
   ],
   "source": [
    "print(details)"
   ]
  },
  {
   "cell_type": "code",
   "execution_count": 40,
   "metadata": {},
   "outputs": [
    {
     "data": {
      "text/plain": [
       "['Hyderabad', 'Nizampet']"
      ]
     },
     "execution_count": 40,
     "metadata": {},
     "output_type": "execute_result"
    }
   ],
   "source": [
    "details.pop(5)# will remove last element"
   ]
  },
  {
   "cell_type": "code",
   "execution_count": 41,
   "metadata": {},
   "outputs": [
    {
     "name": "stdout",
     "output_type": "stream",
     "text": [
      "['Name', 'Place', 'Location', 'Time', 'Srikanth', 'Hyderabad', 'Nizampet', 'Hyderabad', 'Nizampet']\n"
     ]
    }
   ],
   "source": [
    "print(details)"
   ]
  },
  {
   "cell_type": "code",
   "execution_count": 42,
   "metadata": {},
   "outputs": [
    {
     "name": "stdout",
     "output_type": "stream",
     "text": [
      "['Name', 'Place', 'Location', 'Time', 'Srikanth', 'Nizampet', 'Hyderabad', 'Nizampet']\n"
     ]
    }
   ],
   "source": [
    "# remove\n",
    "details.remove('Hyderabad')\n",
    "print(details)"
   ]
  },
  {
   "cell_type": "code",
   "execution_count": 43,
   "metadata": {},
   "outputs": [
    {
     "name": "stdout",
     "output_type": "stream",
     "text": [
      "['Name', 'Place', 'Location', 'Time', '11.40', 'Srikanth', 'Nizampet', 'Hyderabad', 'Nizampet']\n"
     ]
    }
   ],
   "source": [
    "# insert\n",
    "lprint(details)"
   ]
  },
  {
   "cell_type": "code",
   "execution_count": 44,
   "metadata": {},
   "outputs": [
    {
     "name": "stdout",
     "output_type": "stream",
     "text": [
      "['Name', 'Place', 'Location', 'Time', '11.40', 'Srikanth', 'Nizampet', 'Hyderabad', 'Nizampet']\n"
     ]
    }
   ],
   "source": [
    "print(details)"
   ]
  },
  {
   "cell_type": "code",
   "execution_count": 45,
   "metadata": {
    "collapsed": true
   },
   "outputs": [],
   "source": [
    "# make use of above details list , write a program to insert\n",
    "# your name after 'Name' , place after 'Place' and so on "
   ]
  },
  {
   "cell_type": "code",
   "execution_count": 46,
   "metadata": {
    "collapsed": true
   },
   "outputs": [],
   "source": [
    "details.insert(1,details.pop(5))"
   ]
  },
  {
   "cell_type": "code",
   "execution_count": 47,
   "metadata": {},
   "outputs": [
    {
     "name": "stdout",
     "output_type": "stream",
     "text": [
      "['Name', 'Srikanth', 'Place', 'Location', 'Time', '11.40', 'Nizampet', 'Hyderabad', 'Nizampet']\n"
     ]
    }
   ],
   "source": [
    "print(details)"
   ]
  },
  {
   "cell_type": "code",
   "execution_count": 48,
   "metadata": {},
   "outputs": [
    {
     "data": {
      "text/plain": [
       "['Name',\n",
       " 'Srikanth',\n",
       " 'Place',\n",
       " 'Hyderabad',\n",
       " 'Location',\n",
       " 'Time',\n",
       " '11.40',\n",
       " 'Nizampet',\n",
       " 'Nizampet']"
      ]
     },
     "execution_count": 48,
     "metadata": {},
     "output_type": "execute_result"
    }
   ],
   "source": [
    "details.insert(3,details.pop(7))\n",
    "details"
   ]
  },
  {
   "cell_type": "code",
   "execution_count": 49,
   "metadata": {},
   "outputs": [
    {
     "name": "stdout",
     "output_type": "stream",
     "text": [
      "['Name', 'Srikanth', 'Place', 'Hyderabad', 'Location', 'Nizampet', 'Time', '11.40']\n"
     ]
    }
   ],
   "source": [
    "details.insert(5,details.pop())\n",
    "details.pop()\n",
    "print(details)"
   ]
  },
  {
   "cell_type": "code",
   "execution_count": null,
   "metadata": {
    "collapsed": true
   },
   "outputs": [],
   "source": []
  }
 ],
 "metadata": {
  "kernelspec": {
   "display_name": "Python 3",
   "language": "python",
   "name": "python3"
  },
  "language_info": {
   "codemirror_mode": {
    "name": "ipython",
    "version": 3
   },
   "file_extension": ".py",
   "mimetype": "text/x-python",
   "name": "python",
   "nbconvert_exporter": "python",
   "pygments_lexer": "ipython3",
   "version": "3.6.3"
  }
 },
 "nbformat": 4,
 "nbformat_minor": 2
}
