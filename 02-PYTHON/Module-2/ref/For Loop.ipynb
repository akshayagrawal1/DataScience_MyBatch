{
 "cells": [
  {
   "cell_type": "markdown",
   "metadata": {},
   "source": [
    "# for loops"
   ]
  },
  {
   "cell_type": "markdown",
   "metadata": {},
   "source": [
    "> Generators\n",
    "`range`"
   ]
  },
  {
   "cell_type": "code",
   "execution_count": 1,
   "metadata": {},
   "outputs": [
    {
     "data": {
      "text/plain": [
       "range(0, 10)"
      ]
     },
     "execution_count": 1,
     "metadata": {},
     "output_type": "execute_result"
    }
   ],
   "source": [
    "range(10)"
   ]
  },
  {
   "cell_type": "code",
   "execution_count": 2,
   "metadata": {},
   "outputs": [
    {
     "data": {
      "text/plain": [
       "[0, 1, 2, 3, 4, 5, 6, 7, 8, 9]"
      ]
     },
     "execution_count": 2,
     "metadata": {},
     "output_type": "execute_result"
    }
   ],
   "source": [
    "list(range(10))"
   ]
  },
  {
   "cell_type": "code",
   "execution_count": 3,
   "metadata": {},
   "outputs": [
    {
     "data": {
      "text/plain": [
       "[10, 12, 14, 16, 18]"
      ]
     },
     "execution_count": 3,
     "metadata": {},
     "output_type": "execute_result"
    }
   ],
   "source": [
    "list(range(10,20,2))"
   ]
  },
  {
   "cell_type": "markdown",
   "metadata": {},
   "source": [
    "- Create a list number from 100 to 200\n",
    "- create a list alternate number from 100 to 200\n",
    "- create a tuple number from 200 to 100"
   ]
  },
  {
   "cell_type": "code",
   "execution_count": 13,
   "metadata": {},
   "outputs": [
    {
     "name": "stdout",
     "output_type": "stream",
     "text": [
      "List of number from 100 to 200\n",
      "===============================================================================\n",
      "[100, 101, 102, 103, 104, 105, 106, 107, 108, 109, 110, 111, 112, 113, 114, 115, 116, 117, 118, 119, 120, 121, 122, 123, 124, 125, 126, 127, 128, 129, 130, 131, 132, 133, 134, 135, 136, 137, 138, 139, 140, 141, 142, 143, 144, 145, 146, 147, 148, 149, 150, 151, 152, 153, 154, 155, 156, 157, 158, 159, 160, 161, 162, 163, 164, 165, 166, 167, 168, 169, 170, 171, 172, 173, 174, 175, 176, 177, 178, 179, 180, 181, 182, 183, 184, 185, 186, 187, 188, 189, 190, 191, 192, 193, 194, 195, 196, 197, 198, 199]\n",
      "===============================================================================\n",
      "List of alternate from 100 to 200\n",
      "===============================================================================\n",
      "[100, 102, 104, 106, 108, 110, 112, 114, 116, 118, 120, 122, 124, 126, 128, 130, 132, 134, 136, 138, 140, 142, 144, 146, 148, 150, 152, 154, 156, 158, 160, 162, 164, 166, 168, 170, 172, 174, 176, 178, 180, 182, 184, 186, 188, 190, 192, 194, 196, 198]\n",
      "===============================================================================\n",
      "tuple from 200 to 100\n",
      "===============================================================================\n",
      "(200, 199, 198, 197, 196, 195, 194, 193, 192, 191, 190, 189, 188, 187, 186, 185, 184, 183, 182, 181, 180, 179, 178, 177, 176, 175, 174, 173, 172, 171, 170, 169, 168, 167, 166, 165, 164, 163, 162, 161, 160, 159, 158, 157, 156, 155, 154, 153, 152, 151, 150, 149, 148, 147, 146, 145, 144, 143, 142, 141, 140, 139, 138, 137, 136, 135, 134, 133, 132, 131, 130, 129, 128, 127, 126, 125, 124, 123, 122, 121, 120, 119, 118, 117, 116, 115, 114, 113, 112, 111, 110, 109, 108, 107, 106, 105, 104, 103, 102, 101)\n",
      "===============================================================================\n"
     ]
    }
   ],
   "source": [
    "# list of number from 100 - 200\n",
    "print('List of number from 100 to 200')\n",
    "print('='*79)\n",
    "print(list(range(100,200)))\n",
    "print('='*79)\n",
    "\n",
    "# list of alternate from 100 - 200\n",
    "print('List of alternate from 100 to 200')\n",
    "print('='*79)\n",
    "print(list(range(100,200,2)))\n",
    "print('='*79)\n",
    "\n",
    "\n",
    "# tuple from 200 - 100\n",
    "print('tuple from 200 to 100')\n",
    "print('='*79)\n",
    "print(tuple(range(200,100,-1)))\n",
    "print('='*79)"
   ]
  },
  {
   "cell_type": "code",
   "execution_count": 16,
   "metadata": {},
   "outputs": [
    {
     "name": "stdout",
     "output_type": "stream",
     "text": [
      "0 inside the loop\n",
      "1 inside the loop\n",
      "2 inside the loop\n",
      "3 inside the loop\n",
      "4 inside the loop\n",
      "5 inside the loop\n",
      "6 inside the loop\n",
      "7 inside the loop\n",
      "8 inside the loop\n",
      "9 inside the loop\n",
      "out of the loop\n"
     ]
    }
   ],
   "source": [
    "# for loop 10 iterations\n",
    "for i in range(10):\n",
    "    # indentation\n",
    "    print(i,'inside the loop')\n",
    "    # inside the loop\n",
    "    \n",
    "print('out of the loop')"
   ]
  },
  {
   "cell_type": "markdown",
   "metadata": {},
   "source": [
    "**Print your name 10 time using for loop**"
   ]
  },
  {
   "cell_type": "code",
   "execution_count": 17,
   "metadata": {},
   "outputs": [
    {
     "name": "stdout",
     "output_type": "stream",
     "text": [
      "10 Srikanth\n",
      "9 Srikanth\n",
      "8 Srikanth\n",
      "7 Srikanth\n",
      "6 Srikanth\n",
      "5 Srikanth\n",
      "4 Srikanth\n",
      "3 Srikanth\n",
      "2 Srikanth\n",
      "1 Srikanth\n"
     ]
    }
   ],
   "source": [
    "# for loop 10 iterations\n",
    "for i in range(10,0,-1):\n",
    "    # indentation\n",
    "    print(i,'Srikanth')\n",
    "    # inside the loop\n",
    "    \n",
    "# print('')"
   ]
  },
  {
   "cell_type": "code",
   "execution_count": 18,
   "metadata": {},
   "outputs": [
    {
     "name": "stdout",
     "output_type": "stream",
     "text": [
      "0 Innomatics\n",
      "1 Tech\n",
      "2 1\n",
      "3 2\n",
      "4 3\n"
     ]
    }
   ],
   "source": [
    "#  print value in below list using for loop\n",
    "my_list = ['Innomatics','Tech',1,2,3]\n",
    "\n",
    "iterate = len(my_list)\n",
    "for i in range(iterate):\n",
    "    print(i,my_list[i])"
   ]
  },
  {
   "cell_type": "code",
   "execution_count": 20,
   "metadata": {},
   "outputs": [
    {
     "name": "stdout",
     "output_type": "stream",
     "text": [
      "Innomatics\n",
      "Tech\n",
      "1\n",
      "2\n",
      "3\n"
     ]
    }
   ],
   "source": [
    "for i in my_list:\n",
    "    print(i)"
   ]
  },
  {
   "cell_type": "markdown",
   "metadata": {},
   "source": [
    "**Create a list 100 random number from 10 to 500**"
   ]
  },
  {
   "cell_type": "code",
   "execution_count": 23,
   "metadata": {},
   "outputs": [],
   "source": [
    "import random"
   ]
  },
  {
   "cell_type": "code",
   "execution_count": 29,
   "metadata": {},
   "outputs": [
    {
     "name": "stdout",
     "output_type": "stream",
     "text": [
      "[465, 132, 49, 72, 47, 230, 368, 85, 172, 44, 173, 155, 347, 371, 456, 189, 473, 248, 450, 482, 249, 274, 477, 498, 274, 150, 274, 83, 310, 212, 29, 125, 241, 160, 92, 476, 369, 152, 456, 130, 489, 427, 21, 24, 265, 61, 359, 477, 96, 155, 460, 271, 402, 184, 240, 16, 67, 327, 288, 127, 452, 414, 177, 326, 109, 348, 180, 451, 182, 399, 239, 255, 302, 363, 317, 335, 419, 151, 396, 146, 380, 421, 14, 360, 144, 221, 407, 226, 112, 108, 88, 221, 97, 152, 99, 54, 343, 483, 347, 189]\n"
     ]
    }
   ],
   "source": [
    "#\n",
    "rand = []\n",
    "for i in range(100):\n",
    "    rand.append(random.randint(10,500))\n",
    "print(rand)"
   ]
  },
  {
   "cell_type": "markdown",
   "metadata": {},
   "source": [
    "**Find odd list and even list**"
   ]
  },
  {
   "cell_type": "code",
   "execution_count": 36,
   "metadata": {},
   "outputs": [],
   "source": [
    "odd = []\n",
    "even = []\n",
    "for i in rand:\n",
    "    if i % 2 == 0:\n",
    "        even.append(i)\n",
    "    else:\n",
    "        odd.append(i)"
   ]
  },
  {
   "cell_type": "code",
   "execution_count": 34,
   "metadata": {},
   "outputs": [
    {
     "name": "stdout",
     "output_type": "stream",
     "text": [
      "Even numbers are : [132, 72, 230, 368, 172, 44, 456, 248, 450, 482, 274, 498, 274, 150, 274, 310, 212, 160, 92, 476, 152, 456, 130, 24, 96, 460, 402, 184, 240, 16, 288, 452, 414, 326, 348, 180, 182, 302, 396, 146, 380, 14, 360, 144, 226, 112, 108, 88, 152, 54]\n",
      "Odd number are: [465, 49, 47, 85, 173, 155, 347, 371, 189, 473, 249, 477, 83, 29, 125, 241, 369, 489, 427, 21, 265, 61, 359, 477, 155, 271, 67, 327, 127, 177, 109, 451, 399, 239, 255, 363, 317, 335, 419, 151, 421, 221, 407, 221, 97, 99, 343, 483, 347, 189]\n"
     ]
    }
   ],
   "source": [
    "print('Even numbers are :' , even)\n",
    "print('Odd number are:', odd)"
   ]
  },
  {
   "cell_type": "markdown",
   "metadata": {},
   "source": []
  },
  {
   "cell_type": "code",
   "execution_count": 37,
   "metadata": {},
   "outputs": [],
   "source": [
    "text= \"\"\"\n",
    "\n",
    "It all started with ABC, a wonderful teaching language that \n",
    "I had helped create in the early eighties. It was an incredibly \n",
    "elegant and powerful language, aimed at non-professional programmers.\n",
    "Despite all its elegance and power and the availability of a free implementation,\n",
    "ABC never became popular in the Unix/C world. I can only speculate about\n",
    "the reasons, but here's a likely one: the difficulty of adding new \"primitive\" operations to ABC. It was a monolithic, \"closed system\", with only the most basic I/O operations: read a string from the console, write a string to the console. I decided not repeat this mistake in Python.\n",
    "\"\"\""
   ]
  },
  {
   "cell_type": "markdown",
   "metadata": {},
   "source": [
    "** In above text create two list of words**\n",
    "- starting with 'm'\n",
    "- ending with 'e'"
   ]
  },
  {
   "cell_type": "code",
   "execution_count": 38,
   "metadata": {},
   "outputs": [
    {
     "data": {
      "text/plain": [
       "'\\n\\nIt all started with ABC, a wonderful teaching language that \\nI had helped create in the early eighties. It was an incredibly \\nelegant and powerful language, aimed at non-professional programmers.\\nDespite all its elegance and power and the availability of a free implementation,\\nABC never became popular in the Unix/C world. I can only speculate about\\nthe reasons, but here\\'s a likely one: the difficulty of adding new \"primitive\" operations to ABC. It was a monolithic, \"closed system\", with only the most basic I/O operations: read a string from the console, write a string to the console. I decided not repeat this mistake in Python.\\n'"
      ]
     },
     "execution_count": 38,
     "metadata": {},
     "output_type": "execute_result"
    }
   ],
   "source": [
    "text"
   ]
  },
  {
   "cell_type": "code",
   "execution_count": null,
   "metadata": {},
   "outputs": [],
   "source": []
  }
 ],
 "metadata": {
  "kernelspec": {
   "display_name": "Python 3",
   "language": "python",
   "name": "python3"
  },
  "language_info": {
   "codemirror_mode": {
    "name": "ipython",
    "version": 3
   },
   "file_extension": ".py",
   "mimetype": "text/x-python",
   "name": "python",
   "nbconvert_exporter": "python",
   "pygments_lexer": "ipython3",
   "version": "3.6.4"
  }
 },
 "nbformat": 4,
 "nbformat_minor": 2
}
