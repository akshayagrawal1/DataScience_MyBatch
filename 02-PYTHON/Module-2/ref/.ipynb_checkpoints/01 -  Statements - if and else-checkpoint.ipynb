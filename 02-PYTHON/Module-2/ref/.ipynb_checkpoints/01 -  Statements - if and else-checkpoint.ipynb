{
 "cells": [
  {
   "cell_type": "markdown",
   "metadata": {},
   "source": [
    "# If and else Statements\n",
    "- `if`\n",
    "- `elif`\n",
    "- `else`"
   ]
  },
  {
   "cell_type": "code",
   "execution_count": null,
   "metadata": {},
   "outputs": [],
   "source": [
    "cond = True\n",
    "if cond:\n",
    "    # indentations\n",
    "    # ...\n",
    "# out of the loop"
   ]
  },
  {
   "cell_type": "markdown",
   "metadata": {},
   "source": [
    "```\n",
    "== #equal to\n",
    "<= # less than equal to \n",
    ">= # greater than equal to\n",
    "<  # less than\n",
    ">  # greater than\n",
    "!= # not equal to\n",
    ">< # not equal to```"
   ]
  },
  {
   "cell_type": "code",
   "execution_count": 2,
   "metadata": {},
   "outputs": [
    {
     "name": "stdout",
     "output_type": "stream",
     "text": [
      "b is greater than a\n"
     ]
    }
   ],
   "source": [
    "# writing a simple program  to find the which number is greater\n",
    "a  = 2\n",
    "b = 3\n",
    "if a == b:\n",
    "    # indendtation\n",
    "    print('Both a and b are equal')\n",
    "elif a < b:\n",
    "    print('b is greater than a')\n",
    "    #indendtation\n",
    "else:\n",
    "    print('a is greater than b')\n",
    "# out of the loop"
   ]
  },
  {
   "cell_type": "markdown",
   "metadata": {},
   "source": [
    "**write a program, that user will enter the two numbers, and your program need to tell which number is greater and if both are equal print both are equal**\n",
    "> - Eg: > a = 20, > b = 25: 25 is greater than 20\n",
    "- Eg: > a = 30, b = 25: 30 is greater than 25\n",
    "- Eg: > a = 20, b = 20: Both the number you enter are equal"
   ]
  },
  {
   "cell_type": "markdown",
   "metadata": {},
   "source": [
    "`float`\n",
    "`int`"
   ]
  },
  {
   "cell_type": "code",
   "execution_count": 6,
   "metadata": {},
   "outputs": [
    {
     "name": "stdout",
     "output_type": "stream",
     "text": [
      "Enter value of a : 5\n",
      "Enter value of b : 5\n",
      "5.0 and 5.0 are equal\n"
     ]
    }
   ],
   "source": [
    "a = float(input('Enter value of a : '))\n",
    "b = float(input('Enter value of b : '))\n",
    "\n",
    "if a > b:\n",
    "    print('{} is greater than {}'.format(a,b))\n",
    "elif a < b:\n",
    "    print('{} is greater than {}'.format(b,a))\n",
    "else:\n",
    "    print('{} and {} are equal'.format(a,b))"
   ]
  },
  {
   "cell_type": "markdown",
   "metadata": {},
   "source": [
    "**write a program, that user will enter the a numbers, and your program need to say *even* of *odd* number **\n",
    "> - Eg: > a = 5,: 5 is odd number\n",
    "- Eg: > a = 12: 12 is even number\n",
    "- Eg: > a = 0: 0 is neither even nor odd number"
   ]
  },
  {
   "cell_type": "code",
   "execution_count": 4,
   "metadata": {},
   "outputs": [
    {
     "data": {
      "text/plain": [
       "'hello srikanth how are raghu you'"
      ]
     },
     "execution_count": 4,
     "metadata": {},
     "output_type": "execute_result"
    }
   ],
   "source": [
    "'hello %s how are %s you'%('srikanth','raghu')"
   ]
  },
  {
   "cell_type": "code",
   "execution_count": 5,
   "metadata": {},
   "outputs": [
    {
     "data": {
      "text/plain": [
       "'hello srikanth how are raghu you'"
      ]
     },
     "execution_count": 5,
     "metadata": {},
     "output_type": "execute_result"
    }
   ],
   "source": [
    "'hello {} how are {} you'.format('srikanth','raghu')"
   ]
  },
  {
   "cell_type": "code",
   "execution_count": null,
   "metadata": {},
   "outputs": [],
   "source": []
  },
  {
   "cell_type": "code",
   "execution_count": null,
   "metadata": {},
   "outputs": [],
   "source": []
  },
  {
   "cell_type": "code",
   "execution_count": 6,
   "metadata": {},
   "outputs": [
    {
     "name": "stdout",
     "output_type": "stream",
     "text": [
      "Enter value of a : 10\n",
      "10.0 is even number\n"
     ]
    }
   ],
   "source": [
    "a = float(input('Enter value of a : '))\n",
    "\n",
    "if a == 0:\n",
    "    print('0 is neither even nor odd number')\n",
    "elif a % 2 == 0:\n",
    "    print('{} is even number'.format(a))\n",
    "else:\n",
    "    print('{} is odd number'.format(a))"
   ]
  },
  {
   "cell_type": "markdown",
   "metadata": {},
   "source": [
    "`and` `or` "
   ]
  },
  {
   "cell_type": "markdown",
   "metadata": {},
   "source": [
    "**Create a dictionary with keys which are username and values with their password and name with creditials**\n",
    "> eg: `{'Srikanth':'sri123','Raghuram':'rag123','Ramya':'ram123',\n",
    "'Akshay':'aks123','Chandrashekar':'cha123','Padma':'pad123'}`\n",
    "\n",
    "*Ask user to enter his username and password*\n",
    "- if username and password matches with creditials then print welcome\n",
    "> eg: > username: srikanth and password: sri123 \n",
    "\n",
    "'Hello Srikanth welcome to Python programming'\n",
    "\n",
    "Either username or password is wrong\n",
    "\n"
   ]
  },
  {
   "cell_type": "code",
   "execution_count": 1,
   "metadata": {},
   "outputs": [],
   "source": [
    "creditials= {'Srikanth':'sri123','Raghuram':'rag123','Ramya':'ram123',\n",
    "'Akshay':'aks123','Chandrashekar':'cha123','Padma':'pad123'}"
   ]
  },
  {
   "cell_type": "code",
   "execution_count": 2,
   "metadata": {},
   "outputs": [
    {
     "data": {
      "text/plain": [
       "{'Akshay': 'aks123',\n",
       " 'Chandrashekar': 'cha123',\n",
       " 'Padma': 'pad123',\n",
       " 'Raghuram': 'rag123',\n",
       " 'Ramya': 'ram123',\n",
       " 'Srikanth': 'sri123'}"
      ]
     },
     "execution_count": 2,
     "metadata": {},
     "output_type": "execute_result"
    }
   ],
   "source": [
    "creditials"
   ]
  },
  {
   "cell_type": "code",
   "execution_count": 3,
   "metadata": {},
   "outputs": [
    {
     "data": {
      "text/plain": [
       "'sri123'"
      ]
     },
     "execution_count": 3,
     "metadata": {},
     "output_type": "execute_result"
    }
   ],
   "source": [
    "creditials['Srikanth']"
   ]
  },
  {
   "cell_type": "code",
   "execution_count": 6,
   "metadata": {},
   "outputs": [
    {
     "name": "stdout",
     "output_type": "stream",
     "text": [
      "Please Enter your username: Avinash\n",
      "Please Enter you password: av123\n",
      "Hello Avinash welcome to python programming !!!\n"
     ]
    }
   ],
   "source": [
    "username = input('Please Enter your username: ')\n",
    "password = input('Please Enter you password: ')\n",
    "\n",
    "if username not in creditials.keys():\n",
    "        print('username is not in database')\n",
    "        ask = input('Would you like to sign up: y/n: ')\n",
    "        if ask.lower() == 'y':\n",
    "            username = input('Enter your username: ')\n",
    "            password = input('Enter you password: ')\n",
    "            \n",
    "            creditials.update({username:password})\n",
    "        else:\n",
    "            print('Thank you !!!')\n",
    "\n",
    "elif creditials[username] == password:\n",
    "    print('Hello {} welcome to python programming !!!'.format(username))\n",
    "    # nested if condition (or nested statements)\n",
    "else:\n",
    "    print('Username or password is wrong')"
   ]
  },
  {
   "cell_type": "code",
   "execution_count": 5,
   "metadata": {},
   "outputs": [
    {
     "data": {
      "text/plain": [
       "{'Akshay': 'aks123',\n",
       " 'Avinash': 'av123',\n",
       " 'Chandrashekar': 'cha123',\n",
       " 'Padma': 'pad123',\n",
       " 'Raghuram': 'rag123',\n",
       " 'Ramya': 'ram123',\n",
       " 'Srikanth': 'sri123'}"
      ]
     },
     "execution_count": 5,
     "metadata": {},
     "output_type": "execute_result"
    }
   ],
   "source": [
    "creditials"
   ]
  },
  {
   "cell_type": "code",
   "execution_count": null,
   "metadata": {},
   "outputs": [],
   "source": []
  }
 ],
 "metadata": {
  "kernelspec": {
   "display_name": "Python 3",
   "language": "python",
   "name": "python3"
  },
  "language_info": {
   "codemirror_mode": {
    "name": "ipython",
    "version": 3
   },
   "file_extension": ".py",
   "mimetype": "text/x-python",
   "name": "python",
   "nbconvert_exporter": "python",
   "pygments_lexer": "ipython3",
   "version": "3.6.4"
  }
 },
 "nbformat": 4,
 "nbformat_minor": 2
}
