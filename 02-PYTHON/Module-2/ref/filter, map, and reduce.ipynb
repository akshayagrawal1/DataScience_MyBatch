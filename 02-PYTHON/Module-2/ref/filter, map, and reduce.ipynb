{
 "cells": [
  {
   "cell_type": "markdown",
   "metadata": {},
   "source": [
    "** Create a  100 random number in the 0 - 100**\n",
    "- find odd number \n",
    "- find number divisble by 7"
   ]
  },
  {
   "cell_type": "code",
   "execution_count": 1,
   "metadata": {},
   "outputs": [],
   "source": [
    "import random"
   ]
  },
  {
   "cell_type": "code",
   "execution_count": 8,
   "metadata": {},
   "outputs": [
    {
     "name": "stdout",
     "output_type": "stream",
     "text": [
      "[30, 66, 87, 19, 73, 27, 26, 50, 21, 99, 54, 13, 71, 18, 66, 97, 7, 29, 96, 71, 37, 58, 91, 76, 88, 71, 58, 100, 81, 24, 84, 90, 78, 86, 98, 63, 95, 82, 81, 35, 50, 81, 41, 61, 39, 34, 42, 1, 57, 29, 87, 23, 54, 63, 20, 65, 95, 9, 66, 74, 38, 64, 63, 28, 15, 36, 44, 28, 87, 34, 0, 94, 19, 76, 44, 73, 49, 72, 80, 92, 91, 88, 22, 40, 83, 28, 37, 63, 100, 20, 49, 84, 55, 85, 71, 39, 58, 48, 92, 7]\n"
     ]
    }
   ],
   "source": [
    "rand = []\n",
    "for i in range(100):\n",
    "    # inde\n",
    "    num = random.randint(0,100)\n",
    "    rand.append(num)\n",
    "    #print(rand)\n",
    "print(rand)"
   ]
  },
  {
   "cell_type": "code",
   "execution_count": 14,
   "metadata": {},
   "outputs": [
    {
     "name": "stdout",
     "output_type": "stream",
     "text": [
      "[87, 19, 73, 27, 21, 99, 13, 71, 97, 7, 29, 71, 37, 91, 71, 81, 63, 95, 81, 35, 81, 41, 61, 39, 1, 57, 29, 87, 23, 63, 65, 95, 9, 63, 15, 87, 19, 73, 49, 91, 83, 37, 63, 49, 55, 85, 71, 39, 7]\n",
      "[21, 7, 91, 84, 98, 63, 35, 42, 63, 63, 28, 28, 0, 49, 91, 28, 63, 49, 84, 7]\n"
     ]
    }
   ],
   "source": [
    "odd = []\n",
    "div7 = []\n",
    "for i in rand:\n",
    "    if i % 2 !=0:\n",
    "        odd.append(i)\n",
    "        \n",
    "    if i % 7 ==0:\n",
    "        div7.append(i)\n",
    "        \n",
    "print(odd)\n",
    "print(div7)"
   ]
  },
  {
   "cell_type": "markdown",
   "metadata": {},
   "source": [
    "# `filter`"
   ]
  },
  {
   "cell_type": "code",
   "execution_count": 15,
   "metadata": {},
   "outputs": [],
   "source": [
    "# create a function for find odd number\n",
    "def isodd(num):\n",
    "    return num % 2 != 0\n",
    "\n",
    "isodd_lam = lambda x : x %2 !=0"
   ]
  },
  {
   "cell_type": "code",
   "execution_count": 22,
   "metadata": {},
   "outputs": [
    {
     "name": "stdout",
     "output_type": "stream",
     "text": [
      "(87, 19, 73, 27, 21, 99, 13, 71, 97, 7, 29, 71, 37, 91, 71, 81, 63, 95, 81, 35, 81, 41, 61, 39, 1, 57, 29, 87, 23, 63, 65, 95, 9, 63, 15, 87, 19, 73, 49, 91, 83, 37, 63, 49, 55, 85, 71, 39, 7)\n"
     ]
    }
   ],
   "source": [
    "odd_1 = filter(isodd,rand)\n",
    "print(tuple(odd_1))"
   ]
  },
  {
   "cell_type": "code",
   "execution_count": 23,
   "metadata": {},
   "outputs": [],
   "source": [
    "# \n",
    "text = '''\n",
    "Over six years ago, in December 1989, I was looking for a \"hobby\" programming project that would keep me occupied during the week around Christmas. My office (a government-run research lab in Amsterdam) would be closed, but I had a home computer, and not much else on my hands. I decided to write an interpreter for the new scripting language I had been thinking about lately: a descendant of ABC that would appeal to Unix/C hackers. I chose Python as a working title for the project, being in a slightly irreverent mood (and a big fan of Monty Python's Flying Circus).\n",
    "'''"
   ]
  },
  {
   "cell_type": "markdown",
   "metadata": {},
   "source": [
    "** filter the words starting with vowels letter** (a,e,i,o,u)"
   ]
  },
  {
   "cell_type": "code",
   "execution_count": null,
   "metadata": {},
   "outputs": [],
   "source": []
  }
 ],
 "metadata": {
  "kernelspec": {
   "display_name": "Python 3",
   "language": "python",
   "name": "python3"
  },
  "language_info": {
   "codemirror_mode": {
    "name": "ipython",
    "version": 3
   },
   "file_extension": ".py",
   "mimetype": "text/x-python",
   "name": "python",
   "nbconvert_exporter": "python",
   "pygments_lexer": "ipython3",
   "version": "3.6.4"
  }
 },
 "nbformat": 4,
 "nbformat_minor": 2
}
