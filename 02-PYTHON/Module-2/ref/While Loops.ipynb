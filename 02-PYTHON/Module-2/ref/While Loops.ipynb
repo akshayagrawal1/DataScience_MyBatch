{
 "cells": [
  {
   "cell_type": "markdown",
   "metadata": {},
   "source": [
    "# While loops"
   ]
  },
  {
   "cell_type": "markdown",
   "metadata": {},
   "source": [
    "while condtion:\n",
    "    #indentation\n",
    "    #....\n",
    "    \n",
    "#out of the loop"
   ]
  },
  {
   "cell_type": "code",
   "execution_count": 2,
   "metadata": {},
   "outputs": [
    {
     "name": "stdout",
     "output_type": "stream",
     "text": [
      "0\n",
      "1\n",
      "2\n",
      "3\n",
      "4\n"
     ]
    }
   ],
   "source": [
    "i = 0\n",
    "while i < 5:\n",
    "    print(i)\n",
    "    i = i+1"
   ]
  },
  {
   "cell_type": "code",
   "execution_count": 2,
   "metadata": {},
   "outputs": [],
   "source": [
    "creditials= {'Srikanth':'sri123','Raghuram':'rag123','Ramya':'ram123',\n",
    "'Akshay':'aks123','Chandrashekar':'cha123','Padma':'pad123'}"
   ]
  },
  {
   "cell_type": "code",
   "execution_count": 3,
   "metadata": {},
   "outputs": [
    {
     "data": {
      "text/plain": [
       "{'Akshay': 'aks123',\n",
       " 'Chandrashekar': 'cha123',\n",
       " 'Padma': 'pad123',\n",
       " 'Raghuram': 'rag123',\n",
       " 'Ramya': 'ram123',\n",
       " 'Srikanth': 'sri123'}"
      ]
     },
     "execution_count": 3,
     "metadata": {},
     "output_type": "execute_result"
    }
   ],
   "source": [
    "creditials"
   ]
  },
  {
   "cell_type": "markdown",
   "metadata": {},
   "source": [
    "`break`"
   ]
  },
  {
   "cell_type": "markdown",
   "metadata": {},
   "source": [
    "**write a program to ask username and password,  if user and passwords matches break the loop other ask username and password again, repeat that for 5 times**"
   ]
  },
  {
   "cell_type": "code",
   "execution_count": 4,
   "metadata": {},
   "outputs": [
    {
     "name": "stdout",
     "output_type": "stream",
     "text": [
      "Please Enter your username: sdfd\n",
      "Please Enter you password: sdfdf\n",
      "username is not in database\n",
      "Would you like to sign up: y/n: y\n",
      "Enter your username: Srini\n",
      "Enter you password: viswa\n",
      "Please Enter your username: Srini\n",
      "Please Enter you password: 56031\n",
      "Username or password is wrong\n",
      "please Try Again !!!\n",
      "*******************************************************************************\n",
      "Please Enter your username: Srini\n",
      "Please Enter you password: viswa\n",
      "Hello Srini welcome to python programming !!!\n"
     ]
    }
   ],
   "source": [
    "i = 0\n",
    "while True:\n",
    "    username = input('Please Enter your username: ')\n",
    "    password = input('Please Enter you password: ')\n",
    "\n",
    "    if username not in creditials.keys():\n",
    "            print('username is not in database')\n",
    "            ask = input('Would you like to sign up: y/n: ')\n",
    "            if ask.lower() == 'y':\n",
    "                username = input('Enter your username: ')\n",
    "                password = input('Enter you password: ')\n",
    "\n",
    "                creditials.update({username:password})\n",
    "            else:\n",
    "                print('Thank you !!!')\n",
    "                break\n",
    "                \n",
    "    elif creditials[username] == password:\n",
    "        print('Hello {} welcome to python programming !!!'.format(username))\n",
    "        break\n",
    "        # nested if condition (or nested statements)\n",
    "    else:\n",
    "        print('Username or password is wrong')\n",
    "        print('please Try Again !!!')\n",
    "        print('*'*79)\n",
    "        \n",
    "    i +=1"
   ]
  },
  {
   "cell_type": "code",
   "execution_count": 9,
   "metadata": {},
   "outputs": [
    {
     "data": {
      "text/plain": [
       "5"
      ]
     },
     "execution_count": 9,
     "metadata": {},
     "output_type": "execute_result"
    }
   ],
   "source": [
    "i"
   ]
  },
  {
   "cell_type": "code",
   "execution_count": null,
   "metadata": {},
   "outputs": [],
   "source": []
  }
 ],
 "metadata": {
  "kernelspec": {
   "display_name": "Python 3",
   "language": "python",
   "name": "python3"
  },
  "language_info": {
   "codemirror_mode": {
    "name": "ipython",
    "version": 3
   },
   "file_extension": ".py",
   "mimetype": "text/x-python",
   "name": "python",
   "nbconvert_exporter": "python",
   "pygments_lexer": "ipython3",
   "version": "3.6.4"
  }
 },
 "nbformat": 4,
 "nbformat_minor": 2
}
