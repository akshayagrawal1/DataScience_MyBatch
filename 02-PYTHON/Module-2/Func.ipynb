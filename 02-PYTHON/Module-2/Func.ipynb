{
 "cells": [
  {
   "cell_type": "code",
   "execution_count": 1,
   "metadata": {},
   "outputs": [],
   "source": [
    "import random"
   ]
  },
  {
   "cell_type": "markdown",
   "metadata": {},
   "source": [
    "**Generate 100 random number, in that extract or print even nuber**"
   ]
  },
  {
   "cell_type": "code",
   "execution_count": 6,
   "metadata": {},
   "outputs": [],
   "source": [
    "rand_num = []\n",
    "for i in range(100):\n",
    "    \n",
    "    rand_num.append(random.randint(0,100))"
   ]
  },
  {
   "cell_type": "code",
   "execution_count": 8,
   "metadata": {},
   "outputs": [
    {
     "name": "stdout",
     "output_type": "stream",
     "text": [
      "[16, 78, 17, 10, 60, 45, 93, 62, 7, 58, 64, 7, 36, 18, 12, 43, 88, 77, 4, 32, 95, 8, 86, 68, 100, 71, 83, 61, 77, 78, 2, 82, 67, 96, 81, 86, 19, 16, 35, 20, 54, 49, 9, 92, 82, 52, 37, 84, 4, 2, 65, 2, 64, 79, 78, 47, 28, 78, 86, 95, 53, 8, 100, 75, 98, 59, 62, 52, 26, 0, 9, 34, 28, 22, 75, 77, 60, 1, 53, 30, 1, 5, 88, 7, 82, 6, 85, 34, 80, 22, 74, 61, 48, 87, 99, 67, 73, 57, 27, 6]\n",
      "Length of random number is = 100\n"
     ]
    }
   ],
   "source": [
    "print(rand_num)\n",
    "print('Length of random number is =',len(rand_num))"
   ]
  },
  {
   "cell_type": "code",
   "execution_count": 11,
   "metadata": {},
   "outputs": [
    {
     "name": "stdout",
     "output_type": "stream",
     "text": [
      "Even number in a list =  [16, 78, 10, 60, 62, 58, 64, 36, 18, 12, 88, 4, 32, 8, 86, 68, 100, 78, 2, 82, 96, 86, 16, 20, 54, 92, 82, 52, 84, 4, 2, 2, 64, 78, 28, 78, 86, 8, 100, 98, 62, 52, 26, 0, 34, 28, 22, 60, 30, 88, 82, 6, 34, 80, 22, 74, 48, 6]\n",
      "==================================================\n",
      "Odd number in a list = [17, 45, 93, 7, 7, 43, 77, 95, 71, 83, 61, 77, 67, 81, 19, 35, 49, 9, 37, 65, 79, 47, 95, 53, 75, 59, 9, 75, 77, 1, 53, 1, 5, 7, 85, 61, 87, 99, 67, 73, 57, 27]\n"
     ]
    }
   ],
   "source": [
    "even = [] \n",
    "odd = []\n",
    "for i in rand_num:\n",
    "    if i % 2 == 0:\n",
    "        even.append(i)\n",
    "    else:\n",
    "        odd.append(i)\n",
    "print('Even number in a list = ',even)\n",
    "print('='*50)\n",
    "print('Odd number in a list =',odd) "
   ]
  },
  {
   "cell_type": "markdown",
   "metadata": {},
   "source": [
    "# Functions"
   ]
  },
  {
   "cell_type": "markdown",
   "metadata": {},
   "source": [
    "`def`\n",
    "\n",
    "`lambda`"
   ]
  },
  {
   "cell_type": "code",
   "execution_count": 12,
   "metadata": {},
   "outputs": [],
   "source": [
    "# creating a function to print your name\n",
    "def say():\n",
    "    # indentation\n",
    "    print('Hello Srikanth!!!')"
   ]
  },
  {
   "cell_type": "code",
   "execution_count": 14,
   "metadata": {},
   "outputs": [
    {
     "name": "stdout",
     "output_type": "stream",
     "text": [
      "Hello Srikanth!!!\n"
     ]
    }
   ],
   "source": [
    "say()"
   ]
  },
  {
   "cell_type": "markdown",
   "metadata": {},
   "source": [
    "**create a function to print user name**"
   ]
  },
  {
   "cell_type": "code",
   "execution_count": 20,
   "metadata": {},
   "outputs": [],
   "source": [
    "def sayHello(name):\n",
    "    if type(name) == str:\n",
    "        print('Hello, {} !!!'.format(name)) \n",
    "    else:\n",
    "        print('This function expects str but got int or float')"
   ]
  },
  {
   "cell_type": "code",
   "execution_count": 21,
   "metadata": {},
   "outputs": [
    {
     "name": "stdout",
     "output_type": "stream",
     "text": [
      "This function expects str but got int or float\n"
     ]
    }
   ],
   "source": [
    "sayHello(50)"
   ]
  },
  {
   "cell_type": "code",
   "execution_count": 26,
   "metadata": {},
   "outputs": [],
   "source": [
    "# Creating function for arthematic operations\n",
    "# addtion\n",
    "def addition(a,b):\n",
    "    c = a+b\n",
    "    return c"
   ]
  },
  {
   "cell_type": "markdown",
   "metadata": {},
   "source": [
    "- create a function for `subtraction`\n",
    "- create a function for `division` return quotient\n",
    "- create a function exponential $x^n$\n",
    "- create a function to find even or odd number return either even or odd\n",
    "- create a function to find number divisible by 5 return either True or False\n",
    "- Create a function to generate user selected number of random number from user selected range"
   ]
  },
  {
   "cell_type": "code",
   "execution_count": 32,
   "metadata": {},
   "outputs": [],
   "source": [
    "# subraction\n",
    "def subtract(a,b):\n",
    "    \"\"\"\n",
    "    This function will subtract two number a,b and return a-b\n",
    "    >>>subtract(5,3)\n",
    "    2 # 5 - 3\n",
    "    \"\"\"\n",
    "    c = a - b\n",
    "    return c\n",
    "\n",
    "def division(a,b):\n",
    "    \"\"\"\n",
    "    function will divide two number and return quotient\n",
    "    \"\"\"\n",
    "    if b != 0:\n",
    "        return a/b\n",
    "    else:\n",
    "        return print('Can\\'t divide a number with zero')\n",
    "    \n",
    "def power(x,n): # x^n\n",
    "    \"\"\"\n",
    "    \"\"\"\n",
    "    if x !=0 or n != 0:\n",
    "        return x**n\n",
    "    else:\n",
    "        return print('both x and n cannot be zero')"
   ]
  },
  {
   "cell_type": "code",
   "execution_count": 36,
   "metadata": {},
   "outputs": [],
   "source": [
    "def evenodd(num):\n",
    "    if num %2 == 0:\n",
    "        return print('{} is even number'.format(num))\n",
    "    else:\n",
    "        return print('{} is odd number'.format(num))\n",
    "    "
   ]
  },
  {
   "cell_type": "code",
   "execution_count": 43,
   "metadata": {},
   "outputs": [],
   "source": [
    "def div5(num):\n",
    "    if num != 0:\n",
    "        if num %5 ==0:\n",
    "            return True\n",
    "        else:\n",
    "            return False\n",
    "    else:\n",
    "        return print('zero is not divisble by 5')"
   ]
  },
  {
   "cell_type": "code",
   "execution_count": 44,
   "metadata": {},
   "outputs": [
    {
     "data": {
      "text/plain": [
       "True"
      ]
     },
     "execution_count": 44,
     "metadata": {},
     "output_type": "execute_result"
    }
   ],
   "source": [
    "div5(10)"
   ]
  },
  {
   "cell_type": "code",
   "execution_count": 51,
   "metadata": {},
   "outputs": [],
   "source": [
    "def randgen(r,a,b):\n",
    "    \"\"\"\n",
    "    randgen will generate series of random number in list for a selected\n",
    "    range and count\n",
    "    syntax: randgen(count,lower,upper)\n",
    "    - count -> generate number of random number\n",
    "    - lower -> lower range\n",
    "    - upper -> upper range\n",
    "    \"\"\"\n",
    "    if a < b:\n",
    "\n",
    "        import random\n",
    "        rand_num = []\n",
    "        for i in range(r):\n",
    "\n",
    "            rand_num.append(random.randint(a,b))\n",
    "\n",
    "        return rand_num\n",
    "    else:\n",
    "        print('Please selected range in asecending order i.e, a > b')\n",
    "        "
   ]
  },
  {
   "cell_type": "code",
   "execution_count": 52,
   "metadata": {},
   "outputs": [
    {
     "data": {
      "text/plain": [
       "[144, 142, 110, 91, 150]"
      ]
     },
     "execution_count": 52,
     "metadata": {},
     "output_type": "execute_result"
    }
   ],
   "source": [
    "randgen(5,80,150)"
   ]
  },
  {
   "cell_type": "code",
   "execution_count": null,
   "metadata": {},
   "outputs": [],
   "source": []
  }
 ],
 "metadata": {
  "kernelspec": {
   "display_name": "Python 3",
   "language": "python",
   "name": "python3"
  },
  "language_info": {
   "codemirror_mode": {
    "name": "ipython",
    "version": 3
   },
   "file_extension": ".py",
   "mimetype": "text/x-python",
   "name": "python",
   "nbconvert_exporter": "python",
   "pygments_lexer": "ipython3",
   "version": "3.6.4"
  }
 },
 "nbformat": 4,
 "nbformat_minor": 2
}
