{
 "cells": [
  {
   "cell_type": "markdown",
   "metadata": {},
   "source": [
    "# If and else Statements\n",
    "\n",
    "```\n",
    "== : equal to \n",
    "< : less than\n",
    "> : greater than\n",
    "<= : lessthan equal to \n",
    ">= : greater than equal to\n",
    "!= : not equal to \n",
    ">< : not equal to\n",
    "and \n",
    "or\n",
    "in : checking\n",
    "```\n",
    "\n",
    "\n",
    "- `if`\n",
    "- `elif`\n",
    "- `else`"
   ]
  },
  {
   "cell_type": "markdown",
   "metadata": {},
   "source": [
    "# To find number is even or odd number"
   ]
  },
  {
   "cell_type": "code",
   "execution_count": null,
   "metadata": {},
   "outputs": [],
   "source": [
    "num = 2"
   ]
  },
  {
   "cell_type": "code",
   "execution_count": 4,
   "metadata": {},
   "outputs": [
    {
     "data": {
      "text/plain": [
       "True"
      ]
     },
     "execution_count": 4,
     "metadata": {},
     "output_type": "execute_result"
    }
   ],
   "source": [
    "4%2 == 0 # modulus"
   ]
  },
  {
   "cell_type": "code",
   "execution_count": 7,
   "metadata": {},
   "outputs": [
    {
     "name": "stdout",
     "output_type": "stream",
     "text": [
      "Even number\n"
     ]
    }
   ],
   "source": [
    "num = 2\n",
    "if num % 2 == 0:\n",
    "    # 1 tab space\n",
    "    # indendation\n",
    "    print('Even number')\n",
    "else:\n",
    "    print('Odd number')"
   ]
  },
  {
   "cell_type": "markdown",
   "metadata": {},
   "source": [
    "### Write a program to to find number whether a number divisible by 5 use 'input' function"
   ]
  },
  {
   "cell_type": "code",
   "execution_count": 15,
   "metadata": {},
   "outputs": [
    {
     "name": "stdout",
     "output_type": "stream",
     "text": [
      "Enter a value:25\n",
      "Divisible by 5\n"
     ]
    }
   ],
   "source": [
    "num = int(input('Enter a value:'))\n",
    "if num % 5 == 0:\n",
    "    # 1 tab space\n",
    "    # indendation\n",
    "    print('Divisible by 5')\n",
    "else:\n",
    "    print('not divisible by 5')"
   ]
  },
  {
   "cell_type": "markdown",
   "metadata": {},
   "source": [
    "### Write a program to find number divisible by 3 and 7"
   ]
  },
  {
   "cell_type": "code",
   "execution_count": 19,
   "metadata": {},
   "outputs": [
    {
     "name": "stdout",
     "output_type": "stream",
     "text": [
      "Enter a value:21\n",
      "Divisible by 3 and 7\n"
     ]
    }
   ],
   "source": [
    "num = int(input('Enter a value:'))\n",
    "if num % 3 == 0 and num % 7 == 0:\n",
    "    # 1 tab space\n",
    "    # indendation\n",
    "    print('Divisible by 3 and 7')\n",
    "else:\n",
    "    print('not divisible neither 3 nor 7')"
   ]
  },
  {
   "cell_type": "markdown",
   "metadata": {},
   "source": [
    "# Login Creditials"
   ]
  },
  {
   "cell_type": "code",
   "execution_count": 20,
   "metadata": {},
   "outputs": [
    {
     "data": {
      "text/plain": [
       "{'srikanth': 'sri123', 'ramya': 'ram123', 'raghuram': 'raghu123'}"
      ]
     },
     "execution_count": 20,
     "metadata": {},
     "output_type": "execute_result"
    }
   ],
   "source": [
    "database = {'srikanth':'sri123','ramya':'ram123','raghuram':'raghu123'}\n",
    "database"
   ]
  },
  {
   "cell_type": "code",
   "execution_count": 39,
   "metadata": {},
   "outputs": [
    {
     "name": "stdout",
     "output_type": "stream",
     "text": [
      "Enter UserName: raghu\n",
      "Enter Password: asd\n",
      "UserName not in database\n",
      "Do you want to SignUp to this program (y/n) ? :y\n",
      "Enter your username:raghuram\n",
      "Enter your password:sd\n",
      "UserName already taken\n"
     ]
    }
   ],
   "source": [
    "username = input('Enter UserName: ')\n",
    "password = input('Enter Password: ')\n",
    "# nested loop (nested conditions)\n",
    "if username in database.keys():\n",
    "    if database[username] == password:\n",
    "        print('Welcome to Python programming')\n",
    "    else:\n",
    "        print('Invalid password')\n",
    "        \n",
    "else:\n",
    "    print('UserName not in database')\n",
    "    value = input('Do you want to SignUp to this program (y/n) ? :')\n",
    "    if value.lower() == 'y':\n",
    "        newname = input('Enter your username:')\n",
    "        newpass = input('Enter your password:')\n",
    "        if newname not in database.keys():\n",
    "            database.update({newname:newpass}) # updating value in database\n",
    "            print('You have logged sucessfully')\n",
    "        else:\n",
    "            print('UserName already taken')\n",
    "    else:\n",
    "        print('Thank You !!!')\n",
    "        "
   ]
  },
  {
   "cell_type": "code",
   "execution_count": 38,
   "metadata": {},
   "outputs": [
    {
     "data": {
      "text/plain": [
       "{'srikanth': 'sri123',\n",
       " 'ramya': 'ram123',\n",
       " 'raghuram': 'raghu123',\n",
       " 'avinash': 'avi123'}"
      ]
     },
     "execution_count": 38,
     "metadata": {},
     "output_type": "execute_result"
    }
   ],
   "source": [
    "database"
   ]
  },
  {
   "cell_type": "code",
   "execution_count": null,
   "metadata": {},
   "outputs": [],
   "source": []
  },
  {
   "cell_type": "code",
   "execution_count": null,
   "metadata": {},
   "outputs": [],
   "source": []
  },
  {
   "cell_type": "code",
   "execution_count": null,
   "metadata": {},
   "outputs": [],
   "source": []
  },
  {
   "cell_type": "code",
   "execution_count": null,
   "metadata": {},
   "outputs": [],
   "source": [
    "cond = True\n",
    "if cond:\n",
    "    # indentations\n",
    "    # ...\n",
    "# out of the loop"
   ]
  },
  {
   "cell_type": "markdown",
   "metadata": {},
   "source": [
    "```\n",
    "== #equal to\n",
    "<= # less than equal to \n",
    ">= # greater than equal to\n",
    "<  # less than\n",
    ">  # greater than\n",
    "!= # not equal to\n",
    ">< # not equal to```"
   ]
  },
  {
   "cell_type": "code",
   "execution_count": 2,
   "metadata": {},
   "outputs": [
    {
     "name": "stdout",
     "output_type": "stream",
     "text": [
      "b is greater than a\n"
     ]
    }
   ],
   "source": [
    "# writing a simple program  to find the which number is greater\n",
    "a  = 2\n",
    "b = 3\n",
    "if a == b:\n",
    "    # indendtation\n",
    "    print('Both a and b are equal')\n",
    "elif a < b:\n",
    "    print('b is greater than a')\n",
    "    #indendtation\n",
    "else:\n",
    "    print('a is greater than b')\n",
    "# out of the loop"
   ]
  },
  {
   "cell_type": "markdown",
   "metadata": {},
   "source": [
    "**write a program, that user will enter the two numbers, and your program need to tell which number is greater and if both are equal print both are equal**\n",
    "> - Eg: > a = 20, > b = 25: 25 is greater than 20\n",
    "- Eg: > a = 30, b = 25: 30 is greater than 25\n",
    "- Eg: > a = 20, b = 20: Both the number you enter are equal"
   ]
  },
  {
   "cell_type": "markdown",
   "metadata": {},
   "source": [
    "`float`\n",
    "`int`"
   ]
  },
  {
   "cell_type": "code",
   "execution_count": 1,
   "metadata": {},
   "outputs": [
    {
     "name": "stdout",
     "output_type": "stream",
     "text": [
      "Enter value of a : 2\n",
      "Enter value of b : 3\n",
      "3.0 is greater than 2.0\n"
     ]
    }
   ],
   "source": [
    "a = float(input('Enter value of a : '))\n",
    "b = float(input('Enter value of b : '))\n",
    "\n",
    "if a > b:\n",
    "    print('{} is greater than {}'.format(a,b))\n",
    "elif a < b:\n",
    "    print('{} is greater than {}'.format(b,a))\n",
    "else:\n",
    "    print('{} and {} are equal'.format(a,b))"
   ]
  },
  {
   "cell_type": "markdown",
   "metadata": {},
   "source": [
    "**write a program, that user will enter the a numbers, and your program need to say *even* of *odd* number **\n",
    "> - Eg: > a = 5,: 5 is odd number\n",
    "- Eg: > a = 12: 12 is even number\n",
    "- Eg: > a = 0: 0 is neither even nor odd number"
   ]
  },
  {
   "cell_type": "code",
   "execution_count": 4,
   "metadata": {},
   "outputs": [
    {
     "data": {
      "text/plain": [
       "'hello srikanth how are raghu you'"
      ]
     },
     "execution_count": 4,
     "metadata": {},
     "output_type": "execute_result"
    }
   ],
   "source": [
    "'hello %s how are %s you'%('srikanth','raghu')"
   ]
  },
  {
   "cell_type": "code",
   "execution_count": 5,
   "metadata": {},
   "outputs": [
    {
     "data": {
      "text/plain": [
       "'hello srikanth how are raghu you'"
      ]
     },
     "execution_count": 5,
     "metadata": {},
     "output_type": "execute_result"
    }
   ],
   "source": [
    "'hello {} how are {} you'.format('srikanth','raghu')"
   ]
  },
  {
   "cell_type": "code",
   "execution_count": null,
   "metadata": {},
   "outputs": [],
   "source": []
  },
  {
   "cell_type": "code",
   "execution_count": null,
   "metadata": {},
   "outputs": [],
   "source": []
  },
  {
   "cell_type": "code",
   "execution_count": 6,
   "metadata": {},
   "outputs": [
    {
     "name": "stdout",
     "output_type": "stream",
     "text": [
      "Enter value of a : 10\n",
      "10.0 is even number\n"
     ]
    }
   ],
   "source": [
    "a = float(input('Enter value of a : '))\n",
    "\n",
    "if a == 0:\n",
    "    print('0 is neither even nor odd number')\n",
    "elif a % 2 == 0:\n",
    "    print('{} is even number'.format(a))\n",
    "else:\n",
    "    print('{} is odd number'.format(a))"
   ]
  },
  {
   "cell_type": "markdown",
   "metadata": {},
   "source": [
    "`and` `or` "
   ]
  },
  {
   "cell_type": "markdown",
   "metadata": {},
   "source": [
    "**Create a dictionary with keys which are username and values with their password and name with creditials**\n",
    "> eg: `{'Srikanth':'sri123','Raghuram':'rag123','Ramya':'ram123',\n",
    "'Akshay':'aks123','Chandrashekar':'cha123','Padma':'pad123'}`\n",
    "\n",
    "*Ask user to enter his username and password*\n",
    "- if username and password matches with creditials then print welcome\n",
    "> eg: > username: srikanth and password: sri123 \n",
    "\n",
    "'Hello Srikanth welcome to Python programming'\n",
    "\n",
    "Either username or password is wrong\n",
    "\n"
   ]
  },
  {
   "cell_type": "code",
   "execution_count": 1,
   "metadata": {},
   "outputs": [],
   "source": [
    "creditials= {'Srikanth':'sri123','Raghuram':'rag123','Ramya':'ram123',\n",
    "'Akshay':'aks123','Chandrashekar':'cha123','Padma':'pad123'}"
   ]
  },
  {
   "cell_type": "code",
   "execution_count": 2,
   "metadata": {},
   "outputs": [
    {
     "data": {
      "text/plain": [
       "{'Akshay': 'aks123',\n",
       " 'Chandrashekar': 'cha123',\n",
       " 'Padma': 'pad123',\n",
       " 'Raghuram': 'rag123',\n",
       " 'Ramya': 'ram123',\n",
       " 'Srikanth': 'sri123'}"
      ]
     },
     "execution_count": 2,
     "metadata": {},
     "output_type": "execute_result"
    }
   ],
   "source": [
    "creditials"
   ]
  },
  {
   "cell_type": "code",
   "execution_count": 3,
   "metadata": {},
   "outputs": [
    {
     "data": {
      "text/plain": [
       "'sri123'"
      ]
     },
     "execution_count": 3,
     "metadata": {},
     "output_type": "execute_result"
    }
   ],
   "source": [
    "creditials['Srikanth']"
   ]
  },
  {
   "cell_type": "code",
   "execution_count": null,
   "metadata": {},
   "outputs": [],
   "source": [
    "username = input('Please Enter your username: ')\n",
    "password = input('Please Enter you password: ')\n",
    "\n",
    "if username not in creditials.keys():\n",
    "        print('username is not in database')\n",
    "        ask = input('Would you like to sign up: y/n: ')\n",
    "        if ask.lower() == 'y':\n",
    "            username = input('Enter your username: ')\n",
    "            password = input('Enter you password: ')\n",
    "            \n",
    "            creditials.update({username:password})\n",
    "        else:\n",
    "            print('Thank you !!!')\n",
    "\n",
    "elif creditials[username] == password:\n",
    "    print('Hello {} welcome to python programming !!!'.format(username))\n",
    "    # nested if condition (or nested statements)\n",
    "else:\n",
    "    print('Username or password is wrong')"
   ]
  },
  {
   "cell_type": "code",
   "execution_count": 5,
   "metadata": {},
   "outputs": [
    {
     "data": {
      "text/plain": [
       "{'Akshay': 'aks123',\n",
       " 'Avinash': 'av123',\n",
       " 'Chandrashekar': 'cha123',\n",
       " 'Padma': 'pad123',\n",
       " 'Raghuram': 'rag123',\n",
       " 'Ramya': 'ram123',\n",
       " 'Srikanth': 'sri123'}"
      ]
     },
     "execution_count": 5,
     "metadata": {},
     "output_type": "execute_result"
    }
   ],
   "source": [
    "creditials"
   ]
  }
 ],
 "metadata": {
  "kernelspec": {
   "display_name": "Python 3",
   "language": "python",
   "name": "python3"
  },
  "language_info": {
   "codemirror_mode": {
    "name": "ipython",
    "version": 3
   },
   "file_extension": ".py",
   "mimetype": "text/x-python",
   "name": "python",
   "nbconvert_exporter": "python",
   "pygments_lexer": "ipython3",
   "version": "3.6.7"
  }
 },
 "nbformat": 4,
 "nbformat_minor": 2
}
