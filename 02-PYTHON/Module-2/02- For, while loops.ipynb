{
 "cells": [
  {
   "cell_type": "markdown",
   "metadata": {},
   "source": [
    "# for loops"
   ]
  },
  {
   "cell_type": "markdown",
   "metadata": {},
   "source": [
    "```for range:\n",
    "        # indentation\n",
    "        ....\n",
    "        ....\n",
    "#out of loop```\n",
    "\n",
    "`break`"
   ]
  },
  {
   "cell_type": "markdown",
   "metadata": {},
   "source": [
    "> Generators : `range`"
   ]
  },
  {
   "cell_type": "code",
   "execution_count": 1,
   "metadata": {},
   "outputs": [
    {
     "data": {
      "text/plain": [
       "range(0, 10)"
      ]
     },
     "execution_count": 1,
     "metadata": {},
     "output_type": "execute_result"
    }
   ],
   "source": [
    "# Generatos\n",
    "range(10)\n",
    "# stop : default is 1 and start at 0\n",
    "# start stop , step"
   ]
  },
  {
   "cell_type": "code",
   "execution_count": 2,
   "metadata": {},
   "outputs": [
    {
     "data": {
      "text/plain": [
       "[0, 1, 2, 3, 4, 5, 6, 7, 8, 9]"
      ]
     },
     "execution_count": 2,
     "metadata": {},
     "output_type": "execute_result"
    }
   ],
   "source": [
    "#\n",
    "list(range(10))"
   ]
  },
  {
   "cell_type": "code",
   "execution_count": 2,
   "metadata": {},
   "outputs": [
    {
     "data": {
      "text/plain": [
       "[0, 2, 4, 6, 8]"
      ]
     },
     "execution_count": 2,
     "metadata": {},
     "output_type": "execute_result"
    }
   ],
   "source": [
    "list(range(0,10,2))"
   ]
  },
  {
   "cell_type": "markdown",
   "metadata": {},
   "source": [
    "### Create list of number in the range of 100-200 with a step of 1"
   ]
  },
  {
   "cell_type": "code",
   "execution_count": 9,
   "metadata": {},
   "outputs": [
    {
     "name": "stdout",
     "output_type": "stream",
     "text": [
      "[100, 101, 102, 103, 104, 105, 106, 107, 108, 109, 110, 111, 112, 113, 114, 115, 116, 117, 118, 119, 120, 121, 122, 123, 124, 125, 126, 127, 128, 129, 130, 131, 132, 133, 134, 135, 136, 137, 138, 139, 140, 141, 142, 143, 144, 145, 146, 147, 148, 149, 150, 151, 152, 153, 154, 155, 156, 157, 158, 159, 160, 161, 162, 163, 164, 165, 166, 167, 168, 169, 170, 171, 172, 173, 174, 175, 176, 177, 178, 179, 180, 181, 182, 183, 184, 185, 186, 187, 188, 189, 190, 191, 192, 193, 194, 195, 196, 197, 198, 199, 200]\n"
     ]
    }
   ],
   "source": [
    "print(list(range(100,201,1)))"
   ]
  },
  {
   "cell_type": "markdown",
   "metadata": {},
   "source": [
    "- Create a list of even number in the range of 0 - 100\n",
    "- Create a list of odd number in the range of 0 - 100\n",
    "- Create a list of number from 300 - 200"
   ]
  },
  {
   "cell_type": "code",
   "execution_count": 13,
   "metadata": {},
   "outputs": [
    {
     "name": "stdout",
     "output_type": "stream",
     "text": [
      "[0, 2, 4, 6, 8, 10, 12, 14, 16, 18, 20, 22, 24, 26, 28, 30, 32, 34, 36, 38, 40, 42, 44, 46, 48, 50, 52, 54, 56, 58, 60, 62, 64, 66, 68, 70, 72, 74, 76, 78, 80, 82, 84, 86, 88, 90, 92, 94, 96, 98]\n",
      "--------------------------------------------------\n",
      "[1, 3, 5, 7, 9, 11, 13, 15, 17, 19, 21, 23, 25, 27, 29, 31, 33, 35, 37, 39, 41, 43, 45, 47, 49, 51, 53, 55, 57, 59, 61, 63, 65, 67, 69, 71, 73, 75, 77, 79, 81, 83, 85, 87, 89, 91, 93, 95, 97, 99]\n",
      "--------------------------------------------------\n",
      "[300, 299, 298, 297, 296, 295, 294, 293, 292, 291, 290, 289, 288, 287, 286, 285, 284, 283, 282, 281, 280, 279, 278, 277, 276, 275, 274, 273, 272, 271, 270, 269, 268, 267, 266, 265, 264, 263, 262, 261, 260, 259, 258, 257, 256, 255, 254, 253, 252, 251, 250, 249, 248, 247, 246, 245, 244, 243, 242, 241, 240, 239, 238, 237, 236, 235, 234, 233, 232, 231, 230, 229, 228, 227, 226, 225, 224, 223, 222, 221, 220, 219, 218, 217, 216, 215, 214, 213, 212, 211, 210, 209, 208, 207, 206, 205, 204, 203, 202, 201]\n"
     ]
    }
   ],
   "source": [
    "print(list(range(0,100,2)))\n",
    "print('-'*50)\n",
    "print(list(range(1,100,2)))\n",
    "print('-'*50)\n",
    "print(list(range(300,200,-1)))"
   ]
  },
  {
   "cell_type": "code",
   "execution_count": null,
   "metadata": {},
   "outputs": [],
   "source": [
    "for i in range(10):\n",
    "    print(i)\n",
    "    print('Welcome to Python') # statement\n",
    "    for i in range(20):\n",
    "        print('data science')"
   ]
  },
  {
   "cell_type": "markdown",
   "metadata": {},
   "source": [
    "# Random"
   ]
  },
  {
   "cell_type": "code",
   "execution_count": 21,
   "metadata": {},
   "outputs": [],
   "source": [
    "import random"
   ]
  },
  {
   "cell_type": "markdown",
   "metadata": {},
   "source": [
    "#### Generate 10 random number in the range of  0 to 30"
   ]
  },
  {
   "cell_type": "code",
   "execution_count": 34,
   "metadata": {},
   "outputs": [
    {
     "name": "stdout",
     "output_type": "stream",
     "text": [
      "Intial list = []\n",
      "Iter 0 , list = [26]\n",
      "Iter 1 , list = [26, 28]\n",
      "Iter 2 , list = [26, 28, 11]\n",
      "Iter 3 , list = [26, 28, 11, 16]\n",
      "Iter 4 , list = [26, 28, 11, 16, 13]\n",
      "Iter 5 , list = [26, 28, 11, 16, 13, 15]\n",
      "Iter 6 , list = [26, 28, 11, 16, 13, 15, 25]\n",
      "Iter 7 , list = [26, 28, 11, 16, 13, 15, 25, 0]\n",
      "Iter 8 , list = [26, 28, 11, 16, 13, 15, 25, 0, 17]\n",
      "Iter 9 , list = [26, 28, 11, 16, 13, 15, 25, 0, 17, 7]\n",
      "After the loop = [26, 28, 11, 16, 13, 15, 25, 0, 17, 7]\n"
     ]
    }
   ],
   "source": [
    "randl = []\n",
    "print('Intial list =', randl)\n",
    "for i in range(10):\n",
    "    randl.append(random.randint(0,30))\n",
    "    print('Iter {} , list = {}'.format(i,randl))\n",
    "    \n",
    "print('After the loop =',randl)"
   ]
  },
  {
   "cell_type": "code",
   "execution_count": 35,
   "metadata": {},
   "outputs": [
    {
     "data": {
      "text/plain": [
       "[26, 28, 11, 16, 13, 15, 25, 0, 17, 7]"
      ]
     },
     "execution_count": 35,
     "metadata": {},
     "output_type": "execute_result"
    }
   ],
   "source": [
    "randl"
   ]
  },
  {
   "cell_type": "markdown",
   "metadata": {},
   "source": [
    "## Filter out even and odd number but not zero in the list 'randl'"
   ]
  },
  {
   "cell_type": "code",
   "execution_count": null,
   "metadata": {},
   "outputs": [],
   "source": [
    "even = []\n",
    "odd = []\n",
    "for i,value in enumerate(randl):\n",
    "    print('Iter no =',i)\n",
    "    if value % 2 == 0 and value != 0:\n",
    "        print('Found even number')\n",
    "        even.append(value)\n",
    "    elif value % 2 != 0 and value != 0:\n",
    "        print('Found odd number')\n",
    "        odd.append(value)"
   ]
  },
  {
   "cell_type": "code",
   "execution_count": 41,
   "metadata": {},
   "outputs": [
    {
     "data": {
      "text/plain": [
       "([26, 28, 16], [11, 13, 15, 25, 17, 7])"
      ]
     },
     "execution_count": 41,
     "metadata": {},
     "output_type": "execute_result"
    }
   ],
   "source": [
    "even, odd"
   ]
  },
  {
   "cell_type": "code",
   "execution_count": 42,
   "metadata": {},
   "outputs": [],
   "source": [
    "text = \"\"\"Data Science is a process of extracting knowledge from the data, \n",
    "which has several process like data preparation, analysis and modelling. Data Preparation takes\n",
    "70% of data science project rest is all about analysis and modelling.\"\"\""
   ]
  },
  {
   "cell_type": "markdown",
   "metadata": {},
   "source": [
    "#### Find list of words\n",
    "- starts with 'e' in text\n",
    "- ends with 'e'\n",
    "- starts with 'd'"
   ]
  },
  {
   "cell_type": "code",
   "execution_count": 45,
   "metadata": {},
   "outputs": [
    {
     "name": "stdout",
     "output_type": "stream",
     "text": [
      "['data', 'science', 'is', 'a', 'process', 'of', 'extracting', 'knowledge', 'from', 'the', 'data,', 'which', 'has', 'several', 'process', 'like', 'data', 'preparation,', 'analysis', 'and', 'modelling.', 'data', 'preparation', 'takes', '70%', 'of', 'data', 'science', 'project', 'rest', 'is', 'all', 'about', 'analysis', 'and', 'modelling.']\n"
     ]
    }
   ],
   "source": [
    "# step -1:\n",
    "text = text.lower()\n",
    "tokens  = text.split()\n",
    "print(tokens)"
   ]
  },
  {
   "cell_type": "code",
   "execution_count": 58,
   "metadata": {},
   "outputs": [],
   "source": [
    "# list of words starts with 'e'\n",
    "starte = []\n",
    "for words in tokens:\n",
    "    if words.startswith('e'):\n",
    "        starte.append(words)\n",
    "        "
   ]
  },
  {
   "cell_type": "code",
   "execution_count": 60,
   "metadata": {},
   "outputs": [],
   "source": [
    "# list of words ends with 'e'\n",
    "ende = []\n",
    "for words in tokens:\n",
    "    if words.endswith('e'):\n",
    "        ende.append(words)"
   ]
  },
  {
   "cell_type": "code",
   "execution_count": 64,
   "metadata": {},
   "outputs": [
    {
     "data": {
      "text/plain": [
       "{'data', 'data,'}"
      ]
     },
     "execution_count": 64,
     "metadata": {},
     "output_type": "execute_result"
    }
   ],
   "source": [
    "# list of words starts with 'e'\n",
    "startd = []\n",
    "for words in tokens:\n",
    "    if words.startswith('d'):\n",
    "        startd.append(words)\n",
    "\n",
    "set(startd)"
   ]
  },
  {
   "cell_type": "markdown",
   "metadata": {},
   "source": [
    "#### If you find word 'process' in text break the loop. Print the words until word process"
   ]
  },
  {
   "cell_type": "code",
   "execution_count": 69,
   "metadata": {},
   "outputs": [
    {
     "name": "stdout",
     "output_type": "stream",
     "text": [
      "data\n",
      "science\n",
      "is\n",
      "a\n",
      "process\n"
     ]
    }
   ],
   "source": [
    "for words in tokens:\n",
    "    print(words)\n",
    "    if words == 'process':\n",
    "        break"
   ]
  },
  {
   "cell_type": "markdown",
   "metadata": {},
   "source": [
    "# While loop\n",
    "\n",
    "    while condition:\n",
    "        ...\n",
    "        ..."
   ]
  },
  {
   "cell_type": "markdown",
   "metadata": {},
   "source": [
    "##### write a program using while loop to print number upto 0 to 5\n"
   ]
  },
  {
   "cell_type": "code",
   "execution_count": 70,
   "metadata": {},
   "outputs": [
    {
     "name": "stdout",
     "output_type": "stream",
     "text": [
      "0\n",
      "1\n",
      "2\n",
      "3\n",
      "4\n",
      "5\n"
     ]
    }
   ],
   "source": [
    "i = 0\n",
    "while i <= 5:\n",
    "    print(i)\n",
    "    i += 1"
   ]
  },
  {
   "cell_type": "code",
   "execution_count": 71,
   "metadata": {},
   "outputs": [
    {
     "name": "stdout",
     "output_type": "stream",
     "text": [
      "0\n",
      "1\n",
      "2\n",
      "3\n",
      "4\n",
      "5\n",
      "6\n"
     ]
    }
   ],
   "source": [
    "i = 0\n",
    "while True:\n",
    "    print(i)\n",
    "    if i > 5:\n",
    "        break\n",
    "    else:\n",
    "        i += 1"
   ]
  },
  {
   "cell_type": "code",
   "execution_count": null,
   "metadata": {},
   "outputs": [],
   "source": []
  },
  {
   "cell_type": "code",
   "execution_count": null,
   "metadata": {},
   "outputs": [],
   "source": []
  },
  {
   "cell_type": "code",
   "execution_count": 13,
   "metadata": {},
   "outputs": [
    {
     "name": "stdout",
     "output_type": "stream",
     "text": [
      "Range of number from 0 - 100:\n",
      "[0, 1, 2, 3, 4, 5, 6, 7, 8, 9, 10, 11, 12, 13, 14, 15, 16, 17, 18, 19, 20, 21, 22, 23, 24, 25, 26, 27, 28, 29, 30, 31, 32, 33, 34, 35, 36, 37, 38, 39, 40, 41, 42, 43, 44, 45, 46, 47, 48, 49, 50, 51, 52, 53, 54, 55, 56, 57, 58, 59, 60, 61, 62, 63, 64, 65, 66, 67, 68, 69, 70, 71, 72, 73, 74, 75, 76, 77, 78, 79, 80, 81, 82, 83, 84, 85, 86, 87, 88, 89, 90, 91, 92, 93, 94, 95, 96, 97, 98, 99]\n",
      "===============================================================================\n",
      "list of even number in 0 - 100\n",
      "[2, 4, 6, 8, 10, 12, 14, 16, 18, 20, 22, 24, 26, 28, 30, 32, 34, 36, 38, 40, 42, 44, 46, 48, 50, 52, 54, 56, 58, 60, 62, 64, 66, 68, 70, 72, 74, 76, 78, 80, 82, 84, 86, 88, 90, 92, 94, 96, 98]\n",
      "===============================================================================\n",
      "list of odd number in 0 - 100\n",
      "[1, 3, 5, 7, 9, 11, 13, 15, 17, 19, 21, 23, 25, 27, 29, 31, 33, 35, 37, 39, 41, 43, 45, 47, 49, 51, 53, 55, 57, 59, 61, 63, 65, 67, 69, 71, 73, 75, 77, 79, 81, 83, 85, 87, 89, 91, 93, 95, 97, 99]\n",
      "===============================================================================\n",
      "list of number from 300 - 200\n",
      "[300, 299, 298, 297, 296, 295, 294, 293, 292, 291, 290, 289, 288, 287, 286, 285, 284, 283, 282, 281, 280, 279, 278, 277, 276, 275, 274, 273, 272, 271, 270, 269, 268, 267, 266, 265, 264, 263, 262, 261, 260, 259, 258, 257, 256, 255, 254, 253, 252, 251, 250, 249, 248, 247, 246, 245, 244, 243, 242, 241, 240, 239, 238, 237, 236, 235, 234, 233, 232, 231, 230, 229, 228, 227, 226, 225, 224, 223, 222, 221, 220, 219, 218, 217, 216, 215, 214, 213, 212, 211, 210, 209, 208, 207, 206, 205, 204, 203, 202, 201]\n",
      "===============================================================================\n"
     ]
    }
   ],
   "source": [
    "# 0 - 100\n",
    "print('Range of number from 0 - 100:')\n",
    "print(list(range(100)))\n",
    "print('='*79)\n",
    "# 0 - 100 even numbers\n",
    "print('list of even number in 0 - 100')\n",
    "print(list(range(2,100,2)))\n",
    "print('='*79)\n",
    "#  0 - 100 odd numbers\n",
    "print('list of odd number in 0 - 100')\n",
    "print(list(range(1,100,2)))\n",
    "print('='*79)\n",
    "#  300 - 200 \n",
    "print('list of number from 300 - 200')\n",
    "print(list(range(300,200,-1)))\n",
    "print('='*79)"
   ]
  },
  {
   "cell_type": "markdown",
   "metadata": {},
   "source": [
    "`for`"
   ]
  },
  {
   "cell_type": "code",
   "execution_count": 15,
   "metadata": {},
   "outputs": [
    {
     "name": "stdout",
     "output_type": "stream",
     "text": [
      "0 Inside the loop\n",
      "1 Inside the loop\n",
      "2 Inside the loop\n",
      "3 Inside the loop\n",
      "4 Inside the loop\n",
      "5 Inside the loop\n",
      "6 Inside the loop\n",
      "7 Inside the loop\n",
      "8 Inside the loop\n",
      "9 Inside the loop\n",
      "Out of the loop\n"
     ]
    }
   ],
   "source": [
    "for i in range(10): # this for ten iteration\n",
    "    # indentatiation\n",
    "    # 1 tab\n",
    "    # ...\n",
    "    # ...\n",
    "    print(i,'Inside the loop')\n",
    "# out of the loop\n",
    "print('Out of the loop')"
   ]
  },
  {
   "cell_type": "markdown",
   "metadata": {},
   "source": [
    "**Write a program to print your name 10 times using for loop but iteration should be in reverse order starting from 10 to 1**"
   ]
  },
  {
   "cell_type": "code",
   "execution_count": 16,
   "metadata": {
    "collapsed": true
   },
   "outputs": [
    {
     "name": "stdout",
     "output_type": "stream",
     "text": [
      "10 Srikanth\n",
      "9 Srikanth\n",
      "8 Srikanth\n",
      "7 Srikanth\n",
      "6 Srikanth\n",
      "5 Srikanth\n",
      "4 Srikanth\n",
      "3 Srikanth\n",
      "2 Srikanth\n",
      "1 Srikanth\n"
     ]
    }
   ],
   "source": [
    "for i in range(10,0,-1):\n",
    "    print(i,'Srikanth')"
   ]
  },
  {
   "cell_type": "code",
   "execution_count": 19,
   "metadata": {},
   "outputs": [
    {
     "name": "stdout",
     "output_type": "stream",
     "text": [
      "0 Innomatics\n",
      "1 Technology\n",
      "2 Hub\n",
      "3 1\n",
      "4 2\n",
      "5 3\n"
     ]
    }
   ],
   "source": [
    "# create a list \n",
    "my_list = ['Innomatics','Technology','Hub',1,2,3]\n",
    "for i in range(len(my_list)):\n",
    "    print(i,my_list[i])"
   ]
  },
  {
   "cell_type": "code",
   "execution_count": 20,
   "metadata": {},
   "outputs": [
    {
     "name": "stdout",
     "output_type": "stream",
     "text": [
      "Innomatics\n",
      "Technology\n",
      "Hub\n",
      "1\n",
      "2\n",
      "3\n"
     ]
    }
   ],
   "source": [
    "for i in my_list:\n",
    "    print(i)"
   ]
  },
  {
   "cell_type": "markdown",
   "metadata": {},
   "source": [
    "### Create 100 random number in the range of 0 to 100\n",
    "> random"
   ]
  },
  {
   "cell_type": "code",
   "execution_count": 21,
   "metadata": {},
   "outputs": [],
   "source": [
    "import random"
   ]
  },
  {
   "cell_type": "code",
   "execution_count": 25,
   "metadata": {},
   "outputs": [
    {
     "data": {
      "text/plain": [
       "29"
      ]
     },
     "execution_count": 25,
     "metadata": {},
     "output_type": "execute_result"
    }
   ],
   "source": [
    "num = random.randint(0,100)\n",
    "num"
   ]
  },
  {
   "cell_type": "markdown",
   "metadata": {},
   "source": [
    "> Create emtpy list **`rand`** and append the random integer number using for loop"
   ]
  },
  {
   "cell_type": "code",
   "execution_count": 27,
   "metadata": {},
   "outputs": [
    {
     "name": "stdout",
     "output_type": "stream",
     "text": [
      "[64, 22, 5, 2, 81, 78, 70, 60, 47, 47, 5, 11, 7, 99, 90, 68, 4, 9, 73, 70, 2, 6, 90, 29, 27, 81, 100, 27, 55, 45, 99, 90, 8, 73, 12, 57, 92, 63, 60, 70, 20, 32, 90, 38, 29, 30, 40, 30, 89, 23, 36, 43, 59, 87, 85, 61, 53, 58, 55, 13, 30, 80, 21, 74, 63, 97, 94, 46, 63, 82, 34, 49, 74, 83, 93, 56, 71, 73, 64, 7, 86, 39, 71, 45, 13, 47, 7, 48, 48, 80, 41, 24, 16, 79, 0, 88, 75, 90, 85, 32]\n"
     ]
    }
   ],
   "source": [
    "rand = []\n",
    "for i in range(100):\n",
    "    num = random.randint(0,100)\n",
    "    rand.append(num)\n",
    "    \n",
    "print(rand)"
   ]
  },
  {
   "cell_type": "markdown",
   "metadata": {},
   "source": [
    "- find and create a list of even number in rand\n",
    "- find and create a list of number divisible by 5 in rand"
   ]
  },
  {
   "cell_type": "code",
   "execution_count": 28,
   "metadata": {},
   "outputs": [
    {
     "name": "stdout",
     "output_type": "stream",
     "text": [
      "Even number are :\n",
      " [64, 22, 2, 78, 70, 60, 90, 68, 4, 70, 2, 6, 90, 100, 90, 8, 12, 92, 60, 70, 20, 32, 90, 38, 30, 40, 30, 36, 58, 30, 80, 74, 94, 46, 82, 34, 74, 56, 64, 86, 48, 48, 80, 24, 16, 88, 90, 32]\n",
      "===============================================================================\n",
      "Divisible by 5 number are :\n",
      " [5, 70, 60, 5, 90, 70, 90, 100, 55, 45, 90, 60, 70, 20, 90, 30, 40, 30, 85, 55, 30, 80, 45, 80, 75, 90, 85]\n",
      "===============================================================================\n"
     ]
    }
   ],
   "source": [
    "# even number\n",
    "even = []\n",
    "for i in rand:\n",
    "    if i != 0:\n",
    "        if i %2 == 0:\n",
    "            even.append(i)\n",
    "print('Even number are :\\n',even)\n",
    "print('='*79)\n",
    "\n",
    "\n",
    "# divisible by 5\n",
    "div5 = []\n",
    "for i in rand:\n",
    "    if i != 0:\n",
    "        if i %5 == 0:\n",
    "            div5.append(i)\n",
    "print('Divisible by 5 number are :\\n',div5)\n",
    "print('='*79)\n"
   ]
  },
  {
   "cell_type": "code",
   "execution_count": 29,
   "metadata": {},
   "outputs": [],
   "source": [
    "# text\n",
    "text ='''\n",
    "Over six years ago, in December 1989, I was looking for a \"hobby\" programming project that would keep me occupied during the week around Christmas. My office (a government-run research lab in Amsterdam) would be closed, but I had a home computer, and not much else on my hands. I decided to write an interpreter for the new scripting language I had been thinking about lately: a descendant of ABC that would appeal to Unix/C hackers. I chose Python as a working title for the project, being in a slightly irreverent mood (and a big fan of Monty Python's Flying Circus)\n",
    "'''"
   ]
  },
  {
   "cell_type": "markdown",
   "metadata": {},
   "source": [
    "- find the words that starting with 'd'\n",
    "- find the words that endswith g"
   ]
  },
  {
   "cell_type": "code",
   "execution_count": 34,
   "metadata": {},
   "outputs": [
    {
     "name": "stdout",
     "output_type": "stream",
     "text": [
      "List of words in text:\n",
      "['over', 'six', 'years', 'ago', 'in', 'december', '1989', 'i', 'was', 'looking', 'for', 'a', '\"hobby\"', 'programming', 'project', 'that', 'would', 'keep', 'me', 'occupied', 'during', 'the', 'week', 'around', 'christmas', 'my', 'office', 'a', 'government-run', 'research', 'lab', 'in', 'amsterdam', 'would', 'be', 'closed', 'but', 'i', 'had', 'a', 'home', 'computer', 'and', 'not', 'much', 'else', 'on', 'my', 'hands', 'i', 'decided', 'to', 'write', 'an', 'interpreter', 'for', 'the', 'new', 'scripting', 'language', 'i', 'had', 'been', 'thinking', 'about', 'lately', 'a', 'descendant', 'of', 'abc', 'that', 'would', 'appeal', 'to', 'unix/c', 'hackers', 'i', 'chose', 'python', 'as', 'a', 'working', 'title', 'for', 'the', 'project', 'being', 'in', 'a', 'slightly', 'irreverent', 'mood', 'and', 'a', 'big', 'fan', 'of', 'monty', \"python's\", 'flying', 'circus']\n",
      "===============================================================================\n",
      "words starts with d is :\n",
      " ['december', 'during', 'decided', 'descendant']\n",
      "===============================================================================\n",
      "words ends with g is :\n",
      " ['looking', 'programming', 'during', 'scripting', 'thinking', 'working', 'being', 'big', 'flying']\n"
     ]
    }
   ],
   "source": [
    "# cleaning\n",
    "text1 = text.lower()\n",
    "text1 = text1.replace('\\n','')\n",
    "text1 = text1.replace(':','')\n",
    "text1 = text1.replace(',','')\n",
    "text1 = text1.replace('.','')\n",
    "text1 = text1.replace('(','')\n",
    "text1 = text1.replace(')','')\n",
    "# splitting into words\n",
    "words = text1.split()\n",
    "print('List of words in text:')\n",
    "print(words)\n",
    "# finding words start and ends with d and g\n",
    "starts = []\n",
    "ends = []\n",
    "for i in words:\n",
    "    if i.startswith('d'):\n",
    "        starts.append(i)\n",
    "        \n",
    "    if i.endswith('g'):\n",
    "        ends.append(i)\n",
    "print('='*79)\n",
    "print('words starts with d is :\\n',starts)\n",
    "print('='*79)\n",
    "print('words ends with g is :\\n',ends)\n"
   ]
  },
  {
   "cell_type": "code",
   "execution_count": null,
   "metadata": {},
   "outputs": [],
   "source": []
  }
 ],
 "metadata": {
  "kernelspec": {
   "display_name": "Python 3",
   "language": "python",
   "name": "python3"
  },
  "language_info": {
   "codemirror_mode": {
    "name": "ipython",
    "version": 3
   },
   "file_extension": ".py",
   "mimetype": "text/x-python",
   "name": "python",
   "nbconvert_exporter": "python",
   "pygments_lexer": "ipython3",
   "version": "3.6.7"
  }
 },
 "nbformat": 4,
 "nbformat_minor": 2
}
