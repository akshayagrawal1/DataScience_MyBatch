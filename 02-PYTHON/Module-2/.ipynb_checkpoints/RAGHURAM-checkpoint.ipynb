{
 "cells": [
  {
   "cell_type": "markdown",
   "metadata": {},
   "source": [
    " # Variable"
   ]
  },
  {
   "cell_type": "code",
   "execution_count": 34,
   "metadata": {},
   "outputs": [],
   "source": [
    "a =45 \n",
    "b= 99.0 \n",
    "c =  a+b "
   ]
  },
  {
   "cell_type": "code",
   "execution_count": 35,
   "metadata": {},
   "outputs": [
    {
     "name": "stdout",
     "output_type": "stream",
     "text": [
      "Addition of two number is  144.0\n"
     ]
    }
   ],
   "source": [
    "print(\"Addition of two number is \", c)"
   ]
  },
  {
   "cell_type": "code",
   "execution_count": 36,
   "metadata": {},
   "outputs": [
    {
     "name": "stdout",
     "output_type": "stream",
     "text": [
      "please enter your nameraghu\n",
      "Enter your age25\n",
      "Hello raghu your age is 25\n"
     ]
    }
   ],
   "source": [
    "ap =input(\"please enter your name\")\n",
    "app = int(input(\"Enter your age\"))\n",
    "print('Hello {} your age is {}'.format(ap, app))"
   ]
  },
  {
   "cell_type": "code",
   "execution_count": 37,
   "metadata": {},
   "outputs": [
    {
     "name": "stdout",
     "output_type": "stream",
     "text": [
      "Hello raghu  your age is 25 \n"
     ]
    }
   ],
   "source": [
    "print('Hello %s  your age is %d '%(ap,app))"
   ]
  },
  {
   "cell_type": "markdown",
   "metadata": {},
   "source": [
    "# Find the area and perimeter of the circle"
   ]
  },
  {
   "cell_type": "code",
   "execution_count": 38,
   "metadata": {},
   "outputs": [
    {
     "name": "stdout",
     "output_type": "stream",
     "text": [
      "Please enter the radius of the circle: 5\n",
      "Area of circle with radius 5.0=78.57142857142857\n",
      "perimeter of the circle with radius 5.000000 = 31.428571 \n"
     ]
    }
   ],
   "source": [
    "r = float(input(\"Please enter the radius of the circle: \"))\n",
    "pi= 22/7\n",
    "area = pi*pow(r,2)\n",
    "perimeter =2*pi*r\n",
    "print(\"Area of circle with radius {}={}\".format(r,area))\n",
    "print(\"perimeter of the circle with radius %f = %f \" %(r,perimeter))"
   ]
  },
  {
   "cell_type": "markdown",
   "metadata": {},
   "source": [
    "# Operations"
   ]
  },
  {
   "cell_type": "markdown",
   "metadata": {},
   "source": [
    "`add : + \n",
    "sub  : -\n",
    "mul  : *\n",
    "div  : /\n",
    "reminder : %\n",
    "div : a / b \n",
    "abs = absolute\n",
    "pow = power`\n"
   ]
  },
  {
   "cell_type": "code",
   "execution_count": 39,
   "metadata": {},
   "outputs": [
    {
     "data": {
      "text/plain": [
       "437905770101505334663665494778098791025081856836411178674083838715559713339331437964574433863162994384765625"
      ]
     },
     "execution_count": 39,
     "metadata": {},
     "output_type": "execute_result"
    }
   ],
   "source": [
    "pow(25,77)"
   ]
  },
  {
   "cell_type": "code",
   "execution_count": 40,
   "metadata": {},
   "outputs": [
    {
     "data": {
      "text/plain": [
       "5"
      ]
     },
     "execution_count": 40,
     "metadata": {},
     "output_type": "execute_result"
    }
   ],
   "source": [
    "abs(-5)"
   ]
  },
  {
   "cell_type": "code",
   "execution_count": 41,
   "metadata": {},
   "outputs": [
    {
     "data": {
      "text/plain": [
       "0"
      ]
     },
     "execution_count": 41,
     "metadata": {},
     "output_type": "execute_result"
    }
   ],
   "source": [
    "10%2"
   ]
  },
  {
   "cell_type": "code",
   "execution_count": 42,
   "metadata": {},
   "outputs": [
    {
     "name": "stdout",
     "output_type": "stream",
     "text": [
      "Enter the value of x: 5\n",
      "Enter the value of y: 3\n",
      "The reminder of 5 and 3 is 2\n"
     ]
    }
   ],
   "source": [
    "x =int(input('Enter the value of x: '))\n",
    "y =int(input('Enter the value of y: '))\n",
    "z = x%y \n",
    "print('The reminder of {} and {} is {}'.format(x,y,z))\n"
   ]
  },
  {
   "cell_type": "markdown",
   "metadata": {},
   "source": [
    "# Strings"
   ]
  },
  {
   "cell_type": "code",
   "execution_count": 58,
   "metadata": {},
   "outputs": [],
   "source": [
    "text = '''Srikanth is an interpreted high-level programming language for general-purpose programming. \n",
    "\\nCreated by Guido van Rossum and first released in 1991,\\nSrikanth has a design philosophy that\n",
    "emphasizes code readability,\\nnotably using significant whitespace.\\n'''"
   ]
  },
  {
   "cell_type": "code",
   "execution_count": 51,
   "metadata": {},
   "outputs": [
    {
     "data": {
      "text/plain": [
       "True"
      ]
     },
     "execution_count": 51,
     "metadata": {},
     "output_type": "execute_result"
    }
   ],
   "source": [
    "text.startswith('S')"
   ]
  },
  {
   "cell_type": "code",
   "execution_count": 52,
   "metadata": {},
   "outputs": [
    {
     "name": "stdout",
     "output_type": "stream",
     "text": [
      "s\n",
      "s\n",
      "s\n",
      "s\n",
      "s\n",
      "s\n",
      "s\n",
      "s\n",
      "s\n",
      "s\n",
      "s\n",
      "s\n",
      "s\n",
      "s\n"
     ]
    }
   ],
   "source": [
    "for i in text:\n",
    "    if i.endswith('s'):\n",
    "        print(i)"
   ]
  },
  {
   "cell_type": "code",
   "execution_count": 53,
   "metadata": {},
   "outputs": [
    {
     "data": {
      "text/plain": [
       "['Srikanth',\n",
       " 'is',\n",
       " 'an',\n",
       " 'interpreted',\n",
       " 'high-level',\n",
       " 'programming',\n",
       " 'language',\n",
       " 'for',\n",
       " 'general-purpose',\n",
       " 'programming.',\n",
       " 'Created',\n",
       " 'by',\n",
       " 'Guido',\n",
       " 'van',\n",
       " 'Rossum',\n",
       " 'and',\n",
       " 'first',\n",
       " 'released',\n",
       " 'in',\n",
       " '1991,',\n",
       " 'Srikanth',\n",
       " 'has',\n",
       " 'a',\n",
       " 'design',\n",
       " 'philosophy',\n",
       " 'that',\n",
       " 'emphasizes',\n",
       " 'code',\n",
       " 'readability,',\n",
       " 'notably',\n",
       " 'using',\n",
       " 'significant',\n",
       " 'whitespace.']"
      ]
     },
     "execution_count": 53,
     "metadata": {},
     "output_type": "execute_result"
    }
   ],
   "source": [
    "texts =text.split()  # converting from text to list \n",
    "texts"
   ]
  },
  {
   "cell_type": "code",
   "execution_count": 56,
   "metadata": {},
   "outputs": [
    {
     "name": "stdout",
     "output_type": "stream",
     "text": [
      "significant\n"
     ]
    }
   ],
   "source": [
    "for i in texts:\n",
    "    if i.startswith('s'):\n",
    "        print(i)\n",
    "        "
   ]
  },
  {
   "cell_type": "code",
   "execution_count": 60,
   "metadata": {},
   "outputs": [
    {
     "name": "stdout",
     "output_type": "stream",
     "text": [
      "is\n",
      "has\n",
      "emphasizes\n"
     ]
    }
   ],
   "source": [
    "for i in texts:\n",
    "    if i.endswith('s'):\n",
    "        print(i)"
   ]
  },
  {
   "cell_type": "code",
   "execution_count": 61,
   "metadata": {},
   "outputs": [
    {
     "data": {
      "text/plain": [
       "['Srikanth',\n",
       " 'is',\n",
       " 'an',\n",
       " 'interpreted',\n",
       " 'high-level',\n",
       " 'programming',\n",
       " 'language',\n",
       " 'for',\n",
       " 'general-purpose',\n",
       " 'programming.',\n",
       " 'Created',\n",
       " 'by',\n",
       " 'Guido',\n",
       " 'van',\n",
       " 'Rossum',\n",
       " 'and',\n",
       " 'first',\n",
       " 'released',\n",
       " 'in',\n",
       " '1991,',\n",
       " 'Srikanth',\n",
       " 'has',\n",
       " 'a',\n",
       " 'design',\n",
       " 'philosophy',\n",
       " 'that',\n",
       " 'emphasizes',\n",
       " 'code',\n",
       " 'readability,',\n",
       " 'notably',\n",
       " 'using',\n",
       " 'significant',\n",
       " 'whitespace.']"
      ]
     },
     "execution_count": 61,
     "metadata": {},
     "output_type": "execute_result"
    }
   ],
   "source": [
    "texts"
   ]
  },
  {
   "cell_type": "code",
   "execution_count": 65,
   "metadata": {},
   "outputs": [],
   "source": [
    "texts.sort() # sorting in the list "
   ]
  },
  {
   "cell_type": "code",
   "execution_count": 66,
   "metadata": {},
   "outputs": [
    {
     "data": {
      "text/plain": [
       "['1991,',\n",
       " 'Created',\n",
       " 'Guido',\n",
       " 'Rossum',\n",
       " 'Srikanth',\n",
       " 'Srikanth',\n",
       " 'a',\n",
       " 'an',\n",
       " 'and',\n",
       " 'by',\n",
       " 'code',\n",
       " 'design',\n",
       " 'emphasizes',\n",
       " 'first',\n",
       " 'for',\n",
       " 'general-purpose',\n",
       " 'has',\n",
       " 'high-level',\n",
       " 'in',\n",
       " 'interpreted',\n",
       " 'is',\n",
       " 'language',\n",
       " 'notably',\n",
       " 'philosophy',\n",
       " 'programming',\n",
       " 'programming.',\n",
       " 'readability,',\n",
       " 'released',\n",
       " 'significant',\n",
       " 'that',\n",
       " 'using',\n",
       " 'van',\n",
       " 'whitespace.']"
      ]
     },
     "execution_count": 66,
     "metadata": {},
     "output_type": "execute_result"
    }
   ],
   "source": [
    "texts"
   ]
  },
  {
   "cell_type": "code",
   "execution_count": 67,
   "metadata": {},
   "outputs": [
    {
     "data": {
      "text/plain": [
       "1"
      ]
     },
     "execution_count": 67,
     "metadata": {},
     "output_type": "execute_result"
    }
   ],
   "source": [
    "texts.count('code')  # how may in given list"
   ]
  },
  {
   "cell_type": "code",
   "execution_count": 69,
   "metadata": {},
   "outputs": [
    {
     "data": {
      "text/plain": [
       "10"
      ]
     },
     "execution_count": 69,
     "metadata": {},
     "output_type": "execute_result"
    }
   ],
   "source": [
    "texts.index('code')  # index position given list"
   ]
  },
  {
   "cell_type": "code",
   "execution_count": 70,
   "metadata": {},
   "outputs": [],
   "source": [
    "texts.append('SRI')"
   ]
  },
  {
   "cell_type": "code",
   "execution_count": 71,
   "metadata": {},
   "outputs": [
    {
     "data": {
      "text/plain": [
       "['1991,',\n",
       " 'Created',\n",
       " 'Guido',\n",
       " 'Rossum',\n",
       " 'Srikanth',\n",
       " 'Srikanth',\n",
       " 'a',\n",
       " 'an',\n",
       " 'and',\n",
       " 'by',\n",
       " 'code',\n",
       " 'design',\n",
       " 'emphasizes',\n",
       " 'first',\n",
       " 'for',\n",
       " 'general-purpose',\n",
       " 'has',\n",
       " 'high-level',\n",
       " 'in',\n",
       " 'interpreted',\n",
       " 'is',\n",
       " 'language',\n",
       " 'notably',\n",
       " 'philosophy',\n",
       " 'programming',\n",
       " 'programming.',\n",
       " 'readability,',\n",
       " 'released',\n",
       " 'significant',\n",
       " 'that',\n",
       " 'using',\n",
       " 'van',\n",
       " 'whitespace.',\n",
       " 'SRI']"
      ]
     },
     "execution_count": 71,
     "metadata": {},
     "output_type": "execute_result"
    }
   ],
   "source": [
    "texts"
   ]
  },
  {
   "cell_type": "code",
   "execution_count": 72,
   "metadata": {},
   "outputs": [],
   "source": [
    "texts.extend(('LIST', 'TUPLE'))"
   ]
  },
  {
   "cell_type": "code",
   "execution_count": 73,
   "metadata": {},
   "outputs": [
    {
     "data": {
      "text/plain": [
       "['1991,',\n",
       " 'Created',\n",
       " 'Guido',\n",
       " 'Rossum',\n",
       " 'Srikanth',\n",
       " 'Srikanth',\n",
       " 'a',\n",
       " 'an',\n",
       " 'and',\n",
       " 'by',\n",
       " 'code',\n",
       " 'design',\n",
       " 'emphasizes',\n",
       " 'first',\n",
       " 'for',\n",
       " 'general-purpose',\n",
       " 'has',\n",
       " 'high-level',\n",
       " 'in',\n",
       " 'interpreted',\n",
       " 'is',\n",
       " 'language',\n",
       " 'notably',\n",
       " 'philosophy',\n",
       " 'programming',\n",
       " 'programming.',\n",
       " 'readability,',\n",
       " 'released',\n",
       " 'significant',\n",
       " 'that',\n",
       " 'using',\n",
       " 'van',\n",
       " 'whitespace.',\n",
       " 'SRI',\n",
       " 'LIST',\n",
       " 'TUPLE']"
      ]
     },
     "execution_count": 73,
     "metadata": {},
     "output_type": "execute_result"
    }
   ],
   "source": [
    "texts"
   ]
  },
  {
   "cell_type": "code",
   "execution_count": 74,
   "metadata": {},
   "outputs": [
    {
     "data": {
      "text/plain": [
       "36"
      ]
     },
     "execution_count": 74,
     "metadata": {},
     "output_type": "execute_result"
    }
   ],
   "source": [
    "len(texts)"
   ]
  },
  {
   "cell_type": "code",
   "execution_count": 82,
   "metadata": {},
   "outputs": [
    {
     "data": {
      "text/plain": [
       "['1991,',\n",
       " 'Created',\n",
       " 'Guido',\n",
       " 'Rossum',\n",
       " 'Srikanth',\n",
       " 'Srikanth',\n",
       " 'a',\n",
       " 'an',\n",
       " 'and',\n",
       " 'by',\n",
       " 'code',\n",
       " 'design',\n",
       " 'emphasizes',\n",
       " 'first',\n",
       " 'for',\n",
       " 'general-purpose',\n",
       " 'has',\n",
       " 'high-level',\n",
       " 'in',\n",
       " 'interpreted',\n",
       " 'is',\n",
       " 'language',\n",
       " 'notably',\n",
       " 'philosophy',\n",
       " 'programming',\n",
       " 'programming.',\n",
       " 'readability,',\n",
       " 'released',\n",
       " 'significant',\n",
       " 'that',\n",
       " 'using',\n",
       " 'van',\n",
       " 'whitespace.',\n",
       " 'SRI',\n",
       " 'LIST',\n",
       " 'TUPLE']"
      ]
     },
     "execution_count": 82,
     "metadata": {},
     "output_type": "execute_result"
    }
   ],
   "source": [
    "texts[:]"
   ]
  },
  {
   "cell_type": "code",
   "execution_count": 76,
   "metadata": {},
   "outputs": [
    {
     "data": {
      "text/plain": [
       "['1991,', 'Created', 'Guido', 'Rossum']"
      ]
     },
     "execution_count": 76,
     "metadata": {},
     "output_type": "execute_result"
    }
   ],
   "source": [
    "texts[0:4]"
   ]
  },
  {
   "cell_type": "code",
   "execution_count": 77,
   "metadata": {},
   "outputs": [
    {
     "data": {
      "text/plain": [
       "['TUPLE',\n",
       " 'LIST',\n",
       " 'SRI',\n",
       " 'whitespace.',\n",
       " 'van',\n",
       " 'using',\n",
       " 'that',\n",
       " 'significant',\n",
       " 'released',\n",
       " 'readability,',\n",
       " 'programming.',\n",
       " 'programming',\n",
       " 'philosophy',\n",
       " 'notably',\n",
       " 'language',\n",
       " 'is',\n",
       " 'interpreted',\n",
       " 'in',\n",
       " 'high-level',\n",
       " 'has',\n",
       " 'general-purpose',\n",
       " 'for',\n",
       " 'first',\n",
       " 'emphasizes',\n",
       " 'design',\n",
       " 'code',\n",
       " 'by',\n",
       " 'and',\n",
       " 'an',\n",
       " 'a',\n",
       " 'Srikanth',\n",
       " 'Srikanth',\n",
       " 'Rossum',\n",
       " 'Guido',\n",
       " 'Created',\n",
       " '1991,']"
      ]
     },
     "execution_count": 77,
     "metadata": {},
     "output_type": "execute_result"
    }
   ],
   "source": [
    "texts[::-1]"
   ]
  },
  {
   "cell_type": "code",
   "execution_count": 78,
   "metadata": {},
   "outputs": [
    {
     "data": {
      "text/plain": [
       "['Srikanth', 'a', 'an', 'and', 'by']"
      ]
     },
     "execution_count": 78,
     "metadata": {},
     "output_type": "execute_result"
    }
   ],
   "source": [
    "texts[5:10]"
   ]
  },
  {
   "cell_type": "code",
   "execution_count": 79,
   "metadata": {},
   "outputs": [
    {
     "data": {
      "text/plain": [
       "['TUPLE',\n",
       " 'using',\n",
       " 'programming.',\n",
       " 'is',\n",
       " 'general-purpose',\n",
       " 'code',\n",
       " 'Srikanth',\n",
       " '1991,']"
      ]
     },
     "execution_count": 79,
     "metadata": {},
     "output_type": "execute_result"
    }
   ],
   "source": [
    "texts[::-5]"
   ]
  },
  {
   "cell_type": "code",
   "execution_count": 81,
   "metadata": {},
   "outputs": [
    {
     "data": {
      "text/plain": [
       "['released', 'significant', 'that', 'using']"
      ]
     },
     "execution_count": 81,
     "metadata": {},
     "output_type": "execute_result"
    }
   ],
   "source": [
    "texts[-9:-5]"
   ]
  },
  {
   "cell_type": "code",
   "execution_count": 87,
   "metadata": {},
   "outputs": [
    {
     "name": "stdout",
     "output_type": "stream",
     "text": [
      "Range of the Srikanth is from 0 to 8\n"
     ]
    }
   ],
   "source": [
    "find_text =\"Srikanth\"\n",
    "start=text.find(find_text)\n",
    "range_of_test =start+len(find_text)\n",
    "print('Range of the {} is from {} to {}'.format(find_text,start,range_of_test))"
   ]
  },
  {
   "cell_type": "code",
   "execution_count": 89,
   "metadata": {},
   "outputs": [
    {
     "name": "stdout",
     "output_type": "stream",
     "text": [
      "Range of the Srikanth is from 0 to 8\n"
     ]
    }
   ],
   "source": [
    "print('Range of the %s is from %d to %d' %((find_text,start,range_of_test)))"
   ]
  },
  {
   "cell_type": "code",
   "execution_count": 90,
   "metadata": {
    "collapsed": true
   },
   "outputs": [
    {
     "data": {
      "text/plain": [
       "['1991,',\n",
       " 'Created',\n",
       " 'Guido',\n",
       " 'Rossum',\n",
       " 'Srikanth',\n",
       " 'Srikanth',\n",
       " 'a',\n",
       " 'an',\n",
       " 'and',\n",
       " 'by',\n",
       " 'code',\n",
       " 'design',\n",
       " 'emphasizes',\n",
       " 'first',\n",
       " 'for',\n",
       " 'general-purpose',\n",
       " 'has',\n",
       " 'high-level',\n",
       " 'in',\n",
       " 'interpreted',\n",
       " 'is',\n",
       " 'language',\n",
       " 'notably',\n",
       " 'philosophy',\n",
       " 'programming',\n",
       " 'programming.',\n",
       " 'readability,',\n",
       " 'released',\n",
       " 'significant',\n",
       " 'that',\n",
       " 'using',\n",
       " 'van',\n",
       " 'whitespace.',\n",
       " 'SRI',\n",
       " 'LIST',\n",
       " 'TUPLE']"
      ]
     },
     "execution_count": 90,
     "metadata": {},
     "output_type": "execute_result"
    }
   ],
   "source": [
    "texts"
   ]
  },
  {
   "cell_type": "code",
   "execution_count": 91,
   "metadata": {},
   "outputs": [
    {
     "data": {
      "text/plain": [
       "36"
      ]
     },
     "execution_count": 91,
     "metadata": {},
     "output_type": "execute_result"
    }
   ],
   "source": [
    "len(texts)"
   ]
  },
  {
   "cell_type": "code",
   "execution_count": 97,
   "metadata": {},
   "outputs": [],
   "source": [
    "texts.remove('TUPLE')"
   ]
  },
  {
   "cell_type": "code",
   "execution_count": null,
   "metadata": {},
   "outputs": [],
   "source": []
  },
  {
   "cell_type": "code",
   "execution_count": 99,
   "metadata": {},
   "outputs": [],
   "source": [
    "texts.append('RAMYA')"
   ]
  },
  {
   "cell_type": "code",
   "execution_count": 100,
   "metadata": {},
   "outputs": [
    {
     "data": {
      "text/plain": [
       "['1991,',\n",
       " 'Created',\n",
       " 'Guido',\n",
       " 'Rossum',\n",
       " 'Srikanth',\n",
       " 'Srikanth',\n",
       " 'a',\n",
       " 'an',\n",
       " 'and',\n",
       " 'by',\n",
       " 'code',\n",
       " 'design',\n",
       " 'emphasizes',\n",
       " 'first',\n",
       " 'for',\n",
       " 'general-purpose',\n",
       " 'has',\n",
       " 'high-level',\n",
       " 'in',\n",
       " 'interpreted',\n",
       " 'is',\n",
       " 'language',\n",
       " 'notably',\n",
       " 'philosophy',\n",
       " 'programming',\n",
       " 'programming.',\n",
       " 'readability,',\n",
       " 'released',\n",
       " 'significant',\n",
       " 'that',\n",
       " 'using',\n",
       " 'van',\n",
       " 'whitespace.',\n",
       " 'SRI',\n",
       " 'LIST',\n",
       " 'RAMYA']"
      ]
     },
     "execution_count": 100,
     "metadata": {},
     "output_type": "execute_result"
    }
   ],
   "source": [
    "texts"
   ]
  },
  {
   "cell_type": "markdown",
   "metadata": {},
   "source": [
    "# Tuple"
   ]
  },
  {
   "cell_type": "code",
   "execution_count": 101,
   "metadata": {},
   "outputs": [],
   "source": [
    "txts =tuple(texts)"
   ]
  },
  {
   "cell_type": "code",
   "execution_count": 102,
   "metadata": {},
   "outputs": [
    {
     "data": {
      "text/plain": [
       "('1991,',\n",
       " 'Created',\n",
       " 'Guido',\n",
       " 'Rossum',\n",
       " 'Srikanth',\n",
       " 'Srikanth',\n",
       " 'a',\n",
       " 'an',\n",
       " 'and',\n",
       " 'by',\n",
       " 'code',\n",
       " 'design',\n",
       " 'emphasizes',\n",
       " 'first',\n",
       " 'for',\n",
       " 'general-purpose',\n",
       " 'has',\n",
       " 'high-level',\n",
       " 'in',\n",
       " 'interpreted',\n",
       " 'is',\n",
       " 'language',\n",
       " 'notably',\n",
       " 'philosophy',\n",
       " 'programming',\n",
       " 'programming.',\n",
       " 'readability,',\n",
       " 'released',\n",
       " 'significant',\n",
       " 'that',\n",
       " 'using',\n",
       " 'van',\n",
       " 'whitespace.',\n",
       " 'SRI',\n",
       " 'LIST',\n",
       " 'RAMYA')"
      ]
     },
     "execution_count": 102,
     "metadata": {},
     "output_type": "execute_result"
    }
   ],
   "source": [
    "txts"
   ]
  },
  {
   "cell_type": "code",
   "execution_count": 103,
   "metadata": {},
   "outputs": [
    {
     "data": {
      "text/plain": [
       "35"
      ]
     },
     "execution_count": 103,
     "metadata": {},
     "output_type": "execute_result"
    }
   ],
   "source": [
    "txts.index('RAMYA')"
   ]
  },
  {
   "cell_type": "markdown",
   "metadata": {},
   "source": [
    "# Dictinory \n",
    "\n",
    "- Assign to a value "
   ]
  },
  {
   "cell_type": "code",
   "execution_count": 104,
   "metadata": {},
   "outputs": [],
   "source": [
    "my_dict = {'key1': ' value1', 'key2': 'value2', 'key3':'value3'}"
   ]
  },
  {
   "cell_type": "code",
   "execution_count": 105,
   "metadata": {},
   "outputs": [],
   "source": [
    "list1 =['value1', 'value2', 'value3', 'value4']"
   ]
  },
  {
   "cell_type": "code",
   "execution_count": 106,
   "metadata": {},
   "outputs": [
    {
     "data": {
      "text/plain": [
       "'value1'"
      ]
     },
     "execution_count": 106,
     "metadata": {},
     "output_type": "execute_result"
    }
   ],
   "source": [
    "list1[0]"
   ]
  },
  {
   "cell_type": "code",
   "execution_count": 107,
   "metadata": {},
   "outputs": [],
   "source": [
    "emp={'name':'srikanth', 'age':27, 'designation':'DS'}"
   ]
  },
  {
   "cell_type": "code",
   "execution_count": 108,
   "metadata": {},
   "outputs": [
    {
     "data": {
      "text/plain": [
       "{'name': 'srikanth', 'age': 27, 'designation': 'DS'}"
      ]
     },
     "execution_count": 108,
     "metadata": {},
     "output_type": "execute_result"
    }
   ],
   "source": [
    "emp"
   ]
  },
  {
   "cell_type": "code",
   "execution_count": 109,
   "metadata": {},
   "outputs": [
    {
     "data": {
      "text/plain": [
       "'srikanth'"
      ]
     },
     "execution_count": 109,
     "metadata": {},
     "output_type": "execute_result"
    }
   ],
   "source": [
    "emp['name']"
   ]
  },
  {
   "cell_type": "code",
   "execution_count": 111,
   "metadata": {},
   "outputs": [
    {
     "data": {
      "text/plain": [
       "'DS'"
      ]
     },
     "execution_count": 111,
     "metadata": {},
     "output_type": "execute_result"
    }
   ],
   "source": [
    "emp['designation']"
   ]
  },
  {
   "cell_type": "code",
   "execution_count": 112,
   "metadata": {},
   "outputs": [
    {
     "data": {
      "text/plain": [
       "{'name': 'srikanth', 'age': 27, 'designation': 'DS'}"
      ]
     },
     "execution_count": 112,
     "metadata": {},
     "output_type": "execute_result"
    }
   ],
   "source": [
    "emp\n"
   ]
  },
  {
   "cell_type": "code",
   "execution_count": 115,
   "metadata": {},
   "outputs": [],
   "source": [
    "emp.update({'Salary':5000})"
   ]
  },
  {
   "cell_type": "code",
   "execution_count": 116,
   "metadata": {},
   "outputs": [
    {
     "data": {
      "text/plain": [
       "{'name': 'srikanth', 'age': 27, 'designation': 'DS', 'Salary': 5000}"
      ]
     },
     "execution_count": 116,
     "metadata": {},
     "output_type": "execute_result"
    }
   ],
   "source": [
    "emp"
   ]
  },
  {
   "cell_type": "markdown",
   "metadata": {},
   "source": [
    "# we cant update in a dict"
   ]
  },
  {
   "cell_type": "code",
   "execution_count": 117,
   "metadata": {},
   "outputs": [
    {
     "ename": "AttributeError",
     "evalue": "'str' object has no attribute 'update'",
     "output_type": "error",
     "traceback": [
      "\u001b[1;31m---------------------------------------------------------------------------\u001b[0m",
      "\u001b[1;31mAttributeError\u001b[0m                            Traceback (most recent call last)",
      "\u001b[1;32m<ipython-input-117-580a3c784065>\u001b[0m in \u001b[0;36m<module>\u001b[1;34m()\u001b[0m\n\u001b[1;32m----> 1\u001b[1;33m \u001b[0memp\u001b[0m\u001b[1;33m[\u001b[0m\u001b[1;34m'name'\u001b[0m\u001b[1;33m]\u001b[0m\u001b[1;33m.\u001b[0m\u001b[0mupdate\u001b[0m\u001b[1;33m(\u001b[0m\u001b[1;36m200\u001b[0m\u001b[1;33m)\u001b[0m\u001b[1;33m\u001b[0m\u001b[0m\n\u001b[0m",
      "\u001b[1;31mAttributeError\u001b[0m: 'str' object has no attribute 'update'"
     ]
    }
   ],
   "source": [
    "emp['name'].update(200)"
   ]
  },
  {
   "cell_type": "code",
   "execution_count": 119,
   "metadata": {},
   "outputs": [
    {
     "name": "stdout",
     "output_type": "stream",
     "text": [
      "{'Tim': 18, 'Charlie': 12, 'Robert': 25}\n",
      "{'Tiffany': 22}\n"
     ]
    }
   ],
   "source": [
    "Dict = {'Tim': 18,'Charlie':12,'Tiffany':22,'Robert':25}\t\n",
    "Boys = {'Tim': 18,'Charlie':12,'Robert':25}\n",
    "Girls = {'Tiffany':22}\t\n",
    "studentX=Boys.copy()\n",
    "studentY=Girls.copy()\n",
    "print (studentX)\n",
    "print (studentY)"
   ]
  },
  {
   "cell_type": "code",
   "execution_count": 120,
   "metadata": {},
   "outputs": [
    {
     "data": {
      "text/plain": [
       "{'Tim': 18, 'Charlie': 12, 'Tiffany': 22, 'Robert': 25}"
      ]
     },
     "execution_count": 120,
     "metadata": {},
     "output_type": "execute_result"
    }
   ],
   "source": [
    "Dict"
   ]
  },
  {
   "cell_type": "code",
   "execution_count": 133,
   "metadata": {},
   "outputs": [],
   "source": [
    "emp.update({'name':['rahul','raghu']})"
   ]
  },
  {
   "cell_type": "code",
   "execution_count": 135,
   "metadata": {},
   "outputs": [
    {
     "data": {
      "text/plain": [
       "{'name': ['rahul', 'raghu'], 'age': 27, 'designation': 'DS', 'Salary': 5000}"
      ]
     },
     "execution_count": 135,
     "metadata": {},
     "output_type": "execute_result"
    }
   ],
   "source": [
    "emp"
   ]
  },
  {
   "cell_type": "code",
   "execution_count": 136,
   "metadata": {},
   "outputs": [],
   "source": [
    "z =emp['name']"
   ]
  },
  {
   "cell_type": "code",
   "execution_count": 137,
   "metadata": {},
   "outputs": [],
   "source": [
    "z.append('RAMYA')"
   ]
  },
  {
   "cell_type": "code",
   "execution_count": 138,
   "metadata": {},
   "outputs": [
    {
     "data": {
      "text/plain": [
       "['rahul', 'raghu', 'RAMYA']"
      ]
     },
     "execution_count": 138,
     "metadata": {},
     "output_type": "execute_result"
    }
   ],
   "source": [
    "z"
   ]
  },
  {
   "cell_type": "code",
   "execution_count": 139,
   "metadata": {},
   "outputs": [],
   "source": [
    "emp['name']=z"
   ]
  },
  {
   "cell_type": "code",
   "execution_count": 140,
   "metadata": {},
   "outputs": [
    {
     "data": {
      "text/plain": [
       "{'name': ['rahul', 'raghu', 'RAMYA'],\n",
       " 'age': 27,\n",
       " 'designation': 'DS',\n",
       " 'Salary': 5000}"
      ]
     },
     "execution_count": 140,
     "metadata": {},
     "output_type": "execute_result"
    }
   ],
   "source": []
  },
  {
   "cell_type": "code",
   "execution_count": 141,
   "metadata": {},
   "outputs": [
    {
     "data": {
      "text/plain": [
       "dict_keys(['name', 'age', 'designation', 'Salary'])"
      ]
     },
     "execution_count": 141,
     "metadata": {},
     "output_type": "execute_result"
    }
   ],
   "source": [
    "emp.keys()"
   ]
  },
  {
   "cell_type": "code",
   "execution_count": 144,
   "metadata": {},
   "outputs": [
    {
     "data": {
      "text/plain": [
       "dict_values([['rahul', 'raghu', 'RAMYA'], 27, 'DS', 5000])"
      ]
     },
     "execution_count": 144,
     "metadata": {},
     "output_type": "execute_result"
    }
   ],
   "source": [
    "emp.values()"
   ]
  },
  {
   "cell_type": "code",
   "execution_count": null,
   "metadata": {},
   "outputs": [],
   "source": []
  },
  {
   "cell_type": "code",
   "execution_count": 192,
   "metadata": {},
   "outputs": [],
   "source": [
    "para1='\\nIt all started with ABC, a wonderful teaching language that I had helped create in the early eighties. It was an incredibly elegant and powerful language, aimed at non-professional programmers. Despite all its elegance and power and the availability of a free implementation, ABC never became popular in the Unix/C world. I can only speculate about the reasons, but here\\'s a likely one: the difficulty of adding new \"primitive\" operations to ABC. It was a monolithic, \"closed system\", with only the most basic I/O operations: read a string from the console, write a string to the console. I decided not repeat this mistake in Python.\\n'"
   ]
  },
  {
   "cell_type": "code",
   "execution_count": 193,
   "metadata": {},
   "outputs": [
    {
     "data": {
      "text/plain": [
       "'\\nIt all started with ABC, a wonderful teaching language that I had helped create in the early eighties. It was an incredibly elegant and powerful language, aimed at non-professional programmers. Despite all its elegance and power and the availability of a free implementation, ABC never became popular in the Unix/C world. I can only speculate about the reasons, but here\\'s a likely one: the difficulty of adding new \"primitive\" operations to ABC. It was a monolithic, \"closed system\", with only the most basic I/O operations: read a string from the console, write a string to the console. I decided not repeat this mistake in Python.\\n'"
      ]
     },
     "execution_count": 193,
     "metadata": {},
     "output_type": "execute_result"
    }
   ],
   "source": [
    "para1"
   ]
  },
  {
   "cell_type": "code",
   "execution_count": 194,
   "metadata": {},
   "outputs": [],
   "source": [
    "para1=para1.lower()"
   ]
  },
  {
   "cell_type": "code",
   "execution_count": 195,
   "metadata": {},
   "outputs": [
    {
     "data": {
      "text/plain": [
       "'\\nit all started with abc, a wonderful teaching language that i had helped create in the early eighties. it was an incredibly elegant and powerful language, aimed at non-professional programmers. despite all its elegance and power and the availability of a free implementation, abc never became popular in the unix/c world. i can only speculate about the reasons, but here\\'s a likely one: the difficulty of adding new \"primitive\" operations to abc. it was a monolithic, \"closed system\", with only the most basic i/o operations: read a string from the console, write a string to the console. i decided not repeat this mistake in python.\\n'"
      ]
     },
     "execution_count": 195,
     "metadata": {},
     "output_type": "execute_result"
    }
   ],
   "source": [
    "para1"
   ]
  },
  {
   "cell_type": "code",
   "execution_count": 196,
   "metadata": {},
   "outputs": [],
   "source": [
    "para1= para1.replace('\\n','. ')"
   ]
  },
  {
   "cell_type": "code",
   "execution_count": 197,
   "metadata": {},
   "outputs": [
    {
     "data": {
      "text/plain": [
       "'. it all started with abc, a wonderful teaching language that i had helped create in the early eighties. it was an incredibly elegant and powerful language, aimed at non-professional programmers. despite all its elegance and power and the availability of a free implementation, abc never became popular in the unix/c world. i can only speculate about the reasons, but here\\'s a likely one: the difficulty of adding new \"primitive\" operations to abc. it was a monolithic, \"closed system\", with only the most basic i/o operations: read a string from the console, write a string to the console. i decided not repeat this mistake in python.. '"
      ]
     },
     "execution_count": 197,
     "metadata": {},
     "output_type": "execute_result"
    }
   ],
   "source": [
    "para1"
   ]
  },
  {
   "cell_type": "code",
   "execution_count": 198,
   "metadata": {},
   "outputs": [
    {
     "data": {
      "text/plain": [
       "'. it all started with abc a wonderful teaching language that i had helped create in the early eighties. it was an incredibly elegant and powerful language aimed at non-professional programmers. despite all its elegance and power and the availability of a free implementation abc never became popular in the unix/c world. i can only speculate about the reasons but here\\'s a likely one: the difficulty of adding new \"primitive\" operations to abc. it was a monolithic \"closed system\" with only the most basic i/o operations: read a string from the console write a string to the console. i decided not repeat this mistake in python.. '"
      ]
     },
     "execution_count": 198,
     "metadata": {},
     "output_type": "execute_result"
    }
   ],
   "source": [
    "para1.replace(',','')"
   ]
  },
  {
   "cell_type": "code",
   "execution_count": 199,
   "metadata": {},
   "outputs": [
    {
     "data": {
      "text/plain": [
       "\". it all started with abc, a wonderful teaching language that i had helped create in the early eighties. it was an incredibly elegant and powerful language, aimed at non-professional programmers. despite all its elegance and power and the availability of a free implementation, abc never became popular in the unix/c world. i can only speculate about the reasons, but here's a likely one: the difficulty of adding new primitive operations to abc. it was a monolithic, closed system, with only the most basic i/o operations: read a string from the console, write a string to the console. i decided not repeat this mistake in python.. \""
      ]
     },
     "execution_count": 199,
     "metadata": {},
     "output_type": "execute_result"
    }
   ],
   "source": [
    "para1.replace('\"', '')"
   ]
  },
  {
   "cell_type": "code",
   "execution_count": 200,
   "metadata": {},
   "outputs": [
    {
     "data": {
      "text/plain": [
       "'. it all started with abc, a wonderful teaching language that i had helped create in the early eighties. it was an incredibly elegant and powerful language, aimed at non-professional programmers. despite all its elegance and power and the availability of a free implementation, abc never became popular in the unix c world. i can only speculate about the reasons, but here\\'s a likely one: the difficulty of adding new \"primitive\" operations to abc. it was a monolithic, \"closed system\", with only the most basic i o operations: read a string from the console, write a string to the console. i decided not repeat this mistake in python.. '"
      ]
     },
     "execution_count": 200,
     "metadata": {},
     "output_type": "execute_result"
    }
   ],
   "source": [
    "para1.replace('/',' ')"
   ]
  },
  {
   "cell_type": "code",
   "execution_count": 201,
   "metadata": {},
   "outputs": [
    {
     "data": {
      "text/plain": [
       "['.',\n",
       " 'it',\n",
       " 'all',\n",
       " 'started',\n",
       " 'with',\n",
       " 'abc,',\n",
       " 'a',\n",
       " 'wonderful',\n",
       " 'teaching',\n",
       " 'language',\n",
       " 'that',\n",
       " 'i',\n",
       " 'had',\n",
       " 'helped',\n",
       " 'create',\n",
       " 'in',\n",
       " 'the',\n",
       " 'early',\n",
       " 'eighties.',\n",
       " 'it',\n",
       " 'was',\n",
       " 'an',\n",
       " 'incredibly',\n",
       " 'elegant',\n",
       " 'and',\n",
       " 'powerful',\n",
       " 'language,',\n",
       " 'aimed',\n",
       " 'at',\n",
       " 'non-professional',\n",
       " 'programmers.',\n",
       " 'despite',\n",
       " 'all',\n",
       " 'its',\n",
       " 'elegance',\n",
       " 'and',\n",
       " 'power',\n",
       " 'and',\n",
       " 'the',\n",
       " 'availability',\n",
       " 'of',\n",
       " 'a',\n",
       " 'free',\n",
       " 'implementation,',\n",
       " 'abc',\n",
       " 'never',\n",
       " 'became',\n",
       " 'popular',\n",
       " 'in',\n",
       " 'the',\n",
       " 'unix/c',\n",
       " 'world.',\n",
       " 'i',\n",
       " 'can',\n",
       " 'only',\n",
       " 'speculate',\n",
       " 'about',\n",
       " 'the',\n",
       " 'reasons,',\n",
       " 'but',\n",
       " \"here's\",\n",
       " 'a',\n",
       " 'likely',\n",
       " 'one:',\n",
       " 'the',\n",
       " 'difficulty',\n",
       " 'of',\n",
       " 'adding',\n",
       " 'new',\n",
       " '\"primitive\"',\n",
       " 'operations',\n",
       " 'to',\n",
       " 'abc.',\n",
       " 'it',\n",
       " 'was',\n",
       " 'a',\n",
       " 'monolithic,',\n",
       " '\"closed',\n",
       " 'system\",',\n",
       " 'with',\n",
       " 'only',\n",
       " 'the',\n",
       " 'most',\n",
       " 'basic',\n",
       " 'i/o',\n",
       " 'operations:',\n",
       " 'read',\n",
       " 'a',\n",
       " 'string',\n",
       " 'from',\n",
       " 'the',\n",
       " 'console,',\n",
       " 'write',\n",
       " 'a',\n",
       " 'string',\n",
       " 'to',\n",
       " 'the',\n",
       " 'console.',\n",
       " 'i',\n",
       " 'decided',\n",
       " 'not',\n",
       " 'repeat',\n",
       " 'this',\n",
       " 'mistake',\n",
       " 'in',\n",
       " 'python..']"
      ]
     },
     "execution_count": 201,
     "metadata": {},
     "output_type": "execute_result"
    }
   ],
   "source": [
    "para1 =para1.split()\n",
    "para1"
   ]
  },
  {
   "cell_type": "code",
   "execution_count": 202,
   "metadata": {},
   "outputs": [],
   "source": [
    "unq_words=set(para1)"
   ]
  },
  {
   "cell_type": "code",
   "execution_count": 203,
   "metadata": {},
   "outputs": [
    {
     "data": {
      "text/plain": [
       "{'\"closed',\n",
       " '\"primitive\"',\n",
       " '.',\n",
       " 'a',\n",
       " 'abc',\n",
       " 'abc,',\n",
       " 'abc.',\n",
       " 'about',\n",
       " 'adding',\n",
       " 'aimed',\n",
       " 'all',\n",
       " 'an',\n",
       " 'and',\n",
       " 'at',\n",
       " 'availability',\n",
       " 'basic',\n",
       " 'became',\n",
       " 'but',\n",
       " 'can',\n",
       " 'console,',\n",
       " 'console.',\n",
       " 'create',\n",
       " 'decided',\n",
       " 'despite',\n",
       " 'difficulty',\n",
       " 'early',\n",
       " 'eighties.',\n",
       " 'elegance',\n",
       " 'elegant',\n",
       " 'free',\n",
       " 'from',\n",
       " 'had',\n",
       " 'helped',\n",
       " \"here's\",\n",
       " 'i',\n",
       " 'i/o',\n",
       " 'implementation,',\n",
       " 'in',\n",
       " 'incredibly',\n",
       " 'it',\n",
       " 'its',\n",
       " 'language',\n",
       " 'language,',\n",
       " 'likely',\n",
       " 'mistake',\n",
       " 'monolithic,',\n",
       " 'most',\n",
       " 'never',\n",
       " 'new',\n",
       " 'non-professional',\n",
       " 'not',\n",
       " 'of',\n",
       " 'one:',\n",
       " 'only',\n",
       " 'operations',\n",
       " 'operations:',\n",
       " 'popular',\n",
       " 'power',\n",
       " 'powerful',\n",
       " 'programmers.',\n",
       " 'python..',\n",
       " 'read',\n",
       " 'reasons,',\n",
       " 'repeat',\n",
       " 'speculate',\n",
       " 'started',\n",
       " 'string',\n",
       " 'system\",',\n",
       " 'teaching',\n",
       " 'that',\n",
       " 'the',\n",
       " 'this',\n",
       " 'to',\n",
       " 'unix/c',\n",
       " 'was',\n",
       " 'with',\n",
       " 'wonderful',\n",
       " 'world.',\n",
       " 'write'}"
      ]
     },
     "execution_count": 203,
     "metadata": {},
     "output_type": "execute_result"
    }
   ],
   "source": [
    "unq_words"
   ]
  },
  {
   "cell_type": "code",
   "execution_count": 204,
   "metadata": {},
   "outputs": [],
   "source": [
    "para2 =''''\\nBesides this intention, I had a number of other ideas for improvement over ABC, and was eager to try them out. For instance, ABC\\'s powerful data types turned out to be less efficient than we hoped. There was too much emphasis on theoretically optimal algorithms, and not enough tuning for common cases. I also felt that some of ABC\\'s features, aimed at novice programmers, were less desirable for the (then!) intended audience of experienced Unix/C programmers. For instance: ABC\\'s ideosyncratic syntax (all uppercase keywords!); some terminology (e.g. \"how-to\" instead of \"procedure\"); and the integrated structured editor, which its users almost universally hated. Python would rely more on the Unix infrastructure and conventions, without being Unix-bound. And in fact, the first implementation was done on a Mac.\\n'''"
   ]
  },
  {
   "cell_type": "code",
   "execution_count": 222,
   "metadata": {},
   "outputs": [
    {
     "data": {
      "text/plain": [
       "'\\'Besides this intention, I had a number of other ideas for improvement over ABC, and was eager to try them out. For instance, ABC\\'s powerful data types turned out to be less efficient than we hoped. There was too much emphasis on theoretically optimal algorithms, and not enough tuning for common cases. I also felt that some of ABC\\'s features, aimed at novice programmers, were less desirable for the (then!) intended audience of experienced UnixC programmers. For instance ABC\\'s ideosyncratic syntax (all uppercase keywords!); some terminology (e.g. \"how-to\" instead of \"procedure\"); and the integrated structured editor, which its users almost universally hated. Python would rely more on the Unix infrastructure and conventions, without being Unix-bound. And in fact, the first implementation was done on a Mac.'"
      ]
     },
     "execution_count": 222,
     "metadata": {},
     "output_type": "execute_result"
    }
   ],
   "source": [
    "para2"
   ]
  },
  {
   "cell_type": "code",
   "execution_count": 225,
   "metadata": {},
   "outputs": [],
   "source": [
    "para2= para2.replace('\\n','')\n",
    "para2= para2.replace(\"''\",'')\n",
    "para2= para2.replace(':','')\n"
   ]
  },
  {
   "cell_type": "code",
   "execution_count": 226,
   "metadata": {},
   "outputs": [
    {
     "data": {
      "text/plain": [
       "'\\'Besides this intention, I had a number of other ideas for improvement over ABC, and was eager to try them out. For instance, ABC\\'s powerful data types turned out to be less efficient than we hoped. There was too much emphasis on theoretically optimal algorithms, and not enough tuning for common cases. I also felt that some of ABC\\'s features, aimed at novice programmers, were less desirable for the (then!) intended audience of experienced UnixC programmers. For instance ABC\\'s ideosyncratic syntax (all uppercase keywords!); some terminology (e.g. \"how-to\" instead of \"procedure\"); and the integrated structured editor, which its users almost universally hated. Python would rely more on the Unix infrastructure and conventions, without being Unix-bound. And in fact, the first implementation was done on a Mac.'"
      ]
     },
     "execution_count": 226,
     "metadata": {},
     "output_type": "execute_result"
    }
   ],
   "source": [
    "para2"
   ]
  },
  {
   "cell_type": "code",
   "execution_count": null,
   "metadata": {},
   "outputs": [],
   "source": []
  },
  {
   "cell_type": "code",
   "execution_count": null,
   "metadata": {},
   "outputs": [],
   "source": [
    "import math\n",
    "base = int(input(''))"
   ]
  },
  {
   "cell_type": "code",
   "execution_count": null,
   "metadata": {},
   "outputs": [],
   "source": []
  },
  {
   "cell_type": "code",
   "execution_count": null,
   "metadata": {},
   "outputs": [],
   "source": []
  }
 ],
 "metadata": {
  "kernelspec": {
   "display_name": "Python 3",
   "language": "python",
   "name": "python3"
  },
  "language_info": {
   "codemirror_mode": {
    "name": "ipython",
    "version": 3
   },
   "file_extension": ".py",
   "mimetype": "text/x-python",
   "name": "python",
   "nbconvert_exporter": "python",
   "pygments_lexer": "ipython3",
   "version": "3.6.5"
  }
 },
 "nbformat": 4,
 "nbformat_minor": 2
}
