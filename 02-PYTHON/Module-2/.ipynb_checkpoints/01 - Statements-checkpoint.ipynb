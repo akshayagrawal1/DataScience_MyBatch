{
 "cells": [
  {
   "cell_type": "markdown",
   "metadata": {},
   "source": [
    "if else elif"
   ]
  },
  {
   "cell_type": "markdown",
   "metadata": {},
   "source": [
    "```\n",
    "== : equal to \n",
    "< : less than\n",
    "> : greater than\n",
    "<= : lessthan equal to \n",
    ">= : greater than equal to\n",
    "!= : not equal to \n",
    ">< : not equal to\n",
    "and \n",
    "or\n",
    "in : checking\n",
    "```"
   ]
  },
  {
   "cell_type": "code",
   "execution_count": 1,
   "metadata": {},
   "outputs": [
    {
     "data": {
      "text/plain": [
       "True"
      ]
     },
     "execution_count": 1,
     "metadata": {},
     "output_type": "execute_result"
    }
   ],
   "source": [
    "2 == 2"
   ]
  },
  {
   "cell_type": "code",
   "execution_count": 2,
   "metadata": {},
   "outputs": [
    {
     "data": {
      "text/plain": [
       "False"
      ]
     },
     "execution_count": 2,
     "metadata": {},
     "output_type": "execute_result"
    }
   ],
   "source": [
    "2 !=2"
   ]
  },
  {
   "cell_type": "code",
   "execution_count": 3,
   "metadata": {},
   "outputs": [
    {
     "data": {
      "text/plain": [
       "True"
      ]
     },
     "execution_count": 3,
     "metadata": {},
     "output_type": "execute_result"
    }
   ],
   "source": [
    "2 <3"
   ]
  },
  {
   "cell_type": "code",
   "execution_count": 4,
   "metadata": {},
   "outputs": [
    {
     "data": {
      "text/plain": [
       "False"
      ]
     },
     "execution_count": 4,
     "metadata": {},
     "output_type": "execute_result"
    }
   ],
   "source": [
    "3 > 5"
   ]
  },
  {
   "cell_type": "code",
   "execution_count": 5,
   "metadata": {},
   "outputs": [
    {
     "data": {
      "text/plain": [
       "True"
      ]
     },
     "execution_count": 5,
     "metadata": {},
     "output_type": "execute_result"
    }
   ],
   "source": [
    "2 < 3 <5"
   ]
  },
  {
   "cell_type": "code",
   "execution_count": 6,
   "metadata": {},
   "outputs": [
    {
     "data": {
      "text/plain": [
       "False"
      ]
     },
     "execution_count": 6,
     "metadata": {},
     "output_type": "execute_result"
    }
   ],
   "source": [
    "2 < 3 and 3> 5"
   ]
  },
  {
   "cell_type": "markdown",
   "metadata": {},
   "source": [
    "### write simple program to find which number is greater"
   ]
  },
  {
   "cell_type": "markdown",
   "metadata": {},
   "source": [
    "```if condition{\n",
    "    ..\n",
    "    ..\n",
    "    \n",
    "}```"
   ]
  },
  {
   "cell_type": "code",
   "execution_count": 10,
   "metadata": {},
   "outputs": [
    {
     "name": "stdout",
     "output_type": "stream",
     "text": [
      "Enter the value of a: 8\n",
      "Enter the value of b: 6\n",
      "8 is greater than 6\n"
     ]
    }
   ],
   "source": [
    "a = int(input('Enter the value of a: '))\n",
    "b = int(input('Enter the value of b: '))\n",
    "if a > b:\n",
    "    print('{} is greater than {}'.format(a,b))\n",
    "else:\n",
    "    print('{} is greater than {}'.format(b,a))"
   ]
  },
  {
   "cell_type": "code",
   "execution_count": 12,
   "metadata": {},
   "outputs": [
    {
     "name": "stdout",
     "output_type": "stream",
     "text": [
      "Enter the value of a: 5\n",
      "5 is odd number\n"
     ]
    }
   ],
   "source": [
    "a = int(input('Enter the value of a: '))\n",
    "\n",
    "if a % 2 == 0:\n",
    "    print('{} is even number'.format(a))\n",
    "else:\n",
    "    print('{} is odd number'.format(a))"
   ]
  },
  {
   "cell_type": "markdown",
   "metadata": {},
   "source": [
    "**Create a dictionary with keys which are username and values with their password and name with creditials**\n",
    "> eg: `{'Srikanth':'sri123','Raghuram':'rag123','Ramya':'ram123',\n",
    "'Akshay':'aks123','Chandrashekar':'cha123','Padma':'pad123'}`\n",
    "\n",
    "*Ask user to enter his username and password*\n",
    "- if username and password matches with creditials then print welcome\n",
    "> eg: > username: srikanth and password: sri123 \n",
    "\n",
    "'Hello Srikanth welcome to Python programming'\n",
    "\n",
    "Either username or password is wrong\n",
    "\n"
   ]
  },
  {
   "cell_type": "code",
   "execution_count": 13,
   "metadata": {},
   "outputs": [],
   "source": [
    "creditals = {'Srikanth':'sri123','Raghuram':'rag123','Ramya':'ram123',\n",
    "            'Avinash':'avi123'}"
   ]
  },
  {
   "cell_type": "code",
   "execution_count": 31,
   "metadata": {},
   "outputs": [
    {
     "name": "stdout",
     "output_type": "stream",
     "text": [
      "Enter your username: dfd\n",
      "Enter you password: dfd\n",
      "Either usename or password mismatched\n"
     ]
    }
   ],
   "source": [
    "username = input('Enter your username: ')\n",
    "password = input('Enter you password: ')\n",
    "# check username is in the list\n",
    "if username in creditals.keys() : # checking in dictionary\n",
    "\n",
    "    if creditals[username] == password:\n",
    "        print('Hello {}, welcome to Python programming '.format(username))\n",
    "\n",
    "    else:\n",
    "        print('Either usename or password mismatched')\n",
    "        \n",
    "else:\n",
    "    print('Either usename or password mismatched')"
   ]
  },
  {
   "cell_type": "code",
   "execution_count": null,
   "metadata": {},
   "outputs": [],
   "source": []
  }
 ],
 "metadata": {
  "kernelspec": {
   "display_name": "Python 3",
   "language": "python",
   "name": "python3"
  },
  "language_info": {
   "codemirror_mode": {
    "name": "ipython",
    "version": 3
   },
   "file_extension": ".py",
   "mimetype": "text/x-python",
   "name": "python",
   "nbconvert_exporter": "python",
   "pygments_lexer": "ipython3",
   "version": "3.6.4"
  }
 },
 "nbformat": 4,
 "nbformat_minor": 2
}
