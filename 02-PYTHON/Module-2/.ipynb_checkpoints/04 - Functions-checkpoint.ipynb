{
 "cells": [
  {
   "cell_type": "markdown",
   "metadata": {},
   "source": [
    "# Functions\n",
    "\n",
    "```def function_name():\n",
    "    #indentation\n",
    "    .....```"
   ]
  },
  {
   "cell_type": "code",
   "execution_count": 1,
   "metadata": {},
   "outputs": [],
   "source": [
    "def say():\n",
    "    # \n",
    "    print('Hello')"
   ]
  },
  {
   "cell_type": "code",
   "execution_count": 2,
   "metadata": {},
   "outputs": [
    {
     "name": "stdout",
     "output_type": "stream",
     "text": [
      "Hello\n"
     ]
    }
   ],
   "source": [
    "say()"
   ]
  },
  {
   "cell_type": "code",
   "execution_count": 3,
   "metadata": {},
   "outputs": [],
   "source": [
    "def say_hello(name):\n",
    "    print('Hello', name)"
   ]
  },
  {
   "cell_type": "code",
   "execution_count": 4,
   "metadata": {},
   "outputs": [
    {
     "name": "stdout",
     "output_type": "stream",
     "text": [
      "Hello Srikanth\n"
     ]
    }
   ],
   "source": [
    "say_hello('Srikanth')"
   ]
  },
  {
   "cell_type": "code",
   "execution_count": 14,
   "metadata": {},
   "outputs": [],
   "source": [
    "# write a function that should print hello your name n times\n",
    "def say_hello_1(name, n):\n",
    "    for i in range(n):\n",
    "        #say_hello(name)\n",
    "        print('Hello',name)"
   ]
  },
  {
   "cell_type": "code",
   "execution_count": 15,
   "metadata": {},
   "outputs": [
    {
     "name": "stdout",
     "output_type": "stream",
     "text": [
      "Hello Srikanth\n",
      "Hello Srikanth\n",
      "Hello Srikanth\n",
      "Hello Srikanth\n",
      "Hello Srikanth\n"
     ]
    }
   ],
   "source": [
    "say_hello_1('Srikanth',5)"
   ]
  },
  {
   "cell_type": "code",
   "execution_count": 11,
   "metadata": {},
   "outputs": [],
   "source": [
    "def say_hello_2(name,n):\n",
    "    txt = 'Hello {} \\n'.format(name)\n",
    "    print(txt*n)"
   ]
  },
  {
   "cell_type": "code",
   "execution_count": 13,
   "metadata": {},
   "outputs": [
    {
     "name": "stdout",
     "output_type": "stream",
     "text": [
      "Hello Srikanth \n",
      "Hello Srikanth \n",
      "Hello Srikanth \n",
      "Hello Srikanth \n",
      "Hello Srikanth \n",
      "\n"
     ]
    }
   ],
   "source": [
    "say_hello_2('Srikanth',5)"
   ]
  },
  {
   "cell_type": "code",
   "execution_count": 22,
   "metadata": {},
   "outputs": [],
   "source": [
    "def addition(a,b):\n",
    "    c = a+b\n",
    "    return c"
   ]
  },
  {
   "cell_type": "code",
   "execution_count": 24,
   "metadata": {},
   "outputs": [],
   "source": [
    "# create a function for multplication, subtraction , division and paower\n",
    "\n",
    "def multiplication(a,b):\n",
    "    \"\"\"This function will multiply two number a and b and return\n",
    "    c = a*b\n",
    "    \"\"\"\n",
    "    return a*b\n",
    "    \n",
    "def subtraction(a,b): return a-b\n",
    "\n",
    "\n",
    "def division(a,b):\n",
    "    if b == 0:\n",
    "        return print(\"Can't divide a number with 0\")\n",
    "    else:\n",
    "        return a/b\n",
    "\n",
    "def power(a,b):\n",
    "    return a**b"
   ]
  },
  {
   "cell_type": "code",
   "execution_count": 26,
   "metadata": {},
   "outputs": [
    {
     "data": {
      "text/plain": [
       "25"
      ]
     },
     "execution_count": 26,
     "metadata": {},
     "output_type": "execute_result"
    }
   ],
   "source": [
    "multiplication(5,5)"
   ]
  },
  {
   "cell_type": "code",
   "execution_count": 30,
   "metadata": {},
   "outputs": [],
   "source": [
    "# write a function to generate random number of selected range and length\n",
    "def rand_num(a, b,length):\n",
    "    import random\n",
    "    rand = []\n",
    "    if a > b:\n",
    "        return print('{} > {} please select number a < b'.format(a,b))\n",
    "    for i in range(length):\n",
    "        num = random.randint(a,b)\n",
    "        rand.append(num)\n",
    "    return rand"
   ]
  },
  {
   "cell_type": "code",
   "execution_count": 32,
   "metadata": {},
   "outputs": [
    {
     "name": "stdout",
     "output_type": "stream",
     "text": [
      "50 > 30 please select number a < b\n"
     ]
    }
   ],
   "source": [
    "rand_num(50,30,20)"
   ]
  },
  {
   "cell_type": "code",
   "execution_count": 16,
   "metadata": {},
   "outputs": [],
   "source": [
    "def addition(a,b):\n",
    "    c = a+b\n",
    "    return c"
   ]
  },
  {
   "cell_type": "code",
   "execution_count": 18,
   "metadata": {},
   "outputs": [],
   "source": [
    "def addition1(a,b): return a+b"
   ]
  },
  {
   "cell_type": "code",
   "execution_count": 19,
   "metadata": {},
   "outputs": [],
   "source": [
    "add_lam = lambda a,b:a+b"
   ]
  },
  {
   "cell_type": "markdown",
   "metadata": {},
   "source": [
    "#### Create a lambda function for \n",
    "- subtraction\n",
    "- division\n",
    "- multiplication\n",
    "- power\n",
    "- check even\n",
    "- check odd\n",
    "- check divisble by 7"
   ]
  },
  {
   "cell_type": "code",
   "execution_count": 23,
   "metadata": {},
   "outputs": [],
   "source": [
    "add = lambda a,b:a+b\n",
    "sub = lambda a,b:a-b\n",
    "mul = lambda a,b:a*b\n",
    "div = lambda a,b:a/b\n",
    "power = lambda a,b:a**b\n",
    "iseven = lambda x : x % 2 == 0\n",
    "isodd = lambda x : x % 2 != 0\n",
    "isdiv7 = lambda x : x % 7 == 0"
   ]
  },
  {
   "cell_type": "code",
   "execution_count": null,
   "metadata": {},
   "outputs": [],
   "source": []
  }
 ],
 "metadata": {
  "kernelspec": {
   "display_name": "Python 3",
   "language": "python",
   "name": "python3"
  },
  "language_info": {
   "codemirror_mode": {
    "name": "ipython",
    "version": 3
   },
   "file_extension": ".py",
   "mimetype": "text/x-python",
   "name": "python",
   "nbconvert_exporter": "python",
   "pygments_lexer": "ipython3",
   "version": "3.6.4"
  }
 },
 "nbformat": 4,
 "nbformat_minor": 2
}
