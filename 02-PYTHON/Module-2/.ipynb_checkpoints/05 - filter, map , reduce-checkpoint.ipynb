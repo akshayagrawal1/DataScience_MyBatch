{
 "cells": [
  {
   "cell_type": "markdown",
   "metadata": {},
   "source": [
    "# filter, map, reduce"
   ]
  },
  {
   "cell_type": "code",
   "execution_count": 1,
   "metadata": {},
   "outputs": [],
   "source": [
    "# write a function to generate random number of selected range and length\n",
    "def rand_num(a, b,length):\n",
    "    import random\n",
    "    rand = []\n",
    "    if a > b:\n",
    "        return print('{} > {} please select number a < b'.format(a,b))\n",
    "    for i in range(length):\n",
    "        num = random.randint(a,b)\n",
    "        rand.append(num)\n",
    "    return rand"
   ]
  },
  {
   "cell_type": "markdown",
   "metadata": {},
   "source": [
    "**Generate 50 random number in range of 1 - 100 using your own function**\n",
    "- in that extract even numbers in the list of random number\n",
    "- in that extract odd numbers in the list of random number"
   ]
  },
  {
   "cell_type": "code",
   "execution_count": 2,
   "metadata": {},
   "outputs": [
    {
     "name": "stdout",
     "output_type": "stream",
     "text": [
      "[84, 19, 3, 60, 37, 23, 85, 32, 2, 84, 24, 16, 67, 62, 63, 35, 61, 58, 6, 81, 98, 92, 36, 28, 80, 87, 53, 56, 29, 48, 9, 78, 41, 92, 11, 50, 74, 8, 47, 22, 46, 59, 79, 77, 62, 71, 24, 81, 100, 92]\n"
     ]
    }
   ],
   "source": [
    "rand = rand_num(1,100,50)\n",
    "print(rand)"
   ]
  },
  {
   "cell_type": "code",
   "execution_count": 3,
   "metadata": {},
   "outputs": [
    {
     "name": "stdout",
     "output_type": "stream",
     "text": [
      "[98, 42, 20, 32, 52, 34, 96, 32, 62, 22, 18, 40, 94, 58, 92, 70, 64, 28, 18, 96, 32, 68, 42, 84]\n",
      "\n",
      "\n",
      "\n",
      "[91, 35, 37, 21, 83, 1, 59, 87, 19, 47, 51, 67, 9, 63, 97, 33, 93, 43, 93, 27, 55, 73, 7, 71, 1, 9]\n"
     ]
    }
   ],
   "source": [
    "even = []\n",
    "odd = []\n",
    "for i in rand:\n",
    "    if i %2 == 0:\n",
    "        even.append(i)\n",
    "    else:\n",
    "        odd.append(i)\n",
    "        \n",
    "print(even)\n",
    "print('\\n\\n')\n",
    "print(odd)"
   ]
  },
  {
   "cell_type": "markdown",
   "metadata": {},
   "source": [
    "# `filter`"
   ]
  },
  {
   "cell_type": "code",
   "execution_count": 4,
   "metadata": {},
   "outputs": [],
   "source": [
    "def iseven(x):\n",
    "    return x %2 == 0\n",
    "\n",
    "iseven_lam = lambda x: x%2 == 0"
   ]
  },
  {
   "cell_type": "code",
   "execution_count": 8,
   "metadata": {},
   "outputs": [
    {
     "name": "stdout",
     "output_type": "stream",
     "text": [
      "[98, 42, 20, 32, 52, 34, 96, 32, 62, 22, 18, 40, 94, 58, 92, 70, 64, 28, 18, 96, 32, 68, 42, 84]\n"
     ]
    }
   ],
   "source": [
    "even = list(filter(iseven,rand))\n",
    "print(even)"
   ]
  },
  {
   "cell_type": "markdown",
   "metadata": {},
   "source": [
    "##### write a program to filter the values divible by 5 in rand numbers\n"
   ]
  },
  {
   "cell_type": "code",
   "execution_count": null,
   "metadata": {},
   "outputs": [],
   "source": []
  },
  {
   "cell_type": "markdown",
   "metadata": {},
   "source": [
    "# map"
   ]
  },
  {
   "cell_type": "code",
   "execution_count": 4,
   "metadata": {},
   "outputs": [
    {
     "name": "stdout",
     "output_type": "stream",
     "text": [
      "[63, 35, 62, 96, 56, 26, 50, 44, 75, 4]\n"
     ]
    }
   ],
   "source": [
    "rand = rand_num(1,100,10)\n",
    "print(rand)"
   ]
  },
  {
   "cell_type": "code",
   "execution_count": 6,
   "metadata": {},
   "outputs": [
    {
     "name": "stdout",
     "output_type": "stream",
     "text": [
      "[66, 38, 65, 99, 59, 29, 53, 47, 78, 7]\n"
     ]
    }
   ],
   "source": [
    "x = []\n",
    "for i in rand:\n",
    "    x.append(i+3)\n",
    "    \n",
    "print(x)"
   ]
  },
  {
   "cell_type": "code",
   "execution_count": 8,
   "metadata": {},
   "outputs": [],
   "source": [
    "def plus3(num):\n",
    "    return num+ 3"
   ]
  },
  {
   "cell_type": "code",
   "execution_count": 9,
   "metadata": {},
   "outputs": [
    {
     "data": {
      "text/plain": [
       "[66, 38, 65, 99, 59, 29, 53, 47, 78, 7]"
      ]
     },
     "execution_count": 9,
     "metadata": {},
     "output_type": "execute_result"
    }
   ],
   "source": [
    "list(map(plus3, rand))"
   ]
  },
  {
   "cell_type": "markdown",
   "metadata": {},
   "source": [
    "#### write a program to generate 10 random number in the range 0 - 50 asume that they centigrade .. convert them in farhnheit"
   ]
  },
  {
   "cell_type": "code",
   "execution_count": 10,
   "metadata": {},
   "outputs": [
    {
     "name": "stdout",
     "output_type": "stream",
     "text": [
      "[111.2, 32.0, 48.2, 113.0, 114.8, 109.4, 107.60000000000001, 87.80000000000001, 42.8, 66.2]\n"
     ]
    }
   ],
   "source": [
    "C = rand_num(0,50,10)\n",
    "farhenheit = list(map(lambda x : (9/5)*x + 32,C))\n",
    "print(farhenheit)"
   ]
  },
  {
   "cell_type": "markdown",
   "metadata": {},
   "source": [
    "# reduce"
   ]
  },
  {
   "cell_type": "code",
   "execution_count": 11,
   "metadata": {},
   "outputs": [
    {
     "data": {
      "text/plain": [
       "[44, 0, 9, 45, 46, 43, 42, 31, 6, 19]"
      ]
     },
     "execution_count": 11,
     "metadata": {},
     "output_type": "execute_result"
    }
   ],
   "source": [
    "C"
   ]
  },
  {
   "cell_type": "code",
   "execution_count": 12,
   "metadata": {},
   "outputs": [],
   "source": [
    "add = lambda x,y :  x+y"
   ]
  },
  {
   "cell_type": "code",
   "execution_count": 13,
   "metadata": {},
   "outputs": [],
   "source": [
    "from functools import reduce"
   ]
  },
  {
   "cell_type": "code",
   "execution_count": 14,
   "metadata": {},
   "outputs": [
    {
     "data": {
      "text/plain": [
       "285"
      ]
     },
     "execution_count": 14,
     "metadata": {},
     "output_type": "execute_result"
    }
   ],
   "source": [
    "reduce(add,C)"
   ]
  },
  {
   "cell_type": "code",
   "execution_count": 19,
   "metadata": {},
   "outputs": [
    {
     "name": "stdout",
     "output_type": "stream",
     "text": [
      "285\n"
     ]
    }
   ],
   "source": [
    "a = 0\n",
    "for i in C:\n",
    "    a = add(a,i)\n",
    "print(a)"
   ]
  },
  {
   "cell_type": "code",
   "execution_count": 17,
   "metadata": {},
   "outputs": [
    {
     "data": {
      "text/plain": [
       "[44, 0, 9, 45, 46, 43, 42, 31, 6, 19]"
      ]
     },
     "execution_count": 17,
     "metadata": {},
     "output_type": "execute_result"
    }
   ],
   "source": [
    "C"
   ]
  },
  {
   "cell_type": "markdown",
   "metadata": {},
   "source": [
    "- Write a program to length of given list\n"
   ]
  },
  {
   "cell_type": "code",
   "execution_count": 20,
   "metadata": {},
   "outputs": [],
   "source": [
    "text = \"\"\"\n",
    "Over six years ago, in December 1989, I was looking for a \"hobby\" programming project that would keep me occupied during the week around Christmas. My office (a government-run research lab in Amsterdam) would be closed, but I had a home computer, and not much else on my hands. I decided to write an interpreter for the new scripting language I had been thinking about lately: a descendant of ABC that would appeal to Unix/C hackers. I chose Python as a working title for the project, being in a slightly irreverent mood (and a big fan of Monty Python's Flying Circus).\n",
    "\"\"\""
   ]
  },
  {
   "cell_type": "markdown",
   "metadata": {},
   "source": [
    "- write a program to filter words starting with vowels characters \n",
    "> a , e, i , o ,u"
   ]
  },
  {
   "cell_type": "markdown",
   "metadata": {},
   "source": [
    "- Write a program to generate 50 random number in the range of 0 - 20 assume that they are centigrade values,\n",
    "> - In that extract odd temperature and convert them in fahrenheit.\n",
    "> - Also calculate multiplication of fahrenheit values"
   ]
  },
  {
   "cell_type": "code",
   "execution_count": null,
   "metadata": {},
   "outputs": [],
   "source": []
  }
 ],
 "metadata": {
  "kernelspec": {
   "display_name": "Python 3",
   "language": "python",
   "name": "python3"
  },
  "language_info": {
   "codemirror_mode": {
    "name": "ipython",
    "version": 3
   },
   "file_extension": ".py",
   "mimetype": "text/x-python",
   "name": "python",
   "nbconvert_exporter": "python",
   "pygments_lexer": "ipython3",
   "version": "3.6.4"
  }
 },
 "nbformat": 4,
 "nbformat_minor": 2
}
