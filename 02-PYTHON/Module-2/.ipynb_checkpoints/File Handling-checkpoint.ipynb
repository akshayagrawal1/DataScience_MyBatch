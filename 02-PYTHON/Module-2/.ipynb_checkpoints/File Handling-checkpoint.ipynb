{
 "cells": [
  {
   "cell_type": "markdown",
   "metadata": {},
   "source": [
    "`open`\n",
    "\n",
    "> mode of operations\n",
    "```\n",
    "mode = 'r' -> read\n",
    "mode = 'w' -> write\n",
    "mode = 'a' -> append\n",
    "```"
   ]
  },
  {
   "cell_type": "code",
   "execution_count": 15,
   "metadata": {},
   "outputs": [],
   "source": [
    "with open('./dataset/filte.txt',mode ='r') as f:\n",
    "    text =f.readlines()\n",
    "    f.close()"
   ]
  },
  {
   "cell_type": "code",
   "execution_count": 16,
   "metadata": {},
   "outputs": [
    {
     "data": {
      "text/plain": [
       "[\"Python can be easy to pick up whether you're a first time programmer or you're experienced with other languages. The following pages are a useful first step to get on your way writing programs with Python!\\n\",\n",
       " '\\n',\n",
       " \"Beginner's Guide, Programmers\\n\",\n",
       " \"Beginner's Guide, Non-Programmers\\n\",\n",
       " \"Beginner's Guide, Download & Installation\\n\",\n",
       " 'Code sample and snippets for Beginners']"
      ]
     },
     "execution_count": 16,
     "metadata": {},
     "output_type": "execute_result"
    }
   ],
   "source": [
    "text"
   ]
  },
  {
   "cell_type": "code",
   "execution_count": 17,
   "metadata": {},
   "outputs": [],
   "source": [
    "# write file\n",
    "with open('srikanth.txt',mode ='w') as f:\n",
    "    text = 'Innomatics Technology Hub'\n",
    "    f.write(text+'\\n')\n",
    "    f.close()"
   ]
  },
  {
   "cell_type": "code",
   "execution_count": null,
   "metadata": {},
   "outputs": [],
   "source": []
  }
 ],
 "metadata": {
  "kernelspec": {
   "display_name": "Python 3",
   "language": "python",
   "name": "python3"
  },
  "language_info": {
   "codemirror_mode": {
    "name": "ipython",
    "version": 3
   },
   "file_extension": ".py",
   "mimetype": "text/x-python",
   "name": "python",
   "nbconvert_exporter": "python",
   "pygments_lexer": "ipython3",
   "version": "3.6.4"
  }
 },
 "nbformat": 4,
 "nbformat_minor": 2
}
