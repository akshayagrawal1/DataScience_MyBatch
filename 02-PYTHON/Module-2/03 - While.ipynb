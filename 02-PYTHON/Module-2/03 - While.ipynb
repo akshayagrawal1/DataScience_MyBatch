{
 "cells": [
  {
   "cell_type": "markdown",
   "metadata": {},
   "source": [
    "# while or do while"
   ]
  },
  {
   "cell_type": "markdown",
   "metadata": {},
   "source": [
    "```while condition:\n",
    "    ...\n",
    "   ``` "
   ]
  },
  {
   "cell_type": "code",
   "execution_count": 4,
   "metadata": {},
   "outputs": [
    {
     "name": "stdout",
     "output_type": "stream",
     "text": [
      "0 1 2 3 4\n"
     ]
    }
   ],
   "source": [
    "i = 0\n",
    "d = []\n",
    "while i < 5:\n",
    "    # indentation\n",
    "    d.append(str(i))\n",
    "    i += 1\n",
    "    \n",
    "print(' '.join(d))"
   ]
  },
  {
   "cell_type": "markdown",
   "metadata": {},
   "source": [
    "### write a program that create 100 random number in list\n",
    "- write a while loop such that if you found any divible by 5 break the loop else you the values in a list"
   ]
  },
  {
   "cell_type": "code",
   "execution_count": 5,
   "metadata": {},
   "outputs": [
    {
     "name": "stdout",
     "output_type": "stream",
     "text": [
      "[82, 87, 32, 58, 40, 18, 28, 14, 1, 17, 46, 20, 26, 45, 5, 21, 72, 16, 74, 80, 86, 65, 59, 54, 11, 55, 12, 32, 21, 41, 40, 17, 43, 78, 10, 76, 70, 62, 56, 45, 66, 66, 22, 93, 63, 48, 67, 10, 74, 71, 33, 74, 16, 56, 94, 100, 41, 80, 97, 81, 15, 2, 74, 34, 19, 24, 14, 6, 57, 24, 98, 27, 17, 12, 99, 1, 6, 51, 59, 68, 35, 20, 69, 39, 26, 89, 0, 90, 42, 78, 79, 89, 54, 55, 17, 87, 64, 8, 85, 42]\n"
     ]
    }
   ],
   "source": [
    "import random\n",
    "rand = []\n",
    "for i in range(100):\n",
    "    num = random.randint(0,100)\n",
    "    rand.append(num)\n",
    "    \n",
    "print(rand)"
   ]
  },
  {
   "cell_type": "code",
   "execution_count": 8,
   "metadata": {},
   "outputs": [
    {
     "name": "stdout",
     "output_type": "stream",
     "text": [
      "[82, 87, 32, 58]\n"
     ]
    }
   ],
   "source": [
    "i = 0\n",
    "values =[]\n",
    "while i < len(rand):\n",
    "    if rand[i] % 5 == 0:\n",
    "        break\n",
    "    else:\n",
    "        values.append(rand[i])\n",
    "        \n",
    "    i +=1 \n",
    "print(values)"
   ]
  },
  {
   "cell_type": "code",
   "execution_count": null,
   "metadata": {},
   "outputs": [],
   "source": []
  }
 ],
 "metadata": {
  "kernelspec": {
   "display_name": "Python 3",
   "language": "python",
   "name": "python3"
  },
  "language_info": {
   "codemirror_mode": {
    "name": "ipython",
    "version": 3
   },
   "file_extension": ".py",
   "mimetype": "text/x-python",
   "name": "python",
   "nbconvert_exporter": "python",
   "pygments_lexer": "ipython3",
   "version": "3.6.4"
  }
 },
 "nbformat": 4,
 "nbformat_minor": 2
}
