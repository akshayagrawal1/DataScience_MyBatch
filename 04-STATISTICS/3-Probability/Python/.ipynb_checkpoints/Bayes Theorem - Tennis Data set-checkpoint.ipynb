{
 "cells": [
  {
   "cell_type": "code",
   "execution_count": null,
   "metadata": {},
   "outputs": [],
   "source": [
    "import numpy as np \n",
    "import pandas as pd\n",
    "import matplotlib.pyplot as plt\n",
    "%matplotlib inline\n",
    "import networkx as nx"
   ]
  },
  {
   "cell_type": "code",
   "execution_count": null,
   "metadata": {},
   "outputs": [],
   "source": [
    "import seaborn as sns"
   ]
  },
  {
   "cell_type": "markdown",
   "metadata": {},
   "source": [
    "**Load Data Set**"
   ]
  },
  {
   "cell_type": "code",
   "execution_count": null,
   "metadata": {},
   "outputs": [],
   "source": [
    "data = pd.read_csv('./dataset/tennis.csv')\n",
    "data"
   ]
  },
  {
   "cell_type": "code",
   "execution_count": null,
   "metadata": {},
   "outputs": [],
   "source": [
    "data.columns"
   ]
  },
  {
   "cell_type": "code",
   "execution_count": null,
   "metadata": {},
   "outputs": [],
   "source": [
    "data.info()"
   ]
  },
  {
   "cell_type": "code",
   "execution_count": null,
   "metadata": {},
   "outputs": [],
   "source": [
    "data.outlook.unique()"
   ]
  },
  {
   "cell_type": "code",
   "execution_count": null,
   "metadata": {},
   "outputs": [],
   "source": [
    "data.outlook.value_counts()"
   ]
  },
  {
   "cell_type": "code",
   "execution_count": null,
   "metadata": {},
   "outputs": [],
   "source": [
    "data.play.value_counts()"
   ]
  },
  {
   "cell_type": "markdown",
   "metadata": {},
   "source": [
    "# Outlook vs Play"
   ]
  },
  {
   "cell_type": "code",
   "execution_count": null,
   "metadata": {},
   "outputs": [],
   "source": [
    "group = data[['outlook','play']].groupby(by=['outlook'])"
   ]
  },
  {
   "cell_type": "code",
   "execution_count": null,
   "metadata": {},
   "outputs": [],
   "source": [
    "group.count()"
   ]
  },
  {
   "cell_type": "code",
   "execution_count": null,
   "metadata": {},
   "outputs": [],
   "source": [
    "table = pd.crosstab(data['play'],columns=data['outlook'])\n",
    "table"
   ]
  },
  {
   "cell_type": "code",
   "execution_count": null,
   "metadata": {},
   "outputs": [],
   "source": [
    "table.loc['total'] = table.loc['no'] + table.loc['yes']\n",
    "table['total'] = table['overcast'] + table['rainy']  + table['sunny']"
   ]
  },
  {
   "cell_type": "markdown",
   "metadata": {},
   "source": [
    "# Pivot Table"
   ]
  },
  {
   "cell_type": "code",
   "execution_count": null,
   "metadata": {},
   "outputs": [],
   "source": [
    "table"
   ]
  },
  {
   "cell_type": "markdown",
   "metadata": {},
   "source": [
    "# Contingency Table"
   ]
  },
  {
   "cell_type": "code",
   "execution_count": null,
   "metadata": {},
   "outputs": [],
   "source": [
    "prob = table.div(14)# table.div(len(data)), table.div(table.iloc[-1,-1])\n",
    "prob"
   ]
  },
  {
   "cell_type": "markdown",
   "metadata": {},
   "source": [
    "##  Marginal Probability:\n",
    "- $P(overcast)$\n",
    "- $P(rainy)$\n",
    "- $P(sunny)$"
   ]
  },
  {
   "cell_type": "code",
   "execution_count": null,
   "metadata": {},
   "outputs": [],
   "source": [
    "prob['overcast'].total"
   ]
  },
  {
   "cell_type": "code",
   "execution_count": null,
   "metadata": {},
   "outputs": [],
   "source": [
    "# P(overcast)\n",
    "p_o = prob['overcast'].total\n",
    "# P(rainy)\n",
    "p_r = prob['rainy'].total\n",
    "# P(sunny)\n",
    "p_s = prob['sunny'].total\n"
   ]
  },
  {
   "cell_type": "code",
   "execution_count": null,
   "metadata": {},
   "outputs": [],
   "source": [
    "# print\n",
    "print('Probability of overcast: P(overcast) = %0.3f'%p_o )\n",
    "print('Probability of rainy: P(rainy) = %0.3f'%p_r )\n",
    "print('Probability of sunny: P(sunny) = %0.3f'%p_s )"
   ]
  },
  {
   "cell_type": "markdown",
   "metadata": {},
   "source": [
    "##  Marginal Probability:\n",
    "- $P(no)$\n",
    "- $P(yes)$"
   ]
  },
  {
   "cell_type": "code",
   "execution_count": null,
   "metadata": {},
   "outputs": [],
   "source": [
    "# P(no)\n",
    "p_no = prob.loc['no'].total\n",
    "# P(yes)\n",
    "p_yes = prob.loc['yes'].total"
   ]
  },
  {
   "cell_type": "code",
   "execution_count": null,
   "metadata": {},
   "outputs": [],
   "source": [
    "# print\n",
    "print('Probability of No: P(no) = %0.3f'%p_no )\n",
    "print('Probability of Yes: P(yes) = %0.3f'%p_yes )"
   ]
  },
  {
   "cell_type": "markdown",
   "metadata": {},
   "source": [
    "# Conditionality Probability"
   ]
  },
  {
   "cell_type": "markdown",
   "metadata": {},
   "source": [
    "# $P(A|B) = \\frac{P(A and B)}{P(B)}$\n",
    "- $P(Sunny | Yes)$\n",
    "- $P(Sunny | No )$\n",
    "- $P(Sunny | Yes)$\n",
    "- $P(Sunny | No )$\n"
   ]
  },
  {
   "cell_type": "markdown",
   "metadata": {},
   "source": [
    ">  Working on how to compute conditional probability"
   ]
  },
  {
   "cell_type": "code",
   "execution_count": null,
   "metadata": {},
   "outputs": [],
   "source": [
    "prob"
   ]
  },
  {
   "cell_type": "code",
   "execution_count": null,
   "metadata": {},
   "outputs": [],
   "source": [
    "prob.keys()"
   ]
  },
  {
   "cell_type": "code",
   "execution_count": null,
   "metadata": {},
   "outputs": [],
   "source": [
    "prob.index"
   ]
  },
  {
   "cell_type": "code",
   "execution_count": null,
   "metadata": {},
   "outputs": [],
   "source": [
    "prob['overcast']['yes'] # joint probability"
   ]
  },
  {
   "cell_type": "code",
   "execution_count": null,
   "metadata": {},
   "outputs": [],
   "source": [
    "prob['total']['yes'] # marginal probability"
   ]
  },
  {
   "cell_type": "code",
   "execution_count": null,
   "metadata": {},
   "outputs": [],
   "source": [
    "prob['overcast']['total'] # marginal probability"
   ]
  },
  {
   "cell_type": "code",
   "execution_count": null,
   "metadata": {},
   "outputs": [],
   "source": [
    "prob # p(rainy and yes)"
   ]
  },
  {
   "cell_type": "code",
   "execution_count": null,
   "metadata": {},
   "outputs": [],
   "source": [
    "def margin(A):\n",
    "    try:\n",
    "        p = prob[A][-1]\n",
    "        print('in try')\n",
    "        return p\n",
    "    except:\n",
    "        p = prob.loc[A][-1]\n",
    "        print('in except')\n",
    "        return p"
   ]
  },
  {
   "cell_type": "code",
   "execution_count": null,
   "metadata": {},
   "outputs": [],
   "source": [
    "margin('yes')"
   ]
  },
  {
   "cell_type": "markdown",
   "metadata": {},
   "source": [
    "> "
   ]
  },
  {
   "cell_type": "code",
   "execution_count": null,
   "metadata": {},
   "outputs": [],
   "source": [
    "def jointprob(A,B,table):\n",
    "    \"\"\"\n",
    "    jointprob(A,B) will return probability of combination attribute from \n",
    "    contigency table. P(A and B)\n",
    "    A = column\n",
    "    B = row\n",
    "    >>> jointprob(A,B,table)\n",
    "    \n",
    "    \"\"\"\n",
    "    return table[A][B]#.loc[B]\n",
    "\n",
    "def marginprob(B,table):\n",
    "    \"\"\"\n",
    "    marginprob(B) will return probability of attribute from \n",
    "    contigency table. P(B)\n",
    "    B = row\n",
    "    >>> marginprob(B,table)\n",
    "    \n",
    "    \"\"\"\n",
    "    try:\n",
    "        return table.loc[B][-1]\n",
    "    except:\n",
    "        return table[B][-1]\n",
    "\n",
    "def conditional(event,given,table):\n",
    "    \"\"\"\n",
    "    conditional(event,given,table)\n",
    "    \"\"\"\n",
    "    return jointprob(event,given,table)/marginprob(given,table)"
   ]
  },
  {
   "cell_type": "code",
   "execution_count": null,
   "metadata": {},
   "outputs": [],
   "source": [
    "prob"
   ]
  },
  {
   "cell_type": "code",
   "execution_count": null,
   "metadata": {},
   "outputs": [],
   "source": [
    "p_sunny_given_yes = conditional('sunny','yes',prob)\n",
    "print('Probability of sunny given yes: P(sunny|yes) = %0.3f'%p_sunny_given_yes)"
   ]
  },
  {
   "cell_type": "code",
   "execution_count": null,
   "metadata": {},
   "outputs": [],
   "source": [
    "p_sunny_given_no = conditional('sunny','no',prob)\n",
    "print('Probability of sunny given no: P(sunny|no) = %0.3f'%p_sunny_given_no)"
   ]
  },
  {
   "cell_type": "code",
   "execution_count": null,
   "metadata": {},
   "outputs": [],
   "source": [
    "p_overcast_given_yes = conditional('overcast','yes',prob)\n",
    "print('Probability of overcast given yes: P(overcast|yes) = %0.3f'%p_overcast_given_yes)"
   ]
  },
  {
   "cell_type": "code",
   "execution_count": null,
   "metadata": {},
   "outputs": [],
   "source": [
    "p_overcast_given_no = conditional('overcast','no',prob)\n",
    "print('Probability of overcast given no: P(overcast|no) = %0.3f'%p_overcast_given_no)"
   ]
  },
  {
   "cell_type": "code",
   "execution_count": null,
   "metadata": {},
   "outputs": [],
   "source": [
    "p_rainy_given_yes = conditional('rainy','yes',prob)\n",
    "print('Probability of rainy given yes: P(rainy|yes) = %0.3f'%p_rainy_given_yes)"
   ]
  },
  {
   "cell_type": "code",
   "execution_count": null,
   "metadata": {
    "scrolled": true
   },
   "outputs": [],
   "source": [
    "p_rainy_given_no = conditional('rainy','no',prob)\n",
    "print('Probability of rainy given no: P(rainy|no) = %0.3f'%p_rainy_given_no)"
   ]
  },
  {
   "cell_type": "markdown",
   "metadata": {},
   "source": [
    "# Probability Tree"
   ]
  },
  {
   "cell_type": "code",
   "execution_count": null,
   "metadata": {},
   "outputs": [],
   "source": [
    "prob.columns.name"
   ]
  },
  {
   "cell_type": "code",
   "execution_count": null,
   "metadata": {},
   "outputs": [],
   "source": [
    "ind1"
   ]
  },
  {
   "cell_type": "code",
   "execution_count": null,
   "metadata": {},
   "outputs": [],
   "source": [
    "start = prob.index.name\n",
    "ind1 = 'P(%s)=%0.3f'%('yes',marginprob('yes',prob))\n",
    "ind2 = 'P(%s)=%0.3f'%('no',marginprob('no',prob))\n",
    "\n",
    "\n",
    "# Given index-1 probability of events\n",
    "\n",
    "event11 = '%s=%0.3f'%('sunny',conditional('sunny','yes',prob))\n",
    "event12 = '%s=%0.3f'%('overcast',conditional('overcast','yes',prob))\n",
    "event13 = '%s=%0.3f'%('rainy',conditional('rainy','yes',prob))\n",
    "\n",
    "# Given index-2 probability of events\n",
    "\n",
    "event21 = '%s=%0.3f'%('sunny',conditional('sunny','no',prob))\n",
    "event22 = '%s=%0.3f'%('overcast',conditional('overcast','no',prob))\n",
    "event23 = '%s=%0.3f'%('rainy',conditional('rainy','no',prob))"
   ]
  },
  {
   "cell_type": "code",
   "execution_count": null,
   "metadata": {},
   "outputs": [],
   "source": [
    "drawData = {'from':[start,ind1,ind1,ind1,start,ind2,ind2,ind2],\n",
    "            'to':[ind1,event11,event12,event13,ind2,event21,event22,event23]}\n",
    "draw = pd.DataFrame(drawData)\n",
    "draw"
   ]
  },
  {
   "cell_type": "code",
   "execution_count": null,
   "metadata": {
    "scrolled": false
   },
   "outputs": [],
   "source": [
    "fig = plt.figure(figsize=(10,5))\n",
    "\n",
    "# Build your graph. Note that we use the DiGraph function to create the graph!\n",
    "G=nx.from_pandas_edgelist(draw, 'from', 'to')\n",
    "\n",
    "# Make the graph\n",
    "nx.draw(G, with_labels=True, node_size=2000,alpha=0.8, arrows=True,linewitdh=50.0,cmap=plt.cm.Set1)\n"
   ]
  },
  {
   "cell_type": "markdown",
   "metadata": {},
   "source": [
    "#  Classification Report"
   ]
  },
  {
   "cell_type": "code",
   "execution_count": null,
   "metadata": {},
   "outputs": [],
   "source": [
    "prob"
   ]
  },
  {
   "cell_type": "markdown",
   "metadata": {},
   "source": [
    "# Bayes Theorem\n",
    "## $P(A | B) = \\frac{P(A) * A(B|A)}{P(B)}$\n",
    "#### Example:\n",
    "### $P(yes | rainy) = \\frac{P(yes) * A(rainy|yes)}{P(rainy)}$\n",
    "\n",
    "### $= \\frac{P(yes) * A(rainy|yes)}{P(yes) * P(rainy|yes) + p(no) * P(rainy|no)}$"
   ]
  },
  {
   "cell_type": "code",
   "execution_count": null,
   "metadata": {},
   "outputs": [],
   "source": [
    "def bayes(event,given,table):\n",
    "    \"\"\"\n",
    "                    P(A) * P(B | A)\n",
    "    P(A | B)  =    _______________\n",
    "                        P(B)\n",
    "    >>> bayes(event,given,table)\n",
    "    \"\"\"\n",
    "    \n",
    "    margin_A = marginprob(event,table) # marginal probability\n",
    "    cond = conditional(given,event,table) # conditional probability\n",
    "    margin_B = marginprob(given,table) # marginal probability\n",
    "    \n",
    "    return margin_A * cond / margin_B"
   ]
  },
  {
   "cell_type": "code",
   "execution_count": null,
   "metadata": {},
   "outputs": [],
   "source": [
    "p_yes_sunny = bayes('yes','sunny',prob)\n",
    "p_no_sunny = bayes('no','sunny',prob)\n",
    "\n",
    "p_yes_overcast = bayes('yes','overcast',prob)\n",
    "p_no_overcast = bayes('no','overcast',prob)\n",
    "\n",
    "p_yes_rainy = bayes('yes','rainy',prob)\n",
    "p_no_rainy = bayes('no','rainy',prob)\n"
   ]
  },
  {
   "cell_type": "markdown",
   "metadata": {},
   "source": [
    "# Testing with test data"
   ]
  },
  {
   "cell_type": "code",
   "execution_count": null,
   "metadata": {},
   "outputs": [],
   "source": [
    "def testGreater(yes,no):\n",
    "    if yes >= no: return 'yes'\n",
    "    else: return 'no'"
   ]
  },
  {
   "cell_type": "code",
   "execution_count": null,
   "metadata": {},
   "outputs": [],
   "source": [
    "pred = []\n",
    "for outlook in data['outlook']:\n",
    "    if outlook == 'sunny':\n",
    "        pred.append(testGreater(p_yes_sunny,p_no_sunny))\n",
    "    elif outlook =='overcast':\n",
    "        pred.append(testGreater(p_yes_overcast,p_no_overcast))\n",
    "    else:\n",
    "        pred.append(testGreater(p_yes_rainy,p_no_rainy))"
   ]
  },
  {
   "cell_type": "code",
   "execution_count": null,
   "metadata": {},
   "outputs": [],
   "source": [
    "data['outlook_play'] = pd.Series(pred)\n",
    "data.head(1)"
   ]
  },
  {
   "cell_type": "markdown",
   "metadata": {},
   "source": [
    "!pip install pandas_ml"
   ]
  },
  {
   "cell_type": "code",
   "execution_count": null,
   "metadata": {},
   "outputs": [],
   "source": [
    "from pandas_ml import ConfusionMatrix"
   ]
  },
  {
   "cell_type": "code",
   "execution_count": null,
   "metadata": {},
   "outputs": [],
   "source": [
    "y_true = np.array(list(data['play']))\n",
    "y_pred = np.array(list(data['outlook_play']))"
   ]
  },
  {
   "cell_type": "markdown",
   "metadata": {},
   "source": [
    "np.where(y_true == 'yes', True, False), np.where(y_pred == 'yes', True, False)"
   ]
  },
  {
   "cell_type": "code",
   "execution_count": null,
   "metadata": {},
   "outputs": [],
   "source": [
    "cm = ConfusionMatrix(np.where(y_true == 'yes', True, False), np.where(y_pred == 'yes', True, False))"
   ]
  },
  {
   "cell_type": "code",
   "execution_count": null,
   "metadata": {},
   "outputs": [],
   "source": [
    "cm"
   ]
  },
  {
   "cell_type": "code",
   "execution_count": null,
   "metadata": {},
   "outputs": [],
   "source": [
    "print(cm.print_stats())"
   ]
  },
  {
   "cell_type": "markdown",
   "metadata": {},
   "source": [
    "# Great Job !!!"
   ]
  }
 ],
 "metadata": {
  "kernelspec": {
   "display_name": "Python 3",
   "language": "python",
   "name": "python3"
  },
  "language_info": {
   "codemirror_mode": {
    "name": "ipython",
    "version": 3
   },
   "file_extension": ".py",
   "mimetype": "text/x-python",
   "name": "python",
   "nbconvert_exporter": "python",
   "pygments_lexer": "ipython3",
   "version": "3.6.4"
  }
 },
 "nbformat": 4,
 "nbformat_minor": 2
}
