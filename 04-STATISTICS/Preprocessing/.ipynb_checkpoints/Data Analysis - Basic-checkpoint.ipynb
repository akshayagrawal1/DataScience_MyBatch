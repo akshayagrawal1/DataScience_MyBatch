{
 "cells": [
  {
   "cell_type": "markdown",
   "metadata": {},
   "source": [
    "### Basic : Queries in data \n",
    "\n",
    "|Sno|Question|\n",
    "|---|--------|\n",
    "|1|**Number of cars brands avaiable in dataset**|\n",
    "|2|**Count number of cars available in each brand**|\n",
    "|3|**Which brand has least count(no. of cars) in dataset**|\n",
    "|4|**Top five Number of car brand count in dataset**|\n",
    "|5|**List of top five Cars brands with highest \"Mileage per Kilometer\"**|\n",
    "|6|**List of top five Cars brands with least \"Mileage per Kilometer\"**|\n",
    "|7|**Count number of Diesel and Petrol cars available in dataset**|"
   ]
  },
  {
   "cell_type": "code",
   "execution_count": 28,
   "metadata": {},
   "outputs": [],
   "source": [
    "import numpy as np\n",
    "import pandas as pd\n",
    "import matplotlib.pyplot as plt\n",
    "%matplotlib inline\n",
    "import seaborn as sns"
   ]
  },
  {
   "cell_type": "markdown",
   "metadata": {},
   "source": [
    "## **Loading preprocessed data-set**"
   ]
  },
  {
   "cell_type": "code",
   "execution_count": 29,
   "metadata": {},
   "outputs": [
    {
     "data": {
      "text/html": [
       "<div>\n",
       "<style scoped>\n",
       "    .dataframe tbody tr th:only-of-type {\n",
       "        vertical-align: middle;\n",
       "    }\n",
       "\n",
       "    .dataframe tbody tr th {\n",
       "        vertical-align: top;\n",
       "    }\n",
       "\n",
       "    .dataframe thead th {\n",
       "        text-align: right;\n",
       "    }\n",
       "</style>\n",
       "<table border=\"1\" class=\"dataframe\">\n",
       "  <thead>\n",
       "    <tr style=\"text-align: right;\">\n",
       "      <th></th>\n",
       "      <th>brand</th>\n",
       "      <th>cc</th>\n",
       "      <th>et</th>\n",
       "      <th>kpl</th>\n",
       "      <th>mdl</th>\n",
       "      <th>price</th>\n",
       "      <th>sc</th>\n",
       "      <th>am</th>\n",
       "      <th>vr</th>\n",
       "    </tr>\n",
       "  </thead>\n",
       "  <tbody>\n",
       "    <tr>\n",
       "      <th>0</th>\n",
       "      <td>Audi</td>\n",
       "      <td>1968</td>\n",
       "      <td>Diesel</td>\n",
       "      <td>20.38</td>\n",
       "      <td>A3</td>\n",
       "      <td>3491000</td>\n",
       "      <td>5</td>\n",
       "      <td>Automatic</td>\n",
       "      <td>35 TDI Premium Plus</td>\n",
       "    </tr>\n",
       "    <tr>\n",
       "      <th>1</th>\n",
       "      <td>Audi</td>\n",
       "      <td>1968</td>\n",
       "      <td>Diesel</td>\n",
       "      <td>20.38</td>\n",
       "      <td>A3</td>\n",
       "      <td>3669000</td>\n",
       "      <td>5</td>\n",
       "      <td>Automatic</td>\n",
       "      <td>35 TDI Technology</td>\n",
       "    </tr>\n",
       "    <tr>\n",
       "      <th>2</th>\n",
       "      <td>Audi</td>\n",
       "      <td>1395</td>\n",
       "      <td>Petrol</td>\n",
       "      <td>19.20</td>\n",
       "      <td>A3</td>\n",
       "      <td>3310000</td>\n",
       "      <td>5</td>\n",
       "      <td>Automatic</td>\n",
       "      <td>35 TFSI Premium Plus</td>\n",
       "    </tr>\n",
       "    <tr>\n",
       "      <th>3</th>\n",
       "      <td>Audi</td>\n",
       "      <td>1395</td>\n",
       "      <td>Petrol</td>\n",
       "      <td>19.20</td>\n",
       "      <td>A3</td>\n",
       "      <td>3510000</td>\n",
       "      <td>5</td>\n",
       "      <td>Automatic</td>\n",
       "      <td>35 TFSI Technology</td>\n",
       "    </tr>\n",
       "    <tr>\n",
       "      <th>4</th>\n",
       "      <td>Audi</td>\n",
       "      <td>1968</td>\n",
       "      <td>Diesel</td>\n",
       "      <td>15.73</td>\n",
       "      <td>Q3</td>\n",
       "      <td>3653000</td>\n",
       "      <td>5</td>\n",
       "      <td>Manual</td>\n",
       "      <td>30 TDI Premium FWD</td>\n",
       "    </tr>\n",
       "  </tbody>\n",
       "</table>\n",
       "</div>"
      ],
      "text/plain": [
       "  brand    cc      et    kpl mdl    price  sc         am                    vr\n",
       "0  Audi  1968  Diesel  20.38  A3  3491000   5  Automatic   35 TDI Premium Plus\n",
       "1  Audi  1968  Diesel  20.38  A3  3669000   5  Automatic     35 TDI Technology\n",
       "2  Audi  1395  Petrol  19.20  A3  3310000   5  Automatic  35 TFSI Premium Plus\n",
       "3  Audi  1395  Petrol  19.20  A3  3510000   5  Automatic    35 TFSI Technology\n",
       "4  Audi  1968  Diesel  15.73  Q3  3653000   5     Manual    30 TDI Premium FWD"
      ]
     },
     "execution_count": 29,
     "metadata": {},
     "output_type": "execute_result"
    }
   ],
   "source": [
    "inocar = pd.read_excel('inocar.xlsx')\n",
    "inocar.head()"
   ]
  },
  {
   "cell_type": "markdown",
   "metadata": {},
   "source": [
    ">  # 1. Number of car brands avaiable in dataset (inocar)"
   ]
  },
  {
   "cell_type": "code",
   "execution_count": 30,
   "metadata": {},
   "outputs": [
    {
     "data": {
      "text/plain": [
       "array(['Audi', 'Hyundai', 'Jaguar', 'Maruthi Suzuki', 'Mercedes',\n",
       "       'Nissan', 'Skoda', 'Tata', 'Toyota', 'Volkswagen'], dtype=object)"
      ]
     },
     "execution_count": 30,
     "metadata": {},
     "output_type": "execute_result"
    }
   ],
   "source": [
    "# inocar -> is attribute name\n",
    "# brand is coloumn name \n",
    "# function to print unique is elements is \"unique()\"\n",
    "inocar.brand.unique() # print Car brands in array"
   ]
  },
  {
   "cell_type": "code",
   "execution_count": 31,
   "metadata": {},
   "outputs": [
    {
     "data": {
      "text/plain": [
       "10"
      ]
     },
     "execution_count": 31,
     "metadata": {},
     "output_type": "execute_result"
    }
   ],
   "source": [
    "# function \"nunique()\" will count number in unique elements in list\n",
    "inocar.brand.nunique() "
   ]
  },
  {
   "cell_type": "markdown",
   "metadata": {},
   "source": [
    "> ## 2. Count number of cars available in each brand"
   ]
  },
  {
   "cell_type": "code",
   "execution_count": 32,
   "metadata": {},
   "outputs": [
    {
     "data": {
      "text/plain": [
       "Maruthi Suzuki    149\n",
       "Tata               92\n",
       "Toyota             72\n",
       "Hyundai            38\n",
       "Skoda              35\n",
       "Volkswagen         32\n",
       "Audi               27\n",
       "Nissan             21\n",
       "Jaguar             20\n",
       "Mercedes           14\n",
       "Name: brand, dtype: int64"
      ]
     },
     "execution_count": 32,
     "metadata": {},
     "output_type": "execute_result"
    }
   ],
   "source": [
    "# function \"value_counts()\" will compute number of time each unique value repeats\n",
    "inocar.brand.value_counts()"
   ]
  },
  {
   "cell_type": "markdown",
   "metadata": {},
   "source": [
    "> ## 3. Which brand has least count (no. of cars) in dataset"
   ]
  },
  {
   "cell_type": "code",
   "execution_count": 33,
   "metadata": {},
   "outputs": [
    {
     "data": {
      "text/plain": [
       "Mercedes    14\n",
       "Name: brand, dtype: int64"
      ]
     },
     "execution_count": 33,
     "metadata": {},
     "output_type": "execute_result"
    }
   ],
   "source": [
    "inocar.brand.value_counts(ascending=True).iloc[:1]"
   ]
  },
  {
   "cell_type": "markdown",
   "metadata": {},
   "source": [
    "> ## 4. Top five Number of car brand count in dataset"
   ]
  },
  {
   "cell_type": "code",
   "execution_count": 34,
   "metadata": {},
   "outputs": [
    {
     "data": {
      "text/plain": [
       "Maruthi Suzuki    149\n",
       "Tata               92\n",
       "Toyota             72\n",
       "Hyundai            38\n",
       "Skoda              35\n",
       "Name: brand, dtype: int64"
      ]
     },
     "execution_count": 34,
     "metadata": {},
     "output_type": "execute_result"
    }
   ],
   "source": [
    "inocar.brand.value_counts(ascending=False).iloc[:5]"
   ]
  },
  {
   "cell_type": "markdown",
   "metadata": {},
   "source": [
    "> ## 5. List of top five Cars brands with highest \"Mileage per Kilometer\""
   ]
  },
  {
   "cell_type": "code",
   "execution_count": 40,
   "metadata": {},
   "outputs": [
    {
     "data": {
      "text/html": [
       "<div>\n",
       "<style scoped>\n",
       "    .dataframe tbody tr th:only-of-type {\n",
       "        vertical-align: middle;\n",
       "    }\n",
       "\n",
       "    .dataframe tbody tr th {\n",
       "        vertical-align: top;\n",
       "    }\n",
       "\n",
       "    .dataframe thead th {\n",
       "        text-align: right;\n",
       "    }\n",
       "</style>\n",
       "<table border=\"1\" class=\"dataframe\">\n",
       "  <thead>\n",
       "    <tr style=\"text-align: right;\">\n",
       "      <th></th>\n",
       "      <th>brand</th>\n",
       "      <th>cc</th>\n",
       "      <th>et</th>\n",
       "      <th>kpl</th>\n",
       "      <th>mdl</th>\n",
       "      <th>price</th>\n",
       "      <th>sc</th>\n",
       "      <th>am</th>\n",
       "      <th>vr</th>\n",
       "    </tr>\n",
       "  </thead>\n",
       "  <tbody>\n",
       "    <tr>\n",
       "      <th>103</th>\n",
       "      <td>Maruthi Suzuki</td>\n",
       "      <td>796</td>\n",
       "      <td>CNG</td>\n",
       "      <td>33.4</td>\n",
       "      <td>Alto 800</td>\n",
       "      <td>373576</td>\n",
       "      <td>5</td>\n",
       "      <td>Manual</td>\n",
       "      <td>LXI CNG</td>\n",
       "    </tr>\n",
       "    <tr>\n",
       "      <th>108</th>\n",
       "      <td>Maruthi Suzuki</td>\n",
       "      <td>796</td>\n",
       "      <td>CNG</td>\n",
       "      <td>33.4</td>\n",
       "      <td>Alto 800</td>\n",
       "      <td>379519</td>\n",
       "      <td>5</td>\n",
       "      <td>Manual</td>\n",
       "      <td>LXI CNG (O)</td>\n",
       "    </tr>\n",
       "    <tr>\n",
       "      <th>128</th>\n",
       "      <td>Maruthi Suzuki</td>\n",
       "      <td>998</td>\n",
       "      <td>CNG</td>\n",
       "      <td>32.2</td>\n",
       "      <td>Alto K10</td>\n",
       "      <td>416478</td>\n",
       "      <td>5</td>\n",
       "      <td>Manual</td>\n",
       "      <td>LXI CNG (O)</td>\n",
       "    </tr>\n",
       "    <tr>\n",
       "      <th>114</th>\n",
       "      <td>Maruthi Suzuki</td>\n",
       "      <td>998</td>\n",
       "      <td>CNG</td>\n",
       "      <td>31.7</td>\n",
       "      <td>Celerio</td>\n",
       "      <td>516551</td>\n",
       "      <td>5</td>\n",
       "      <td>Manual</td>\n",
       "      <td>Vxi CNG MT</td>\n",
       "    </tr>\n",
       "    <tr>\n",
       "      <th>164</th>\n",
       "      <td>Maruthi Suzuki</td>\n",
       "      <td>1248</td>\n",
       "      <td>Diesel</td>\n",
       "      <td>28.4</td>\n",
       "      <td>Dzire</td>\n",
       "      <td>657970</td>\n",
       "      <td>5</td>\n",
       "      <td>Manual</td>\n",
       "      <td>LDI</td>\n",
       "    </tr>\n",
       "  </tbody>\n",
       "</table>\n",
       "</div>"
      ],
      "text/plain": [
       "              brand    cc      et   kpl       mdl   price  sc      am  \\\n",
       "103  Maruthi Suzuki   796     CNG  33.4  Alto 800  373576   5  Manual   \n",
       "108  Maruthi Suzuki   796     CNG  33.4  Alto 800  379519   5  Manual   \n",
       "128  Maruthi Suzuki   998     CNG  32.2  Alto K10  416478   5  Manual   \n",
       "114  Maruthi Suzuki   998     CNG  31.7   Celerio  516551   5  Manual   \n",
       "164  Maruthi Suzuki  1248  Diesel  28.4     Dzire  657970   5  Manual   \n",
       "\n",
       "              vr  \n",
       "103      LXI CNG  \n",
       "108  LXI CNG (O)  \n",
       "128  LXI CNG (O)  \n",
       "114   Vxi CNG MT  \n",
       "164          LDI  "
      ]
     },
     "execution_count": 40,
     "metadata": {},
     "output_type": "execute_result"
    }
   ],
   "source": [
    "inocar.sort_values(by='kpl',ascending=False).head()"
   ]
  },
  {
   "cell_type": "markdown",
   "metadata": {},
   "source": [
    "> ## 6. List of top five Cars brands with least \"Mileage per Kilometer\""
   ]
  },
  {
   "cell_type": "code",
   "execution_count": 41,
   "metadata": {},
   "outputs": [
    {
     "data": {
      "text/html": [
       "<div>\n",
       "<style scoped>\n",
       "    .dataframe tbody tr th:only-of-type {\n",
       "        vertical-align: middle;\n",
       "    }\n",
       "\n",
       "    .dataframe tbody tr th {\n",
       "        vertical-align: top;\n",
       "    }\n",
       "\n",
       "    .dataframe thead th {\n",
       "        text-align: right;\n",
       "    }\n",
       "</style>\n",
       "<table border=\"1\" class=\"dataframe\">\n",
       "  <thead>\n",
       "    <tr style=\"text-align: right;\">\n",
       "      <th></th>\n",
       "      <th>brand</th>\n",
       "      <th>cc</th>\n",
       "      <th>et</th>\n",
       "      <th>kpl</th>\n",
       "      <th>mdl</th>\n",
       "      <th>price</th>\n",
       "      <th>sc</th>\n",
       "      <th>am</th>\n",
       "      <th>vr</th>\n",
       "    </tr>\n",
       "  </thead>\n",
       "  <tbody>\n",
       "    <tr>\n",
       "      <th>241</th>\n",
       "      <td>Mercedes</td>\n",
       "      <td>5461</td>\n",
       "      <td>Diesel</td>\n",
       "      <td>8.50</td>\n",
       "      <td>E-Class</td>\n",
       "      <td>15000000</td>\n",
       "      <td>5</td>\n",
       "      <td>Automatic</td>\n",
       "      <td>E 63 S AMG    ...</td>\n",
       "    </tr>\n",
       "    <tr>\n",
       "      <th>415</th>\n",
       "      <td>Toyota</td>\n",
       "      <td>4461</td>\n",
       "      <td>Diesel</td>\n",
       "      <td>9.00</td>\n",
       "      <td>Toyota Land Cruiser</td>\n",
       "      <td>14134000</td>\n",
       "      <td>5</td>\n",
       "      <td>Automatic</td>\n",
       "      <td>VX            ...</td>\n",
       "    </tr>\n",
       "    <tr>\n",
       "      <th>247</th>\n",
       "      <td>Mercedes</td>\n",
       "      <td>2143</td>\n",
       "      <td>Diesel</td>\n",
       "      <td>9.20</td>\n",
       "      <td>CLS</td>\n",
       "      <td>7354025</td>\n",
       "      <td>5</td>\n",
       "      <td>Automatic</td>\n",
       "      <td>250 CDI       ...</td>\n",
       "    </tr>\n",
       "    <tr>\n",
       "      <th>22</th>\n",
       "      <td>Audi</td>\n",
       "      <td>3993</td>\n",
       "      <td>Petrol</td>\n",
       "      <td>9.40</td>\n",
       "      <td>A8L</td>\n",
       "      <td>14945000</td>\n",
       "      <td>7</td>\n",
       "      <td>Automatic</td>\n",
       "      <td>60 TFSI</td>\n",
       "    </tr>\n",
       "    <tr>\n",
       "      <th>72</th>\n",
       "      <td>Jaguar</td>\n",
       "      <td>1999</td>\n",
       "      <td>Petrol</td>\n",
       "      <td>9.43</td>\n",
       "      <td>Jaguar XJ</td>\n",
       "      <td>10100000</td>\n",
       "      <td>5</td>\n",
       "      <td>Automatic</td>\n",
       "      <td>XJ 2.0L Portfolio</td>\n",
       "    </tr>\n",
       "  </tbody>\n",
       "</table>\n",
       "</div>"
      ],
      "text/plain": [
       "        brand    cc       et   kpl                  mdl     price  sc  \\\n",
       "241  Mercedes  5461   Diesel  8.50              E-Class  15000000   5   \n",
       "415    Toyota  4461   Diesel  9.00  Toyota Land Cruiser  14134000   5   \n",
       "247  Mercedes  2143   Diesel  9.20                  CLS   7354025   5   \n",
       "22       Audi  3993   Petrol  9.40                  A8L  14945000   7   \n",
       "72     Jaguar  1999   Petrol  9.43            Jaguar XJ  10100000   5   \n",
       "\n",
       "             am                                                 vr  \n",
       "241   Automatic                                  E 63 S AMG    ...  \n",
       "415   Automatic                                  VX            ...  \n",
       "247   Automatic                                  250 CDI       ...  \n",
       "22    Automatic                                            60 TFSI  \n",
       "72    Automatic                                  XJ 2.0L Portfolio  "
      ]
     },
     "execution_count": 41,
     "metadata": {},
     "output_type": "execute_result"
    }
   ],
   "source": [
    "inocar.sort_values(by='kpl',ascending=True).head()"
   ]
  },
  {
   "cell_type": "markdown",
   "metadata": {},
   "source": [
    "> ## 7. Count number of Diesel and Petrol cars available in dataset"
   ]
  },
  {
   "cell_type": "code",
   "execution_count": 42,
   "metadata": {},
   "outputs": [
    {
     "data": {
      "text/plain": [
       "Petrol     276\n",
       "Diesel     192\n",
       " Petrol     11\n",
       "CNG         10\n",
       " Diesel      9\n",
       "Hybrid       2\n",
       "Name: et, dtype: int64"
      ]
     },
     "execution_count": 42,
     "metadata": {},
     "output_type": "execute_result"
    }
   ],
   "source": [
    "inocar.et.value_counts()"
   ]
  },
  {
   "cell_type": "markdown",
   "metadata": {},
   "source": [
    "> ## 8. Least number of "
   ]
  }
 ],
 "metadata": {
  "kernelspec": {
   "display_name": "Python 3",
   "language": "python",
   "name": "python3"
  },
  "language_info": {
   "codemirror_mode": {
    "name": "ipython",
    "version": 3
   },
   "file_extension": ".py",
   "mimetype": "text/x-python",
   "name": "python",
   "nbconvert_exporter": "python",
   "pygments_lexer": "ipython3",
   "version": "3.6.5"
  }
 },
 "nbformat": 4,
 "nbformat_minor": 2
}
