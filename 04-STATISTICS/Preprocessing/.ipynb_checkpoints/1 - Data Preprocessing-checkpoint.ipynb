{
 "cells": [
  {
   "cell_type": "code",
   "execution_count": 1,
   "metadata": {},
   "outputs": [],
   "source": [
    "import numpy as np\n",
    "import pandas as pd\n",
    "import matplotlib.pyplot as plt\n",
    "import seaborn as sns\n",
    "%matplotlib inline\n",
    "plt.style.use('seaborn')\n",
    "import re"
   ]
  },
  {
   "cell_type": "code",
   "execution_count": 2,
   "metadata": {},
   "outputs": [
    {
     "data": {
      "text/html": [
       "<div>\n",
       "<style scoped>\n",
       "    .dataframe tbody tr th:only-of-type {\n",
       "        vertical-align: middle;\n",
       "    }\n",
       "\n",
       "    .dataframe tbody tr th {\n",
       "        vertical-align: top;\n",
       "    }\n",
       "\n",
       "    .dataframe thead th {\n",
       "        text-align: right;\n",
       "    }\n",
       "</style>\n",
       "<table border=\"1\" class=\"dataframe\">\n",
       "  <thead>\n",
       "    <tr style=\"text-align: right;\">\n",
       "      <th></th>\n",
       "      <th>0</th>\n",
       "      <th>1</th>\n",
       "      <th>2</th>\n",
       "      <th>3</th>\n",
       "      <th>4</th>\n",
       "      <th>5</th>\n",
       "      <th>6</th>\n",
       "      <th>7</th>\n",
       "      <th>8</th>\n",
       "    </tr>\n",
       "  </thead>\n",
       "  <tbody>\n",
       "    <tr>\n",
       "      <th>0</th>\n",
       "      <td>Audi</td>\n",
       "      <td>1968</td>\n",
       "      <td>Diesel</td>\n",
       "      <td>20.38</td>\n",
       "      <td>A3</td>\n",
       "      <td>3491000</td>\n",
       "      <td>5</td>\n",
       "      <td>Automatic</td>\n",
       "      <td>35 TDI Premium Plus</td>\n",
       "    </tr>\n",
       "    <tr>\n",
       "      <th>1</th>\n",
       "      <td>Audi</td>\n",
       "      <td>1968</td>\n",
       "      <td>Diesel</td>\n",
       "      <td>20.38</td>\n",
       "      <td>A3</td>\n",
       "      <td>3669000</td>\n",
       "      <td>5</td>\n",
       "      <td>Automatic</td>\n",
       "      <td>35 TDI Technology</td>\n",
       "    </tr>\n",
       "    <tr>\n",
       "      <th>2</th>\n",
       "      <td>Audi</td>\n",
       "      <td>1395</td>\n",
       "      <td>Petrol</td>\n",
       "      <td>19.2</td>\n",
       "      <td>A3</td>\n",
       "      <td>3310000</td>\n",
       "      <td>5</td>\n",
       "      <td>Automatic</td>\n",
       "      <td>35 TFSI Premium Plus</td>\n",
       "    </tr>\n",
       "    <tr>\n",
       "      <th>3</th>\n",
       "      <td>Audi</td>\n",
       "      <td>1395</td>\n",
       "      <td>Petrol</td>\n",
       "      <td>19.2</td>\n",
       "      <td>A3</td>\n",
       "      <td>3510000</td>\n",
       "      <td>5</td>\n",
       "      <td>Automatic</td>\n",
       "      <td>35 TFSI Technology</td>\n",
       "    </tr>\n",
       "    <tr>\n",
       "      <th>4</th>\n",
       "      <td>Audi</td>\n",
       "      <td>1968</td>\n",
       "      <td>Diesel</td>\n",
       "      <td>15.73</td>\n",
       "      <td>Q3</td>\n",
       "      <td>3653000</td>\n",
       "      <td>5</td>\n",
       "      <td>Manual</td>\n",
       "      <td>30 TDI Premium FWD</td>\n",
       "    </tr>\n",
       "  </tbody>\n",
       "</table>\n",
       "</div>"
      ],
      "text/plain": [
       "      0     1       2      3   4        5  6          7                     8\n",
       "0  Audi  1968  Diesel  20.38  A3  3491000  5  Automatic   35 TDI Premium Plus\n",
       "1  Audi  1968  Diesel  20.38  A3  3669000  5  Automatic     35 TDI Technology\n",
       "2  Audi  1395  Petrol   19.2  A3  3310000  5  Automatic  35 TFSI Premium Plus\n",
       "3  Audi  1395  Petrol   19.2  A3  3510000  5  Automatic    35 TFSI Technology\n",
       "4  Audi  1968  Diesel  15.73  Q3  3653000  5     Manual    30 TDI Premium FWD"
      ]
     },
     "execution_count": 2,
     "metadata": {},
     "output_type": "execute_result"
    }
   ],
   "source": [
    "inocar = pd.read_excel('Final.xlsx',header=None)\n",
    "inocar.head()"
   ]
  },
  {
   "cell_type": "code",
   "execution_count": 3,
   "metadata": {},
   "outputs": [
    {
     "data": {
      "text/plain": [
       "array([1968, 1968, 1395, 1395, 1968, 1968, 1395, 1968, 1968, 1395, 1395,\n",
       "       1968, 1798, 1968, 1968, 1984, 1984, 1968, 1968, 1798, 1984, 1968,\n",
       "       3993, 2967, 4134, 6299, 2967, '814 cc', '814 cc', '814 cc',\n",
       "       '814 cc', '814 cc', '998 cc', '814 cc', '998 cc', '814 cc',\n",
       "       '814 cc', '814 cc', '1582 cc', '1582 cc', '1582 cc', '1999 cc',\n",
       "       '1999 cc', '1797 cc', '1999 cc', '1999 cc', '1582 cc', '1197 cc',\n",
       "       '1197 cc', '1186 cc'], dtype=object)"
      ]
     },
     "execution_count": 3,
     "metadata": {},
     "output_type": "execute_result"
    }
   ],
   "source": [
    "inocar.iloc[0:50,1].values"
   ]
  },
  {
   "cell_type": "markdown",
   "metadata": {},
   "source": [
    "> Coloumn-1 has categorical(string) values, changing data type string into integers in coloumn-1\n",
    "\n",
    "*some rows has 'cc' along with numeric*"
   ]
  },
  {
   "cell_type": "code",
   "execution_count": 4,
   "metadata": {},
   "outputs": [],
   "source": [
    "for i in range(len(inocar[1])):\n",
    "    if type(inocar.iloc[i,1]) != int:\n",
    "        string = inocar.iloc[i,1]\n",
    "        num = re.findall('\\d+',string)\n",
    "        inocar.iloc[i,1] = int(num[0])"
   ]
  },
  {
   "cell_type": "code",
   "execution_count": 5,
   "metadata": {},
   "outputs": [
    {
     "data": {
      "text/plain": [
       "array([1968, 1968, 1395, 1395, 1968, 1968, 1395, 1968, 1968, 1395, 1395,\n",
       "       1968, 1798, 1968, 1968, 1984, 1984, 1968, 1968, 1798, 1984, 1968,\n",
       "       3993, 2967, 4134, 6299, 2967,  814,  814,  814,  814,  814,  998,\n",
       "        814,  998,  814,  814,  814, 1582, 1582, 1582, 1999, 1999, 1797,\n",
       "       1999, 1999, 1582, 1197, 1197, 1186], dtype=int64)"
      ]
     },
     "execution_count": 5,
     "metadata": {},
     "output_type": "execute_result"
    }
   ],
   "source": [
    "inocar.iloc[0:50,1].values"
   ]
  },
  {
   "cell_type": "markdown",
   "metadata": {},
   "source": [
    "> Changing coloumn names\n",
    "\n",
    "`['brand','cc','et','mpl','mdl','price','sc','am','vr']`"
   ]
  },
  {
   "cell_type": "markdown",
   "metadata": {},
   "source": [
    "> **Description of coloumns**\n",
    "\n",
    "|Coloumn Name| Description |\n",
    "|------------|-------------|\n",
    "|brand|Brand Name|\n",
    "|cc|cubic centimeters (Engine displacement)|\n",
    "|et|Engine Type(Petrol or Diesel)|\n",
    "|kpl|Kilometer Per Liter|\n",
    "|mdl|Model Name|\n",
    "|Price|Price of Car in Rupees|\n",
    "|sc|Seat Capacity|\n",
    "|am|Transmission = Automatic / Manual|\n",
    "|vr|Variant - Model Name description|"
   ]
  },
  {
   "cell_type": "code",
   "execution_count": 6,
   "metadata": {},
   "outputs": [
    {
     "data": {
      "text/html": [
       "<div>\n",
       "<style scoped>\n",
       "    .dataframe tbody tr th:only-of-type {\n",
       "        vertical-align: middle;\n",
       "    }\n",
       "\n",
       "    .dataframe tbody tr th {\n",
       "        vertical-align: top;\n",
       "    }\n",
       "\n",
       "    .dataframe thead th {\n",
       "        text-align: right;\n",
       "    }\n",
       "</style>\n",
       "<table border=\"1\" class=\"dataframe\">\n",
       "  <thead>\n",
       "    <tr style=\"text-align: right;\">\n",
       "      <th></th>\n",
       "      <th>brand</th>\n",
       "      <th>cc</th>\n",
       "      <th>et</th>\n",
       "      <th>kpl</th>\n",
       "      <th>mdl</th>\n",
       "      <th>price</th>\n",
       "      <th>sc</th>\n",
       "      <th>am</th>\n",
       "      <th>vr</th>\n",
       "    </tr>\n",
       "  </thead>\n",
       "  <tbody>\n",
       "    <tr>\n",
       "      <th>0</th>\n",
       "      <td>Audi</td>\n",
       "      <td>1968</td>\n",
       "      <td>Diesel</td>\n",
       "      <td>20.38</td>\n",
       "      <td>A3</td>\n",
       "      <td>3491000</td>\n",
       "      <td>5</td>\n",
       "      <td>Automatic</td>\n",
       "      <td>35 TDI Premium Plus</td>\n",
       "    </tr>\n",
       "    <tr>\n",
       "      <th>1</th>\n",
       "      <td>Audi</td>\n",
       "      <td>1968</td>\n",
       "      <td>Diesel</td>\n",
       "      <td>20.38</td>\n",
       "      <td>A3</td>\n",
       "      <td>3669000</td>\n",
       "      <td>5</td>\n",
       "      <td>Automatic</td>\n",
       "      <td>35 TDI Technology</td>\n",
       "    </tr>\n",
       "    <tr>\n",
       "      <th>2</th>\n",
       "      <td>Audi</td>\n",
       "      <td>1395</td>\n",
       "      <td>Petrol</td>\n",
       "      <td>19.2</td>\n",
       "      <td>A3</td>\n",
       "      <td>3310000</td>\n",
       "      <td>5</td>\n",
       "      <td>Automatic</td>\n",
       "      <td>35 TFSI Premium Plus</td>\n",
       "    </tr>\n",
       "    <tr>\n",
       "      <th>3</th>\n",
       "      <td>Audi</td>\n",
       "      <td>1395</td>\n",
       "      <td>Petrol</td>\n",
       "      <td>19.2</td>\n",
       "      <td>A3</td>\n",
       "      <td>3510000</td>\n",
       "      <td>5</td>\n",
       "      <td>Automatic</td>\n",
       "      <td>35 TFSI Technology</td>\n",
       "    </tr>\n",
       "    <tr>\n",
       "      <th>4</th>\n",
       "      <td>Audi</td>\n",
       "      <td>1968</td>\n",
       "      <td>Diesel</td>\n",
       "      <td>15.73</td>\n",
       "      <td>Q3</td>\n",
       "      <td>3653000</td>\n",
       "      <td>5</td>\n",
       "      <td>Manual</td>\n",
       "      <td>30 TDI Premium FWD</td>\n",
       "    </tr>\n",
       "  </tbody>\n",
       "</table>\n",
       "</div>"
      ],
      "text/plain": [
       "  brand    cc      et    kpl mdl    price  sc         am                    vr\n",
       "0  Audi  1968  Diesel  20.38  A3  3491000   5  Automatic   35 TDI Premium Plus\n",
       "1  Audi  1968  Diesel  20.38  A3  3669000   5  Automatic     35 TDI Technology\n",
       "2  Audi  1395  Petrol   19.2  A3  3310000   5  Automatic  35 TFSI Premium Plus\n",
       "3  Audi  1395  Petrol   19.2  A3  3510000   5  Automatic    35 TFSI Technology\n",
       "4  Audi  1968  Diesel  15.73  Q3  3653000   5     Manual    30 TDI Premium FWD"
      ]
     },
     "execution_count": 6,
     "metadata": {},
     "output_type": "execute_result"
    }
   ],
   "source": [
    "inocar.columns = ['brand','cc','et','kpl','mdl','price','sc','am','vr']\n",
    "inocar.head()"
   ]
  },
  {
   "cell_type": "code",
   "execution_count": 7,
   "metadata": {},
   "outputs": [],
   "source": [
    "inocar.to_excel('inocar.xlsx',sheet_name='Cars',index=False)"
   ]
  }
 ],
 "metadata": {
  "kernelspec": {
   "display_name": "Python 3",
   "language": "python",
   "name": "python3"
  },
  "language_info": {
   "codemirror_mode": {
    "name": "ipython",
    "version": 3
   },
   "file_extension": ".py",
   "mimetype": "text/x-python",
   "name": "python",
   "nbconvert_exporter": "python",
   "pygments_lexer": "ipython3",
   "version": "3.6.5"
  }
 },
 "nbformat": 4,
 "nbformat_minor": 2
}
