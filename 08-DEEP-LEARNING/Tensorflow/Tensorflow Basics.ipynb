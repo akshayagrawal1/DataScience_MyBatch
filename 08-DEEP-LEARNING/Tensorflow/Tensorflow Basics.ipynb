{
 "cells": [
  {
   "cell_type": "code",
   "execution_count": 1,
   "metadata": {},
   "outputs": [
    {
     "name": "stderr",
     "output_type": "stream",
     "text": [
      "C:\\Users\\srikanth\\Anaconda\\lib\\site-packages\\h5py\\__init__.py:36: FutureWarning: Conversion of the second argument of issubdtype from `float` to `np.floating` is deprecated. In future, it will be treated as `np.float64 == np.dtype(float).type`.\n",
      "  from ._conv import register_converters as _register_converters\n"
     ]
    }
   ],
   "source": [
    "import tensorflow as tf\n",
    "import numpy as np # dependency library"
   ]
  },
  {
   "cell_type": "code",
   "execution_count": 2,
   "metadata": {},
   "outputs": [
    {
     "data": {
      "text/plain": [
       "'1.10.0'"
      ]
     },
     "execution_count": 2,
     "metadata": {},
     "output_type": "execute_result"
    }
   ],
   "source": [
    "tf.__version__"
   ]
  },
  {
   "cell_type": "code",
   "execution_count": null,
   "metadata": {},
   "outputs": [],
   "source": [
    "a = 2\n",
    "b=  3\n",
    "c = a+b"
   ]
  },
  {
   "cell_type": "code",
   "execution_count": null,
   "metadata": {},
   "outputs": [],
   "source": [
    "c"
   ]
  },
  {
   "cell_type": "markdown",
   "metadata": {},
   "source": [
    "# Tensorflow "
   ]
  },
  {
   "cell_type": "markdown",
   "metadata": {},
   "source": [
    "- constant\n",
    "- variable\n",
    "- placholders"
   ]
  },
  {
   "cell_type": "code",
   "execution_count": 3,
   "metadata": {},
   "outputs": [],
   "source": [
    "# addtion in tensorflow\n",
    "a = tf.constant(2,name='x1')# name = anything without space\n",
    "b = tf.constant(3,name='x2')"
   ]
  },
  {
   "cell_type": "code",
   "execution_count": 4,
   "metadata": {},
   "outputs": [],
   "source": [
    "c = tf.add(a,b,name='addition')"
   ]
  },
  {
   "cell_type": "code",
   "execution_count": 5,
   "metadata": {},
   "outputs": [
    {
     "data": {
      "text/plain": [
       "<tf.Tensor 'addition:0' shape=() dtype=int32>"
      ]
     },
     "execution_count": 5,
     "metadata": {},
     "output_type": "execute_result"
    }
   ],
   "source": [
    "c"
   ]
  },
  {
   "cell_type": "code",
   "execution_count": 6,
   "metadata": {},
   "outputs": [
    {
     "name": "stdout",
     "output_type": "stream",
     "text": [
      "5\n"
     ]
    }
   ],
   "source": [
    "# Running graph\n",
    "with tf.Session() as sess:\n",
    "    result = sess.run(c)\n",
    "    print(result)"
   ]
  },
  {
   "cell_type": "code",
   "execution_count": 7,
   "metadata": {},
   "outputs": [
    {
     "name": "stdout",
     "output_type": "stream",
     "text": [
      "2 3 5\n"
     ]
    }
   ],
   "source": [
    "# writing graph\n",
    "with tf.Session() as sess:\n",
    "    writer = tf.summary.FileWriter('./firstgraph',graph=sess.graph)\n",
    "    res_a = sess.run(a)\n",
    "    res_b = sess.run(b)\n",
    "    res = sess.run(c)\n",
    "    print(res_a,res_b,res)\n",
    "    writer.close()"
   ]
  },
  {
   "cell_type": "markdown",
   "metadata": {},
   "source": [
    "# Graph 2"
   ]
  },
  {
   "cell_type": "code",
   "execution_count": 9,
   "metadata": {},
   "outputs": [],
   "source": [
    "# input layer\n",
    "x1 = tf.constant(1,dtype=tf.float32,name='a')\n",
    "x2 = tf.constant(2,dtype=tf.float32,name='b')\n",
    "x3 = tf.constant(3,dtype=tf.float32,name='c')\n",
    "\n",
    "# Layer - 1\n",
    "\n",
    "L1 = tf.add(x1,x2,name='layer_1')\n",
    "\n",
    "# Layer- 2\n",
    "L21 = tf.multiply(L1,x3,name='Layer_21')\n",
    "L22 = tf.add(x1,tf.add(x2,x3),name='layer_22')\n",
    "\n",
    "# Layer-3\n",
    "L3 = L21 + L22\n",
    "\n",
    "# output \n",
    "output = tf.sin(L3,name='ouput')"
   ]
  },
  {
   "cell_type": "code",
   "execution_count": 10,
   "metadata": {},
   "outputs": [
    {
     "name": "stdout",
     "output_type": "stream",
     "text": [
      "0.65028787\n"
     ]
    }
   ],
   "source": [
    "# writing grph\n",
    "with tf.Session() as sess:\n",
    "    writer = tf.summary.FileWriter('./secondgraph',graph=sess.graph)\n",
    "    result = sess.run(output)\n",
    "    print(result)\n",
    "    writer.close()"
   ]
  },
  {
   "cell_type": "markdown",
   "metadata": {},
   "source": [
    "# Graph 3"
   ]
  },
  {
   "cell_type": "code",
   "execution_count": 11,
   "metadata": {},
   "outputs": [],
   "source": [
    "# step -1 : creating a placeholder\n",
    "x = tf.placeholder(dtype=tf.float32,shape=(3,1),\n",
    "                  name='input')\n",
    "\n",
    "# step-2 : weight\n",
    "w_rand = tf.random_normal(shape=(3,3))\n",
    "W = tf.Variable(initial_value=w_rand)\n",
    "\n",
    "# Step-3: Layer-1\n",
    "\n",
    "L1 = tf.matmul(W,x,name='Layer1') # shape = 3x1\n",
    "\n",
    "# step-4: weight\n",
    "w1_rand = tf.random_normal(shape=(3,1))\n",
    "W1 = tf.Variable(initial_value=(w1_rand))# 3x1\n",
    "\n",
    "# step-5: output\n",
    "output = tf.matmul(W1,L1,transpose_a=True) # (1x1)\n"
   ]
  },
  {
   "cell_type": "code",
   "execution_count": 12,
   "metadata": {},
   "outputs": [
    {
     "data": {
      "text/plain": [
       "(3, 1)"
      ]
     },
     "execution_count": 12,
     "metadata": {},
     "output_type": "execute_result"
    }
   ],
   "source": [
    "a = np.ones(shape=(3,1))\n",
    "a.shape"
   ]
  },
  {
   "cell_type": "code",
   "execution_count": 13,
   "metadata": {},
   "outputs": [
    {
     "data": {
      "text/plain": [
       "array([[1.],\n",
       "       [1.],\n",
       "       [1.]])"
      ]
     },
     "execution_count": 13,
     "metadata": {},
     "output_type": "execute_result"
    }
   ],
   "source": [
    "a"
   ]
  },
  {
   "cell_type": "code",
   "execution_count": 14,
   "metadata": {},
   "outputs": [
    {
     "name": "stdout",
     "output_type": "stream",
     "text": [
      "[[4.872452]]\n"
     ]
    }
   ],
   "source": [
    "init = tf.global_variables_initializer()\n",
    "with tf.Session() as sess:\n",
    "    sess.run(init)\n",
    "    writer = tf.summary.FileWriter(logdir=\"./srikanth\",\n",
    "                              graph=sess.graph)\n",
    "    result = sess.run(output,feed_dict={x:a})\n",
    "    print(result)\n",
    "    writer.close()"
   ]
  },
  {
   "cell_type": "code",
   "execution_count": null,
   "metadata": {},
   "outputs": [],
   "source": []
  },
  {
   "cell_type": "code",
   "execution_count": null,
   "metadata": {},
   "outputs": [],
   "source": []
  },
  {
   "cell_type": "code",
   "execution_count": null,
   "metadata": {},
   "outputs": [],
   "source": []
  },
  {
   "cell_type": "code",
   "execution_count": null,
   "metadata": {},
   "outputs": [],
   "source": []
  },
  {
   "cell_type": "code",
   "execution_count": null,
   "metadata": {},
   "outputs": [],
   "source": []
  },
  {
   "cell_type": "code",
   "execution_count": null,
   "metadata": {},
   "outputs": [],
   "source": []
  },
  {
   "cell_type": "code",
   "execution_count": null,
   "metadata": {},
   "outputs": [],
   "source": []
  },
  {
   "cell_type": "code",
   "execution_count": 4,
   "metadata": {},
   "outputs": [],
   "source": [
    "x = tf.placeholder(dtype=tf.float32,shape=3,name='inputs')"
   ]
  },
  {
   "cell_type": "code",
   "execution_count": 5,
   "metadata": {},
   "outputs": [],
   "source": [
    "# Layer - 1\n",
    "\n",
    "L1 = tf.add(x[0],x[1],name='layer_1')\n",
    "\n",
    "# Layer- 2\n",
    "L21 = tf.multiply(L1,x[2],name='Layer_21')\n",
    "L22 = tf.add(x1,tf.add(x[1],x[2]),name='layer_22')\n",
    "\n",
    "# Layer-3\n",
    "L3 = L21 + L22\n",
    "\n",
    "# output \n",
    "output = tf.sin(L3,name='ouput')"
   ]
  },
  {
   "cell_type": "code",
   "execution_count": 6,
   "metadata": {},
   "outputs": [
    {
     "name": "stdout",
     "output_type": "stream",
     "text": [
      "0.58061117\n"
     ]
    }
   ],
   "source": [
    "# writing grph\n",
    "with tf.Session() as sess:\n",
    "    writer = tf.summary.FileWriter('./thirdgraph',graph=sess.graph)\n",
    "    result = sess.run(output,feed_dict={x:[6,7,8]})\n",
    "    print(result)\n",
    "    writer.close()"
   ]
  },
  {
   "cell_type": "markdown",
   "metadata": {},
   "source": [
    "# Graph 4"
   ]
  },
  {
   "cell_type": "markdown",
   "metadata": {},
   "source": [
    "> ### Variable"
   ]
  },
  {
   "cell_type": "markdown",
   "metadata": {},
   "source": [
    "**creating 3 x 3 matrix**"
   ]
  },
  {
   "cell_type": "code",
   "execution_count": 7,
   "metadata": {},
   "outputs": [],
   "source": [
    "w = tf.random_uniform(shape=(3,3))"
   ]
  },
  {
   "cell_type": "code",
   "execution_count": 9,
   "metadata": {},
   "outputs": [],
   "source": [
    "v1 = tf.Variable(initial_value=w,name='varaibe')"
   ]
  },
  {
   "cell_type": "code",
   "execution_count": 11,
   "metadata": {},
   "outputs": [
    {
     "name": "stdout",
     "output_type": "stream",
     "text": [
      "[[0.7657981  0.36485493 0.11041331]\n",
      " [0.2429986  0.617679   0.08694744]\n",
      " [0.9450878  0.15198946 0.8951292 ]]\n"
     ]
    }
   ],
   "source": [
    "init = tf.global_variables_initializer()\n",
    "with tf.Session() as sess:\n",
    "    sess.run(init)\n",
    "    print(sess.run(v1))"
   ]
  },
  {
   "cell_type": "code",
   "execution_count": null,
   "metadata": {},
   "outputs": [],
   "source": []
  },
  {
   "cell_type": "code",
   "execution_count": null,
   "metadata": {},
   "outputs": [],
   "source": []
  }
 ],
 "metadata": {
  "kernelspec": {
   "display_name": "Python 3",
   "language": "python",
   "name": "python3"
  },
  "language_info": {
   "codemirror_mode": {
    "name": "ipython",
    "version": 3
   },
   "file_extension": ".py",
   "mimetype": "text/x-python",
   "name": "python",
   "nbconvert_exporter": "python",
   "pygments_lexer": "ipython3",
   "version": "3.6.4"
  }
 },
 "nbformat": 4,
 "nbformat_minor": 2
}
