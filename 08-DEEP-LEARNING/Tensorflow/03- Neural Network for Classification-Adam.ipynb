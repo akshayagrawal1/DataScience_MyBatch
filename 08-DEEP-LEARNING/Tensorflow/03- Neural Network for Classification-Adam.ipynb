{
 "cells": [
  {
   "cell_type": "markdown",
   "metadata": {},
   "source": [
    "# Neural Network for classification\n",
    "784 , 64 , 16 , 10"
   ]
  },
  {
   "cell_type": "code",
   "execution_count": 1,
   "metadata": {},
   "outputs": [
    {
     "name": "stderr",
     "output_type": "stream",
     "text": [
      "C:\\Users\\srikanth\\Anaconda\\lib\\site-packages\\h5py\\__init__.py:36: FutureWarning: Conversion of the second argument of issubdtype from `float` to `np.floating` is deprecated. In future, it will be treated as `np.float64 == np.dtype(float).type`.\n",
      "  from ._conv import register_converters as _register_converters\n"
     ]
    }
   ],
   "source": [
    "import tensorflow as tf\n",
    "import numpy as np\n",
    "import matplotlib.pyplot as plt\n",
    "%matplotlib inline"
   ]
  },
  {
   "cell_type": "code",
   "execution_count": 2,
   "metadata": {},
   "outputs": [],
   "source": [
    "from tensorflow.examples.tutorials.mnist import input_data"
   ]
  },
  {
   "cell_type": "markdown",
   "metadata": {},
   "source": [
    "###### Modified National Instuite of Science and technology"
   ]
  },
  {
   "cell_type": "code",
   "execution_count": 3,
   "metadata": {},
   "outputs": [
    {
     "name": "stdout",
     "output_type": "stream",
     "text": [
      "WARNING:tensorflow:From <ipython-input-3-83c178461cfd>:1: read_data_sets (from tensorflow.contrib.learn.python.learn.datasets.mnist) is deprecated and will be removed in a future version.\n",
      "Instructions for updating:\n",
      "Please use alternatives such as official/mnist/dataset.py from tensorflow/models.\n",
      "WARNING:tensorflow:From C:\\Users\\srikanth\\Anaconda\\lib\\site-packages\\tensorflow\\contrib\\learn\\python\\learn\\datasets\\mnist.py:260: maybe_download (from tensorflow.contrib.learn.python.learn.datasets.base) is deprecated and will be removed in a future version.\n",
      "Instructions for updating:\n",
      "Please write your own downloading logic.\n",
      "WARNING:tensorflow:From C:\\Users\\srikanth\\Anaconda\\lib\\site-packages\\tensorflow\\contrib\\learn\\python\\learn\\datasets\\mnist.py:262: extract_images (from tensorflow.contrib.learn.python.learn.datasets.mnist) is deprecated and will be removed in a future version.\n",
      "Instructions for updating:\n",
      "Please use tf.data to implement this functionality.\n",
      "Extracting ./mnist_data\\train-images-idx3-ubyte.gz\n",
      "WARNING:tensorflow:From C:\\Users\\srikanth\\Anaconda\\lib\\site-packages\\tensorflow\\contrib\\learn\\python\\learn\\datasets\\mnist.py:267: extract_labels (from tensorflow.contrib.learn.python.learn.datasets.mnist) is deprecated and will be removed in a future version.\n",
      "Instructions for updating:\n",
      "Please use tf.data to implement this functionality.\n",
      "Extracting ./mnist_data\\train-labels-idx1-ubyte.gz\n",
      "WARNING:tensorflow:From C:\\Users\\srikanth\\Anaconda\\lib\\site-packages\\tensorflow\\contrib\\learn\\python\\learn\\datasets\\mnist.py:110: dense_to_one_hot (from tensorflow.contrib.learn.python.learn.datasets.mnist) is deprecated and will be removed in a future version.\n",
      "Instructions for updating:\n",
      "Please use tf.one_hot on tensors.\n",
      "Extracting ./mnist_data\\t10k-images-idx3-ubyte.gz\n",
      "Extracting ./mnist_data\\t10k-labels-idx1-ubyte.gz\n",
      "WARNING:tensorflow:From C:\\Users\\srikanth\\Anaconda\\lib\\site-packages\\tensorflow\\contrib\\learn\\python\\learn\\datasets\\mnist.py:290: DataSet.__init__ (from tensorflow.contrib.learn.python.learn.datasets.mnist) is deprecated and will be removed in a future version.\n",
      "Instructions for updating:\n",
      "Please use alternatives such as official/mnist/dataset.py from tensorflow/models.\n"
     ]
    }
   ],
   "source": [
    "mnist = input_data.read_data_sets('./mnist_data',one_hot=True)"
   ]
  },
  {
   "cell_type": "code",
   "execution_count": 4,
   "metadata": {},
   "outputs": [],
   "source": [
    "# mnist\n",
    "# 70,000 images\n",
    "# 55,000 training dataset\n",
    "# 10,000 testing\n",
    "# 5,000 validation"
   ]
  },
  {
   "cell_type": "code",
   "execution_count": 4,
   "metadata": {},
   "outputs": [],
   "source": [
    "# training images\n",
    "x_train= mnist.train.images\n",
    "y_train= mnist.train.labels\n",
    "# testing images\n",
    "x_test= mnist.test.images\n",
    "y_test= mnist.test.labels"
   ]
  },
  {
   "cell_type": "code",
   "execution_count": 6,
   "metadata": {},
   "outputs": [
    {
     "data": {
      "text/plain": [
       "(55000, 784)"
      ]
     },
     "execution_count": 6,
     "metadata": {},
     "output_type": "execute_result"
    }
   ],
   "source": [
    "x_train.shape"
   ]
  },
  {
   "cell_type": "code",
   "execution_count": 22,
   "metadata": {},
   "outputs": [
    {
     "data": {
      "text/plain": [
       "7"
      ]
     },
     "execution_count": 22,
     "metadata": {},
     "output_type": "execute_result"
    },
    {
     "data": {
      "image/png": "[encoded data removed]",
      "text/plain": [
       "<Figure size 288x288 with 1 Axes>"
      ]
     },
     "metadata": {},
     "output_type": "display_data"
    }
   ],
   "source": [
    "plt.figure(figsize=(4,4))\n",
    "img = x_train[0:1]\n",
    "img = img.reshape(28,28)\n",
    "plt.imshow(img,cmap='gray')\n",
    "y_train[0].argmax()"
   ]
  },
  {
   "cell_type": "code",
   "execution_count": 6,
   "metadata": {},
   "outputs": [
    {
     "data": {
      "image/png": "[encoded data removed]",
      "text/plain": [
       "<Figure size 648x432 with 6 Axes>"
      ]
     },
     "metadata": {},
     "output_type": "display_data"
    }
   ],
   "source": [
    "fig = plt.figure(figsize=(9,6))\n",
    "for i in range(1,7):\n",
    "\n",
    "    plt.subplot(2,3,i)\n",
    "    plt.imshow(x_train[i:i+1].reshape((28,28)),cmap='gray')\n",
    "    plt.title(\"Label: {}\".format(y_train[i:i+1].argmax()))\n",
    "    plt.xticks([]),plt.yticks([])\n",
    "    \n",
    "plt.show()"
   ]
  },
  {
   "cell_type": "markdown",
   "metadata": {},
   "source": [
    "> ### FeedForward Neural network"
   ]
  },
  {
   "cell_type": "code",
   "execution_count": 7,
   "metadata": {},
   "outputs": [],
   "source": [
    "with tf.name_scope('Input_Layer'):\n",
    "    x_inputs = tf.placeholder(dtype=tf.float32,shape=[None,784],name='input')\n",
    "with tf.name_scope('Weights'):\n",
    "    # weights\n",
    "    wx = tf.Variable(tf.truncated_normal(shape=(784,64)))\n",
    "    wy = tf.Variable(tf.truncated_normal(shape=(64,16)))\n",
    "    wz = tf.Variable(tf.truncated_normal(shape=(16,10)))\n",
    "    # bais\n",
    "    bx = tf.Variable(tf.truncated_normal(shape=[64])) \n",
    "    by = tf.Variable(tf.truncated_normal(shape=[16]))\n",
    "    bz = tf.Variable(tf.truncated_normal(shape=[10]))\n",
    "    \n",
    "with tf.name_scope('Layer_1'):\n",
    "    L1 = tf.matmul(x_inputs,wx,name='L1')\n",
    "    L11 = tf.nn.sigmoid(L1+bx,name='Layer1')\n",
    "\n",
    "with tf.name_scope('Layer_2'):\n",
    "    L2 = tf.matmul(L11,wy,name='L2')\n",
    "    L22 = tf.nn.sigmoid(L2+by,name='Layer2')\n",
    "    \n",
    "with tf.name_scope('output'):\n",
    "    L3 = tf.matmul(L22,wz,name='L3')\n",
    "    y = tf.nn.sigmoid(L3+bz,name='output') "
   ]
  },
  {
   "cell_type": "markdown",
   "metadata": {},
   "source": [
    "> ### Backward Pass"
   ]
  },
  {
   "cell_type": "code",
   "execution_count": 8,
   "metadata": {},
   "outputs": [],
   "source": [
    "with tf.name_scope('loss'):\n",
    "    y_actual = tf.placeholder(dtype=tf.float32,shape=[None,10],name='actual')\n",
    "    cost = tf.reduce_mean(tf.nn.softmax_cross_entropy_with_logits_v2(\n",
    "        labels=y_actual,logits=y))"
   ]
  },
  {
   "cell_type": "code",
   "execution_count": 9,
   "metadata": {},
   "outputs": [],
   "source": [
    "with tf.name_scope('optimizer'):\n",
    "    optimizer = tf.train.AdamOptimizer(learning_rate=0.01)\n",
    "    train = optimizer.minimize(cost)"
   ]
  },
  {
   "cell_type": "code",
   "execution_count": 10,
   "metadata": {},
   "outputs": [],
   "source": [
    "cross_prediction = tf.equal(tf.argmax(y,1), tf.argmax(y_actual,1))\n",
    "accuracy = tf.reduce_mean(tf.cast(cross_prediction,tf.float32))"
   ]
  },
  {
   "cell_type": "markdown",
   "metadata": {},
   "source": [
    "# Training Model"
   ]
  },
  {
   "cell_type": "code",
   "execution_count": 11,
   "metadata": {},
   "outputs": [],
   "source": [
    "epochs = 1001\n",
    "batch_size = 10000"
   ]
  },
  {
   "cell_type": "code",
   "execution_count": 12,
   "metadata": {},
   "outputs": [],
   "source": [
    "def batching(last,batch_size):\n",
    "    return np.random.randint(low=0,high=last,size=batch_size)"
   ]
  },
  {
   "cell_type": "code",
   "execution_count": null,
   "metadata": {},
   "outputs": [],
   "source": [
    "saver = tf.train.Saver()"
   ]
  },
  {
   "cell_type": "code",
   "execution_count": null,
   "metadata": {},
   "outputs": [
    {
     "name": "stdout",
     "output_type": "stream",
     "text": [
      "Epoch: 0, Loss: 2.29, Acc: 0.10\n",
      "Epoch: 100, Loss: 1.62, Acc: 0.90\n",
      "Epoch: 200, Loss: 1.54, Acc: 0.93\n",
      "Epoch: 300, Loss: 1.52, Acc: 0.94\n",
      "Epoch: 400, Loss: 1.52, Acc: 0.95\n"
     ]
    }
   ],
   "source": [
    "init = tf.global_variables_initializer()\n",
    "with tf.Session() as sess:\n",
    "    sess.run(init)\n",
    "    writer = tf.summary.FileWriter('./neural_class',graph=sess.graph)\n",
    "    \n",
    "    # training\n",
    "    for i in range(epochs):\n",
    "        ind = batching(55000,batch_size)\n",
    "        sess.run(train,feed_dict={x_inputs:x_train[ind],\n",
    "                                  y_actual:y_train[ind]})\n",
    "        \n",
    "        # check values for every 100 iterations\n",
    "        if i%100 == 0:\n",
    "            ind1 = batching(10000,batch_size)\n",
    "            loss, acc = sess.run([cost,accuracy],feed_dict={x_inputs:x_test[ind1],\n",
    "                                  y_actual:y_test[ind1]})\n",
    "            \n",
    "            print('Epoch: %d, Loss: %0.2f, Acc: %0.2f'%(i,loss,acc))\n",
    "            \n",
    "    \n",
    "    saver.save(sess,'./numberclass_nn/nn.ckpt')\n",
    "    writer.close()\n",
    "        "
   ]
  },
  {
   "cell_type": "markdown",
   "metadata": {},
   "source": [
    "# Testing"
   ]
  },
  {
   "cell_type": "code",
   "execution_count": null,
   "metadata": {},
   "outputs": [],
   "source": [
    "import cv2"
   ]
  },
  {
   "cell_type": "code",
   "execution_count": 34,
   "metadata": {},
   "outputs": [],
   "source": [
    "# Step - 1 : convert image into gray scale\n",
    "img = cv2.imread('1887.jpg',0) # reading in grayscale\n",
    "# step-2: inverse colors\n",
    "img_not = cv2.bitwise_not(img)\n",
    "# step-3: resize into 28 x 28 \n",
    "img_resize = cv2.resize(img_not,(28,28))\n",
    "# step-4: Normalization 0- 1\n",
    "img_norm = img_resize/img_resize.max()\n",
    "# step -3 : reshape into 1 x 784\n",
    "test = img_norm.reshape((1,784))"
   ]
  },
  {
   "cell_type": "code",
   "execution_count": 35,
   "metadata": {},
   "outputs": [
    {
     "data": {
      "text/plain": [
       "(1, 784)"
      ]
     },
     "execution_count": 35,
     "metadata": {},
     "output_type": "execute_result"
    }
   ],
   "source": [
    "test.shape"
   ]
  },
  {
   "cell_type": "markdown",
   "metadata": {},
   "source": [
    "### restore the model and testing it"
   ]
  },
  {
   "cell_type": "code",
   "execution_count": 36,
   "metadata": {},
   "outputs": [
    {
     "name": "stdout",
     "output_type": "stream",
     "text": [
      "INFO:tensorflow:Restoring parameters from ./numberclass_nn/nn.ckpt\n",
      "[[1.8514884e-03 1.5807255e-04 9.9450374e-01 3.8597926e-01 1.7580111e-05\n",
      "  5.9610064e-04 1.3753629e-04 4.1371284e-04 4.3767787e-04 8.8758306e-06]]\n"
     ]
    }
   ],
   "source": [
    "with tf.Session() as sess:\n",
    "    saver.restore(sess,'./numberclass_nn/nn.ckpt')\n",
    "    result = sess.run(y,feed_dict={x_inputs:test})\n",
    "    print(result)"
   ]
  },
  {
   "cell_type": "code",
   "execution_count": 39,
   "metadata": {},
   "outputs": [
    {
     "data": {
      "text/plain": [
       "2"
      ]
     },
     "execution_count": 39,
     "metadata": {},
     "output_type": "execute_result"
    }
   ],
   "source": [
    "result.argmax()"
   ]
  },
  {
   "cell_type": "code",
   "execution_count": 23,
   "metadata": {},
   "outputs": [
    {
     "data": {
      "text/plain": [
       "(784, 64, 16, 10)"
      ]
     },
     "execution_count": 23,
     "metadata": {},
     "output_type": "execute_result"
    }
   ],
   "source": [
    "784 , 64 , 16 , 10"
   ]
  },
  {
   "cell_type": "code",
   "execution_count": 24,
   "metadata": {},
   "outputs": [
    {
     "name": "stderr",
     "output_type": "stream",
     "text": [
      "Using TensorFlow backend.\n"
     ]
    }
   ],
   "source": [
    "import keras"
   ]
  },
  {
   "cell_type": "code",
   "execution_count": 25,
   "metadata": {},
   "outputs": [],
   "source": [
    "from keras import Sequential\n",
    "from keras.layers import Dense"
   ]
  },
  {
   "cell_type": "code",
   "execution_count": 26,
   "metadata": {},
   "outputs": [],
   "source": [
    "# Feed forward network\n",
    "# 784 , 64 , 16 , 10\n",
    "model = Sequential()\n",
    "model.add(Dense(units=64,input_dim = 784,activation='sigmoid')) # layer-1\n",
    "model.add(Dense(units=16,activation='sigmoid')) # layer-2\n",
    "model.add(Dense(units=10,activation='softmax')) # output layer"
   ]
  },
  {
   "cell_type": "code",
   "execution_count": 27,
   "metadata": {},
   "outputs": [],
   "source": [
    "# backward pass\n",
    "model.compile(optimizer='adam',metrics=['accuracy'],\n",
    "              loss='categorical_crossentropy')"
   ]
  },
  {
   "cell_type": "code",
   "execution_count": 28,
   "metadata": {},
   "outputs": [
    {
     "name": "stdout",
     "output_type": "stream",
     "text": [
      "Train on 55000 samples, validate on 10000 samples\n",
      "Epoch 1/10\n",
      "55000/55000 [==============================] - 4s 66us/step - loss: 1.2356 - acc: 0.7622 - val_loss: 0.6326 - val_acc: 0.8847\n",
      "Epoch 2/10\n",
      "55000/55000 [==============================] - 2s 33us/step - loss: 0.4728 - acc: 0.8999 - val_loss: 0.3580 - val_acc: 0.9174\n",
      "Epoch 3/10\n",
      "55000/55000 [==============================] - 2s 33us/step - loss: 0.3118 - acc: 0.9240 - val_loss: 0.2688 - val_acc: 0.9337\n",
      "Epoch 4/10\n",
      "55000/55000 [==============================] - 2s 33us/step - loss: 0.2443 - acc: 0.9374 - val_loss: 0.2253 - val_acc: 0.9411\n",
      "Epoch 5/10\n",
      "55000/55000 [==============================] - 2s 33us/step - loss: 0.2031 - acc: 0.9465 - val_loss: 0.1944 - val_acc: 0.9471\n",
      "Epoch 6/10\n",
      "55000/55000 [==============================] - 2s 34us/step - loss: 0.1736 - acc: 0.9535 - val_loss: 0.1743 - val_acc: 0.9511\n",
      "Epoch 7/10\n",
      "55000/55000 [==============================] - 2s 38us/step - loss: 0.1511 - acc: 0.9592 - val_loss: 0.1552 - val_acc: 0.9567\n",
      "Epoch 8/10\n",
      "55000/55000 [==============================] - 2s 34us/step - loss: 0.1331 - acc: 0.9638 - val_loss: 0.1415 - val_acc: 0.9604\n",
      "Epoch 9/10\n",
      "55000/55000 [==============================] - 2s 34us/step - loss: 0.1185 - acc: 0.9679 - val_loss: 0.1320 - val_acc: 0.9624\n",
      "Epoch 10/10\n",
      "55000/55000 [==============================] - 2s 35us/step - loss: 0.1062 - acc: 0.9713 - val_loss: 0.1271 - val_acc: 0.9631\n"
     ]
    },
    {
     "data": {
      "text/plain": [
       "<keras.callbacks.History at 0xfe155ece80>"
      ]
     },
     "execution_count": 28,
     "metadata": {},
     "output_type": "execute_result"
    }
   ],
   "source": [
    "# training \n",
    "model.fit(x=x_train,y=y_train,batch_size=100,epochs=10,\n",
    "          validation_data=[x_test,y_test])"
   ]
  },
  {
   "cell_type": "code",
   "execution_count": 29,
   "metadata": {},
   "outputs": [
    {
     "data": {
      "text/plain": [
       "<matplotlib.image.AxesImage at 0xfe168a1a20>"
      ]
     },
     "execution_count": 29,
     "metadata": {},
     "output_type": "execute_result"
    },
    {
     "data": {
      "image/png": "[encoded data removed]",
      "text/plain": [
       "<Figure size 432x288 with 1 Axes>"
      ]
     },
     "metadata": {},
     "output_type": "display_data"
    }
   ],
   "source": [
    "plt.imshow(x_test[0:1].reshape(28,28))"
   ]
  },
  {
   "cell_type": "code",
   "execution_count": 31,
   "metadata": {},
   "outputs": [],
   "source": [
    "result = model.predict(x_test[0:1])"
   ]
  },
  {
   "cell_type": "code",
   "execution_count": 33,
   "metadata": {},
   "outputs": [
    {
     "data": {
      "text/plain": [
       "7"
      ]
     },
     "execution_count": 33,
     "metadata": {},
     "output_type": "execute_result"
    }
   ],
   "source": [
    "result.argmax()"
   ]
  },
  {
   "cell_type": "code",
   "execution_count": null,
   "metadata": {},
   "outputs": [],
   "source": []
  }
 ],
 "metadata": {
  "kernelspec": {
   "display_name": "Python 3",
   "language": "python",
   "name": "python3"
  },
  "language_info": {
   "codemirror_mode": {
    "name": "ipython",
    "version": 3
   },
   "file_extension": ".py",
   "mimetype": "text/x-python",
   "name": "python",
   "nbconvert_exporter": "python",
   "pygments_lexer": "ipython3",
   "version": "3.7.1"
  }
 },
 "nbformat": 4,
 "nbformat_minor": 2
}
