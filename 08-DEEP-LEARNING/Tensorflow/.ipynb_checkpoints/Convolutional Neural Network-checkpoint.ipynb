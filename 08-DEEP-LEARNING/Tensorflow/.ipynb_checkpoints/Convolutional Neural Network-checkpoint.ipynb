{
 "cells": [
  {
   "cell_type": "code",
   "execution_count": 1,
   "metadata": {
    "colab": {
     "base_uri": "https://localhost:8080/",
     "height": 123
    },
    "colab_type": "code",
    "executionInfo": {
     "elapsed": 26006,
     "status": "ok",
     "timestamp": 1550651568408,
     "user": {
      "displayName": "Srikanth Dakoju",
      "photoUrl": "",
      "userId": "02852883271798502058"
     },
     "user_tz": -330
    },
    "id": "6k-gWQ0R7_xB",
    "outputId": "10ada3a3-784a-4494-8ccc-cca9c1b09f63"
   },
   "outputs": [
    {
     "name": "stdout",
     "output_type": "stream",
     "text": [
      "Go to this URL in a browser: https://accounts.google.com/o/oauth2/auth?client_id=947318989803-6bn6qk8qdgf4n4g3pfee6491hc0brc4i.apps.googleusercontent.com&redirect_uri=urn%3Aietf%3Awg%3Aoauth%3A2.0%3Aoob&scope=email%20https%3A%2F%2Fwww.googleapis.com%2Fauth%2Fdocs.test%20https%3A%2F%2Fwww.googleapis.com%2Fauth%2Fdrive%20https%3A%2F%2Fwww.googleapis.com%2Fauth%2Fdrive.photos.readonly%20https%3A%2F%2Fwww.googleapis.com%2Fauth%2Fpeopleapi.readonly&response_type=code\n",
      "\n",
      "Enter your authorization code:\n",
      "··········\n",
      "Mounted at /content/drive\n"
     ]
    }
   ],
   "source": [
    "# Running or Importing.py files with Google Colab\n",
    "from google.colab import drive\n",
    "drive.mount('/content/drive')"
   ]
  },
  {
   "cell_type": "code",
   "execution_count": 1,
   "metadata": {
    "colab": {
     "base_uri": "https://localhost:8080/",
     "height": 34
    },
    "colab_type": "code",
    "executionInfo": {
     "elapsed": 2049,
     "status": "ok",
     "timestamp": 1550651573624,
     "user": {
      "displayName": "Srikanth Dakoju",
      "photoUrl": "",
      "userId": "02852883271798502058"
     },
     "user_tz": -330
    },
    "id": "qU7RuTxt8PuW",
    "outputId": "9f0d5245-aefc-416f-9d31-cd2073276707"
   },
   "outputs": [
    {
     "name": "stderr",
     "output_type": "stream",
     "text": [
      "C:\\Users\\srikanth\\Anaconda\\lib\\site-packages\\h5py\\__init__.py:36: FutureWarning: Conversion of the second argument of issubdtype from `float` to `np.floating` is deprecated. In future, it will be treated as `np.float64 == np.dtype(float).type`.\n",
      "  from ._conv import register_converters as _register_converters\n",
      "Using TensorFlow backend.\n"
     ]
    }
   ],
   "source": [
    "import tensorflow as tf\n",
    "import keras "
   ]
  },
  {
   "cell_type": "code",
   "execution_count": 2,
   "metadata": {
    "colab": {},
    "colab_type": "code",
    "id": "x01VtMXOAuRZ"
   },
   "outputs": [],
   "source": [
    "import numpy as np\n",
    "import matplotlib.pyplot as plt\n",
    "%matplotlib inline\n",
    "from tensorflow.examples.tutorials.mnist import input_data"
   ]
  },
  {
   "cell_type": "code",
   "execution_count": null,
   "metadata": {
    "colab": {
     "base_uri": "https://localhost:8080/",
     "height": 414
    },
    "colab_type": "code",
    "executionInfo": {
     "elapsed": 2229,
     "status": "ok",
     "timestamp": 1550651579749,
     "user": {
      "displayName": "Srikanth Dakoju",
      "photoUrl": "",
      "userId": "02852883271798502058"
     },
     "user_tz": -330
    },
    "id": "5OWgca1QBFbb",
    "outputId": "255617c7-5845-499a-b646-b4208cfa4dbb"
   },
   "outputs": [],
   "source": [
    "mnist = input_data.read_data_sets('./mnistdata/',one_hot=True)"
   ]
  },
  {
   "cell_type": "code",
   "execution_count": 0,
   "metadata": {
    "colab": {},
    "colab_type": "code",
    "id": "35MLgp0lBIgP"
   },
   "outputs": [],
   "source": [
    "# training images\n",
    "x_train= mnist.train.images\n",
    "y_train= mnist.train.labels\n",
    "# testing images\n",
    "x_test= mnist.test.images\n",
    "y_test= mnist.test.labels"
   ]
  },
  {
   "cell_type": "code",
   "execution_count": 13,
   "metadata": {
    "colab": {
     "base_uri": "https://localhost:8080/",
     "height": 34
    },
    "colab_type": "code",
    "executionInfo": {
     "elapsed": 569,
     "status": "ok",
     "timestamp": 1550652114572,
     "user": {
      "displayName": "Srikanth Dakoju",
      "photoUrl": "",
      "userId": "02852883271798502058"
     },
     "user_tz": -330
    },
    "id": "lCLo-dOKB5rb",
    "outputId": "f4e60d8a-e73c-4aed-9422-192ace520ef0"
   },
   "outputs": [
    {
     "data": {
      "text/plain": [
       "((55000, 28, 28, 1), (10000, 28, 28, 1))"
      ]
     },
     "execution_count": 13,
     "metadata": {
      "tags": []
     },
     "output_type": "execute_result"
    }
   ],
   "source": [
    "X_train = x_train.reshape((55000,28,28,1))\n",
    "X_test = x_test.reshape((10000,28,28,1))\n",
    "\n",
    "X_train.shape, X_test.shape"
   ]
  },
  {
   "cell_type": "code",
   "execution_count": 0,
   "metadata": {
    "colab": {},
    "colab_type": "code",
    "id": "JQU5RPEYC1-_"
   },
   "outputs": [],
   "source": [
    "import keras\n",
    "from keras.layers import Conv2D, MaxPool2D, Dense, Flatten\n",
    "from keras.layers import Convolution2D"
   ]
  },
  {
   "cell_type": "code",
   "execution_count": 0,
   "metadata": {
    "colab": {},
    "colab_type": "code",
    "id": "nK6AFERgE6aC"
   },
   "outputs": [],
   "source": [
    "from keras import Sequential"
   ]
  },
  {
   "cell_type": "code",
   "execution_count": 16,
   "metadata": {
    "colab": {
     "base_uri": "https://localhost:8080/",
     "height": 88
    },
    "colab_type": "code",
    "executionInfo": {
     "elapsed": 750,
     "status": "ok",
     "timestamp": 1550653208702,
     "user": {
      "displayName": "Srikanth Dakoju",
      "photoUrl": "",
      "userId": "02852883271798502058"
     },
     "user_tz": -330
    },
    "id": "jaie2-JhC2dG",
    "outputId": "a41743c5-2a0b-47fc-df18-fe0bef77ffbb"
   },
   "outputs": [
    {
     "name": "stdout",
     "output_type": "stream",
     "text": [
      "WARNING:tensorflow:From /usr/local/lib/python3.6/dist-packages/tensorflow/python/framework/op_def_library.py:263: colocate_with (from tensorflow.python.framework.ops) is deprecated and will be removed in a future version.\n",
      "Instructions for updating:\n",
      "Colocations handled automatically by placer.\n"
     ]
    }
   ],
   "source": [
    "# Covolution Neural Network\n",
    "model = Sequential()\n",
    "# 1. Convolution layer -> Relu -> Maxpooling\n",
    "model.add(Conv2D(input_shape=(28,28,1),filters=32,kernel_size=(3,3),strides=(1,1),\n",
    "                 activation='relu',padding='SAME'))\n",
    "model.add(MaxPool2D(pool_size=(2,2),strides=(2,2)))\n",
    "# 2. Convolution layer -> Relu -> Maxpooling\n",
    "model.add(Conv2D(filters=64,kernel_size=(5,5),strides=(1,1),\n",
    "                 activation='relu',padding='SAME'))\n",
    "model.add(MaxPool2D(pool_size=(2,2),strides=(2,2)))\n",
    "# 3. Connect to Neural Network\n",
    "model.add(Flatten())\n",
    "# 4. Hidden layer-1 = 512 , Hidden layer-2: 64\n",
    "model.add(Dense(units=512,activation='relu'))\n",
    "model.add(Dense(units=64,activation='relu'))\n",
    "# 5. Output Layer-10\n",
    "model.add(Dense(units=10,activation='softmax'))"
   ]
  },
  {
   "cell_type": "code",
   "execution_count": 17,
   "metadata": {
    "colab": {
     "base_uri": "https://localhost:8080/",
     "height": 411
    },
    "colab_type": "code",
    "executionInfo": {
     "elapsed": 708,
     "status": "ok",
     "timestamp": 1550653217893,
     "user": {
      "displayName": "Srikanth Dakoju",
      "photoUrl": "",
      "userId": "02852883271798502058"
     },
     "user_tz": -330
    },
    "id": "T7yGJ08hIjTA",
    "outputId": "e2021d6e-d008-40f7-99fe-bb1cb9eaf412"
   },
   "outputs": [
    {
     "name": "stdout",
     "output_type": "stream",
     "text": [
      "_________________________________________________________________\n",
      "Layer (type)                 Output Shape              Param #   \n",
      "=================================================================\n",
      "conv2d_1 (Conv2D)            (None, 28, 28, 32)        320       \n",
      "_________________________________________________________________\n",
      "max_pooling2d_1 (MaxPooling2 (None, 14, 14, 32)        0         \n",
      "_________________________________________________________________\n",
      "conv2d_2 (Conv2D)            (None, 14, 14, 64)        51264     \n",
      "_________________________________________________________________\n",
      "max_pooling2d_2 (MaxPooling2 (None, 7, 7, 64)          0         \n",
      "_________________________________________________________________\n",
      "flatten_1 (Flatten)          (None, 3136)              0         \n",
      "_________________________________________________________________\n",
      "dense_1 (Dense)              (None, 512)               1606144   \n",
      "_________________________________________________________________\n",
      "dense_2 (Dense)              (None, 64)                32832     \n",
      "_________________________________________________________________\n",
      "dense_3 (Dense)              (None, 10)                650       \n",
      "=================================================================\n",
      "Total params: 1,691,210\n",
      "Trainable params: 1,691,210\n",
      "Non-trainable params: 0\n",
      "_________________________________________________________________\n"
     ]
    }
   ],
   "source": [
    "model.summary()"
   ]
  },
  {
   "cell_type": "code",
   "execution_count": 0,
   "metadata": {
    "colab": {},
    "colab_type": "code",
    "id": "vayt6Y5wIljU"
   },
   "outputs": [],
   "source": [
    "# Backward pass\n",
    "model.compile(optimizer='adam',loss='categorical_crossentropy',\n",
    "              metrics=['accuracy'])"
   ]
  },
  {
   "cell_type": "code",
   "execution_count": 20,
   "metadata": {
    "colab": {
     "base_uri": "https://localhost:8080/",
     "height": 466
    },
    "colab_type": "code",
    "executionInfo": {
     "elapsed": 42448,
     "status": "ok",
     "timestamp": 1550653715583,
     "user": {
      "displayName": "Srikanth Dakoju",
      "photoUrl": "",
      "userId": "02852883271798502058"
     },
     "user_tz": -330
    },
    "id": "gAh52gSnJDFr",
    "outputId": "6c172a1e-fbd3-4d11-aad8-44dcc04068a8"
   },
   "outputs": [
    {
     "name": "stdout",
     "output_type": "stream",
     "text": [
      "WARNING:tensorflow:From /usr/local/lib/python3.6/dist-packages/tensorflow/python/ops/math_ops.py:3066: to_int32 (from tensorflow.python.ops.math_ops) is deprecated and will be removed in a future version.\n",
      "Instructions for updating:\n",
      "Use tf.cast instead.\n",
      "Train on 55000 samples, validate on 10000 samples\n",
      "Epoch 1/10\n",
      " - 9s - loss: 0.4919 - acc: 0.8553 - val_loss: 0.1303 - val_acc: 0.9604\n",
      "Epoch 2/10\n",
      " - 4s - loss: 0.1024 - acc: 0.9693 - val_loss: 0.0706 - val_acc: 0.9775\n",
      "Epoch 3/10\n",
      " - 4s - loss: 0.0654 - acc: 0.9799 - val_loss: 0.0482 - val_acc: 0.9841\n",
      "Epoch 4/10\n",
      " - 4s - loss: 0.0485 - acc: 0.9847 - val_loss: 0.0414 - val_acc: 0.9858\n",
      "Epoch 5/10\n",
      " - 4s - loss: 0.0386 - acc: 0.9881 - val_loss: 0.0396 - val_acc: 0.9851\n",
      "Epoch 6/10\n",
      " - 4s - loss: 0.0308 - acc: 0.9903 - val_loss: 0.0319 - val_acc: 0.9887\n",
      "Epoch 7/10\n",
      " - 4s - loss: 0.0244 - acc: 0.9928 - val_loss: 0.0334 - val_acc: 0.9888\n",
      "Epoch 8/10\n",
      " - 4s - loss: 0.0220 - acc: 0.9933 - val_loss: 0.0270 - val_acc: 0.9900\n",
      "Epoch 9/10\n",
      " - 4s - loss: 0.0180 - acc: 0.9942 - val_loss: 0.0309 - val_acc: 0.9891\n",
      "Epoch 10/10\n",
      " - 4s - loss: 0.0176 - acc: 0.9940 - val_loss: 0.0272 - val_acc: 0.9911\n"
     ]
    },
    {
     "data": {
      "text/plain": [
       "<keras.callbacks.History at 0x7fe03b2c5ac8>"
      ]
     },
     "execution_count": 20,
     "metadata": {
      "tags": []
     },
     "output_type": "execute_result"
    }
   ],
   "source": [
    "# Traning model\n",
    "model.fit(x=X_train,y=y_train,batch_size=1000,epochs=10,\n",
    "          validation_data=[X_test,y_test],verbose=2)"
   ]
  },
  {
   "cell_type": "code",
   "execution_count": 0,
   "metadata": {
    "colab": {},
    "colab_type": "code",
    "id": "acl1vMY6KU3i"
   },
   "outputs": [],
   "source": [
    "model.save('./drive/My Drive/Colab Notebooks/srikanth.h5')"
   ]
  },
  {
   "cell_type": "code",
   "execution_count": 0,
   "metadata": {
    "colab": {},
    "colab_type": "code",
    "id": "QoaOM7shLBu2"
   },
   "outputs": [],
   "source": []
  }
 ],
 "metadata": {
  "accelerator": "GPU",
  "colab": {
   "name": "Convolutional Neural Network.ipynb",
   "provenance": [],
   "version": "0.3.2"
  },
  "kernelspec": {
   "display_name": "Python 3",
   "language": "python",
   "name": "python3"
  },
  "language_info": {
   "codemirror_mode": {
    "name": "ipython",
    "version": 3
   },
   "file_extension": ".py",
   "mimetype": "text/x-python",
   "name": "python",
   "nbconvert_exporter": "python",
   "pygments_lexer": "ipython3",
   "version": "3.6.4"
  }
 },
 "nbformat": 4,
 "nbformat_minor": 1
}
