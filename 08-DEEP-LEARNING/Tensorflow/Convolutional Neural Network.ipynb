{
 "cells": [
  {
   "cell_type": "code",
   "execution_count": 1,
   "metadata": {
    "colab": {
     "base_uri": "https://localhost:8080/",
     "height": 34
    },
    "colab_type": "code",
    "executionInfo": {
     "elapsed": 2049,
     "status": "ok",
     "timestamp": 1550651573624,
     "user": {
      "displayName": "Srikanth Dakoju",
      "photoUrl": "",
      "userId": "02852883271798502058"
     },
     "user_tz": -330
    },
    "id": "qU7RuTxt8PuW",
    "outputId": "9f0d5245-aefc-416f-9d31-cd2073276707"
   },
   "outputs": [
    {
     "name": "stderr",
     "output_type": "stream",
     "text": [
      "C:\\Users\\srikanth\\Anaconda\\lib\\site-packages\\h5py\\__init__.py:36: FutureWarning: Conversion of the second argument of issubdtype from `float` to `np.floating` is deprecated. In future, it will be treated as `np.float64 == np.dtype(float).type`.\n",
      "  from ._conv import register_converters as _register_converters\n",
      "Using TensorFlow backend.\n"
     ]
    }
   ],
   "source": [
    "import tensorflow as tf\n",
    "import keras "
   ]
  },
  {
   "cell_type": "code",
   "execution_count": 2,
   "metadata": {
    "colab": {},
    "colab_type": "code",
    "id": "x01VtMXOAuRZ"
   },
   "outputs": [],
   "source": [
    "import numpy as np\n",
    "import matplotlib.pyplot as plt\n",
    "%matplotlib inline\n",
    "from tensorflow.examples.tutorials.mnist import input_data"
   ]
  },
  {
   "cell_type": "code",
   "execution_count": 3,
   "metadata": {
    "colab": {
     "base_uri": "https://localhost:8080/",
     "height": 414
    },
    "colab_type": "code",
    "executionInfo": {
     "elapsed": 2229,
     "status": "ok",
     "timestamp": 1550651579749,
     "user": {
      "displayName": "Srikanth Dakoju",
      "photoUrl": "",
      "userId": "02852883271798502058"
     },
     "user_tz": -330
    },
    "id": "5OWgca1QBFbb",
    "outputId": "255617c7-5845-499a-b646-b4208cfa4dbb"
   },
   "outputs": [
    {
     "name": "stdout",
     "output_type": "stream",
     "text": [
      "WARNING:tensorflow:From <ipython-input-3-95f6e3bee1be>:1: read_data_sets (from tensorflow.contrib.learn.python.learn.datasets.mnist) is deprecated and will be removed in a future version.\n",
      "Instructions for updating:\n",
      "Please use alternatives such as official/mnist/dataset.py from tensorflow/models.\n",
      "WARNING:tensorflow:From C:\\Users\\srikanth\\Anaconda\\lib\\site-packages\\tensorflow\\contrib\\learn\\python\\learn\\datasets\\mnist.py:260: maybe_download (from tensorflow.contrib.learn.python.learn.datasets.base) is deprecated and will be removed in a future version.\n",
      "Instructions for updating:\n",
      "Please write your own downloading logic.\n",
      "WARNING:tensorflow:From C:\\Users\\srikanth\\Anaconda\\lib\\site-packages\\tensorflow\\contrib\\learn\\python\\learn\\datasets\\mnist.py:262: extract_images (from tensorflow.contrib.learn.python.learn.datasets.mnist) is deprecated and will be removed in a future version.\n",
      "Instructions for updating:\n",
      "Please use tf.data to implement this functionality.\n",
      "Extracting ./mnist_data/train-images-idx3-ubyte.gz\n",
      "WARNING:tensorflow:From C:\\Users\\srikanth\\Anaconda\\lib\\site-packages\\tensorflow\\contrib\\learn\\python\\learn\\datasets\\mnist.py:267: extract_labels (from tensorflow.contrib.learn.python.learn.datasets.mnist) is deprecated and will be removed in a future version.\n",
      "Instructions for updating:\n",
      "Please use tf.data to implement this functionality.\n",
      "Extracting ./mnist_data/train-labels-idx1-ubyte.gz\n",
      "WARNING:tensorflow:From C:\\Users\\srikanth\\Anaconda\\lib\\site-packages\\tensorflow\\contrib\\learn\\python\\learn\\datasets\\mnist.py:110: dense_to_one_hot (from tensorflow.contrib.learn.python.learn.datasets.mnist) is deprecated and will be removed in a future version.\n",
      "Instructions for updating:\n",
      "Please use tf.one_hot on tensors.\n",
      "Extracting ./mnist_data/t10k-images-idx3-ubyte.gz\n",
      "Extracting ./mnist_data/t10k-labels-idx1-ubyte.gz\n",
      "WARNING:tensorflow:From C:\\Users\\srikanth\\Anaconda\\lib\\site-packages\\tensorflow\\contrib\\learn\\python\\learn\\datasets\\mnist.py:290: DataSet.__init__ (from tensorflow.contrib.learn.python.learn.datasets.mnist) is deprecated and will be removed in a future version.\n",
      "Instructions for updating:\n",
      "Please use alternatives such as official/mnist/dataset.py from tensorflow/models.\n"
     ]
    }
   ],
   "source": [
    "mnist = input_data.read_data_sets('./mnist_data/',one_hot=True)"
   ]
  },
  {
   "cell_type": "code",
   "execution_count": 4,
   "metadata": {
    "colab": {},
    "colab_type": "code",
    "id": "35MLgp0lBIgP"
   },
   "outputs": [],
   "source": [
    "# training images\n",
    "x_train= mnist.train.images\n",
    "y_train= mnist.train.labels\n",
    "# testing images\n",
    "x_test= mnist.test.images\n",
    "y_test= mnist.test.labels"
   ]
  },
  {
   "cell_type": "code",
   "execution_count": 5,
   "metadata": {
    "colab": {
     "base_uri": "https://localhost:8080/",
     "height": 34
    },
    "colab_type": "code",
    "executionInfo": {
     "elapsed": 569,
     "status": "ok",
     "timestamp": 1550652114572,
     "user": {
      "displayName": "Srikanth Dakoju",
      "photoUrl": "",
      "userId": "02852883271798502058"
     },
     "user_tz": -330
    },
    "id": "lCLo-dOKB5rb",
    "outputId": "f4e60d8a-e73c-4aed-9422-192ace520ef0"
   },
   "outputs": [
    {
     "data": {
      "text/plain": [
       "((55000, 28, 28, 1), (10000, 28, 28, 1))"
      ]
     },
     "execution_count": 5,
     "metadata": {},
     "output_type": "execute_result"
    }
   ],
   "source": [
    "X_train = x_train.reshape((55000,28,28,1))\n",
    "X_test = x_test.reshape((10000,28,28,1))\n",
    "\n",
    "X_train.shape, X_test.shape"
   ]
  },
  {
   "cell_type": "code",
   "execution_count": 6,
   "metadata": {
    "colab": {},
    "colab_type": "code",
    "id": "JQU5RPEYC1-_"
   },
   "outputs": [],
   "source": [
    "import keras\n",
    "from keras.layers import Conv2D, MaxPool2D, Dense, Flatten\n",
    "from keras.layers import Convolution2D"
   ]
  },
  {
   "cell_type": "code",
   "execution_count": 7,
   "metadata": {
    "colab": {},
    "colab_type": "code",
    "id": "nK6AFERgE6aC"
   },
   "outputs": [],
   "source": [
    "from keras import Sequential"
   ]
  },
  {
   "cell_type": "code",
   "execution_count": 8,
   "metadata": {
    "colab": {
     "base_uri": "https://localhost:8080/",
     "height": 88
    },
    "colab_type": "code",
    "executionInfo": {
     "elapsed": 750,
     "status": "ok",
     "timestamp": 1550653208702,
     "user": {
      "displayName": "Srikanth Dakoju",
      "photoUrl": "",
      "userId": "02852883271798502058"
     },
     "user_tz": -330
    },
    "id": "jaie2-JhC2dG",
    "outputId": "a41743c5-2a0b-47fc-df18-fe0bef77ffbb"
   },
   "outputs": [],
   "source": [
    "# Covolution Neural Network\n",
    "model = Sequential()\n",
    "# 1. Convolution layer -> Relu -> Maxpooling\n",
    "model.add(Conv2D(input_shape=(28,28,1),filters=32,kernel_size=(3,3),strides=(1,1),\n",
    "                 activation='relu',padding='SAME'))\n",
    "model.add(MaxPool2D(pool_size=(2,2),strides=(2,2)))\n",
    "# 2. Convolution layer -> Relu -> Maxpooling\n",
    "model.add(Conv2D(filters=64,kernel_size=(5,5),strides=(1,1),\n",
    "                 activation='relu',padding='SAME'))\n",
    "model.add(MaxPool2D(pool_size=(2,2),strides=(2,2)))\n",
    "# 3. Connect to Neural Network\n",
    "model.add(Flatten())\n",
    "# 4. Hidden layer-1 = 512 , Hidden layer-2: 64\n",
    "model.add(Dense(units=512,activation='relu'))\n",
    "model.add(Dense(units=64,activation='relu'))\n",
    "# 5. Output Layer-10\n",
    "model.add(Dense(units=10,activation='softmax'))"
   ]
  },
  {
   "cell_type": "code",
   "execution_count": 9,
   "metadata": {
    "colab": {
     "base_uri": "https://localhost:8080/",
     "height": 411
    },
    "colab_type": "code",
    "executionInfo": {
     "elapsed": 708,
     "status": "ok",
     "timestamp": 1550653217893,
     "user": {
      "displayName": "Srikanth Dakoju",
      "photoUrl": "",
      "userId": "02852883271798502058"
     },
     "user_tz": -330
    },
    "id": "T7yGJ08hIjTA",
    "outputId": "e2021d6e-d008-40f7-99fe-bb1cb9eaf412"
   },
   "outputs": [
    {
     "name": "stdout",
     "output_type": "stream",
     "text": [
      "_________________________________________________________________\n",
      "Layer (type)                 Output Shape              Param #   \n",
      "=================================================================\n",
      "conv2d_1 (Conv2D)            (None, 28, 28, 32)        320       \n",
      "_________________________________________________________________\n",
      "max_pooling2d_1 (MaxPooling2 (None, 14, 14, 32)        0         \n",
      "_________________________________________________________________\n",
      "conv2d_2 (Conv2D)            (None, 14, 14, 64)        51264     \n",
      "_________________________________________________________________\n",
      "max_pooling2d_2 (MaxPooling2 (None, 7, 7, 64)          0         \n",
      "_________________________________________________________________\n",
      "flatten_1 (Flatten)          (None, 3136)              0         \n",
      "_________________________________________________________________\n",
      "dense_1 (Dense)              (None, 512)               1606144   \n",
      "_________________________________________________________________\n",
      "dense_2 (Dense)              (None, 64)                32832     \n",
      "_________________________________________________________________\n",
      "dense_3 (Dense)              (None, 10)                650       \n",
      "=================================================================\n",
      "Total params: 1,691,210\n",
      "Trainable params: 1,691,210\n",
      "Non-trainable params: 0\n",
      "_________________________________________________________________\n"
     ]
    }
   ],
   "source": [
    "model.summary()"
   ]
  },
  {
   "cell_type": "code",
   "execution_count": 10,
   "metadata": {
    "colab": {},
    "colab_type": "code",
    "id": "vayt6Y5wIljU"
   },
   "outputs": [],
   "source": [
    "# Backward pass\n",
    "model.compile(optimizer='adam',loss='categorical_crossentropy',\n",
    "              metrics=['accuracy'])"
   ]
  },
  {
   "cell_type": "code",
   "execution_count": null,
   "metadata": {
    "colab": {
     "base_uri": "https://localhost:8080/",
     "height": 466
    },
    "colab_type": "code",
    "executionInfo": {
     "elapsed": 42448,
     "status": "ok",
     "timestamp": 1550653715583,
     "user": {
      "displayName": "Srikanth Dakoju",
      "photoUrl": "",
      "userId": "02852883271798502058"
     },
     "user_tz": -330
    },
    "id": "gAh52gSnJDFr",
    "outputId": "6c172a1e-fbd3-4d11-aad8-44dcc04068a8"
   },
   "outputs": [
    {
     "name": "stdout",
     "output_type": "stream",
     "text": [
      "Train on 55000 samples, validate on 10000 samples\n",
      "Epoch 1/10\n",
      " - 982s - loss: 0.5652 - acc: 0.8400 - val_loss: 0.1505 - val_acc: 0.9562\n",
      "Epoch 2/10\n",
      " - 1103s - loss: 0.1172 - acc: 0.9647 - val_loss: 0.0748 - val_acc: 0.9774\n",
      "Epoch 3/10\n",
      " - 1107s - loss: 0.0723 - acc: 0.9774 - val_loss: 0.0537 - val_acc: 0.9836\n",
      "Epoch 4/10\n",
      " - 1109s - loss: 0.0549 - acc: 0.9834 - val_loss: 0.0464 - val_acc: 0.9849\n",
      "Epoch 5/10\n",
      " - 1102s - loss: 0.0443 - acc: 0.9866 - val_loss: 0.0441 - val_acc: 0.9858\n",
      "Epoch 6/10\n",
      " - 1115s - loss: 0.0353 - acc: 0.9891 - val_loss: 0.0319 - val_acc: 0.9897\n",
      "Epoch 7/10\n",
      " - 1104s - loss: 0.0285 - acc: 0.9911 - val_loss: 0.0381 - val_acc: 0.9874\n",
      "Epoch 8/10\n",
      " - 1129s - loss: 0.0249 - acc: 0.9922 - val_loss: 0.0316 - val_acc: 0.9894\n",
      "Epoch 9/10\n"
     ]
    }
   ],
   "source": [
    "# Traning model\n",
    "model.fit(x=X_train,y=y_train,batch_size=1000,epochs=10,\n",
    "          validation_data=[X_test,y_test],verbose=2)"
   ]
  },
  {
   "cell_type": "code",
   "execution_count": null,
   "metadata": {
    "colab": {},
    "colab_type": "code",
    "id": "acl1vMY6KU3i"
   },
   "outputs": [],
   "source": [
    "model.save('./drive/My Drive/Colab Notebooks/srikanth.h5')"
   ]
  },
  {
   "cell_type": "code",
   "execution_count": null,
   "metadata": {
    "colab": {},
    "colab_type": "code",
    "id": "QoaOM7shLBu2"
   },
   "outputs": [],
   "source": []
  }
 ],
 "metadata": {
  "accelerator": "GPU",
  "colab": {
   "name": "Convolutional Neural Network.ipynb",
   "provenance": [],
   "version": "0.3.2"
  },
  "kernelspec": {
   "display_name": "Python 3",
   "language": "python",
   "name": "python3"
  },
  "language_info": {
   "codemirror_mode": {
    "name": "ipython",
    "version": 3
   },
   "file_extension": ".py",
   "mimetype": "text/x-python",
   "name": "python",
   "nbconvert_exporter": "python",
   "pygments_lexer": "ipython3",
   "version": "3.6.4"
  }
 },
 "nbformat": 4,
 "nbformat_minor": 1
}
