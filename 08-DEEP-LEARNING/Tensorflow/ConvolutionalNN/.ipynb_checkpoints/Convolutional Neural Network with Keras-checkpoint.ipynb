{
 "cells": [
  {
   "cell_type": "code",
   "execution_count": 26,
   "metadata": {},
   "outputs": [],
   "source": [
    "import keras \n",
    "import numpy as np\n",
    "import cv2\n",
    "import matplotlib.pyplot as plt\n",
    "%matplotlib inline"
   ]
  },
  {
   "cell_type": "code",
   "execution_count": 3,
   "metadata": {},
   "outputs": [
    {
     "name": "stdout",
     "output_type": "stream",
     "text": [
      "Extracting ./mnist_data\\train-images-idx3-ubyte.gz\n",
      "Extracting ./mnist_data\\train-labels-idx1-ubyte.gz\n",
      "Extracting ./mnist_data\\t10k-images-idx3-ubyte.gz\n",
      "Extracting ./mnist_data\\t10k-labels-idx1-ubyte.gz\n"
     ]
    }
   ],
   "source": [
    "from tensorflow.examples.tutorials.mnist import input_data\n",
    "mnist = input_data.read_data_sets('./mnist_data',one_hot=True)"
   ]
  },
  {
   "cell_type": "code",
   "execution_count": 4,
   "metadata": {},
   "outputs": [],
   "source": [
    "x_train = mnist.train.images\n",
    "y_train = mnist.train.labels\n",
    "x_test = mnist.test.images\n",
    "y_test = mnist.test.labels"
   ]
  },
  {
   "cell_type": "code",
   "execution_count": 5,
   "metadata": {},
   "outputs": [
    {
     "data": {
      "text/plain": [
       "((55000, 784), (55000, 10), (10000, 784), (10000, 10))"
      ]
     },
     "execution_count": 5,
     "metadata": {},
     "output_type": "execute_result"
    }
   ],
   "source": [
    "x_train.shape,y_train.shape,x_test.shape,y_test.shape"
   ]
  },
  {
   "cell_type": "markdown",
   "metadata": {},
   "source": [
    "# Neural using Keras"
   ]
  },
  {
   "cell_type": "code",
   "execution_count": 6,
   "metadata": {},
   "outputs": [],
   "source": [
    "from keras import Sequential\n",
    "from keras.layers import Dense"
   ]
  },
  {
   "cell_type": "code",
   "execution_count": 7,
   "metadata": {},
   "outputs": [],
   "source": [
    "model = Sequential()\n",
    "model.add(Dense(units = 64,input_shape=[784],activation='sigmoid'))\n",
    "model.add(Dense(units= 16,activation='relu'))\n",
    "model.add(Dense(units=10,activation='softmax'))"
   ]
  },
  {
   "cell_type": "code",
   "execution_count": 16,
   "metadata": {},
   "outputs": [],
   "source": [
    "model.compile(optimizer='Adam',loss='categorical_crossentropy',\n",
    "              metrics=['accuracy'])"
   ]
  },
  {
   "cell_type": "code",
   "execution_count": 17,
   "metadata": {},
   "outputs": [
    {
     "name": "stdout",
     "output_type": "stream",
     "text": [
      "Train on 55000 samples, validate on 10000 samples\n",
      "Epoch 1/10\n",
      "55000/55000 [==============================] - 3s 49us/step - loss: 0.0709 - acc: 0.9792 - val_loss: 0.1040 - val_acc: 0.9684\n",
      "Epoch 2/10\n",
      "55000/55000 [==============================] - 2s 34us/step - loss: 0.0628 - acc: 0.9822 - val_loss: 0.0982 - val_acc: 0.9705\n",
      "Epoch 3/10\n",
      "55000/55000 [==============================] - 2s 36us/step - loss: 0.0568 - acc: 0.9842 - val_loss: 0.1029 - val_acc: 0.9689\n",
      "Epoch 4/10\n",
      "55000/55000 [==============================] - 2s 36us/step - loss: 0.0511 - acc: 0.9853 - val_loss: 0.0942 - val_acc: 0.9711\n",
      "Epoch 5/10\n",
      "55000/55000 [==============================] - 2s 35us/step - loss: 0.0456 - acc: 0.9871 - val_loss: 0.0926 - val_acc: 0.9722\n",
      "Epoch 6/10\n",
      "55000/55000 [==============================] - 2s 36us/step - loss: 0.0416 - acc: 0.9883 - val_loss: 0.0925 - val_acc: 0.9724\n",
      "Epoch 7/10\n",
      "55000/55000 [==============================] - 2s 35us/step - loss: 0.0373 - acc: 0.9898 - val_loss: 0.0933 - val_acc: 0.9729\n",
      "Epoch 8/10\n",
      "55000/55000 [==============================] - 2s 36us/step - loss: 0.0338 - acc: 0.9908 - val_loss: 0.0935 - val_acc: 0.9712\n",
      "Epoch 9/10\n",
      "55000/55000 [==============================] - 2s 34us/step - loss: 0.0298 - acc: 0.9923 - val_loss: 0.0932 - val_acc: 0.9726\n",
      "Epoch 10/10\n",
      "55000/55000 [==============================] - 2s 39us/step - loss: 0.0272 - acc: 0.9927 - val_loss: 0.0912 - val_acc: 0.9741\n"
     ]
    },
    {
     "data": {
      "text/plain": [
       "<keras.callbacks.History at 0xef855f6438>"
      ]
     },
     "execution_count": 17,
     "metadata": {},
     "output_type": "execute_result"
    }
   ],
   "source": [
    "model.fit(x=x_train,y=y_train,batch_size=100,epochs=10,\n",
    "          validation_data=[x_test,y_test])"
   ]
  },
  {
   "cell_type": "code",
   "execution_count": 18,
   "metadata": {},
   "outputs": [],
   "source": [
    "# saving model\n",
    "model.save('numberec.h5')"
   ]
  },
  {
   "cell_type": "code",
   "execution_count": 19,
   "metadata": {},
   "outputs": [],
   "source": [
    "from matplotlib.image import imread"
   ]
  },
  {
   "cell_type": "code",
   "execution_count": 23,
   "metadata": {},
   "outputs": [],
   "source": [
    "img = imread('test.jpg')"
   ]
  },
  {
   "cell_type": "code",
   "execution_count": 24,
   "metadata": {},
   "outputs": [],
   "source": [
    "import cv2"
   ]
  },
  {
   "cell_type": "code",
   "execution_count": 32,
   "metadata": {},
   "outputs": [],
   "source": [
    "img = cv2.imread('test.jpg',0) # read file in grayscale\n",
    "# step-2: applying not -> white to black and black to while\n",
    "img_not = cv2.bitwise_not(img)\n",
    "# step-3: resize your image\n",
    "img_re = cv2.resize(img_not,(28,28))\n",
    "# step-4: normalization\n",
    "img_norm =img_re/img_re.max()\n",
    "# step-: reshape you image to  1 x 784\n",
    "test = img_norm.reshape((1,784))"
   ]
  },
  {
   "cell_type": "code",
   "execution_count": 33,
   "metadata": {},
   "outputs": [
    {
     "data": {
      "text/plain": [
       "(1, 784)"
      ]
     },
     "execution_count": 33,
     "metadata": {},
     "output_type": "execute_result"
    }
   ],
   "source": [
    "test.shape"
   ]
  },
  {
   "cell_type": "code",
   "execution_count": 35,
   "metadata": {},
   "outputs": [],
   "source": [
    "res = model.predict(test)"
   ]
  },
  {
   "cell_type": "code",
   "execution_count": 36,
   "metadata": {},
   "outputs": [
    {
     "data": {
      "text/plain": [
       "3"
      ]
     },
     "execution_count": 36,
     "metadata": {},
     "output_type": "execute_result"
    }
   ],
   "source": [
    "res.argmax()"
   ]
  },
  {
   "cell_type": "code",
   "execution_count": null,
   "metadata": {},
   "outputs": [],
   "source": []
  }
 ],
 "metadata": {
  "kernelspec": {
   "display_name": "Python 3",
   "language": "python",
   "name": "python3"
  },
  "language_info": {
   "codemirror_mode": {
    "name": "ipython",
    "version": 3
   },
   "file_extension": ".py",
   "mimetype": "text/x-python",
   "name": "python",
   "nbconvert_exporter": "python",
   "pygments_lexer": "ipython3",
   "version": "3.6.4"
  }
 },
 "nbformat": 4,
 "nbformat_minor": 2
}
