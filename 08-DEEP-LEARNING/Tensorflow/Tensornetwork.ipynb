{
 "cells": [
  {
   "cell_type": "code",
   "execution_count": 1,
   "metadata": {},
   "outputs": [],
   "source": [
    "import numpy as np\n",
    "import tensorflow as tf"
   ]
  },
  {
   "cell_type": "code",
   "execution_count": 2,
   "metadata": {},
   "outputs": [],
   "source": [
    "# Creating placeholder\n",
    "with tf.name_scope(name='Input_layer'): # create folder with name\n",
    "    X = tf.placeholder(dtype=tf.float32,shape=(3,1),name='inputs')\n",
    "    \n",
    "# Creating Variable\n",
    "with tf.name_scope(name='Variables'): # creating variable\n",
    "    weight1= tf.random_normal(shape=(3,3),name='weight1')\n",
    "    weight2 = tf.random_normal(shape=(3,1),name='weight2')\n",
    "    # variable\n",
    "    var1 = tf.Variable(initial_value=weight1,name='variable1')\n",
    "    var2 = tf.Variable(initial_value=weight2,name='variable2')\n",
    "\n",
    "# layer -1\n",
    "with tf.name_scope(name='Layer-1'):\n",
    "    lay1 = tf.matmul(X,var1,transpose_a=True)\n",
    "    \n",
    "# layer -2\n",
    "\n",
    "with tf.name_scope(name='Output'):\n",
    "    output = tf.matmul(lay1,var2)\n"
   ]
  },
  {
   "cell_type": "code",
   "execution_count": 3,
   "metadata": {},
   "outputs": [],
   "source": [
    "inp = np.ones(shape=(3,1))"
   ]
  },
  {
   "cell_type": "code",
   "execution_count": 5,
   "metadata": {},
   "outputs": [
    {
     "data": {
      "text/plain": [
       "(3, 1)"
      ]
     },
     "execution_count": 5,
     "metadata": {},
     "output_type": "execute_result"
    }
   ],
   "source": [
    "inp.shape"
   ]
  },
  {
   "cell_type": "code",
   "execution_count": 6,
   "metadata": {},
   "outputs": [],
   "source": [
    "init = tf.global_variables_initializer()\n",
    "with tf.Session() as sess:\n",
    "    sess.run(init)\n",
    "    writer = tf.summary.FileWriter('./network',sess.graph)\n",
    "    result =sess.run(output,feed_dict={X:inp})\n",
    "    writer.close()"
   ]
  },
  {
   "cell_type": "code",
   "execution_count": 7,
   "metadata": {},
   "outputs": [
    {
     "name": "stdout",
     "output_type": "stream",
     "text": [
      "[[-0.89762795]]\n"
     ]
    }
   ],
   "source": [
    "print(result)"
   ]
  },
  {
   "cell_type": "code",
   "execution_count": null,
   "metadata": {},
   "outputs": [],
   "source": []
  }
 ],
 "metadata": {
  "kernelspec": {
   "display_name": "Python 3",
   "language": "python",
   "name": "python3"
  },
  "language_info": {
   "codemirror_mode": {
    "name": "ipython",
    "version": 2
   },
   "file_extension": ".py",
   "mimetype": "text/x-python",
   "name": "python",
   "nbconvert_exporter": "python",
   "pygments_lexer": "ipython2",
   "version": "2.7.15rc1"
  }
 },
 "nbformat": 4,
 "nbformat_minor": 2
}
