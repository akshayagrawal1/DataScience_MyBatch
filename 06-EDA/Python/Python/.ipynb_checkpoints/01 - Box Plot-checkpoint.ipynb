{
 "cells": [
  {
   "cell_type": "markdown",
   "metadata": {},
   "source": [
    "# MT Car Dataset"
   ]
  },
  {
   "cell_type": "markdown",
   "metadata": {},
   "source": [
    "#### <span style=\"color:green\">Question - 1. </span> Is a car with automatic or manual transmission better in term of miles per gallons (mpg)?\n",
    "\n",
    "#### <span style=\"color:green\">Question - 2. </span>  Quantify the *mpg* difference between automatic and manual transmission\n",
    "\n",
    "- mpg - mile per gallon"
   ]
  },
  {
   "cell_type": "markdown",
   "metadata": {},
   "source": [
    "# 1. Univarient Analysis\n",
    "\n",
    "- I focus on analyzing the target variable (mpg) alone by splitting the observations into two groups, i.e. cars wtih automatic or manual transmission. I will execute 2 analysis\n",
    "- Validate if the difference of the group means is statistically significant by computing a 95% confidence interval for means difference.\n",
    "\n",
    "### Automatic vs Manual Transmission \n",
    "in terms of miles per gallon (mpg)"
   ]
  },
  {
   "cell_type": "code",
   "execution_count": null,
   "metadata": {},
   "outputs": [],
   "source": [
    "import numpy as np\n",
    "import pandas as pd\n",
    "import matplotlib.pyplot as plt\n",
    "import seaborn as sns\n",
    "%matplotlib inline\n",
    "plt.style.use('seaborn')"
   ]
  },
  {
   "cell_type": "markdown",
   "metadata": {},
   "source": [
    "**Load Dataset**"
   ]
  },
  {
   "cell_type": "code",
   "execution_count": null,
   "metadata": {},
   "outputs": [],
   "source": [
    "mtcar = pd.read_excel('./DataSet/MTcars.xlsx')\n",
    "mtcar"
   ]
  },
  {
   "cell_type": "markdown",
   "metadata": {},
   "source": [
    "|coloumns | description |\n",
    "|---------|-------------|\n",
    "|mpg\t|Miles/(US) gallon\n",
    "|cyl\t|Number of cylinders\n",
    "|disp\t|Displacement (cu.in.)\n",
    "|hp\t|Gross horsepower\n",
    "|drat\t|Rear axle ratio\n",
    "|wt\t|Weight (1000 lbs)\n",
    "|qsec|\t1/4 mile time\n",
    "|vs|\tV/S\n",
    "|am\t|Transmission (0 = automatic, 1 = manual)\n",
    "|gear|\tNumber of forward gears\n",
    "|carb|\tNumber of carburetors\n"
   ]
  },
  {
   "cell_type": "markdown",
   "metadata": {},
   "source": [
    "# Lets see how Transmission related to miles/galon"
   ]
  },
  {
   "cell_type": "markdown",
   "metadata": {},
   "source": [
    "- Target variable = mile per galon\n",
    "- independent variable = transmission"
   ]
  },
  {
   "cell_type": "markdown",
   "metadata": {},
   "source": [
    "> **Labeling data automatic gear and manual gear**"
   ]
  },
  {
   "cell_type": "code",
   "execution_count": null,
   "metadata": {},
   "outputs": [],
   "source": [
    "auto = mtcar[mtcar.am ==1]\n",
    "manu = mtcar[mtcar.am ==0]\n",
    "xmanu = np.arange(-0.5,0.5,1/len(manu))\n",
    "xauto = np.arange(0.6,1.6,1/len(auto))"
   ]
  },
  {
   "cell_type": "code",
   "execution_count": null,
   "metadata": {},
   "outputs": [],
   "source": [
    "auto.head()"
   ]
  },
  {
   "cell_type": "code",
   "execution_count": null,
   "metadata": {
    "scrolled": true
   },
   "outputs": [],
   "source": [
    "manu.head()"
   ]
  },
  {
   "cell_type": "code",
   "execution_count": null,
   "metadata": {},
   "outputs": [],
   "source": [
    "x = auto['mpg']"
   ]
  },
  {
   "cell_type": "code",
   "execution_count": null,
   "metadata": {},
   "outputs": [],
   "source": [
    "plt.figure(figsize=(10,5))\n",
    "plt.hist(x)\n",
    "plt.xlabel('mile per gallon')\n",
    "plt.ylabel('No of Cars')\n",
    "plt.show()"
   ]
  },
  {
   "cell_type": "code",
   "execution_count": null,
   "metadata": {},
   "outputs": [],
   "source": [
    "plt.boxplot(x,vert=False,patch_artist=True)\n",
    "plt.show()"
   ]
  },
  {
   "cell_type": "code",
   "execution_count": null,
   "metadata": {},
   "outputs": [],
   "source": [
    "auto.keys()"
   ]
  },
  {
   "cell_type": "code",
   "execution_count": null,
   "metadata": {},
   "outputs": [],
   "source": [
    "sns.boxplot(x='am',y='mpg',data=auto)\n",
    "plt.show()"
   ]
  },
  {
   "cell_type": "code",
   "execution_count": null,
   "metadata": {},
   "outputs": [],
   "source": [
    "mtcar.keys()"
   ]
  },
  {
   "cell_type": "code",
   "execution_count": null,
   "metadata": {},
   "outputs": [],
   "source": [
    "sns.boxplot(x='gear',y='mpg',data=mtcar)"
   ]
  },
  {
   "cell_type": "code",
   "execution_count": null,
   "metadata": {},
   "outputs": [],
   "source": []
  },
  {
   "cell_type": "code",
   "execution_count": null,
   "metadata": {},
   "outputs": [],
   "source": []
  },
  {
   "cell_type": "code",
   "execution_count": null,
   "metadata": {},
   "outputs": [],
   "source": []
  },
  {
   "cell_type": "code",
   "execution_count": null,
   "metadata": {},
   "outputs": [],
   "source": []
  },
  {
   "cell_type": "markdown",
   "metadata": {},
   "source": [
    "### Distribution of car by Manual Gear"
   ]
  },
  {
   "cell_type": "code",
   "execution_count": null,
   "metadata": {},
   "outputs": [],
   "source": [
    "plt.figure(figsize=(10,4))\n",
    "plt.hist(manu['mpg'])\n",
    "plt.title('Distribution of Mile per galon for Manual Gear')\n",
    "plt.show()"
   ]
  },
  {
   "cell_type": "code",
   "execution_count": null,
   "metadata": {},
   "outputs": [],
   "source": [
    "print('Mean = ',manu['mpg'].mean())\n",
    "print('Median = ',manu['mpg'].median())\n",
    "print('Variance = ',manu['mpg'].var())\n",
    "print('Standard Deviation = ',manu['mpg'].std())"
   ]
  },
  {
   "cell_type": "code",
   "execution_count": null,
   "metadata": {},
   "outputs": [],
   "source": [
    "des_manu =manu['mpg'].describe()\n",
    "des_manu"
   ]
  },
  {
   "cell_type": "markdown",
   "metadata": {},
   "source": [
    "### Distribution of car by Automation Gear"
   ]
  },
  {
   "cell_type": "code",
   "execution_count": null,
   "metadata": {},
   "outputs": [],
   "source": [
    "plt.figure(figsize=(10,4))\n",
    "plt.hist(auto['mpg'])\n",
    "plt.title('Distribution of Mile per galon for Automatic Gear')\n",
    "plt.show()"
   ]
  },
  {
   "cell_type": "code",
   "execution_count": null,
   "metadata": {},
   "outputs": [],
   "source": [
    "\n",
    "\n",
    "# plotting scatter and boxplot\n",
    "plt.figure(figsize=(10,6))\n",
    "plt.scatter(xmanu,manu['mpg'],edgecolor='w',s=50)\n",
    "plt.scatter(xauto,auto['mpg'],edgecolor='w',s=50)\n",
    "plt.legend(['Manual Gear','Automatic Gear'])\n",
    "sns.boxplot(x='am',y='mpg',data=mtcar)\n",
    "plt.xlabel('Manual = 0, Automatic = 1')\n",
    "plt.ylabel('Miles per galon')\n",
    "plt.show()"
   ]
  },
  {
   "cell_type": "code",
   "execution_count": null,
   "metadata": {},
   "outputs": [],
   "source": [
    "print('Mean = ',auto['mpg'].mean())\n",
    "print('Median = ',auto['mpg'].median())\n",
    "print('Variance = ',auto['mpg'].var())\n",
    "print('Standard Deviation = ',auto['mpg'].std())\n",
    "\n",
    "des_auto = auto['mpg'].describe()\n",
    "des_auto"
   ]
  },
  {
   "cell_type": "markdown",
   "metadata": {},
   "source": [
    "pd.DataFrame(des_auto).transpose()[['25%','50%','75%']].plot(kind='bar',stacked='True')\n"
   ]
  },
  {
   "cell_type": "markdown",
   "metadata": {},
   "source": [
    "#  vs (am, carb)"
   ]
  }
 ],
 "metadata": {
  "kernelspec": {
   "display_name": "Python 3",
   "language": "python",
   "name": "python3"
  },
  "language_info": {
   "codemirror_mode": {
    "name": "ipython",
    "version": 3
   },
   "file_extension": ".py",
   "mimetype": "text/x-python",
   "name": "python",
   "nbconvert_exporter": "python",
   "pygments_lexer": "ipython3",
   "version": "3.6.4"
  }
 },
 "nbformat": 4,
 "nbformat_minor": 2
}
