{
 "cells": [
  {
   "cell_type": "code",
   "execution_count": 1,
   "metadata": {},
   "outputs": [],
   "source": [
    "import numpy as np\n",
    "import pandas as pd\n",
    "import matplotlib.pyplot as plt\n",
    "%matplotlib inline"
   ]
  },
  {
   "cell_type": "code",
   "execution_count": 3,
   "metadata": {},
   "outputs": [
    {
     "data": {
      "text/html": [
       "<div>\n",
       "<style scoped>\n",
       "    .dataframe tbody tr th:only-of-type {\n",
       "        vertical-align: middle;\n",
       "    }\n",
       "\n",
       "    .dataframe tbody tr th {\n",
       "        vertical-align: top;\n",
       "    }\n",
       "\n",
       "    .dataframe thead th {\n",
       "        text-align: right;\n",
       "    }\n",
       "</style>\n",
       "<table border=\"1\" class=\"dataframe\">\n",
       "  <thead>\n",
       "    <tr style=\"text-align: right;\">\n",
       "      <th></th>\n",
       "      <th>x</th>\n",
       "      <th>y</th>\n",
       "    </tr>\n",
       "  </thead>\n",
       "  <tbody>\n",
       "    <tr>\n",
       "      <th>0</th>\n",
       "      <td>1</td>\n",
       "      <td>5</td>\n",
       "    </tr>\n",
       "    <tr>\n",
       "      <th>1</th>\n",
       "      <td>2</td>\n",
       "      <td>11</td>\n",
       "    </tr>\n",
       "    <tr>\n",
       "      <th>2</th>\n",
       "      <td>3</td>\n",
       "      <td>14</td>\n",
       "    </tr>\n",
       "    <tr>\n",
       "      <th>3</th>\n",
       "      <td>4</td>\n",
       "      <td>8</td>\n",
       "    </tr>\n",
       "    <tr>\n",
       "      <th>4</th>\n",
       "      <td>5</td>\n",
       "      <td>17</td>\n",
       "    </tr>\n",
       "    <tr>\n",
       "      <th>5</th>\n",
       "      <td>6</td>\n",
       "      <td>5</td>\n",
       "    </tr>\n",
       "  </tbody>\n",
       "</table>\n",
       "</div>"
      ],
      "text/plain": [
       "   x   y\n",
       "0  1   5\n",
       "1  2  11\n",
       "2  3  14\n",
       "3  4   8\n",
       "4  5  17\n",
       "5  6   5"
      ]
     },
     "execution_count": 3,
     "metadata": {},
     "output_type": "execute_result"
    }
   ],
   "source": [
    "data = {'x':[1,2,3,4,5,6],'y':[5,11,14,8,17,5]}\n",
    "data = pd.DataFrame(data)\n",
    "data"
   ]
  },
  {
   "cell_type": "code",
   "execution_count": 6,
   "metadata": {},
   "outputs": [
    {
     "data": {
      "text/html": [
       "<div>\n",
       "<style scoped>\n",
       "    .dataframe tbody tr th:only-of-type {\n",
       "        vertical-align: middle;\n",
       "    }\n",
       "\n",
       "    .dataframe tbody tr th {\n",
       "        vertical-align: top;\n",
       "    }\n",
       "\n",
       "    .dataframe thead th {\n",
       "        text-align: right;\n",
       "    }\n",
       "</style>\n",
       "<table border=\"1\" class=\"dataframe\">\n",
       "  <thead>\n",
       "    <tr style=\"text-align: right;\">\n",
       "      <th></th>\n",
       "      <th>x</th>\n",
       "      <th>y</th>\n",
       "      <th>y - ybar</th>\n",
       "      <th>x - xbar</th>\n",
       "      <th>(x-xbar)(y-ybar)</th>\n",
       "      <th>(x-xbar)sqr</th>\n",
       "      <th>(y-ybar)sqr</th>\n",
       "    </tr>\n",
       "  </thead>\n",
       "  <tbody>\n",
       "    <tr>\n",
       "      <th>0</th>\n",
       "      <td>1</td>\n",
       "      <td>5</td>\n",
       "      <td>-5.0</td>\n",
       "      <td>-2.5</td>\n",
       "      <td>12.5</td>\n",
       "      <td>6.25</td>\n",
       "      <td>25.0</td>\n",
       "    </tr>\n",
       "    <tr>\n",
       "      <th>1</th>\n",
       "      <td>2</td>\n",
       "      <td>11</td>\n",
       "      <td>1.0</td>\n",
       "      <td>-1.5</td>\n",
       "      <td>-1.5</td>\n",
       "      <td>2.25</td>\n",
       "      <td>1.0</td>\n",
       "    </tr>\n",
       "    <tr>\n",
       "      <th>2</th>\n",
       "      <td>3</td>\n",
       "      <td>14</td>\n",
       "      <td>4.0</td>\n",
       "      <td>-0.5</td>\n",
       "      <td>-2.0</td>\n",
       "      <td>0.25</td>\n",
       "      <td>16.0</td>\n",
       "    </tr>\n",
       "    <tr>\n",
       "      <th>3</th>\n",
       "      <td>4</td>\n",
       "      <td>8</td>\n",
       "      <td>-2.0</td>\n",
       "      <td>0.5</td>\n",
       "      <td>-1.0</td>\n",
       "      <td>0.25</td>\n",
       "      <td>4.0</td>\n",
       "    </tr>\n",
       "    <tr>\n",
       "      <th>4</th>\n",
       "      <td>5</td>\n",
       "      <td>17</td>\n",
       "      <td>7.0</td>\n",
       "      <td>1.5</td>\n",
       "      <td>10.5</td>\n",
       "      <td>2.25</td>\n",
       "      <td>49.0</td>\n",
       "    </tr>\n",
       "    <tr>\n",
       "      <th>5</th>\n",
       "      <td>6</td>\n",
       "      <td>5</td>\n",
       "      <td>-5.0</td>\n",
       "      <td>2.5</td>\n",
       "      <td>-12.5</td>\n",
       "      <td>6.25</td>\n",
       "      <td>25.0</td>\n",
       "    </tr>\n",
       "  </tbody>\n",
       "</table>\n",
       "</div>"
      ],
      "text/plain": [
       "   x   y  y - ybar  x - xbar  (x-xbar)(y-ybar)  (x-xbar)sqr  (y-ybar)sqr\n",
       "0  1   5      -5.0      -2.5              12.5         6.25         25.0\n",
       "1  2  11       1.0      -1.5              -1.5         2.25          1.0\n",
       "2  3  14       4.0      -0.5              -2.0         0.25         16.0\n",
       "3  4   8      -2.0       0.5              -1.0         0.25          4.0\n",
       "4  5  17       7.0       1.5              10.5         2.25         49.0\n",
       "5  6   5      -5.0       2.5             -12.5         6.25         25.0"
      ]
     },
     "execution_count": 6,
     "metadata": {},
     "output_type": "execute_result"
    }
   ],
   "source": [
    "data['y - ybar']  = data['y'] - data['y'].mean()\n",
    "data['x - xbar']  = data['x'] - data['x'].mean()\n",
    "data['(x-xbar)(y-ybar)'] = data['y - ybar'] * data['x - xbar']\n",
    "data['(x-xbar)sqr'] = data['x - xbar'] ** 2\n",
    "data['(y-ybar)sqr'] = data['y - ybar'] ** 2\n",
    "data"
   ]
  },
  {
   "cell_type": "code",
   "execution_count": 7,
   "metadata": {},
   "outputs": [
    {
     "data": {
      "image/png": "[encoded data removed]",
      "text/plain": [
       "<Figure size 432x288 with 1 Axes>"
      ]
     },
     "metadata": {},
     "output_type": "display_data"
    }
   ],
   "source": [
    "data.plot(x= 'x',y='y',kind='Scatter',grid=True)\n",
    "plt.title('x vs y')\n",
    "plt.show()"
   ]
  },
  {
   "cell_type": "code",
   "execution_count": 12,
   "metadata": {},
   "outputs": [
    {
     "name": "stdout",
     "output_type": "stream",
     "text": [
      "SSE @ mean (10)=  120.0\n"
     ]
    }
   ],
   "source": [
    "print('SSE @ mean (10)= ',data['(y-ybar)sqr'].sum())"
   ]
  },
  {
   "cell_type": "code",
   "execution_count": 14,
   "metadata": {},
   "outputs": [
    {
     "data": {
      "text/html": [
       "<div>\n",
       "<style scoped>\n",
       "    .dataframe tbody tr th:only-of-type {\n",
       "        vertical-align: middle;\n",
       "    }\n",
       "\n",
       "    .dataframe tbody tr th {\n",
       "        vertical-align: top;\n",
       "    }\n",
       "\n",
       "    .dataframe thead th {\n",
       "        text-align: right;\n",
       "    }\n",
       "</style>\n",
       "<table border=\"1\" class=\"dataframe\">\n",
       "  <thead>\n",
       "    <tr style=\"text-align: right;\">\n",
       "      <th></th>\n",
       "      <th>x</th>\n",
       "      <th>y</th>\n",
       "      <th>y - ybar</th>\n",
       "      <th>x - xbar</th>\n",
       "      <th>(x-xbar)(y-ybar)</th>\n",
       "      <th>(x-xbar)sqr</th>\n",
       "      <th>(y-ybar)sqr</th>\n",
       "    </tr>\n",
       "  </thead>\n",
       "  <tbody>\n",
       "    <tr>\n",
       "      <th>x</th>\n",
       "      <td>1.000000</td>\n",
       "      <td>0.130931</td>\n",
       "      <td>0.130931</td>\n",
       "      <td>1.000000</td>\n",
       "      <td>-0.510800</td>\n",
       "      <td>0.000000</td>\n",
       "      <td>0.404141</td>\n",
       "    </tr>\n",
       "    <tr>\n",
       "      <th>y</th>\n",
       "      <td>0.130931</td>\n",
       "      <td>1.000000</td>\n",
       "      <td>1.000000</td>\n",
       "      <td>0.130931</td>\n",
       "      <td>0.292597</td>\n",
       "      <td>-0.657376</td>\n",
       "      <td>0.350758</td>\n",
       "    </tr>\n",
       "    <tr>\n",
       "      <th>y - ybar</th>\n",
       "      <td>0.130931</td>\n",
       "      <td>1.000000</td>\n",
       "      <td>1.000000</td>\n",
       "      <td>0.130931</td>\n",
       "      <td>0.292597</td>\n",
       "      <td>-0.657376</td>\n",
       "      <td>0.350758</td>\n",
       "    </tr>\n",
       "    <tr>\n",
       "      <th>x - xbar</th>\n",
       "      <td>1.000000</td>\n",
       "      <td>0.130931</td>\n",
       "      <td>0.130931</td>\n",
       "      <td>1.000000</td>\n",
       "      <td>-0.510800</td>\n",
       "      <td>0.000000</td>\n",
       "      <td>0.404141</td>\n",
       "    </tr>\n",
       "    <tr>\n",
       "      <th>(x-xbar)(y-ybar)</th>\n",
       "      <td>-0.510800</td>\n",
       "      <td>0.292597</td>\n",
       "      <td>0.292597</td>\n",
       "      <td>-0.510800</td>\n",
       "      <td>1.000000</td>\n",
       "      <td>0.015896</td>\n",
       "      <td>0.444112</td>\n",
       "    </tr>\n",
       "    <tr>\n",
       "      <th>(x-xbar)sqr</th>\n",
       "      <td>0.000000</td>\n",
       "      <td>-0.657376</td>\n",
       "      <td>-0.657376</td>\n",
       "      <td>0.000000</td>\n",
       "      <td>0.015896</td>\n",
       "      <td>1.000000</td>\n",
       "      <td>0.335389</td>\n",
       "    </tr>\n",
       "    <tr>\n",
       "      <th>(y-ybar)sqr</th>\n",
       "      <td>0.404141</td>\n",
       "      <td>0.350758</td>\n",
       "      <td>0.350758</td>\n",
       "      <td>0.404141</td>\n",
       "      <td>0.444112</td>\n",
       "      <td>0.335389</td>\n",
       "      <td>1.000000</td>\n",
       "    </tr>\n",
       "  </tbody>\n",
       "</table>\n",
       "</div>"
      ],
      "text/plain": [
       "                         x         y  y - ybar  x - xbar  (x-xbar)(y-ybar)  \\\n",
       "x                 1.000000  0.130931  0.130931  1.000000         -0.510800   \n",
       "y                 0.130931  1.000000  1.000000  0.130931          0.292597   \n",
       "y - ybar          0.130931  1.000000  1.000000  0.130931          0.292597   \n",
       "x - xbar          1.000000  0.130931  0.130931  1.000000         -0.510800   \n",
       "(x-xbar)(y-ybar) -0.510800  0.292597  0.292597 -0.510800          1.000000   \n",
       "(x-xbar)sqr       0.000000 -0.657376 -0.657376  0.000000          0.015896   \n",
       "(y-ybar)sqr       0.404141  0.350758  0.350758  0.404141          0.444112   \n",
       "\n",
       "                  (x-xbar)sqr  (y-ybar)sqr  \n",
       "x                    0.000000     0.404141  \n",
       "y                   -0.657376     0.350758  \n",
       "y - ybar            -0.657376     0.350758  \n",
       "x - xbar             0.000000     0.404141  \n",
       "(x-xbar)(y-ybar)     0.015896     0.444112  \n",
       "(x-xbar)sqr          1.000000     0.335389  \n",
       "(y-ybar)sqr          0.335389     1.000000  "
      ]
     },
     "execution_count": 14,
     "metadata": {},
     "output_type": "execute_result"
    }
   ],
   "source": [
    "data.corr()"
   ]
  },
  {
   "cell_type": "code",
   "execution_count": 16,
   "metadata": {},
   "outputs": [
    {
     "name": "stdout",
     "output_type": "stream",
     "text": [
      "b1 =  0.34285714285714286\n"
     ]
    }
   ],
   "source": [
    "b1 = data['(x-xbar)(y-ybar)'].sum() / data['(x-xbar)sqr'].sum()\n",
    "print('b1 = ',b1)"
   ]
  },
  {
   "cell_type": "code",
   "execution_count": 17,
   "metadata": {},
   "outputs": [
    {
     "name": "stdout",
     "output_type": "stream",
     "text": [
      "b0 =  8.8\n"
     ]
    }
   ],
   "source": [
    "b0  = data['y'].mean() - b1 * data['x'].mean()\n",
    "print('b0 = ',b0)"
   ]
  },
  {
   "cell_type": "markdown",
   "metadata": {},
   "source": [
    "# $ y = b_0 + b_1 *x $ "
   ]
  },
  {
   "cell_type": "code",
   "execution_count": 18,
   "metadata": {},
   "outputs": [],
   "source": [
    "y_pred = b0+ b1*data['x']"
   ]
  },
  {
   "cell_type": "code",
   "execution_count": 21,
   "metadata": {},
   "outputs": [
    {
     "data": {
      "text/html": [
       "<div>\n",
       "<style scoped>\n",
       "    .dataframe tbody tr th:only-of-type {\n",
       "        vertical-align: middle;\n",
       "    }\n",
       "\n",
       "    .dataframe tbody tr th {\n",
       "        vertical-align: top;\n",
       "    }\n",
       "\n",
       "    .dataframe thead th {\n",
       "        text-align: right;\n",
       "    }\n",
       "</style>\n",
       "<table border=\"1\" class=\"dataframe\">\n",
       "  <thead>\n",
       "    <tr style=\"text-align: right;\">\n",
       "      <th></th>\n",
       "      <th>x</th>\n",
       "      <th>y</th>\n",
       "      <th>y - ybar</th>\n",
       "      <th>x - xbar</th>\n",
       "      <th>(x-xbar)(y-ybar)</th>\n",
       "      <th>(x-xbar)sqr</th>\n",
       "      <th>(y-ybar)sqr</th>\n",
       "      <th>yhat</th>\n",
       "    </tr>\n",
       "  </thead>\n",
       "  <tbody>\n",
       "    <tr>\n",
       "      <th>0</th>\n",
       "      <td>1</td>\n",
       "      <td>5</td>\n",
       "      <td>-5.0</td>\n",
       "      <td>-2.5</td>\n",
       "      <td>12.5</td>\n",
       "      <td>6.25</td>\n",
       "      <td>25.0</td>\n",
       "      <td>9.142857</td>\n",
       "    </tr>\n",
       "    <tr>\n",
       "      <th>1</th>\n",
       "      <td>2</td>\n",
       "      <td>11</td>\n",
       "      <td>1.0</td>\n",
       "      <td>-1.5</td>\n",
       "      <td>-1.5</td>\n",
       "      <td>2.25</td>\n",
       "      <td>1.0</td>\n",
       "      <td>9.485714</td>\n",
       "    </tr>\n",
       "    <tr>\n",
       "      <th>2</th>\n",
       "      <td>3</td>\n",
       "      <td>14</td>\n",
       "      <td>4.0</td>\n",
       "      <td>-0.5</td>\n",
       "      <td>-2.0</td>\n",
       "      <td>0.25</td>\n",
       "      <td>16.0</td>\n",
       "      <td>9.828571</td>\n",
       "    </tr>\n",
       "    <tr>\n",
       "      <th>3</th>\n",
       "      <td>4</td>\n",
       "      <td>8</td>\n",
       "      <td>-2.0</td>\n",
       "      <td>0.5</td>\n",
       "      <td>-1.0</td>\n",
       "      <td>0.25</td>\n",
       "      <td>4.0</td>\n",
       "      <td>10.171429</td>\n",
       "    </tr>\n",
       "    <tr>\n",
       "      <th>4</th>\n",
       "      <td>5</td>\n",
       "      <td>17</td>\n",
       "      <td>7.0</td>\n",
       "      <td>1.5</td>\n",
       "      <td>10.5</td>\n",
       "      <td>2.25</td>\n",
       "      <td>49.0</td>\n",
       "      <td>10.514286</td>\n",
       "    </tr>\n",
       "    <tr>\n",
       "      <th>5</th>\n",
       "      <td>6</td>\n",
       "      <td>5</td>\n",
       "      <td>-5.0</td>\n",
       "      <td>2.5</td>\n",
       "      <td>-12.5</td>\n",
       "      <td>6.25</td>\n",
       "      <td>25.0</td>\n",
       "      <td>10.857143</td>\n",
       "    </tr>\n",
       "  </tbody>\n",
       "</table>\n",
       "</div>"
      ],
      "text/plain": [
       "   x   y  y - ybar  x - xbar  (x-xbar)(y-ybar)  (x-xbar)sqr  (y-ybar)sqr  \\\n",
       "0  1   5      -5.0      -2.5              12.5         6.25         25.0   \n",
       "1  2  11       1.0      -1.5              -1.5         2.25          1.0   \n",
       "2  3  14       4.0      -0.5              -2.0         0.25         16.0   \n",
       "3  4   8      -2.0       0.5              -1.0         0.25          4.0   \n",
       "4  5  17       7.0       1.5              10.5         2.25         49.0   \n",
       "5  6   5      -5.0       2.5             -12.5         6.25         25.0   \n",
       "\n",
       "        yhat  \n",
       "0   9.142857  \n",
       "1   9.485714  \n",
       "2   9.828571  \n",
       "3  10.171429  \n",
       "4  10.514286  \n",
       "5  10.857143  "
      ]
     },
     "execution_count": 21,
     "metadata": {},
     "output_type": "execute_result"
    }
   ],
   "source": [
    "data['yhat'] = y_pred\n",
    "data"
   ]
  },
  {
   "cell_type": "code",
   "execution_count": 22,
   "metadata": {},
   "outputs": [
    {
     "data": {
      "text/html": [
       "<div>\n",
       "<style scoped>\n",
       "    .dataframe tbody tr th:only-of-type {\n",
       "        vertical-align: middle;\n",
       "    }\n",
       "\n",
       "    .dataframe tbody tr th {\n",
       "        vertical-align: top;\n",
       "    }\n",
       "\n",
       "    .dataframe thead th {\n",
       "        text-align: right;\n",
       "    }\n",
       "</style>\n",
       "<table border=\"1\" class=\"dataframe\">\n",
       "  <thead>\n",
       "    <tr style=\"text-align: right;\">\n",
       "      <th></th>\n",
       "      <th>x</th>\n",
       "      <th>y</th>\n",
       "      <th>y - ybar</th>\n",
       "      <th>x - xbar</th>\n",
       "      <th>(x-xbar)(y-ybar)</th>\n",
       "      <th>(x-xbar)sqr</th>\n",
       "      <th>(y-ybar)sqr</th>\n",
       "      <th>yhat</th>\n",
       "      <th>(y -yhat)sqr</th>\n",
       "    </tr>\n",
       "  </thead>\n",
       "  <tbody>\n",
       "    <tr>\n",
       "      <th>0</th>\n",
       "      <td>1</td>\n",
       "      <td>5</td>\n",
       "      <td>-5.0</td>\n",
       "      <td>-2.5</td>\n",
       "      <td>12.5</td>\n",
       "      <td>6.25</td>\n",
       "      <td>25.0</td>\n",
       "      <td>9.142857</td>\n",
       "      <td>17.163265</td>\n",
       "    </tr>\n",
       "    <tr>\n",
       "      <th>1</th>\n",
       "      <td>2</td>\n",
       "      <td>11</td>\n",
       "      <td>1.0</td>\n",
       "      <td>-1.5</td>\n",
       "      <td>-1.5</td>\n",
       "      <td>2.25</td>\n",
       "      <td>1.0</td>\n",
       "      <td>9.485714</td>\n",
       "      <td>2.293061</td>\n",
       "    </tr>\n",
       "    <tr>\n",
       "      <th>2</th>\n",
       "      <td>3</td>\n",
       "      <td>14</td>\n",
       "      <td>4.0</td>\n",
       "      <td>-0.5</td>\n",
       "      <td>-2.0</td>\n",
       "      <td>0.25</td>\n",
       "      <td>16.0</td>\n",
       "      <td>9.828571</td>\n",
       "      <td>17.400816</td>\n",
       "    </tr>\n",
       "    <tr>\n",
       "      <th>3</th>\n",
       "      <td>4</td>\n",
       "      <td>8</td>\n",
       "      <td>-2.0</td>\n",
       "      <td>0.5</td>\n",
       "      <td>-1.0</td>\n",
       "      <td>0.25</td>\n",
       "      <td>4.0</td>\n",
       "      <td>10.171429</td>\n",
       "      <td>4.715102</td>\n",
       "    </tr>\n",
       "    <tr>\n",
       "      <th>4</th>\n",
       "      <td>5</td>\n",
       "      <td>17</td>\n",
       "      <td>7.0</td>\n",
       "      <td>1.5</td>\n",
       "      <td>10.5</td>\n",
       "      <td>2.25</td>\n",
       "      <td>49.0</td>\n",
       "      <td>10.514286</td>\n",
       "      <td>42.064490</td>\n",
       "    </tr>\n",
       "    <tr>\n",
       "      <th>5</th>\n",
       "      <td>6</td>\n",
       "      <td>5</td>\n",
       "      <td>-5.0</td>\n",
       "      <td>2.5</td>\n",
       "      <td>-12.5</td>\n",
       "      <td>6.25</td>\n",
       "      <td>25.0</td>\n",
       "      <td>10.857143</td>\n",
       "      <td>34.306122</td>\n",
       "    </tr>\n",
       "  </tbody>\n",
       "</table>\n",
       "</div>"
      ],
      "text/plain": [
       "   x   y  y - ybar  x - xbar  (x-xbar)(y-ybar)  (x-xbar)sqr  (y-ybar)sqr  \\\n",
       "0  1   5      -5.0      -2.5              12.5         6.25         25.0   \n",
       "1  2  11       1.0      -1.5              -1.5         2.25          1.0   \n",
       "2  3  14       4.0      -0.5              -2.0         0.25         16.0   \n",
       "3  4   8      -2.0       0.5              -1.0         0.25          4.0   \n",
       "4  5  17       7.0       1.5              10.5         2.25         49.0   \n",
       "5  6   5      -5.0       2.5             -12.5         6.25         25.0   \n",
       "\n",
       "        yhat  (y -yhat)sqr  \n",
       "0   9.142857     17.163265  \n",
       "1   9.485714      2.293061  \n",
       "2   9.828571     17.400816  \n",
       "3  10.171429      4.715102  \n",
       "4  10.514286     42.064490  \n",
       "5  10.857143     34.306122  "
      ]
     },
     "execution_count": 22,
     "metadata": {},
     "output_type": "execute_result"
    }
   ],
   "source": [
    "data['(y -yhat)sqr'] = (data['y'] - data['yhat'])**2\n",
    "data"
   ]
  },
  {
   "cell_type": "code",
   "execution_count": 23,
   "metadata": {},
   "outputs": [
    {
     "name": "stdout",
     "output_type": "stream",
     "text": [
      "new SSE @ yhat 117.94285714285715\n"
     ]
    }
   ],
   "source": [
    "print('new SSE @ yhat',data['(y -yhat)sqr'].sum())"
   ]
  },
  {
   "cell_type": "code",
   "execution_count": 27,
   "metadata": {},
   "outputs": [
    {
     "data": {
      "image/png": "[encoded data removed]",
      "text/plain": [
       "<Figure size 432x288 with 1 Axes>"
      ]
     },
     "metadata": {},
     "output_type": "display_data"
    }
   ],
   "source": [
    "data.plot(x= 'x',y='y',kind='Scatter',grid=True)\n",
    "#plt.plot(data['x'],,'g')\n",
    "plt.plot(data['x'],data['yhat'],'r')\n",
    "plt.title('x vs y')\n",
    "plt.show()"
   ]
  },
  {
   "cell_type": "code",
   "execution_count": null,
   "metadata": {},
   "outputs": [],
   "source": []
  }
 ],
 "metadata": {
  "kernelspec": {
   "display_name": "Python 3",
   "language": "python",
   "name": "python3"
  },
  "language_info": {
   "codemirror_mode": {
    "name": "ipython",
    "version": 3
   },
   "file_extension": ".py",
   "mimetype": "text/x-python",
   "name": "python",
   "nbconvert_exporter": "python",
   "pygments_lexer": "ipython3",
   "version": "3.6.4"
  }
 },
 "nbformat": 4,
 "nbformat_minor": 2
}
