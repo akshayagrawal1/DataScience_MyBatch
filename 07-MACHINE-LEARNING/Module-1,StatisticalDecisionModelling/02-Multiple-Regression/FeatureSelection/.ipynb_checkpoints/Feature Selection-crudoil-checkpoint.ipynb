{
 "cells": [
  {
   "cell_type": "code",
   "execution_count": 1,
   "metadata": {},
   "outputs": [],
   "source": [
    "import numpy as np\n",
    "import pandas as pd\n",
    "import matplotlib.pyplot as plt\n",
    "import seaborn as sns\n",
    "%matplotlib inline"
   ]
  },
  {
   "cell_type": "code",
   "execution_count": 2,
   "metadata": {},
   "outputs": [
    {
     "data": {
      "text/html": [
       "<div>\n",
       "<style scoped>\n",
       "    .dataframe tbody tr th:only-of-type {\n",
       "        vertical-align: middle;\n",
       "    }\n",
       "\n",
       "    .dataframe tbody tr th {\n",
       "        vertical-align: top;\n",
       "    }\n",
       "\n",
       "    .dataframe thead th {\n",
       "        text-align: right;\n",
       "    }\n",
       "</style>\n",
       "<table border=\"1\" class=\"dataframe\">\n",
       "  <thead>\n",
       "    <tr style=\"text-align: right;\">\n",
       "      <th></th>\n",
       "      <th>WorldOil</th>\n",
       "      <th>USEnergy</th>\n",
       "      <th>USAutoFuelRate</th>\n",
       "      <th>USNuclear</th>\n",
       "      <th>USCoal</th>\n",
       "      <th>USDryGas</th>\n",
       "    </tr>\n",
       "  </thead>\n",
       "  <tbody>\n",
       "    <tr>\n",
       "      <th>0</th>\n",
       "      <td>55.7</td>\n",
       "      <td>74.3</td>\n",
       "      <td>13.4</td>\n",
       "      <td>83.5</td>\n",
       "      <td>598.6</td>\n",
       "      <td>21.7</td>\n",
       "    </tr>\n",
       "    <tr>\n",
       "      <th>1</th>\n",
       "      <td>55.7</td>\n",
       "      <td>72.5</td>\n",
       "      <td>13.6</td>\n",
       "      <td>114.0</td>\n",
       "      <td>610.0</td>\n",
       "      <td>20.7</td>\n",
       "    </tr>\n",
       "    <tr>\n",
       "      <th>2</th>\n",
       "      <td>52.8</td>\n",
       "      <td>70.5</td>\n",
       "      <td>14.0</td>\n",
       "      <td>172.5</td>\n",
       "      <td>654.6</td>\n",
       "      <td>19.2</td>\n",
       "    </tr>\n",
       "    <tr>\n",
       "      <th>3</th>\n",
       "      <td>57.3</td>\n",
       "      <td>74.4</td>\n",
       "      <td>13.8</td>\n",
       "      <td>191.1</td>\n",
       "      <td>684.9</td>\n",
       "      <td>19.1</td>\n",
       "    </tr>\n",
       "    <tr>\n",
       "      <th>4</th>\n",
       "      <td>59.7</td>\n",
       "      <td>76.3</td>\n",
       "      <td>14.1</td>\n",
       "      <td>250.9</td>\n",
       "      <td>697.2</td>\n",
       "      <td>19.2</td>\n",
       "    </tr>\n",
       "  </tbody>\n",
       "</table>\n",
       "</div>"
      ],
      "text/plain": [
       "   WorldOil  USEnergy  USAutoFuelRate  USNuclear  USCoal  USDryGas\n",
       "0      55.7      74.3            13.4       83.5   598.6      21.7\n",
       "1      55.7      72.5            13.6      114.0   610.0      20.7\n",
       "2      52.8      70.5            14.0      172.5   654.6      19.2\n",
       "3      57.3      74.4            13.8      191.1   684.9      19.1\n",
       "4      59.7      76.3            14.1      250.9   697.2      19.2"
      ]
     },
     "execution_count": 2,
     "metadata": {},
     "output_type": "execute_result"
    }
   ],
   "source": [
    "crudoil = pd.read_csv('./dataset/CrudeOilOutput.csv')\n",
    "crudoil.head()"
   ]
  },
  {
   "cell_type": "code",
   "execution_count": 3,
   "metadata": {},
   "outputs": [],
   "source": [
    "import statsmodels.formula.api as smf\n",
    "import statsmodels.api as sm"
   ]
  },
  {
   "cell_type": "markdown",
   "metadata": {},
   "source": [
    "def lm(dep,ind):\n",
    "    formula"
   ]
  },
  {
   "cell_type": "markdown",
   "metadata": {},
   "source": [
    "# Feature Selection"
   ]
  },
  {
   "cell_type": "markdown",
   "metadata": {},
   "source": [
    "> ## StepWise Regression"
   ]
  },
  {
   "cell_type": "code",
   "execution_count": 11,
   "metadata": {},
   "outputs": [],
   "source": [
    "def pvalues(model):\n",
    "    return pd.Series(data=[model.pvalues[-1]],index=[model.pvalues.index[-1]])"
   ]
  },
  {
   "cell_type": "code",
   "execution_count": 5,
   "metadata": {},
   "outputs": [
    {
     "data": {
      "text/plain": [
       "['USEnergy', 'USAutoFuelRate', 'USNuclear', 'USCoal', 'USDryGas']"
      ]
     },
     "execution_count": 5,
     "metadata": {},
     "output_type": "execute_result"
    }
   ],
   "source": [
    "independent = list(crudoil.keys())[1:]\n",
    "independent"
   ]
  },
  {
   "cell_type": "markdown",
   "metadata": {},
   "source": [
    "### Feature - 1 "
   ]
  },
  {
   "cell_type": "code",
   "execution_count": 14,
   "metadata": {},
   "outputs": [
    {
     "name": "stdout",
     "output_type": "stream",
     "text": [
      "pvalue of USEnergy is lowest which is 1.8551872323861467e-11\n"
     ]
    }
   ],
   "source": [
    "for var in independent:\n",
    "    formula = 'WorldOil~{}'.format(var)\n",
    "    model = smf.ols(formula,data = crudoil).fit()\n",
    "    try:   \n",
    "        pval = pd.concat((pval,pvalues(model)))\n",
    "    except:\n",
    "        pval = pvalues(model)\n",
    "        \n",
    "pval.sort_values()\n",
    "print('pvalue of {} is lowest which is {}'.format(pval.index[0],pval[0]))"
   ]
  },
  {
   "cell_type": "code",
   "execution_count": 18,
   "metadata": {},
   "outputs": [
    {
     "data": {
      "text/plain": [
       "'USEnergy'"
      ]
     },
     "execution_count": 18,
     "metadata": {},
     "output_type": "execute_result"
    }
   ],
   "source": [
    "feature1 = pval.index[0]\n",
    "feature1"
   ]
  },
  {
   "cell_type": "markdown",
   "metadata": {},
   "source": [
    "### Feature - 2"
   ]
  },
  {
   "cell_type": "code",
   "execution_count": 20,
   "metadata": {},
   "outputs": [],
   "source": [
    "independent.remove(feature1)"
   ]
  },
  {
   "cell_type": "code",
   "execution_count": 21,
   "metadata": {},
   "outputs": [
    {
     "data": {
      "text/plain": [
       "['USAutoFuelRate', 'USNuclear', 'USCoal', 'USDryGas']"
      ]
     },
     "execution_count": 21,
     "metadata": {},
     "output_type": "execute_result"
    }
   ],
   "source": [
    "independent"
   ]
  },
  {
   "cell_type": "code",
   "execution_count": 22,
   "metadata": {},
   "outputs": [
    {
     "name": "stdout",
     "output_type": "stream",
     "text": [
      "pvalue of USAutoFuelRate is lowest which is 0.0010572329079458042\n"
     ]
    }
   ],
   "source": [
    "pval=[]\n",
    "for var in independent:\n",
    "    formula = 'WorldOil~USEnergy+{}'.format(var)\n",
    "    model = smf.ols(formula,data = crudoil).fit()\n",
    "    try:   \n",
    "        pval = pd.concat((pval,pvalues(model)))\n",
    "    except:\n",
    "        pval = pvalues(model)\n",
    "        \n",
    "pval.sort_values()\n",
    "print('pvalue of {} is lowest which is {}'.format(pval.index[0],pval[0]))"
   ]
  },
  {
   "cell_type": "code",
   "execution_count": 23,
   "metadata": {},
   "outputs": [
    {
     "data": {
      "text/plain": [
       "USAutoFuelRate    0.001057\n",
       "USNuclear         0.001522\n",
       "USCoal            0.022730\n",
       "USDryGas          0.035750\n",
       "dtype: float64"
      ]
     },
     "execution_count": 23,
     "metadata": {},
     "output_type": "execute_result"
    }
   ],
   "source": [
    "pval"
   ]
  },
  {
   "cell_type": "markdown",
   "metadata": {},
   "source": [
    "### Feature -3"
   ]
  },
  {
   "cell_type": "code",
   "execution_count": 24,
   "metadata": {},
   "outputs": [],
   "source": [
    "independent.remove('USAutoFuelRate')"
   ]
  },
  {
   "cell_type": "code",
   "execution_count": 31,
   "metadata": {},
   "outputs": [
    {
     "name": "stdout",
     "output_type": "stream",
     "text": [
      "USCoal       0.102247\n",
      "USDryGas     0.650380\n",
      "USNuclear    0.672102\n",
      "dtype: float64\n",
      "\n",
      "\n",
      "pvalue of USCoal is lowest which is 0.10224701823629695\n"
     ]
    }
   ],
   "source": [
    "pval=[]\n",
    "for var in independent:\n",
    "    formula = 'WorldOil~USEnergy+USAutoFuelRate+{}'.format(var)\n",
    "    model = smf.ols(formula,data = crudoil).fit()\n",
    "    try:   \n",
    "        pval = pd.concat((pval,pvalues(model)))\n",
    "    except:\n",
    "        pval = pvalues(model)\n",
    "\n",
    "print(pval.sort_values())\n",
    "print('\\n')\n",
    "print('pvalue of {} is lowest which is {}'.format(pval.sort_values().index[0],pval.sort_values()[0]))"
   ]
  },
  {
   "cell_type": "markdown",
   "metadata": {},
   "source": [
    "> \"USCoal\" ***P-value*** = 0.10224 > 0.05 (significance level)\n",
    "\n",
    "Hence, don't consider from values\n",
    "Hence features for crudoil are : 'USEnergy' and 'USAutoFuelRate'"
   ]
  },
  {
   "cell_type": "markdown",
   "metadata": {},
   "source": [
    "# Backward Elimination "
   ]
  },
  {
   "cell_type": "markdown",
   "metadata": {},
   "source": [
    "### Full Model"
   ]
  },
  {
   "cell_type": "code",
   "execution_count": 32,
   "metadata": {},
   "outputs": [
    {
     "data": {
      "text/plain": [
       "Index(['WorldOil', 'USEnergy', 'USAutoFuelRate', 'USNuclear', 'USCoal',\n",
       "       'USDryGas'],\n",
       "      dtype='object')"
      ]
     },
     "execution_count": 32,
     "metadata": {},
     "output_type": "execute_result"
    }
   ],
   "source": [
    "crudoil.keys()"
   ]
  },
  {
   "cell_type": "code",
   "execution_count": 37,
   "metadata": {},
   "outputs": [
    {
     "data": {
      "text/plain": [
       "Intercept         0.764250\n",
       "USDryGas          0.752753\n",
       "USNuclear         0.514197\n",
       "USAutoFuelRate    0.196018\n",
       "USCoal            0.192596\n",
       "USEnergy          0.000159\n",
       "dtype: float64"
      ]
     },
     "execution_count": 37,
     "metadata": {},
     "output_type": "execute_result"
    }
   ],
   "source": [
    "formula = 'WorldOil~USEnergy+USAutoFuelRate+USNuclear+USCoal+USDryGas'.format(var)\n",
    "model = smf.ols(formula,data = crudoil).fit()\n",
    "model.pvalues.sort_values(ascending=False)"
   ]
  },
  {
   "cell_type": "markdown",
   "metadata": {},
   "source": [
    "### Drop values for worst pvalue\n",
    "> dropping *'USDryGas'*"
   ]
  },
  {
   "cell_type": "code",
   "execution_count": 38,
   "metadata": {},
   "outputs": [
    {
     "data": {
      "text/plain": [
       "Intercept         6.380683e-01\n",
       "USNuclear         5.276771e-01\n",
       "USCoal            9.579508e-02\n",
       "USAutoFuelRate    8.628793e-02\n",
       "USEnergy          2.503312e-09\n",
       "dtype: float64"
      ]
     },
     "execution_count": 38,
     "metadata": {},
     "output_type": "execute_result"
    }
   ],
   "source": [
    "formula = 'WorldOil~USEnergy+USAutoFuelRate+USNuclear+USCoal'.format(var)\n",
    "model = smf.ols(formula,data = crudoil).fit()\n",
    "model.pvalues.sort_values(ascending=False)"
   ]
  },
  {
   "cell_type": "markdown",
   "metadata": {},
   "source": [
    "### Drop values for worst pvalue\n",
    "> dropping 'USNuclear'"
   ]
  },
  {
   "cell_type": "code",
   "execution_count": 40,
   "metadata": {},
   "outputs": [
    {
     "data": {
      "text/plain": [
       "USCoal            1.022470e-01\n",
       "Intercept         2.313101e-02\n",
       "USAutoFuelRate    4.787754e-03\n",
       "USEnergy          4.406243e-11\n",
       "dtype: float64"
      ]
     },
     "execution_count": 40,
     "metadata": {},
     "output_type": "execute_result"
    }
   ],
   "source": [
    "formula = 'WorldOil~USEnergy+USAutoFuelRate+USCoal'.format(var)\n",
    "model = smf.ols(formula,data = crudoil).fit()\n",
    "model.pvalues.sort_values(ascending=False)"
   ]
  },
  {
   "cell_type": "markdown",
   "metadata": {},
   "source": [
    "### Drop values for worst pvalue\n",
    "> dropping 'USCoal'"
   ]
  },
  {
   "cell_type": "code",
   "execution_count": 41,
   "metadata": {},
   "outputs": [
    {
     "data": {
      "text/plain": [
       "Intercept         5.380961e-02\n",
       "USAutoFuelRate    1.057233e-03\n",
       "USEnergy          2.553766e-11\n",
       "dtype: float64"
      ]
     },
     "execution_count": 41,
     "metadata": {},
     "output_type": "execute_result"
    }
   ],
   "source": [
    "formula = 'WorldOil~USEnergy+USAutoFuelRate'.format(var)\n",
    "model = smf.ols(formula,data = crudoil).fit()\n",
    "model.pvalues.sort_values(ascending=False)"
   ]
  },
  {
   "cell_type": "markdown",
   "metadata": {},
   "source": [
    "### Both the values are significant\n",
    "Hence, USAutoFuelRate and US Energy are significant feature"
   ]
  }
 ],
 "metadata": {
  "kernelspec": {
   "display_name": "Python 3",
   "language": "python",
   "name": "python3"
  },
  "language_info": {
   "codemirror_mode": {
    "name": "ipython",
    "version": 3
   },
   "file_extension": ".py",
   "mimetype": "text/x-python",
   "name": "python",
   "nbconvert_exporter": "python",
   "pygments_lexer": "ipython3",
   "version": "3.6.4"
  }
 },
 "nbformat": 4,
 "nbformat_minor": 2
}
