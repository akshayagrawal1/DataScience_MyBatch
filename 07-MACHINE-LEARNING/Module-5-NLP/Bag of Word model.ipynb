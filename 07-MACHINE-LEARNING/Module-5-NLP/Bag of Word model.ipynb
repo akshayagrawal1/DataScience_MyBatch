{
 "cells": [
  {
   "cell_type": "code",
   "execution_count": 1,
   "metadata": {},
   "outputs": [],
   "source": [
    "import numpy as np\n",
    "import pandas as pd\n",
    "import matplotlib.pyplot as plt\n",
    "import seaborn as sns\n",
    "import nltk\n",
    "from nltk import word_tokenize\n",
    "%matplotlib inline"
   ]
  },
  {
   "cell_type": "code",
   "execution_count": 4,
   "metadata": {},
   "outputs": [
    {
     "data": {
      "text/html": [
       "<div>\n",
       "<style scoped>\n",
       "    .dataframe tbody tr th:only-of-type {\n",
       "        vertical-align: middle;\n",
       "    }\n",
       "\n",
       "    .dataframe tbody tr th {\n",
       "        vertical-align: top;\n",
       "    }\n",
       "\n",
       "    .dataframe thead th {\n",
       "        text-align: right;\n",
       "    }\n",
       "</style>\n",
       "<table border=\"1\" class=\"dataframe\">\n",
       "  <thead>\n",
       "    <tr style=\"text-align: right;\">\n",
       "      <th></th>\n",
       "      <th>Sentence</th>\n",
       "      <th>category</th>\n",
       "    </tr>\n",
       "  </thead>\n",
       "  <tbody>\n",
       "    <tr>\n",
       "      <th>0</th>\n",
       "      <td>Cricket is a game of gentlemen</td>\n",
       "      <td>1</td>\n",
       "    </tr>\n",
       "    <tr>\n",
       "      <th>1</th>\n",
       "      <td>Soccer Worldcup is round the corner</td>\n",
       "      <td>1</td>\n",
       "    </tr>\n",
       "    <tr>\n",
       "      <th>2</th>\n",
       "      <td>Sports evokes patriotism</td>\n",
       "      <td>1</td>\n",
       "    </tr>\n",
       "    <tr>\n",
       "      <th>3</th>\n",
       "      <td>Viewership of Badminton is increasing in India</td>\n",
       "      <td>1</td>\n",
       "    </tr>\n",
       "    <tr>\n",
       "      <th>4</th>\n",
       "      <td>Indian boxers won silver medal in CommonWelth ...</td>\n",
       "      <td>1</td>\n",
       "    </tr>\n",
       "  </tbody>\n",
       "</table>\n",
       "</div>"
      ],
      "text/plain": [
       "                                            Sentence  category\n",
       "0                    Cricket is a game of gentlemen          1\n",
       "1               Soccer Worldcup is round the corner          1\n",
       "2                          Sports evokes patriotism          1\n",
       "3     Viewership of Badminton is increasing in India         1\n",
       "4  Indian boxers won silver medal in CommonWelth ...         1"
      ]
     },
     "execution_count": 4,
     "metadata": {},
     "output_type": "execute_result"
    }
   ],
   "source": [
    "# reading data\n",
    "bow = pd.read_csv('./bagofword.txt',delimiter=';',\n",
    "                  header=None,names=['Sentence','category'])\n",
    "bow.head()"
   ]
  },
  {
   "cell_type": "code",
   "execution_count": 5,
   "metadata": {},
   "outputs": [],
   "source": [
    "from nltk.corpus import stopwords"
   ]
  },
  {
   "cell_type": "code",
   "execution_count": 6,
   "metadata": {},
   "outputs": [
    {
     "name": "stdout",
     "output_type": "stream",
     "text": [
      "[nltk_data] Downloading package stopwords to\n",
      "[nltk_data]     C:\\Users\\srikanth\\AppData\\Roaming\\nltk_data...\n",
      "[nltk_data]   Package stopwords is already up-to-date!\n"
     ]
    },
    {
     "data": {
      "text/plain": [
       "True"
      ]
     },
     "execution_count": 6,
     "metadata": {},
     "output_type": "execute_result"
    }
   ],
   "source": [
    "nltk.download('stopwords')"
   ]
  },
  {
   "cell_type": "markdown",
   "metadata": {},
   "source": [
    "# Cleaning text\n",
    "- Lower Case\n",
    "- Remove special characters\n",
    "- Stemming\n",
    "- Lemma\n",
    "- Remove Stopwords"
   ]
  },
  {
   "cell_type": "code",
   "execution_count": 10,
   "metadata": {},
   "outputs": [],
   "source": [
    "stop = stopwords.words('english')\n",
    "#print(stop)"
   ]
  },
  {
   "cell_type": "markdown",
   "metadata": {},
   "source": [
    "Lower case:"
   ]
  },
  {
   "cell_type": "code",
   "execution_count": 11,
   "metadata": {},
   "outputs": [
    {
     "data": {
      "text/plain": [
       "'viewership of badminton is increasing in india'"
      ]
     },
     "execution_count": 11,
     "metadata": {},
     "output_type": "execute_result"
    }
   ],
   "source": [
    "text = 'Viewership of Badminton is increasing in India'\n",
    "# lower\n",
    "text = text.lower()\n",
    "text"
   ]
  },
  {
   "cell_type": "code",
   "execution_count": 12,
   "metadata": {},
   "outputs": [],
   "source": [
    "from nltk.stem import PorterStemmer,RegexpStemmer"
   ]
  },
  {
   "cell_type": "code",
   "execution_count": 13,
   "metadata": {},
   "outputs": [
    {
     "data": {
      "text/plain": [
       "'increas'"
      ]
     },
     "execution_count": 13,
     "metadata": {},
     "output_type": "execute_result"
    }
   ],
   "source": [
    "ps = PorterStemmer()\n",
    "ps.stem('increasing')"
   ]
  },
  {
   "cell_type": "code",
   "execution_count": 18,
   "metadata": {},
   "outputs": [],
   "source": [
    "r = RegexpStemmer('ing$|es$')"
   ]
  },
  {
   "cell_type": "code",
   "execution_count": 19,
   "metadata": {},
   "outputs": [
    {
     "data": {
      "text/plain": [
       "'increas'"
      ]
     },
     "execution_count": 19,
     "metadata": {},
     "output_type": "execute_result"
    }
   ],
   "source": [
    "r.stem('increases')"
   ]
  },
  {
   "cell_type": "code",
   "execution_count": 53,
   "metadata": {},
   "outputs": [
    {
     "name": "stdout",
     "output_type": "stream",
     "text": [
      "['viewership', 'of', 'badminton', 'is', 'increasing', 'in', 'india']\n",
      "viewership badminton increas india\n"
     ]
    }
   ],
   "source": [
    "# tokenize  and stemming\n",
    "tokens = word_tokenize(text)\n",
    "print(tokens)\n",
    "words = []\n",
    "for word in tokens:\n",
    "    if word not in stop:\n",
    "        #print(word)\n",
    "        words.append(ps.stem(word))\n",
    "\n",
    "ctext = \" \".join(words)\n",
    "print(ctext)"
   ]
  },
  {
   "cell_type": "code",
   "execution_count": 30,
   "metadata": {},
   "outputs": [],
   "source": [
    "# Lemmatization\n",
    "from nltk import WordNetLemmatizer"
   ]
  },
  {
   "cell_type": "code",
   "execution_count": 31,
   "metadata": {},
   "outputs": [],
   "source": [
    "lemma = WordNetLemmatizer()"
   ]
  },
  {
   "cell_type": "code",
   "execution_count": 47,
   "metadata": {},
   "outputs": [
    {
     "data": {
      "text/plain": [
       "'like'"
      ]
     },
     "execution_count": 47,
     "metadata": {},
     "output_type": "execute_result"
    }
   ],
   "source": [
    "lemma.lemmatize('likes')"
   ]
  },
  {
   "cell_type": "code",
   "execution_count": 52,
   "metadata": {},
   "outputs": [
    {
     "name": "stdout",
     "output_type": "stream",
     "text": [
      "['viewership', 'of', 'badminton', 'is', 'increas', 'in', 'india']\n",
      "viewership\n",
      "badminton\n",
      "increas\n",
      "india\n"
     ]
    }
   ],
   "source": [
    "# stopwords\n",
    "tokens = word_tokenize(ctext)\n",
    "print(tokens)\n",
    "for word in tokens:\n",
    "    if word not in stop:\n",
    "        print(word)"
   ]
  },
  {
   "cell_type": "code",
   "execution_count": 54,
   "metadata": {},
   "outputs": [],
   "source": [
    "import re"
   ]
  },
  {
   "cell_type": "code",
   "execution_count": 64,
   "metadata": {},
   "outputs": [],
   "source": [
    "# For \n",
    "from nltk.stem import PorterStemmer\n",
    "def cleantext(sentence):\n",
    "    ps = PorterStemmer()\n",
    "    # lowercase\n",
    "    text = sentence.lower()\n",
    "    # Remove special characters and number \n",
    "    text = re.sub(r'[^a-z]',' ',text)\n",
    "    # tokenize\n",
    "    token = word_tokenize(text)\n",
    "    # remove stop and apply stemming\n",
    "    words = []\n",
    "    for word in token:\n",
    "        if word not in stop: # removing stop words\n",
    "            words.append(ps.stem(word)) # applying stemming\n",
    "    \n",
    "    return \" \".join(words) # words into sentence"
   ]
  },
  {
   "cell_type": "code",
   "execution_count": 68,
   "metadata": {},
   "outputs": [
    {
     "data": {
      "text/plain": [
       "'viewership badminton increas india'"
      ]
     },
     "execution_count": 68,
     "metadata": {},
     "output_type": "execute_result"
    }
   ],
   "source": [
    "cleantext('Viewership of Badminton is increasing in India')"
   ]
  },
  {
   "cell_type": "code",
   "execution_count": 67,
   "metadata": {},
   "outputs": [],
   "source": [
    "bow['Clean_Sentence'] = bow['Sentence'].apply(cleantext)"
   ]
  },
  {
   "cell_type": "code",
   "execution_count": 69,
   "metadata": {},
   "outputs": [
    {
     "data": {
      "text/html": [
       "<div>\n",
       "<style scoped>\n",
       "    .dataframe tbody tr th:only-of-type {\n",
       "        vertical-align: middle;\n",
       "    }\n",
       "\n",
       "    .dataframe tbody tr th {\n",
       "        vertical-align: top;\n",
       "    }\n",
       "\n",
       "    .dataframe thead th {\n",
       "        text-align: right;\n",
       "    }\n",
       "</style>\n",
       "<table border=\"1\" class=\"dataframe\">\n",
       "  <thead>\n",
       "    <tr style=\"text-align: right;\">\n",
       "      <th></th>\n",
       "      <th>Sentence</th>\n",
       "      <th>category</th>\n",
       "      <th>Clean_Sentence</th>\n",
       "    </tr>\n",
       "  </thead>\n",
       "  <tbody>\n",
       "    <tr>\n",
       "      <th>0</th>\n",
       "      <td>Cricket is a game of gentlemen</td>\n",
       "      <td>1</td>\n",
       "      <td>cricket game gentlemen</td>\n",
       "    </tr>\n",
       "    <tr>\n",
       "      <th>1</th>\n",
       "      <td>Soccer Worldcup is round the corner</td>\n",
       "      <td>1</td>\n",
       "      <td>soccer worldcup round corner</td>\n",
       "    </tr>\n",
       "    <tr>\n",
       "      <th>2</th>\n",
       "      <td>Sports evokes patriotism</td>\n",
       "      <td>1</td>\n",
       "      <td>sport evok patriot</td>\n",
       "    </tr>\n",
       "    <tr>\n",
       "      <th>3</th>\n",
       "      <td>Viewership of Badminton is increasing in India</td>\n",
       "      <td>1</td>\n",
       "      <td>viewership badminton increas india</td>\n",
       "    </tr>\n",
       "    <tr>\n",
       "      <th>4</th>\n",
       "      <td>Indian boxers won silver medal in CommonWelth ...</td>\n",
       "      <td>1</td>\n",
       "      <td>indian boxer silver medal commonwelth game</td>\n",
       "    </tr>\n",
       "  </tbody>\n",
       "</table>\n",
       "</div>"
      ],
      "text/plain": [
       "                                            Sentence  category  \\\n",
       "0                    Cricket is a game of gentlemen          1   \n",
       "1               Soccer Worldcup is round the corner          1   \n",
       "2                          Sports evokes patriotism          1   \n",
       "3     Viewership of Badminton is increasing in India         1   \n",
       "4  Indian boxers won silver medal in CommonWelth ...         1   \n",
       "\n",
       "                               Clean_Sentence  \n",
       "0                      cricket game gentlemen  \n",
       "1                soccer worldcup round corner  \n",
       "2                          sport evok patriot  \n",
       "3          viewership badminton increas india  \n",
       "4  indian boxer silver medal commonwelth game  "
      ]
     },
     "execution_count": 69,
     "metadata": {},
     "output_type": "execute_result"
    }
   ],
   "source": [
    "bow.head()"
   ]
  },
  {
   "cell_type": "markdown",
   "metadata": {},
   "source": [
    "## Word Embedding\n",
    "- Bag of words"
   ]
  },
  {
   "cell_type": "code",
   "execution_count": 74,
   "metadata": {},
   "outputs": [],
   "source": [
    "sentlist = list(bow['Clean_Sentence'])"
   ]
  },
  {
   "cell_type": "code",
   "execution_count": 76,
   "metadata": {},
   "outputs": [
    {
     "data": {
      "text/plain": [
       "CountVectorizer(analyzer='word', binary=False, decode_error='strict',\n",
       "        dtype=<class 'numpy.int64'>, encoding='utf-8', input='content',\n",
       "        lowercase=True, max_df=1.0, max_features=None, min_df=1,\n",
       "        ngram_range=(1, 1), preprocessor=None, stop_words=None,\n",
       "        strip_accents=None, token_pattern='(?u)\\\\b\\\\w\\\\w+\\\\b',\n",
       "        tokenizer=None, vocabulary=None)"
      ]
     },
     "execution_count": 76,
     "metadata": {},
     "output_type": "execute_result"
    }
   ],
   "source": [
    "from sklearn.feature_extraction.text import CountVectorizer # Bag of Word\n",
    "cv = CountVectorizer()\n",
    "cv.fit(sentlist)"
   ]
  },
  {
   "cell_type": "code",
   "execution_count": 84,
   "metadata": {},
   "outputs": [
    {
     "name": "stdout",
     "output_type": "stream",
     "text": [
      "['across', 'adil', 'arnold', 'arsen', 'australia', 'away', 'awe', 'badminton', 'bag', 'barcelona', 'batswoman', 'beat', 'bengal', 'bernabeu', 'border', 'boxer', 'came', 'carlo', 'caus', 'championship', 'charg', 'chase', 'church', 'citi', 'closer', 'coldest', 'commonwelth', 'consol', 'convert', 'corner', 'cricket', 'da', 'damag', 'dead', 'derbi', 'destroy', 'dhoni', 'dismiss', 'draw', 'drive', 'driver', 'earthquak', 'ecuador', 'edg', 'end', 'enter', 'evok', 'expect', 'experi', 'fanci', 'far', 'fc', 'feder', 'feel', 'ferrari', 'fifti', 'fight', 'five', 'flair', 'flood', 'florida', 'four', 'game', 'gentlemen', 'give', 'goal', 'gold', 'gp', 'hamilton', 'heavi', 'highlight', 'hima', 'hindi', 'hit', 'hotter', 'hum', 'ian', 'increas', 'india', 'indian', 'inexplic', 'isl', 'island', 'issoko', 'jadhav', 'kati', 'kedar', 'kerala', 'key', 'khan', 'kohli', 'kolkata', 'la', 'last', 'late', 'lead', 'leagu', 'leav', 'level', 'lewi', 'liga', 'llori', 'madrid', 'magnitud', 'maharashtra', 'major', 'marshal', 'match', 'mclaren', 'medal', 'melbourn', 'merced', 'mississippi', 'ms', 'much', 'mumbai', 'new', 'odi', 'ohio', 'one', 'partnership', 'patriot', 'penalti', 'perkin', 'person', 'peru', 'possibl', 'power', 'pre', 'premier', 'pune', 'rais', 'read', 'real', 'return', 'rise', 'river', 'roger', 'round', 'run', 'sainz', 'santiago', 'saturday', 'save', 'sea', 'season', 'sebastian', 'seen', 'seri', 'silver', 'snowstorm', 'soccer', 'south', 'southern', 'space', 'sport', 'st', 'step', 'still', 'straight', 'summer', 'swept', 'team', 'test', 'th', 'thunderstorm', 'titl', 'took', 'tornado', 'tottenham', 'trump', 'unluckiest', 'unpredict', 'valley', 'vettel', 'victori', 'viewership', 'virat', 'vismaya', 'vk', 'warn', 'watch', 'way', 'weather', 'wembley', 'win', 'winter', 'world', 'worldcup', 'year', 'zealand']\n"
     ]
    }
   ],
   "source": [
    "print(cv.get_feature_names())"
   ]
  },
  {
   "cell_type": "code",
   "execution_count": 80,
   "metadata": {},
   "outputs": [],
   "source": [
    "X = cv.transform(sentlist).toarray()"
   ]
  },
  {
   "cell_type": "code",
   "execution_count": 82,
   "metadata": {},
   "outputs": [
    {
     "data": {
      "text/plain": [
       "(30, 191)"
      ]
     },
     "execution_count": 82,
     "metadata": {},
     "output_type": "execute_result"
    }
   ],
   "source": [
    "X.shape\n",
    "# Sparse Matrix"
   ]
  },
  {
   "cell_type": "code",
   "execution_count": 86,
   "metadata": {},
   "outputs": [],
   "source": [
    "# convert into dataframe\n",
    "df = pd.DataFrame(X,columns=cv.get_feature_names())\n",
    "df.to_csv('bow_sport_weather.csv')"
   ]
  },
  {
   "cell_type": "code",
   "execution_count": 87,
   "metadata": {},
   "outputs": [
    {
     "data": {
      "text/html": [
       "<div>\n",
       "<style scoped>\n",
       "    .dataframe tbody tr th:only-of-type {\n",
       "        vertical-align: middle;\n",
       "    }\n",
       "\n",
       "    .dataframe tbody tr th {\n",
       "        vertical-align: top;\n",
       "    }\n",
       "\n",
       "    .dataframe thead th {\n",
       "        text-align: right;\n",
       "    }\n",
       "</style>\n",
       "<table border=\"1\" class=\"dataframe\">\n",
       "  <thead>\n",
       "    <tr style=\"text-align: right;\">\n",
       "      <th></th>\n",
       "      <th>across</th>\n",
       "      <th>adil</th>\n",
       "      <th>arnold</th>\n",
       "      <th>arsen</th>\n",
       "      <th>australia</th>\n",
       "      <th>away</th>\n",
       "      <th>awe</th>\n",
       "      <th>badminton</th>\n",
       "      <th>bag</th>\n",
       "      <th>barcelona</th>\n",
       "      <th>...</th>\n",
       "      <th>way</th>\n",
       "      <th>weather</th>\n",
       "      <th>wembley</th>\n",
       "      <th>win</th>\n",
       "      <th>winter</th>\n",
       "      <th>world</th>\n",
       "      <th>worldcup</th>\n",
       "      <th>year</th>\n",
       "      <th>zealand</th>\n",
       "      <th>class</th>\n",
       "    </tr>\n",
       "  </thead>\n",
       "  <tbody>\n",
       "    <tr>\n",
       "      <th>0</th>\n",
       "      <td>0</td>\n",
       "      <td>0</td>\n",
       "      <td>0</td>\n",
       "      <td>0</td>\n",
       "      <td>0</td>\n",
       "      <td>0</td>\n",
       "      <td>0</td>\n",
       "      <td>0</td>\n",
       "      <td>0</td>\n",
       "      <td>0</td>\n",
       "      <td>...</td>\n",
       "      <td>0</td>\n",
       "      <td>0</td>\n",
       "      <td>0</td>\n",
       "      <td>0</td>\n",
       "      <td>0</td>\n",
       "      <td>0</td>\n",
       "      <td>0</td>\n",
       "      <td>0</td>\n",
       "      <td>0</td>\n",
       "      <td>1</td>\n",
       "    </tr>\n",
       "    <tr>\n",
       "      <th>1</th>\n",
       "      <td>0</td>\n",
       "      <td>0</td>\n",
       "      <td>0</td>\n",
       "      <td>0</td>\n",
       "      <td>0</td>\n",
       "      <td>0</td>\n",
       "      <td>0</td>\n",
       "      <td>0</td>\n",
       "      <td>0</td>\n",
       "      <td>0</td>\n",
       "      <td>...</td>\n",
       "      <td>0</td>\n",
       "      <td>0</td>\n",
       "      <td>0</td>\n",
       "      <td>0</td>\n",
       "      <td>0</td>\n",
       "      <td>0</td>\n",
       "      <td>1</td>\n",
       "      <td>0</td>\n",
       "      <td>0</td>\n",
       "      <td>1</td>\n",
       "    </tr>\n",
       "    <tr>\n",
       "      <th>2</th>\n",
       "      <td>0</td>\n",
       "      <td>0</td>\n",
       "      <td>0</td>\n",
       "      <td>0</td>\n",
       "      <td>0</td>\n",
       "      <td>0</td>\n",
       "      <td>0</td>\n",
       "      <td>0</td>\n",
       "      <td>0</td>\n",
       "      <td>0</td>\n",
       "      <td>...</td>\n",
       "      <td>0</td>\n",
       "      <td>0</td>\n",
       "      <td>0</td>\n",
       "      <td>0</td>\n",
       "      <td>0</td>\n",
       "      <td>0</td>\n",
       "      <td>0</td>\n",
       "      <td>0</td>\n",
       "      <td>0</td>\n",
       "      <td>1</td>\n",
       "    </tr>\n",
       "    <tr>\n",
       "      <th>3</th>\n",
       "      <td>0</td>\n",
       "      <td>0</td>\n",
       "      <td>0</td>\n",
       "      <td>0</td>\n",
       "      <td>0</td>\n",
       "      <td>0</td>\n",
       "      <td>0</td>\n",
       "      <td>1</td>\n",
       "      <td>0</td>\n",
       "      <td>0</td>\n",
       "      <td>...</td>\n",
       "      <td>0</td>\n",
       "      <td>0</td>\n",
       "      <td>0</td>\n",
       "      <td>0</td>\n",
       "      <td>0</td>\n",
       "      <td>0</td>\n",
       "      <td>0</td>\n",
       "      <td>0</td>\n",
       "      <td>0</td>\n",
       "      <td>1</td>\n",
       "    </tr>\n",
       "    <tr>\n",
       "      <th>4</th>\n",
       "      <td>0</td>\n",
       "      <td>0</td>\n",
       "      <td>0</td>\n",
       "      <td>0</td>\n",
       "      <td>0</td>\n",
       "      <td>0</td>\n",
       "      <td>0</td>\n",
       "      <td>0</td>\n",
       "      <td>0</td>\n",
       "      <td>0</td>\n",
       "      <td>...</td>\n",
       "      <td>0</td>\n",
       "      <td>0</td>\n",
       "      <td>0</td>\n",
       "      <td>0</td>\n",
       "      <td>0</td>\n",
       "      <td>0</td>\n",
       "      <td>0</td>\n",
       "      <td>0</td>\n",
       "      <td>0</td>\n",
       "      <td>1</td>\n",
       "    </tr>\n",
       "  </tbody>\n",
       "</table>\n",
       "<p>5 rows × 192 columns</p>\n",
       "</div>"
      ],
      "text/plain": [
       "   across  adil  arnold  arsen  australia  away  awe  badminton  bag  \\\n",
       "0       0     0       0      0          0     0    0          0    0   \n",
       "1       0     0       0      0          0     0    0          0    0   \n",
       "2       0     0       0      0          0     0    0          0    0   \n",
       "3       0     0       0      0          0     0    0          1    0   \n",
       "4       0     0       0      0          0     0    0          0    0   \n",
       "\n",
       "   barcelona  ...    way  weather  wembley  win  winter  world  worldcup  \\\n",
       "0          0  ...      0        0        0    0       0      0         0   \n",
       "1          0  ...      0        0        0    0       0      0         1   \n",
       "2          0  ...      0        0        0    0       0      0         0   \n",
       "3          0  ...      0        0        0    0       0      0         0   \n",
       "4          0  ...      0        0        0    0       0      0         0   \n",
       "\n",
       "   year  zealand  class  \n",
       "0     0        0      1  \n",
       "1     0        0      1  \n",
       "2     0        0      1  \n",
       "3     0        0      1  \n",
       "4     0        0      1  \n",
       "\n",
       "[5 rows x 192 columns]"
      ]
     },
     "execution_count": 87,
     "metadata": {},
     "output_type": "execute_result"
    }
   ],
   "source": [
    "df['class'] = bow['category']\n",
    "df.head()"
   ]
  },
  {
   "cell_type": "code",
   "execution_count": 110,
   "metadata": {},
   "outputs": [
    {
     "data": {
      "text/plain": [
       "1    20\n",
       "0    10\n",
       "Name: class, dtype: int64"
      ]
     },
     "execution_count": 110,
     "metadata": {},
     "output_type": "execute_result"
    }
   ],
   "source": [
    "#by = df.groupby(by='class')\n",
    "#by.count()\n",
    "df['class'].value_counts()"
   ]
  },
  {
   "cell_type": "code",
   "execution_count": 113,
   "metadata": {},
   "outputs": [],
   "source": [
    "in_sum = df.sum()"
   ]
  },
  {
   "cell_type": "code",
   "execution_count": 125,
   "metadata": {},
   "outputs": [
    {
     "data": {
      "text/plain": [
       "3"
      ]
     },
     "execution_count": 125,
     "metadata": {},
     "output_type": "execute_result"
    }
   ],
   "source": [
    "in_sum['titl']"
   ]
  },
  {
   "cell_type": "code",
   "execution_count": 126,
   "metadata": {},
   "outputs": [
    {
     "data": {
      "text/plain": [
       "14    1\n",
       "17    1\n",
       "21    1\n",
       "Name: class, dtype: int64"
      ]
     },
     "execution_count": 126,
     "metadata": {},
     "output_type": "execute_result"
    }
   ],
   "source": [
    "df[df['titl'] == 1]['class']"
   ]
  },
  {
   "cell_type": "code",
   "execution_count": 123,
   "metadata": {},
   "outputs": [
    {
     "data": {
      "text/plain": [
       "1"
      ]
     },
     "execution_count": 123,
     "metadata": {},
     "output_type": "execute_result"
    }
   ],
   "source": [
    "in_sum['across']"
   ]
  },
  {
   "cell_type": "code",
   "execution_count": 144,
   "metadata": {},
   "outputs": [
    {
     "data": {
      "text/html": [
       "<div>\n",
       "<style scoped>\n",
       "    .dataframe tbody tr th:only-of-type {\n",
       "        vertical-align: middle;\n",
       "    }\n",
       "\n",
       "    .dataframe tbody tr th {\n",
       "        vertical-align: top;\n",
       "    }\n",
       "\n",
       "    .dataframe thead th {\n",
       "        text-align: right;\n",
       "    }\n",
       "</style>\n",
       "<table border=\"1\" class=\"dataframe\">\n",
       "  <thead>\n",
       "    <tr style=\"text-align: right;\">\n",
       "      <th></th>\n",
       "      <th>across</th>\n",
       "      <th>adil</th>\n",
       "      <th>arnold</th>\n",
       "      <th>arsen</th>\n",
       "      <th>australia</th>\n",
       "      <th>away</th>\n",
       "      <th>awe</th>\n",
       "      <th>badminton</th>\n",
       "      <th>bag</th>\n",
       "      <th>barcelona</th>\n",
       "      <th>...</th>\n",
       "      <th>way</th>\n",
       "      <th>weather</th>\n",
       "      <th>wembley</th>\n",
       "      <th>win</th>\n",
       "      <th>winter</th>\n",
       "      <th>world</th>\n",
       "      <th>worldcup</th>\n",
       "      <th>year</th>\n",
       "      <th>zealand</th>\n",
       "      <th>class</th>\n",
       "    </tr>\n",
       "  </thead>\n",
       "  <tbody>\n",
       "  </tbody>\n",
       "</table>\n",
       "<p>0 rows × 192 columns</p>\n",
       "</div>"
      ],
      "text/plain": [
       "Empty DataFrame\n",
       "Columns: [across, adil, arnold, arsen, australia, away, awe, badminton, bag, barcelona, batswoman, beat, bengal, bernabeu, border, boxer, came, carlo, caus, championship, charg, chase, church, citi, closer, coldest, commonwelth, consol, convert, corner, cricket, da, damag, dead, derbi, destroy, dhoni, dismiss, draw, drive, driver, earthquak, ecuador, edg, end, enter, evok, expect, experi, fanci, far, fc, feder, feel, ferrari, fifti, fight, five, flair, flood, florida, four, game, gentlemen, give, goal, gold, gp, hamilton, heavi, highlight, hima, hindi, hit, hotter, hum, ian, increas, india, indian, inexplic, isl, island, issoko, jadhav, kati, kedar, kerala, key, khan, kohli, kolkata, la, last, late, lead, leagu, leav, level, lewi, ...]\n",
       "Index: []\n",
       "\n",
       "[0 rows x 192 columns]"
      ]
     },
     "execution_count": 144,
     "metadata": {},
     "output_type": "execute_result"
    }
   ],
   "source": [
    "df[df['citi'] == 1]"
   ]
  },
  {
   "cell_type": "code",
   "execution_count": 149,
   "metadata": {},
   "outputs": [
    {
     "data": {
      "text/plain": [
       "'citi'"
      ]
     },
     "execution_count": 149,
     "metadata": {},
     "output_type": "execute_result"
    }
   ],
   "source": [
    "ind"
   ]
  },
  {
   "cell_type": "code",
   "execution_count": 153,
   "metadata": {},
   "outputs": [
    {
     "data": {
      "text/plain": [
       "4"
      ]
     },
     "execution_count": 153,
     "metadata": {},
     "output_type": "execute_result"
    }
   ],
   "source": [
    "in_sum['citi']"
   ]
  },
  {
   "cell_type": "code",
   "execution_count": 166,
   "metadata": {},
   "outputs": [
    {
     "name": "stdout",
     "output_type": "stream",
     "text": [
      "\n",
      "\n",
      "\n",
      "\n",
      "\n",
      "\n"
     ]
    }
   ],
   "source": [
    "sports = []\n",
    "weather = []\n",
    "for ind in in_sum.index:\n",
    "    for i in range(in_sum[ind]):\n",
    "        try:\n",
    "            if df[df[ind] >= 1]['class'].values[i] == 1: # sports\n",
    "                sports.append((ind,in_sum[ind],in_sum[ind]/144))\n",
    "            elif df[df[ind] >= 1]['class'].values[i] == 0:\n",
    "                weather.append((ind,in_sum[ind],in_sum[ind]/52))\n",
    "        except:\n",
    "            print('')"
   ]
  },
  {
   "cell_type": "code",
   "execution_count": 167,
   "metadata": {},
   "outputs": [
    {
     "data": {
      "text/plain": [
       "(144, 52)"
      ]
     },
     "execution_count": 167,
     "metadata": {},
     "output_type": "execute_result"
    }
   ],
   "source": [
    "len(set(sports)),len(set(weather))"
   ]
  },
  {
   "cell_type": "code",
   "execution_count": 181,
   "metadata": {},
   "outputs": [
    {
     "data": {
      "text/plain": [
       "{('across', 1, 0.019230769230769232),\n",
       " ('bengal', 1, 0.019230769230769232),\n",
       " ('border', 1, 0.019230769230769232),\n",
       " ('caus', 1, 0.019230769230769232),\n",
       " ('church', 1, 0.019230769230769232),\n",
       " ('coldest', 1, 0.019230769230769232),\n",
       " ('damag', 1, 0.019230769230769232),\n",
       " ('dead', 1, 0.019230769230769232),\n",
       " ('destroy', 1, 0.019230769230769232),\n",
       " ('earthquak', 1, 0.019230769230769232),\n",
       " ('ecuador', 1, 0.019230769230769232),\n",
       " ('expect', 1, 0.019230769230769232),\n",
       " ('fight', 1, 0.019230769230769232),\n",
       " ('flood', 2, 0.038461538461538464),\n",
       " ('florida', 1, 0.019230769230769232),\n",
       " ('heavi', 1, 0.019230769230769232),\n",
       " ('hit', 2, 0.038461538461538464),\n",
       " ('hotter', 1, 0.019230769230769232),\n",
       " ('india', 4, 0.07692307692307693),\n",
       " ('island', 2, 0.038461538461538464),\n",
       " ('kerala', 1, 0.019230769230769232),\n",
       " ('kolkata', 1, 0.019230769230769232),\n",
       " ('leav', 1, 0.019230769230769232),\n",
       " ('level', 1, 0.019230769230769232),\n",
       " ('magnitud', 1, 0.019230769230769232),\n",
       " ('major', 1, 0.019230769230769232),\n",
       " ('marshal', 1, 0.019230769230769232),\n",
       " ('mississippi', 1, 0.019230769230769232),\n",
       " ('much', 1, 0.019230769230769232),\n",
       " ('ohio', 1, 0.019230769230769232),\n",
       " ('one', 3, 0.057692307692307696),\n",
       " ('person', 1, 0.019230769230769232),\n",
       " ('peru', 1, 0.019230769230769232),\n",
       " ('power', 2, 0.038461538461538464),\n",
       " ('rais', 1, 0.019230769230769232),\n",
       " ('rise', 1, 0.019230769230769232),\n",
       " ('river', 1, 0.019230769230769232),\n",
       " ('sea', 1, 0.019230769230769232),\n",
       " ('seen', 1, 0.019230769230769232),\n",
       " ('snowstorm', 1, 0.019230769230769232),\n",
       " ('south', 1, 0.019230769230769232),\n",
       " ('southern', 1, 0.019230769230769232),\n",
       " ('space', 1, 0.019230769230769232),\n",
       " ('summer', 1, 0.019230769230769232),\n",
       " ('thunderstorm', 1, 0.019230769230769232),\n",
       " ('tornado', 1, 0.019230769230769232),\n",
       " ('unpredict', 1, 0.019230769230769232),\n",
       " ('valley', 1, 0.019230769230769232),\n",
       " ('warn', 1, 0.019230769230769232),\n",
       " ('weather', 1, 0.019230769230769232),\n",
       " ('winter', 1, 0.019230769230769232),\n",
       " ('year', 1, 0.019230769230769232)}"
      ]
     },
     "execution_count": 181,
     "metadata": {},
     "output_type": "execute_result"
    }
   ],
   "source": [
    "set(weather)"
   ]
  },
  {
   "cell_type": "markdown",
   "metadata": {},
   "source": [
    "sports = list(df[df['class']==1].keys())\n",
    "weather = list(df[df['class']==0].keys())"
   ]
  },
  {
   "cell_type": "markdown",
   "metadata": {},
   "source": []
  },
  {
   "cell_type": "markdown",
   "metadata": {},
   "source": [
    "df[df['class']==1]!=0"
   ]
  },
  {
   "cell_type": "code",
   "execution_count": 169,
   "metadata": {},
   "outputs": [],
   "source": [
    "from sklearn.naive_bayes import MultinomialNB"
   ]
  },
  {
   "cell_type": "code",
   "execution_count": 172,
   "metadata": {},
   "outputs": [],
   "source": [
    "X = df.iloc[:,:-1].values\n",
    "y = df.iloc[:,-1].values"
   ]
  },
  {
   "cell_type": "code",
   "execution_count": 174,
   "metadata": {},
   "outputs": [
    {
     "data": {
      "text/plain": [
       "MultinomialNB(alpha=1.0, class_prior=None, fit_prior=True)"
      ]
     },
     "execution_count": 174,
     "metadata": {},
     "output_type": "execute_result"
    }
   ],
   "source": [
    "model = MultinomialNB()\n",
    "model.fit(X,y)"
   ]
  },
  {
   "cell_type": "code",
   "execution_count": 175,
   "metadata": {},
   "outputs": [],
   "source": [
    "from pandas_ml import ConfusionMatrix"
   ]
  },
  {
   "cell_type": "code",
   "execution_count": 176,
   "metadata": {},
   "outputs": [],
   "source": [
    "y_pred = model.predict(X)"
   ]
  },
  {
   "cell_type": "code",
   "execution_count": 177,
   "metadata": {},
   "outputs": [],
   "source": [
    "cm = ConfusionMatrix(y,y_pred)"
   ]
  },
  {
   "cell_type": "code",
   "execution_count": 178,
   "metadata": {},
   "outputs": [
    {
     "data": {
      "text/plain": [
       "Predicted  False  True  __all__\n",
       "Actual                         \n",
       "False         10     0       10\n",
       "True           0    20       20\n",
       "__all__       10    20       30"
      ]
     },
     "execution_count": 178,
     "metadata": {},
     "output_type": "execute_result"
    }
   ],
   "source": [
    "cm"
   ]
  },
  {
   "cell_type": "code",
   "execution_count": 185,
   "metadata": {},
   "outputs": [],
   "source": [
    "# prediction\n",
    "test = 'Virat scored another Century'\n",
    "test = cleantext(test)\n",
    "# \n",
    "test = cv.transform([test]).toarray()"
   ]
  },
  {
   "cell_type": "code",
   "execution_count": 187,
   "metadata": {},
   "outputs": [
    {
     "data": {
      "text/plain": [
       "array([1], dtype=int64)"
      ]
     },
     "execution_count": 187,
     "metadata": {},
     "output_type": "execute_result"
    }
   ],
   "source": [
    "model.predict(test)"
   ]
  },
  {
   "cell_type": "code",
   "execution_count": 188,
   "metadata": {},
   "outputs": [
    {
     "data": {
      "text/plain": [
       "array([[0.27353595, 0.72646405]])"
      ]
     },
     "execution_count": 188,
     "metadata": {},
     "output_type": "execute_result"
    }
   ],
   "source": [
    "model.predict_proba(test)"
   ]
  },
  {
   "cell_type": "code",
   "execution_count": null,
   "metadata": {},
   "outputs": [],
   "source": []
  }
 ],
 "metadata": {
  "kernelspec": {
   "display_name": "Python 3",
   "language": "python",
   "name": "python3"
  },
  "language_info": {
   "codemirror_mode": {
    "name": "ipython",
    "version": 3
   },
   "file_extension": ".py",
   "mimetype": "text/x-python",
   "name": "python",
   "nbconvert_exporter": "python",
   "pygments_lexer": "ipython3",
   "version": "3.6.4"
  }
 },
 "nbformat": 4,
 "nbformat_minor": 2
}
