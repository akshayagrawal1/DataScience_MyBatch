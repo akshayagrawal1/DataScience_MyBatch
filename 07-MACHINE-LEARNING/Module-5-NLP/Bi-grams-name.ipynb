{
 "cells": [
  {
   "cell_type": "code",
   "execution_count": 1,
   "metadata": {},
   "outputs": [],
   "source": [
    "import pandas as pd\n"
   ]
  },
  {
   "cell_type": "code",
   "execution_count": 2,
   "metadata": {},
   "outputs": [
    {
     "name": "stdout",
     "output_type": "stream",
     "text": [
      "Analytics\n",
      "Software\n",
      "Development\n",
      "Automation\n",
      "Service\n",
      "Research\n",
      "data \n",
      "association\n",
      "group\n",
      "authority\n",
      "expert \n",
      "digital\n",
      "technology\n",
      "emerginig\n",
      "future\n",
      "tomorrow\n",
      "network\n",
      "architecture\n",
      "Advanced\n",
      "proficient\n",
      "consultant\n",
      "global\n",
      "micro\n",
      "macro\n",
      "robotics\n",
      "excel\n",
      "innovation\n",
      "cognitive\n",
      "\n"
     ]
    }
   ],
   "source": [
    "with open('./names.txt') as f:\n",
    "    text = f.read()\n",
    "    f.close()\n",
    "    \n",
    "print(text)"
   ]
  },
  {
   "cell_type": "code",
   "execution_count": 3,
   "metadata": {},
   "outputs": [],
   "source": [
    "import re"
   ]
  },
  {
   "cell_type": "code",
   "execution_count": 4,
   "metadata": {},
   "outputs": [
    {
     "data": {
      "text/plain": [
       "'analytics software development automation service research data  association group authority expert  digital technology emerginig future tomorrow network architecture advanced proficient consultant global micro macro robotics excel innovation cognitive '"
      ]
     },
     "execution_count": 4,
     "metadata": {},
     "output_type": "execute_result"
    }
   ],
   "source": [
    "text = text.replace(\"don't\",\"do not\")\n",
    "# lower case\n",
    "text = text.lower()\n",
    "text = re.sub(r'[^a-z]',' ',text)\n",
    "text"
   ]
  },
  {
   "cell_type": "code",
   "execution_count": 5,
   "metadata": {},
   "outputs": [],
   "source": [
    "# Tokenization -> word tokens\n",
    "from nltk import word_tokenize"
   ]
  },
  {
   "cell_type": "code",
   "execution_count": 6,
   "metadata": {},
   "outputs": [],
   "source": [
    "tokens = word_tokenize(text)\n"
   ]
  },
  {
   "cell_type": "code",
   "execution_count": 7,
   "metadata": {},
   "outputs": [
    {
     "name": "stdout",
     "output_type": "stream",
     "text": [
      "[('analytics', 'software'), ('software', 'development'), ('development', 'automation'), ('automation', 'service'), ('service', 'research'), ('research', 'data'), ('data', 'association'), ('association', 'group'), ('group', 'authority'), ('authority', 'expert'), ('expert', 'digital'), ('digital', 'technology'), ('technology', 'emerginig'), ('emerginig', 'future'), ('future', 'tomorrow'), ('tomorrow', 'network'), ('network', 'architecture'), ('architecture', 'advanced'), ('advanced', 'proficient'), ('proficient', 'consultant'), ('consultant', 'global'), ('global', 'micro'), ('micro', 'macro'), ('macro', 'robotics'), ('robotics', 'excel'), ('excel', 'innovation'), ('innovation', 'cognitive')]\n"
     ]
    }
   ],
   "source": [
    "# Bigrams\n",
    "from nltk import bigrams\n",
    "bi = list(bigrams(tokens))\n",
    "print(bi)"
   ]
  },
  {
   "cell_type": "code",
   "execution_count": 8,
   "metadata": {},
   "outputs": [
    {
     "data": {
      "text/html": [
       "<div>\n",
       "<style scoped>\n",
       "    .dataframe tbody tr th:only-of-type {\n",
       "        vertical-align: middle;\n",
       "    }\n",
       "\n",
       "    .dataframe tbody tr th {\n",
       "        vertical-align: top;\n",
       "    }\n",
       "\n",
       "    .dataframe thead th {\n",
       "        text-align: right;\n",
       "    }\n",
       "</style>\n",
       "<table border=\"1\" class=\"dataframe\">\n",
       "  <thead>\n",
       "    <tr style=\"text-align: right;\">\n",
       "      <th></th>\n",
       "      <th>1st</th>\n",
       "      <th>2nd</th>\n",
       "    </tr>\n",
       "  </thead>\n",
       "  <tbody>\n",
       "    <tr>\n",
       "      <th>0</th>\n",
       "      <td>analytics</td>\n",
       "      <td>software</td>\n",
       "    </tr>\n",
       "    <tr>\n",
       "      <th>1</th>\n",
       "      <td>software</td>\n",
       "      <td>development</td>\n",
       "    </tr>\n",
       "    <tr>\n",
       "      <th>2</th>\n",
       "      <td>development</td>\n",
       "      <td>automation</td>\n",
       "    </tr>\n",
       "  </tbody>\n",
       "</table>\n",
       "</div>"
      ],
      "text/plain": [
       "           1st          2nd\n",
       "0    analytics     software\n",
       "1     software  development\n",
       "2  development   automation"
      ]
     },
     "execution_count": 8,
     "metadata": {},
     "output_type": "execute_result"
    }
   ],
   "source": [
    "# Convert into Dataframe\n",
    "df = pd.DataFrame(bi,columns=['1st','2nd'])\n",
    "df.head(3)"
   ]
  },
  {
   "cell_type": "code",
   "execution_count": 9,
   "metadata": {},
   "outputs": [
    {
     "data": {
      "text/plain": [
       "development    1\n",
       "authority      1\n",
       "Name: 1st, dtype: int64"
      ]
     },
     "execution_count": 9,
     "metadata": {},
     "output_type": "execute_result"
    }
   ],
   "source": [
    "df['1st'].value_counts().head(2)"
   ]
  },
  {
   "cell_type": "code",
   "execution_count": 10,
   "metadata": {},
   "outputs": [
    {
     "data": {
      "text/plain": [
       "(0, 2)"
      ]
     },
     "execution_count": 10,
     "metadata": {},
     "output_type": "execute_result"
    }
   ],
   "source": [
    "word = 'at'\n",
    "df[df['1st'] == word].shape"
   ]
  },
  {
   "cell_type": "code",
   "execution_count": 11,
   "metadata": {},
   "outputs": [],
   "source": [
    "# PIVOT table\n",
    "model = pd.crosstab(index=df['1st'],columns=df['2nd'])"
   ]
  },
  {
   "cell_type": "code",
   "execution_count": 14,
   "metadata": {},
   "outputs": [],
   "source": [
    "model = model.div(len(bi))"
   ]
  },
  {
   "cell_type": "code",
   "execution_count": 18,
   "metadata": {},
   "outputs": [
    {
     "data": {
      "text/plain": [
       "2nd\n",
       "advanced        0.000000\n",
       "software        0.000000\n",
       "service         0.000000\n",
       "robotics        0.000000\n",
       "research        0.000000\n",
       "network         0.000000\n",
       "micro           0.000000\n",
       "macro           0.000000\n",
       "innovation      0.000000\n",
       "group           0.000000\n",
       "global          0.000000\n",
       "technology      0.000000\n",
       "future          0.000000\n",
       "excel           0.000000\n",
       "emerginig       0.000000\n",
       "digital         0.000000\n",
       "development     0.000000\n",
       "data            0.000000\n",
       "consultant      0.000000\n",
       "cognitive       0.000000\n",
       "automation      0.000000\n",
       "authority       0.000000\n",
       "association     0.000000\n",
       "architecture    0.000000\n",
       "expert          0.000000\n",
       "tomorrow        0.000000\n",
       "proficient      0.001372\n",
       "Name: advanced, dtype: float64"
      ]
     },
     "execution_count": 18,
     "metadata": {},
     "output_type": "execute_result"
    }
   ],
   "source": [
    "model.loc['advanced'].sort_values(ascedi)"
   ]
  },
  {
   "cell_type": "code",
   "execution_count": null,
   "metadata": {},
   "outputs": [],
   "source": []
  }
 ],
 "metadata": {
  "kernelspec": {
   "display_name": "Python 3",
   "language": "python",
   "name": "python3"
  },
  "language_info": {
   "codemirror_mode": {
    "name": "ipython",
    "version": 3
   },
   "file_extension": ".py",
   "mimetype": "text/x-python",
   "name": "python",
   "nbconvert_exporter": "python",
   "pygments_lexer": "ipython3",
   "version": "3.6.4"
  }
 },
 "nbformat": 4,
 "nbformat_minor": 2
}
